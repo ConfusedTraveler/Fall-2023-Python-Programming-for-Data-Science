{
 "cells": [
  {
   "cell_type": "markdown",
   "id": "fbe026a0-1dad-40ef-a202-791e9ab53609",
   "metadata": {},
   "source": [
    "# Lecture 25 - Deploying Projects as Web Applications "
   ]
  },
  {
   "cell_type": "markdown",
   "id": "53cbf24f-8ea2-4098-bace-c1f6b6bab870",
   "metadata": {},
   "source": [
    "[![View notebook on Github](https://img.shields.io/static/v1.svg?logo=github&label=Repo&message=View%20On%20Github&color=lightgrey)](https://github.com/avakanski/Fall-2023-Python-Programming-for-Data-Science/blob/main/docs/Lectures/Theme_4-Model_Deployment/Lecture_25-Deploying_to_Web/Lecture_25-Deploying_to_Web.ipynb)\n",
    "[![Open In Collab](https://colab.research.google.com/assets/colab-badge.svg)](https://colab.research.google.com/github/avakanski/Fall-2023-Python-Programming-for-Data-Science/blob/main/docs/Lectures/Theme_4-Model_Deployment/Lecture_25-Deploying_to_Web/Lecture_25-Deploying_to_Web.ipynb) "
   ]
  },
  {
   "cell_type": "markdown",
   "id": "7b64cd51-b95b-4403-988d-63160beaddf7",
   "metadata": {},
   "source": [
    "<a id='top'></a>"
   ]
  },
  {
   "cell_type": "markdown",
   "id": "54c93718",
   "metadata": {},
   "source": [
    "- [25.1 Introduction to Web APIs for Model Serving](#25.1-introduction-to-web-apis-for-model-serving)\n",
    "    - [25.1.1 REST Architecture](#25.1.1-rest-architecture)\n",
    "    - [25.1.2 RESTful APIs](#25.1.2-restful-apis)\n",
    "- [25.2 Deploying a Model for Iris Flowers Classification](#25.2-deploying-a-model-for-iris-flowers-classification)\n",
    "    - [25.2.1 Model Training and Prediction](#25.2.1-model-training-and-prediction)\n",
    "    - [25.2.2 Creating an HTML Webpage](#25.2.2-creating-an-html-webpage)\n",
    "    - [25.2.3 Creating a Flask App](#25.2.3-creating-a-flask-app)\n",
    "    - [25.2.4 Output Webpage](#25.2.4-output-webpage)\n",
    "    - [25.2.5 Run the Web Application](#25.2.5-run-the-web-application)\n",
    "- [25.3 Deploying a Model for MNIST Digits Classification](#25.3-deploying-a-model-for-mnist-digits-classification)\n",
    "    - [25.3.1 Model Training and Saving](#25.3.1-model-training-and-saving)\n",
    "    - [25.3.2 Creating a Flask App](#25.3.2-creating-a-flask-app)\n",
    "    - [25.3.3 Run the Web Application](#25.3.3-run-the-web-application)\n",
    "- [References](#references)"
   ]
  },
  {
   "cell_type": "markdown",
   "id": "41835941-845f-4488-88e3-a99755e2ab03",
   "metadata": {},
   "source": [
    "## 25.1 Introduction to Web APIs for Model Serving <a id=\"25.1-introduction-to-web-apis-for-model-serving\"/>"
   ]
  },
  {
   "cell_type": "markdown",
   "id": "3794018b-c61c-4131-9ed9-0a60854463c1",
   "metadata": {},
   "source": [
    "After a predictive model for a Data Science (DS) project is developed, the next steps in the project life cycle include deploying the model and serving the model to the end-users. One approach to serving the model is via a web API where the end-users can submit requests to query the model, and obtain the model's predictions as responses to their queries. \n",
    "\n",
    "In general, an **API (Application Programming Interface)** enables software applications to communicate with each other and exchange data. In the context of web APIs, the terms client and server are typically used to refer to the two main components that are involved in the communication between software applications over the web. The **client** is typically a front-end application that allows to access data or services from the server. The client sends a *request* to the server, usually in the form of an HTTP request. The **server** is the application that receives and processes requests from clients. The server performs actions based on the requests, and sends a *response* back to the client. When a response is received from the server, the client presents the data to the end-users and/or it may take other actions based on the response from the server.\n",
    "\n",
    "An example of usage of a web API in Data Science is for accessing predictions from a model that is deployed on a server. The end-user interacts with a front-end application that runs in a web browser and submits a request to initiate an API call (e.g., submit an image for classification or submit tabular data inputs for classification). The API calls the server to obtain predictions from the model. After the model makes the prediction, the API transfers the prediction to the end-user in the form of JSON, XML, CSV, or another format. \n",
    "\n",
    "Similarly, another use of web APIs in Data Science is for accessing data from a database that is hosted on a server, and afterward using the retrieved data to train a predictive model.  "
   ]
  },
  {
   "cell_type": "markdown",
   "id": "f499483c-bd8c-48a7-9275-67c492dfc261",
   "metadata": {},
   "source": [
    "### 25.1.1 REST Architecture <a id=\"25.1.1-rest-architecture\"/>"
   ]
  },
  {
   "cell_type": "markdown",
   "id": "557e8163-dceb-4e95-994e-5aa218ef6114",
   "metadata": {},
   "source": [
    "Two common approaches for building web APIs are SOAP (Service Object Access Protocol) and REST (REpresentational State Transfer). Whereas SOAP is a protocol for communication between computer systems, REST is an architecture that defines a set of constraints for communication over a network and promotes simplicity, scalability, and reliability. Because of that, REST has been very popular, since it introduces guidelines regarding the architecture of an API, instead of defining rules of specifications for the data exchange.\n",
    "\n",
    "**REST (REpresentational State Transfer)** defines the following architectural constraints:\n",
    "\n",
    "- **Stateless**: The server won’t maintain any state between requests from the client, and every request must contain all necessary information. I.e., the server cannot use information from previous requests by the client.\n",
    "- **Client-server design**: The client and server must be decoupled from each other. The decoupling helps them to evolve independently.\n",
    "- **Cacheable**: The response from the server should be cacheable, and it can be reused later by the client, if needed.\n",
    "- **Uniform interface**: The data transfer from the server to the client will be in a standardized format, instead of a format that is specific to one application.  \n",
    "- **Layered system**: The client may access the resources on the server indirectly through other layers. \n",
    "- **Code on demand**: The client may extend functionalities by downloading code blocks from the server.\n",
    "\n",
    "An API that adheres to the REST guidelines is referred to as **RESTful API** or simply REST API. \n",
    "\n",
    "RESTful APIs provide access to web services through public web URLs. The end-users send an HTTP request to the specific URL, and the RESTful API uses HTTP methods to manage the resources in the web service. Although there are many HTTP methods, the most commonly used methods with RESTful APIs include: `GET` (retrieve resources), `POST` (create a new resource), `PUT` (update an existing resource),` PATCH` (partially update an existing resource), and `DELETE` (delete a resource). \n",
    "\n",
    "In RESTFul APIs for Data Science projects, a resource can represent the predictive model, where the `POST` method can be used to send input data to the server for processing, and the `GET` method can be used to retrieve the model's prediction from the server. "
   ]
  },
  {
   "cell_type": "markdown",
   "id": "b5bed47f",
   "metadata": {},
   "source": [
    "### 25.1.2 RESTful APIs<a id=\"25.1.2-restful-apis\"/>"
   ]
  },
  {
   "cell_type": "markdown",
   "id": "9adbe56c-b063-40a6-ba7a-411afb93848c",
   "metadata": {},
   "source": [
    "RESTful APIs can be developed in different programming languages. Examples of libraries include Node.js in Javascript, Roda and Sinatra in Ruby, Spring Boot in Java, etc.\n",
    "\n",
    "In Python, the most popular libraries for developing RESTful APIs are Flask, Fast API, and Django.  \n",
    "\n",
    "**Flask** is a micro framework for developing RESTful APIs, which means that it is lightweight and provides the basic components for serving predictive models as web services. Flask is the easiest to learn and use in comparison to the other frameworks, and it is known for its simplicity and flexibility. However, it also has limitations in terms of functionality, since it is designed for low-volume APIs, and does not scale well to large applications. Also, Flask is a general-purpose web framework and may require importing additional libraries for specific functionalities.\n",
    "\n",
    "**Fast API** is also a lightweight framework, but it is designed specifically for building web APIs quickly and efficiently. Fast API was introduced in 2018 and it is a newer framework, but it has quickly gained popularity among developers. Its unique characteristic is its speed, as it is the fastest Python framework. FastAPI is explicitly designed for building APIs, and offers many features for automating the building of APIs. \n",
    "\n",
    "**Django** is a full-stack web framework, that has many built-in features and a specific project structure. This makes it more difficult to learn than Flask and Fast API. On the other hand, Django is a powerful framework that has been used in many large-scale projects as it offers various features for building APIs. This is considered advantageous by developers who want a more structured framework or who prefer a comprehensive solution without relying on many third-party packages.\n",
    "\n",
    "There are also other similar Python libraries for developing RESTful APIs. As well as, numerous frameworks for developing RESTful APIs as cloud services are available by the cloud providers such as Amazon SageMaker, Azure ML, Google Cloud ML, IBM Watson Cloud, and others. These cloud frameworks provide access to pretrained models, deployment of custom models, and allow easy integration of predictive models into users' applications.\n",
    "\n",
    "In this lecture we will demonstrate  building a web API for Data Science projects with Flask, due to its ease of use."
   ]
  },
  {
   "cell_type": "markdown",
   "id": "e5fbf9c2",
   "metadata": {},
   "source": [
    "## 25.2 Deploying a Model for Iris Flowers Classification <a id=\"25.2-deploying-a-model-for-iris-flowers-classification\"/>"
   ]
  },
  {
   "cell_type": "markdown",
   "id": "9db493fb",
   "metadata": {},
   "source": [
    "This section was inspired by the article [Deploying Machine Learning Models using Flask](https://www.section.io/engineering-education/deploying-machine-learning-models-using-flask/).\n",
    "\n",
    "The goal is to deploy a simple Machine Learning model for classification of the Iris dataset, which we used in Lecture 13. Recall that the dataset consists of measurements of three different species of irises:\n",
    "\n",
    "  1. Iris Setosa\n",
    "  2. Iris Versicolour\n",
    "  3. Iris Virginica\n",
    "  \n",
    "Each data point has 4 features, which include:\n",
    "\n",
    "  1. Sepal length in cm\n",
    "  2. Sepal width in cm\n",
    "  3. Petal length in cm\n",
    "  4. Petal width in cm\n",
    "  \n",
    "Let's load the dataset using Pandas, and display the dataframe."
   ]
  },
  {
   "cell_type": "code",
   "execution_count": 1,
   "id": "d210eb83",
   "metadata": {},
   "outputs": [],
   "source": [
    "import pandas as pd\n",
    "import numpy as np\n",
    "from sklearn.linear_model import LogisticRegression\n",
    "\n",
    "import warnings\n",
    "warnings.filterwarnings('ignore')\n",
    "\n",
    "# Load the dataset\n",
    "data = pd.read_csv('Iris-API/iris.csv')"
   ]
  },
  {
   "cell_type": "code",
   "execution_count": 2,
   "id": "39a23804",
   "metadata": {},
   "outputs": [
    {
     "data": {
      "text/html": [
       "<div>\n",
       "<style scoped>\n",
       "    .dataframe tbody tr th:only-of-type {\n",
       "        vertical-align: middle;\n",
       "    }\n",
       "\n",
       "    .dataframe tbody tr th {\n",
       "        vertical-align: top;\n",
       "    }\n",
       "\n",
       "    .dataframe thead th {\n",
       "        text-align: right;\n",
       "    }\n",
       "</style>\n",
       "<table border=\"1\" class=\"dataframe\">\n",
       "  <thead>\n",
       "    <tr style=\"text-align: right;\">\n",
       "      <th></th>\n",
       "      <th>sepal.length</th>\n",
       "      <th>sepal.width</th>\n",
       "      <th>petal.length</th>\n",
       "      <th>petal.width</th>\n",
       "      <th>variety</th>\n",
       "    </tr>\n",
       "  </thead>\n",
       "  <tbody>\n",
       "    <tr>\n",
       "      <th>0</th>\n",
       "      <td>5.1</td>\n",
       "      <td>3.5</td>\n",
       "      <td>1.4</td>\n",
       "      <td>0.2</td>\n",
       "      <td>Setosa</td>\n",
       "    </tr>\n",
       "    <tr>\n",
       "      <th>1</th>\n",
       "      <td>4.9</td>\n",
       "      <td>3.0</td>\n",
       "      <td>1.4</td>\n",
       "      <td>0.2</td>\n",
       "      <td>Setosa</td>\n",
       "    </tr>\n",
       "    <tr>\n",
       "      <th>2</th>\n",
       "      <td>4.7</td>\n",
       "      <td>3.2</td>\n",
       "      <td>1.3</td>\n",
       "      <td>0.2</td>\n",
       "      <td>Setosa</td>\n",
       "    </tr>\n",
       "    <tr>\n",
       "      <th>3</th>\n",
       "      <td>4.6</td>\n",
       "      <td>3.1</td>\n",
       "      <td>1.5</td>\n",
       "      <td>0.2</td>\n",
       "      <td>Setosa</td>\n",
       "    </tr>\n",
       "    <tr>\n",
       "      <th>4</th>\n",
       "      <td>5.0</td>\n",
       "      <td>3.6</td>\n",
       "      <td>1.4</td>\n",
       "      <td>0.2</td>\n",
       "      <td>Setosa</td>\n",
       "    </tr>\n",
       "    <tr>\n",
       "      <th>...</th>\n",
       "      <td>...</td>\n",
       "      <td>...</td>\n",
       "      <td>...</td>\n",
       "      <td>...</td>\n",
       "      <td>...</td>\n",
       "    </tr>\n",
       "    <tr>\n",
       "      <th>145</th>\n",
       "      <td>6.7</td>\n",
       "      <td>3.0</td>\n",
       "      <td>5.2</td>\n",
       "      <td>2.3</td>\n",
       "      <td>Virginica</td>\n",
       "    </tr>\n",
       "    <tr>\n",
       "      <th>146</th>\n",
       "      <td>6.3</td>\n",
       "      <td>2.5</td>\n",
       "      <td>5.0</td>\n",
       "      <td>1.9</td>\n",
       "      <td>Virginica</td>\n",
       "    </tr>\n",
       "    <tr>\n",
       "      <th>147</th>\n",
       "      <td>6.5</td>\n",
       "      <td>3.0</td>\n",
       "      <td>5.2</td>\n",
       "      <td>2.0</td>\n",
       "      <td>Virginica</td>\n",
       "    </tr>\n",
       "    <tr>\n",
       "      <th>148</th>\n",
       "      <td>6.2</td>\n",
       "      <td>3.4</td>\n",
       "      <td>5.4</td>\n",
       "      <td>2.3</td>\n",
       "      <td>Virginica</td>\n",
       "    </tr>\n",
       "    <tr>\n",
       "      <th>149</th>\n",
       "      <td>5.9</td>\n",
       "      <td>3.0</td>\n",
       "      <td>5.1</td>\n",
       "      <td>1.8</td>\n",
       "      <td>Virginica</td>\n",
       "    </tr>\n",
       "  </tbody>\n",
       "</table>\n",
       "<p>150 rows × 5 columns</p>\n",
       "</div>"
      ],
      "text/plain": [
       "     sepal.length  sepal.width  petal.length  petal.width    variety\n",
       "0             5.1          3.5           1.4          0.2     Setosa\n",
       "1             4.9          3.0           1.4          0.2     Setosa\n",
       "2             4.7          3.2           1.3          0.2     Setosa\n",
       "3             4.6          3.1           1.5          0.2     Setosa\n",
       "4             5.0          3.6           1.4          0.2     Setosa\n",
       "..            ...          ...           ...          ...        ...\n",
       "145           6.7          3.0           5.2          2.3  Virginica\n",
       "146           6.3          2.5           5.0          1.9  Virginica\n",
       "147           6.5          3.0           5.2          2.0  Virginica\n",
       "148           6.2          3.4           5.4          2.3  Virginica\n",
       "149           5.9          3.0           5.1          1.8  Virginica\n",
       "\n",
       "[150 rows x 5 columns]"
      ]
     },
     "execution_count": 2,
     "metadata": {},
     "output_type": "execute_result"
    }
   ],
   "source": [
    "data"
   ]
  },
  {
   "cell_type": "markdown",
   "id": "f1330df9",
   "metadata": {},
   "source": [
    "In the dataframe, the `variety` column contains the target labels. First, we will convert the labels to numerical values, so that we can fit them to a classification model."
   ]
  },
  {
   "cell_type": "code",
   "execution_count": 3,
   "id": "8c61febc",
   "metadata": {},
   "outputs": [
    {
     "data": {
      "text/html": [
       "<div>\n",
       "<style scoped>\n",
       "    .dataframe tbody tr th:only-of-type {\n",
       "        vertical-align: middle;\n",
       "    }\n",
       "\n",
       "    .dataframe tbody tr th {\n",
       "        vertical-align: top;\n",
       "    }\n",
       "\n",
       "    .dataframe thead th {\n",
       "        text-align: right;\n",
       "    }\n",
       "</style>\n",
       "<table border=\"1\" class=\"dataframe\">\n",
       "  <thead>\n",
       "    <tr style=\"text-align: right;\">\n",
       "      <th></th>\n",
       "      <th>sepal.length</th>\n",
       "      <th>sepal.width</th>\n",
       "      <th>petal.length</th>\n",
       "      <th>petal.width</th>\n",
       "      <th>variety</th>\n",
       "    </tr>\n",
       "  </thead>\n",
       "  <tbody>\n",
       "    <tr>\n",
       "      <th>0</th>\n",
       "      <td>5.1</td>\n",
       "      <td>3.5</td>\n",
       "      <td>1.4</td>\n",
       "      <td>0.2</td>\n",
       "      <td>0</td>\n",
       "    </tr>\n",
       "    <tr>\n",
       "      <th>1</th>\n",
       "      <td>4.9</td>\n",
       "      <td>3.0</td>\n",
       "      <td>1.4</td>\n",
       "      <td>0.2</td>\n",
       "      <td>0</td>\n",
       "    </tr>\n",
       "    <tr>\n",
       "      <th>2</th>\n",
       "      <td>4.7</td>\n",
       "      <td>3.2</td>\n",
       "      <td>1.3</td>\n",
       "      <td>0.2</td>\n",
       "      <td>0</td>\n",
       "    </tr>\n",
       "    <tr>\n",
       "      <th>3</th>\n",
       "      <td>4.6</td>\n",
       "      <td>3.1</td>\n",
       "      <td>1.5</td>\n",
       "      <td>0.2</td>\n",
       "      <td>0</td>\n",
       "    </tr>\n",
       "    <tr>\n",
       "      <th>4</th>\n",
       "      <td>5.0</td>\n",
       "      <td>3.6</td>\n",
       "      <td>1.4</td>\n",
       "      <td>0.2</td>\n",
       "      <td>0</td>\n",
       "    </tr>\n",
       "    <tr>\n",
       "      <th>...</th>\n",
       "      <td>...</td>\n",
       "      <td>...</td>\n",
       "      <td>...</td>\n",
       "      <td>...</td>\n",
       "      <td>...</td>\n",
       "    </tr>\n",
       "    <tr>\n",
       "      <th>145</th>\n",
       "      <td>6.7</td>\n",
       "      <td>3.0</td>\n",
       "      <td>5.2</td>\n",
       "      <td>2.3</td>\n",
       "      <td>2</td>\n",
       "    </tr>\n",
       "    <tr>\n",
       "      <th>146</th>\n",
       "      <td>6.3</td>\n",
       "      <td>2.5</td>\n",
       "      <td>5.0</td>\n",
       "      <td>1.9</td>\n",
       "      <td>2</td>\n",
       "    </tr>\n",
       "    <tr>\n",
       "      <th>147</th>\n",
       "      <td>6.5</td>\n",
       "      <td>3.0</td>\n",
       "      <td>5.2</td>\n",
       "      <td>2.0</td>\n",
       "      <td>2</td>\n",
       "    </tr>\n",
       "    <tr>\n",
       "      <th>148</th>\n",
       "      <td>6.2</td>\n",
       "      <td>3.4</td>\n",
       "      <td>5.4</td>\n",
       "      <td>2.3</td>\n",
       "      <td>2</td>\n",
       "    </tr>\n",
       "    <tr>\n",
       "      <th>149</th>\n",
       "      <td>5.9</td>\n",
       "      <td>3.0</td>\n",
       "      <td>5.1</td>\n",
       "      <td>1.8</td>\n",
       "      <td>2</td>\n",
       "    </tr>\n",
       "  </tbody>\n",
       "</table>\n",
       "<p>150 rows × 5 columns</p>\n",
       "</div>"
      ],
      "text/plain": [
       "     sepal.length  sepal.width  petal.length  petal.width  variety\n",
       "0             5.1          3.5           1.4          0.2        0\n",
       "1             4.9          3.0           1.4          0.2        0\n",
       "2             4.7          3.2           1.3          0.2        0\n",
       "3             4.6          3.1           1.5          0.2        0\n",
       "4             5.0          3.6           1.4          0.2        0\n",
       "..            ...          ...           ...          ...      ...\n",
       "145           6.7          3.0           5.2          2.3        2\n",
       "146           6.3          2.5           5.0          1.9        2\n",
       "147           6.5          3.0           5.2          2.0        2\n",
       "148           6.2          3.4           5.4          2.3        2\n",
       "149           5.9          3.0           5.1          1.8        2\n",
       "\n",
       "[150 rows x 5 columns]"
      ]
     },
     "execution_count": 3,
     "metadata": {},
     "output_type": "execute_result"
    }
   ],
   "source": [
    "# Encoding the target variables to integers\n",
    "data = data.replace(['Setosa', 'Versicolor' , 'Virginica'],[0, 1, 2])\n",
    "\n",
    "data"
   ]
  },
  {
   "cell_type": "markdown",
   "id": "d0960c63",
   "metadata": {},
   "source": [
    "### 25.2.1 Model Training and Prediction <a id=\"25.2.1-model-training-and-prediction\"/>"
   ]
  },
  {
   "cell_type": "markdown",
   "id": "e5bba6b6",
   "metadata": {},
   "source": [
    "Let's split the data into training data variable `X` and training labels variable `y`. We will use a Logistic Regression model from scikit-learn to train a classification model. "
   ]
  },
  {
   "cell_type": "code",
   "execution_count": 4,
   "id": "5c2b674d",
   "metadata": {},
   "outputs": [
    {
     "data": {
      "text/plain": [
       "LogisticRegression()"
      ]
     },
     "execution_count": 4,
     "metadata": {},
     "output_type": "execute_result"
    }
   ],
   "source": [
    "# Create training data and labels\n",
    "X = data.iloc[:, 0:-1] \n",
    "y = data.iloc[:, -1] \n",
    "\n",
    "logreg = LogisticRegression() \n",
    "# Fitting the model\n",
    "logreg.fit(X, y) "
   ]
  },
  {
   "cell_type": "markdown",
   "id": "5e898607",
   "metadata": {},
   "source": [
    "Finally, let's define a function `classify` that takes 4 input arguments, and predicts the class of the iris. The four inputs `a`, `b`, `c`, and `d` correspond to the sepal length and width, and petal length and width. The function first converts the intputs to a numpy array, and reshapes it to represent a batch with 1 data instance. Afterward, the trained classifier is used to predict the class of the iris flower."
   ]
  },
  {
   "cell_type": "code",
   "execution_count": 5,
   "id": "0ed35dc2",
   "metadata": {},
   "outputs": [],
   "source": [
    "# Function for classification based on inputs\n",
    "def classify(a, b, c, d):\n",
    "    arr = np.array([a, b, c, d]) # Convert to numpy array\n",
    "    arr = arr.astype(np.float64) # Change the data type to float\n",
    "    query = arr.reshape(1, -1) # Reshape the array\n",
    "    pred = logreg.predict(query) # Make a prediction\n",
    "    prediction = variety_mappings[pred[0]] # Retrieve the name of the iris flower\n",
    "    return prediction # Return the prediction\n",
    "\n",
    "# Dictionary containing the mapping\n",
    "variety_mappings = {0: 'Setosa', 1: 'Versicolor', 2: 'Virginica'}"
   ]
  },
  {
   "cell_type": "markdown",
   "id": "5de63575",
   "metadata": {},
   "source": [
    "To make sure that the function `classify` works, in the following cell a set of four input values is passed to `classify`. We can see that the output is the iris target label, as expected."
   ]
  },
  {
   "cell_type": "code",
   "execution_count": 6,
   "id": "eab6f3a1",
   "metadata": {},
   "outputs": [
    {
     "data": {
      "text/plain": [
       "'Setosa'"
      ]
     },
     "execution_count": 6,
     "metadata": {},
     "output_type": "execute_result"
    }
   ],
   "source": [
    "classify(1.0, 1.0, 2.0, 2.0)"
   ]
  },
  {
   "cell_type": "markdown",
   "id": "56d7d0b9",
   "metadata": {},
   "source": [
    "The above code for classifying iris flowers is saved as `model.py` under the directory `IRIS-API/model.py`."
   ]
  },
  {
   "cell_type": "markdown",
   "id": "f90a5e50",
   "metadata": {},
   "source": [
    "### 25.2.2 Creating an HTML Webpage<a id=\"25.2.2-creating-an-html-webpage\"/>"
   ]
  },
  {
   "cell_type": "markdown",
   "id": "f4e7cbd1",
   "metadata": {},
   "source": [
    "Next, we will build the following simple form using HTML to accept inputs from the end-users. \n",
    "\n",
    "<img src=\"images/home_page.png\" width=\"500\">\n",
    "\n",
    "*Figure: Form on the home page to accept inputs from the end-users.*\n",
    "\n",
    "The HTML code for the input form is shown below, containing head and body sections. The `head` defines metadata and styles with the tags `<meta>` and `<style>`. \n",
    "\n",
    "The `body` contains `<div>` tags with `class='field'` for each of the 4 inputs: sepal/petal lengths/widths. Each input tag has `class=\"input\"`, and `type=\"number\"` to accept numerical values from the end-users. All the `<div>` tags are enclosed within a form with `action=\"predict\"` and `method=\"GET\"`. The `GET` method is used to transport the data from the HTML form to the Flask app.\n",
    "\n",
    "The HTML code is saved as `index.html` under the directory `IRIS-API/templates/index.html`."
   ]
  },
  {
   "cell_type": "markdown",
   "id": "3b1ceaef",
   "metadata": {},
   "source": [
    "<img src=\"images/home_head.png\" width=\"700\">\n",
    "<img src=\"images/home_body.png\" width=\"800\">\n",
    "\n",
    "*Figure: Head and Body of the web page.*"
   ]
  },
  {
   "cell_type": "markdown",
   "id": "db941ecf",
   "metadata": {},
   "source": [
    "### 25.2.3 Creating a Flask App <a id=\"25.2.3-creating-a-flask-app\"/>"
   ]
  },
  {
   "cell_type": "markdown",
   "id": "d6bd6f0b",
   "metadata": {},
   "source": [
    "Next, we will use the Flask framework to deploy the Machine Learning model locally. \n",
    "\n",
    "To do that, let's first import the `model` from the file that we created, and import the `flask` library and other related libraries. \n",
    "\n",
    "Building the Flask server begins with initializing the Flask class, which has been assigned to the name `app`. Here, we specified the current module `__name__` as an argument to the constructor `Flask()`, and we also input the `template_folder` containing the webpage-related files. "
   ]
  },
  {
   "cell_type": "code",
   "execution_count": null,
   "id": "f4c1f1d5",
   "metadata": {},
   "outputs": [],
   "source": [
    "import model # Import the python file containing the ML model\n",
    "from flask import Flask, request, render_template # Import flask libraries\n",
    "\n",
    "# Initialize the flask class and specify the templates directory\n",
    "app = Flask(__name__, template_folder=\"templates\")"
   ]
  },
  {
   "cell_type": "markdown",
   "id": "2ab21130",
   "metadata": {},
   "source": [
    "In the next cell, we set the default route of the server to the index page by specifying the path in `@app.route()` function. The `render_template('index.html')` method will display the script `index.html` in the browser."
   ]
  },
  {
   "cell_type": "code",
   "execution_count": null,
   "id": "52ea8f98",
   "metadata": {},
   "outputs": [],
   "source": [
    "# Default route set as 'index'\n",
    "@app.route('/')\n",
    "def index_view():\n",
    "    return render_template('index.html') # Render index.html"
   ]
  },
  {
   "cell_type": "markdown",
   "id": "5bff7f0d",
   "metadata": {},
   "source": [
    "Similarly, we create a separate route for the Machine Learning model. Here, we use the `/predict` route with the methods `'POST'` and `'GET'`. This will retrieve the data from the `index.html` form through a GET request. To do that, we use `request.args.get()` to retrieve the data from each of the input fields in the form, using their name attributes.\n",
    "\n",
    "The retrieved inputs `sepal_len`, `sepal_wid`, `petal_len`, `petal_wid` are passed to the `classify()` method of the Machine Learning model.\n",
    "\n",
    "To render the predicted value for the variety of flowers, we specify the output HTML file along with the predicted class, using the `render_template(filename, arguments)`."
   ]
  },
  {
   "cell_type": "code",
   "execution_count": null,
   "id": "c9a50cab",
   "metadata": {},
   "outputs": [],
   "source": [
    "# Route 'predict' accepts GET request\n",
    "@app.route('/predict', methods=['POST','GET'])\n",
    "def predict_class():\n",
    "    try:\n",
    "        sepal_len = request.args.get('slen') # Get parameters for sepal length\n",
    "        sepal_wid = request.args.get('swid') # Get parameters for sepal width\n",
    "        petal_len = request.args.get('plen') # Get parameters for petal length\n",
    "        petal_wid = request.args.get('pwid') # Get parameters for petal width\n",
    "\n",
    "        # Get the output from the classification model\n",
    "        variety = model.classify(sepal_len, sepal_wid, petal_len, petal_wid)\n",
    "\n",
    "        # Render the output in new HTML page\n",
    "        return render_template('output.html', variety=variety)\n",
    "    except:\n",
    "        return 'Error'"
   ]
  },
  {
   "cell_type": "markdown",
   "id": "ab5530f2",
   "metadata": {},
   "source": [
    "To run the Flask webserver, we use the `app.run()` method as shown below."
   ]
  },
  {
   "cell_type": "code",
   "execution_count": null,
   "id": "cb015f91",
   "metadata": {},
   "outputs": [],
   "source": [
    "# Run the Flask server\n",
    "if(__name__=='__main__'):\n",
    "    app.run(debug=True)  "
   ]
  },
  {
   "cell_type": "markdown",
   "id": "462bb07e",
   "metadata": {},
   "source": [
    "The code for Flask is saved as `app.py` under the directory `IRIS-API/app.py`. We will use it later to run the web application. \n",
    "\n",
    "Note that Flask is not typically run from Jupyter Notebooks, and therefore we saved the code as python scripts to run from the command line in a terminal."
   ]
  },
  {
   "cell_type": "markdown",
   "id": "b3c057bd",
   "metadata": {},
   "source": [
    "### 25.2.4 Output Webpage <a id=\"25.2.4-output-webpage\"/>"
   ]
  },
  {
   "cell_type": "markdown",
   "id": "45bc63b7",
   "metadata": {},
   "source": [
    "We need to also create another even simpler HTML webpage to display the output of the classification. \n",
    "\n",
    "<img src=\"images/output_page.png\" width=\"500\">\n",
    "\n",
    "*Figure: Output webpage.*\n",
    "\n",
    "The body of the code is shown below, and it is saved as `output.html` in the directory `./templates/output.html`. In the code `{{ variety }}` specifies the argument that was passed to get rendered in the new HTML file."
   ]
  },
  {
   "cell_type": "markdown",
   "id": "5bbcfac7",
   "metadata": {},
   "source": [
    "<img src=\"images/output_body.png\" width=\"800\">\n",
    "\n",
    "*Figure: Body of HTML for output webpage.*"
   ]
  },
  {
   "cell_type": "markdown",
   "id": "53c5884c",
   "metadata": {},
   "source": [
    "### 25.2.5 Run the Web Application <a id=\"25.2.5-run-the-web-application\"/>"
   ]
  },
  {
   "cell_type": "markdown",
   "id": "289dbfa5",
   "metadata": {},
   "source": [
    "To deploy the application, we will execute the command `python app.py` from the terminal. Next, we copy and paste the URL `http://127.0.01:5000/` (IP Address:Port) to start the application on the local machine."
   ]
  },
  {
   "cell_type": "markdown",
   "id": "53e02a32",
   "metadata": {},
   "source": [
    "<img src=\"images/run_server.png\" width=\"600\">\n",
    "\n",
    "*Figure: Run the application.*"
   ]
  },
  {
   "cell_type": "markdown",
   "id": "4ff97b17",
   "metadata": {},
   "source": [
    "The following are screenshots of the application for one example with a predicted iris class Setosa."
   ]
  },
  {
   "cell_type": "markdown",
   "id": "d5aea743",
   "metadata": {},
   "source": [
    "<img src=\"images/sample_1.png\" width=\"350\">\n",
    "\n",
    "<img src=\"images/sample_2.png\" width=\"350\">\n",
    "\n",
    "*Figure: Entered inputs and predicted class.*"
   ]
  },
  {
   "cell_type": "markdown",
   "id": "5f922827",
   "metadata": {},
   "source": [
    "The folder structure is as follows:\n",
    "```\n",
    "Iris-API\n",
    "    ├── iris.csv\n",
    "    ├── model.py\n",
    "    ├── app.py\n",
    "    ├── templates\n",
    "    │   ├── index.html\n",
    "    │   ├── output.html\n",
    "```\n"
   ]
  },
  {
   "cell_type": "markdown",
   "id": "5c758813",
   "metadata": {},
   "source": [
    "## 25.3 Deploying a Model for MNIST Digits Classification <a id=\"25.3-deploying-a-model-for-mnist-digits-classification\"/>"
   ]
  },
  {
   "cell_type": "markdown",
   "id": "18539c90-44d3-43fe-9217-ebfa0c100698",
   "metadata": {},
   "source": [
    "In this section we will create another web API for classification of MNIST digits. Differently from the previous section, we will use a Convolutional Neural Network model, as well as we will save the trained model and use it for prediction. The code in this section is from the following blog: [Deploying Deep Learning Models Part 1: Preparing the Model](https://blog.paperspace.com/deploying-deep-learning-models-flask-web-python/)."
   ]
  },
  {
   "cell_type": "markdown",
   "id": "3d288364-6b38-4f76-8120-aafd5191a5b7",
   "metadata": {},
   "source": [
    "### 25.3.1 Model Training and Saving <a id=\"25.3.1-model-training-and-saving\"/>"
   ]
  },
  {
   "cell_type": "markdown",
   "id": "f7c1ffdf-c91d-477a-8401-0a7edc19db1d",
   "metadata": {},
   "source": [
    "We will first load the MNIST dataset, and we will create a simple Convolutional Neural Network for classification of the digit images in the dataset."
   ]
  },
  {
   "cell_type": "code",
   "execution_count": 7,
   "id": "458144a2-b4c7-44f7-b8eb-245c05d7119e",
   "metadata": {},
   "outputs": [],
   "source": [
    "import keras\n",
    "from keras.datasets import mnist\n",
    "from keras.models import Sequential\n",
    "from keras.layers import Dense, Dropout, Flatten,  Conv2D, MaxPooling2D"
   ]
  },
  {
   "cell_type": "code",
   "execution_count": 8,
   "id": "258beed6-b4cc-4e10-98ee-7775162babf6",
   "metadata": {},
   "outputs": [],
   "source": [
    "# Loading the data\n",
    "(x_train, y_train), (x_test, y_test) = mnist.load_data()"
   ]
  },
  {
   "cell_type": "code",
   "execution_count": 9,
   "id": "51275528-bf92-41ad-9d58-62e89ea3b326",
   "metadata": {},
   "outputs": [
    {
     "name": "stdout",
     "output_type": "stream",
     "text": [
      "x_train shape: (60000, 28, 28)\n",
      "60000 train samples\n",
      "10000 test samples\n"
     ]
    }
   ],
   "source": [
    "# Scale the images to the range [0,1]\n",
    "x_train = x_train.astype('float32')\n",
    "x_test = x_test.astype('float32')\n",
    "x_train /= 255\n",
    "x_test /= 255\n",
    "\n",
    "# Print the shape and number of samples\n",
    "print('x_train shape:', x_train.shape)\n",
    "print(x_train.shape[0], 'train samples')\n",
    "print(x_test.shape[0], 'test samples')"
   ]
  },
  {
   "cell_type": "code",
   "execution_count": 10,
   "id": "00e60f89-045a-4c8f-b766-a2286c3ef73c",
   "metadata": {},
   "outputs": [],
   "source": [
    "# Convert the labels to one-hot encoded vectors\n",
    "y_train = keras.utils.to_categorical(y_train, 10)\n",
    "y_test = keras.utils.to_categorical(y_test, 10)"
   ]
  },
  {
   "cell_type": "code",
   "execution_count": 13,
   "id": "cd383560-5874-4af9-a4fd-d5fe3bc047d3",
   "metadata": {},
   "outputs": [],
   "source": [
    "# Define the model \n",
    "model = Sequential()\n",
    "model.add(Conv2D(32, kernel_size=(3, 3),activation='relu',input_shape=(28,28,1)))\n",
    "model.add(Conv2D(64, (3, 3), activation='relu'))\n",
    "model.add(MaxPooling2D(pool_size=(2, 2)))\n",
    "model.add(Dropout(0.25))\n",
    "model.add(Flatten())\n",
    "model.add(Dense(128, activation='relu'))\n",
    "model.add(Dropout(0.5))\n",
    "model.add(Dense(10, activation='softmax'))"
   ]
  },
  {
   "cell_type": "code",
   "execution_count": 14,
   "id": "33ec842c-466d-4921-adcc-aa746377fc1c",
   "metadata": {},
   "outputs": [
    {
     "data": {
      "text/plain": [
       "<keras.callbacks.History at 0x1a999144040>"
      ]
     },
     "execution_count": 14,
     "metadata": {},
     "output_type": "execute_result"
    }
   ],
   "source": [
    "# Compile and train the model\n",
    "model.compile(loss=keras.losses.categorical_crossentropy,\n",
    "              optimizer=keras.optimizers.Adadelta(),\n",
    "              metrics=['accuracy'])\n",
    "\n",
    "model.fit(x_train, y_train, batch_size=128,\n",
    "          epochs=12, verbose=0, validation_split=0.2)"
   ]
  },
  {
   "cell_type": "code",
   "execution_count": 15,
   "id": "01ead918-8411-4826-a953-0076f3ceccf5",
   "metadata": {},
   "outputs": [
    {
     "name": "stdout",
     "output_type": "stream",
     "text": [
      "Test accuracy: 0.8191999793052673\n"
     ]
    }
   ],
   "source": [
    "# Evaluate on test dataset\n",
    "score = model.evaluate(x_test, y_test, verbose=0)\n",
    "print('Test accuracy:', score[1])"
   ]
  },
  {
   "cell_type": "markdown",
   "id": "0be77fce-c49c-497d-9b4b-e5aa8efa0fca",
   "metadata": {},
   "source": [
    "Next, we will save the model architecture in a JSON file, and we will save the weights of the model in an HDF5 file. We will use these files to make predictions in the web application, without retraining the model. "
   ]
  },
  {
   "cell_type": "code",
   "execution_count": 16,
   "id": "98c48d54-bba1-47f1-83d4-6eb0e4201af7",
   "metadata": {},
   "outputs": [],
   "source": [
    "# Save the model architecture to JSON file\n",
    "model_json = model.to_json()\n",
    "with open(\"model.json\", \"w\") as json_file:\n",
    "    json_file.write(model_json)\n",
    "\n",
    "# save the model weights to HDF5 file\n",
    "model.save_weights(\"model.h5\")"
   ]
  },
  {
   "cell_type": "markdown",
   "id": "63e22147-53ce-4bd1-98d3-7fc98e7b1b74",
   "metadata": {},
   "source": [
    "The JSON file saves the information for all layers in the model. Part of it is depicted in the next figure, where the information for the second layer of the model is expanded. Similar information is saved for all layers in the model. \n",
    "\n",
    "<img src=\"images/json.png\" width=\"600\">\n",
    "\n",
    "*Figure: Layer nformation.*"
   ]
  },
  {
   "cell_type": "markdown",
   "id": "1af9813d-39aa-4b7d-aebf-97e86d299a12",
   "metadata": {},
   "source": [
    "To make predictions, we will need to load the architecture of the model and the trained weights of the model, as in the following cell. "
   ]
  },
  {
   "cell_type": "code",
   "execution_count": 17,
   "id": "a8067fe5-a896-4c2d-bef8-701f7b013a16",
   "metadata": {},
   "outputs": [
    {
     "name": "stdout",
     "output_type": "stream",
     "text": [
      "Test accuracy: 0.8191999793052673\n"
     ]
    }
   ],
   "source": [
    "from tensorflow.keras.models import model_from_json\n",
    "\n",
    "# Open and store the JSON file in a variable\n",
    "json_file = open('model.json','r')\n",
    "loaded_model_json = json_file.read()\n",
    "json_file.close()\n",
    "\n",
    "# Use model_from_json to create a model\n",
    "loaded_model = model_from_json(loaded_model_json)\n",
    "\n",
    "# load the weights into new model\n",
    "loaded_model.load_weights(\"model.h5\")\n",
    "\n",
    "# Compile and evaluate loaded model\n",
    "loaded_model.compile(loss='categorical_crossentropy',optimizer='adam',metrics=['accuracy'])\n",
    "\n",
    "# Evaluate on test dataset\n",
    "score = loaded_model.evaluate(x_test, y_test, verbose=0)\n",
    "print('Test accuracy:', score[1])"
   ]
  },
  {
   "cell_type": "markdown",
   "id": "36f5fec2-1fdf-42f9-b363-d9f979b620af",
   "metadata": {},
   "source": [
    "### 25.3.2 Creating a Flask App <a id=\"25.3.2-creating-a-flask-app\"/>"
   ]
  },
  {
   "cell_type": "markdown",
   "id": "925eb10d-aa18-4a6c-a862-ae1eb05f4543",
   "metadata": {},
   "source": [
    "To deploy the model we will create the `app.py` file, similarly to the Flask file in the previous section.\n",
    "\n",
    "We will define again two routes in the flask app:\n",
    "\n",
    "- An index page route, for the users to draw a digit image.\n",
    "- A predict route, to predict the class of the digit using the saved model.\n",
    "\n",
    "In the next cell, we will import the required libraries, as well the function `init()` will load the saved model. "
   ]
  },
  {
   "cell_type": "code",
   "execution_count": null,
   "id": "e4f1f2ba-0804-4c22-aafa-42b0f7fa6517",
   "metadata": {},
   "outputs": [],
   "source": [
    "from flask import Flask, render_template,request\n",
    "from PIL import Image\n",
    "import numpy as np\n",
    "import tensorflow.keras.models\n",
    "import re\n",
    "import sys \n",
    "import os\n",
    "import base64\n",
    "sys.path.append(os.path.abspath(\"./model\"))\n",
    "from load import * \n",
    "\n",
    "global model\n",
    "\n",
    "model = init()"
   ]
  },
  {
   "cell_type": "code",
   "execution_count": null,
   "id": "a9b93dbc-0a7b-4ea3-a2bb-08ed660c35d3",
   "metadata": {},
   "outputs": [],
   "source": [
    "def init(): \n",
    "    json_file = open('model/model.json','r')\n",
    "    loaded_model_json = json_file.read()\n",
    "    json_file.close()\n",
    "    loaded_model = model_from_json(loaded_model_json)\n",
    "    #load weights into new model\n",
    "    loaded_model.load_weights('model/model.h5')\n",
    "    print(\"Loaded Model from disk\")\n",
    "    #compile loaded model\n",
    "    loaded_model.compile(loss='categorical_crossentropy',optimizer='adam',metrics=['accuracy'])\n",
    "    return loaded_model"
   ]
  },
  {
   "cell_type": "markdown",
   "id": "ae2a429e-6544-41d6-871b-28e085b8612a",
   "metadata": {},
   "source": [
    "In the next cell, an `app` object is created that is an instance of the Flask class. And, we define the route using the `@app.route` decorator, and pass the URL of the main page of the web application `index.html`, as in Section 25.2.3. "
   ]
  },
  {
   "cell_type": "code",
   "execution_count": null,
   "id": "6ba1e874-338e-4a3a-a48b-27f3dbcdc7ec",
   "metadata": {},
   "outputs": [],
   "source": [
    "app = Flask(__name__)\n",
    "\n",
    "@app.route('/')\n",
    "def index_view():\n",
    "    return render_template('index.html')"
   ]
  },
  {
   "cell_type": "markdown",
   "id": "3d29a905-7eee-4006-a637-f4d10352b304",
   "metadata": {},
   "source": [
    "The predict route is shown next, which gets the image of a digit drawn by the user, and it first applies image resizing and reshaping, and afterward the model is used to predict the digit class. Output is the `response` variable that returns a string of the predicted class. "
   ]
  },
  {
   "cell_type": "code",
   "execution_count": null,
   "id": "27123ee7-8a53-424b-aa05-97f4ef5b8953",
   "metadata": {},
   "outputs": [],
   "source": [
    "@app.route('/predict/', methods=['GET','POST'])\n",
    "\n",
    "def predict():\n",
    "    imgData = request.get_data()\n",
    "    \n",
    "    convertImage(imgData)\n",
    "    x = Image.open('output.png')\n",
    "    x = x.resize((28,28))\n",
    "    x = np.invert(x)\n",
    "    x = x[:,:,0].reshape(1,28,28,1)\n",
    "    x = x/255\n",
    "\n",
    "    out = model.predict(x)\n",
    "    print(out)\n",
    "    print(np.argmax(out,axis=1))\n",
    "\n",
    "    response = np.array_str(np.argmax(out,axis=1))\n",
    "    return response\t"
   ]
  },
  {
   "cell_type": "markdown",
   "id": "1f5d978b-de83-4024-ab5c-774760227ab4",
   "metadata": {},
   "source": [
    "And finally, run the app using the local port 8000. "
   ]
  },
  {
   "cell_type": "code",
   "execution_count": null,
   "id": "827b722f-4d03-424a-b4ba-0b99fc32c0e3",
   "metadata": {},
   "outputs": [],
   "source": [
    "if __name__ == '__main__':\n",
    "    app.run(debug=True, port=8000)"
   ]
  },
  {
   "cell_type": "markdown",
   "id": "939e5d0c-1319-4bc3-adbe-b3798dfe3b8e",
   "metadata": {},
   "source": [
    "The organization of the directory of the web application is shown below. Beside the `app.py`, in the main directory the image drawn by the users is saved as `output.png`. The `templates` sub-directory contains the `index.html` and `draw.html` pages. In the `static` folder, a JavaScript file `index.js` is used to render a canvas for drawing digits by the users, and `style.css` is a stylesheet for the web application. And, the `model` sub-directory contains the `load.py` file for loading the model, and `model.h5` and `model.json` files of the saved model. \n",
    "\n",
    "```\n",
    "MNIST-API\n",
    "    ├── app.py\n",
    "    ├── output.png\n",
    "    ├── templates\n",
    "    │   ├── index.html\n",
    "    │   ├── draw.html\n",
    "    ├── static\n",
    "    │   ├── index.js\n",
    "    │   ├── style.css\n",
    "    ├── model\n",
    "    │   ├── load.py\n",
    "    │   ├── model.h5\n",
    "    │   ├── model.json\n",
    "```"
   ]
  },
  {
   "cell_type": "markdown",
   "id": "09b48e12-66aa-4805-8269-9c6bd881c686",
   "metadata": {},
   "source": [
    "### 25.3.3 Run the Web Application <a id=\"25.3.3-run-the-web-application\"/>"
   ]
  },
  {
   "cell_type": "markdown",
   "id": "bbd71744-ebbb-4f78-99da-902b5a59aec3",
   "metadata": {},
   "source": [
    "We can run the application using `python app.py`, and we will copy and paste the shown URL `http://127.0.0.1:8000/` in a browser. The web API is shown below, where we can use the mouse pointer to draw digits, and the Predict button will result in a Predicted Output by the model. The Clear button will allow to draw again and make a new prediction."
   ]
  },
  {
   "cell_type": "markdown",
   "id": "c5cac74f-9c7e-4035-ada6-7691d882ecce",
   "metadata": {},
   "source": [
    "<img src=\"images/mnist_run.png\" width=\"800\">\n",
    "\n",
    "<img src=\"images/mnist_prediction.png\" width=\"400\">\n",
    "\n",
    "*Figure: Run the web application.*"
   ]
  },
  {
   "cell_type": "markdown",
   "id": "389368f9",
   "metadata": {},
   "source": [
    "## References <a id=\"references\"/>\n",
    "\n",
    "1. Deploying Machine Learning Models using Flask, by Srishilesh P S, available at [https://www.section.io/engineering-education/deploying-machine-learning-models-using-flask/](https://www.section.io/engineering-education/deploying-machine-learning-models-using-flask/).\n",
    "2. Deploying Deep Learning Models Part 1: Preparing the Model, by Vihar Kurama, available at: [https://blog.paperspace.com/deploying-deep-learning-models-flask-web-python/](https://blog.paperspace.com/deploying-deep-learning-models-flask-web-python/)."
   ]
  },
  {
   "cell_type": "markdown",
   "id": "3e12fc40",
   "metadata": {},
   "source": [
    "[BACK TO TOP](#top)"
   ]
  }
 ],
 "metadata": {
  "kernelspec": {
   "display_name": "Python 3 (ipykernel)",
   "language": "python",
   "name": "python3"
  },
  "language_info": {
   "codemirror_mode": {
    "name": "ipython",
    "version": 3
   },
   "file_extension": ".py",
   "mimetype": "text/x-python",
   "name": "python",
   "nbconvert_exporter": "python",
   "pygments_lexer": "ipython3",
   "version": "3.9.13"
  }
 },
 "nbformat": 4,
 "nbformat_minor": 5
}
