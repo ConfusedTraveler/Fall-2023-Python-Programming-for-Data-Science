{
 "cells": [
  {
   "cell_type": "markdown",
   "id": "6acf333c-2047-4c34-9e9e-ab56f4f0538a",
   "metadata": {},
   "source": [
    "# Tutorial 13 - GitHub Actions"
   ]
  },
  {
   "cell_type": "markdown",
   "id": "f6fec3b1-3569-4078-87e4-52ca59f1a952",
   "metadata": {},
   "source": [
    "[![View notebook on Github](https://img.shields.io/static/v1.svg?logo=github&label=Repo&message=View%20On%20Github&color=lightgrey)](https://github.com/avakanski/Fall-2023-Python-Programming-for-Data-Science/blob/main/docs/Lectures/Theme_4-Model_Deployment/Tutorial_13-GitHub_Actions/Tutorial_13-GitHub_Actions.ipynb)\n",
    "[![Open In Collab](https://colab.research.google.com/assets/colab-badge.svg)](https://colab.research.google.com/github/avakanski/Fall-2023-Python-Programming-for-Data-Science/blob/main/docs/Lectures/Theme_4-Model_Deployment/Tutorial_13-GitHub_Actions/Tutorial_13-GitHub_Actions.ipynb)"
   ]
  },
  {
   "cell_type": "markdown",
   "id": "81aced14-aae6-495e-9785-c247f4411d09",
   "metadata": {},
   "source": [
    "<a id='top'></a>"
   ]
  },
  {
   "cell_type": "markdown",
   "id": "357b5970-cb4b-4fcd-a06b-4bc4efa5d0e7",
   "metadata": {},
   "source": [
    "**GitHub Actions** serves as a continuous integration and continuous delivery (CI/CD) platform designed to automate the processes of building, testing, and deploying code. Through the creation of workflows, one can ensure that each pull request to a repository undergoes the necessary build and test procedures, and subsequently, merged pull requests can be deployed to production.\n",
    "\n",
    "GitHub Actions also enables execution of workflows in response to various events within a repository. For instance, you have the flexibility to initiate a workflow that automatically assigns appropriate labels whenever a new issue is generated in a repository.\n",
    "\n",
    "To support workflows, GitHub Actions offers virtual machines running on Linux, Windows, and macOS. Additionally, you have the option to employ self-hosted runners, either in your own data center or within your chosen cloud infrastructure."
   ]
  },
  {
   "cell_type": "markdown",
   "id": "d7a91048",
   "metadata": {},
   "source": [
    "Key features of GitHub Actions include:\n",
    "\n",
    "- `Workflow definition`: Define workflows using YAML syntax directly in a GitHub repository. The workflows describe the steps, jobs, and processes that GitHub Actions will execute.\n",
    "- `Event-driven triggers`: Workflows can be triggered by various events, such as code pushes, pull requests, issue comments, and more. This event-driven model allows to automatically respond to changes in a repository.\n",
    "- `Job execution`: Workflows consist of one or more jobs, and each job runs on a virtual machine or container. Jobs can run in parallel or sequentially, depending on your configuration.\n",
    "- `Reusable actions`: GitHub Actions provides a marketplace where you can find and share pre-built actions. These actions are reusable units of code that perform specific tasks, and you can incorporate them into workflows.\n",
    "- `Matrix builds`: GitHub Actions supports matrix builds, allowing to test code against multiple versions of programming languages, dependencies, or operating systems in parallel.\n",
    "- `Secrets management`: Allows to store and use sensitive information, such as API keys and credentials, securely in your workflows.\n",
    "- `Visual workflow editor`: GitHub provides a visual workflow editor that allows to create, edit, and manage workflows using a graphical interface.\n",
    "\n",
    "<img width=\"650\" src=\"images/img4.png\">"
   ]
  },
  {
   "cell_type": "markdown",
   "id": "7eb74e4e",
   "metadata": {},
   "source": [
    "## Components of GitHub Actions\n",
    "\n",
    "You can configure a GitHub Actions **workflow** to be triggered when an **event** occurs in your repository, such as a pull request being opened or an issue being created. The workflow contains one or more **jobs** which can run in sequential order or in parallel. Each job will run inside its own virtual machine **runner**, or inside a container, and has one or more steps that either run a script that you define or run an **action**, which is a reusable extension that can simplify the workflow."
   ]
  },
  {
   "cell_type": "markdown",
   "id": "69abf2be",
   "metadata": {},
   "source": [
    "**Workflow**: A workflow represents a configurable, automated process that executes one or more jobs. The workflows are specified by a YAML file committed to a repository and activate in response to events within the repository. Alternatively, they can be manually triggered or scheduled for defined intervals.\n",
    "\n",
    "Workflows find their definition in the `.github/workflows` directory within a repository. A repository has the flexibility to house multiple workflows, each designed to carry out distinct tasks. For instance, you might create one workflow dedicated to building and testing pull requests, another focused on deploying your application with every release, and yet another tasked with labeling new issues whenever they are opened.\n",
    "\n",
    "**Event**: An event denotes a particular action within a repository that initiates the execution of a workflow. This activity may stem from various sources on GitHub, such as the creation of a pull request, opening an issue, or pushing a commit to a repository. Additionally, workflows can be activated based on a predetermined schedule, through interactions with a REST API, or manually triggered.\n",
    "\n",
    "**Jobs**: A job is a set of steps in a workflow that is executed on the same runner. Each step is either a shell script that will be executed, or an action that will be run. Steps are executed in order and are dependent on each other. Since each step is executed on the same runner, you can share data from one step to another. For example, you can have a step that builds your application followed by a step that tests the application that was built. You can configure a job's dependencies with other jobs; by default, jobs have no dependencies and run in parallel with each other. When a job takes a dependency on another job, it will wait for the dependent job to complete before it can run. For example, you may have multiple build jobs for different architectures that have no dependencies, and a packaging job that is dependent on those jobs. The build jobs will run in parallel, and when they have all been completed successfully, the packaging job will run.\n",
    "\n",
    "**Runner**: A runner is a server that runs workflows when they are triggered. Each runner can run a single job at a time. GitHub provides Ubuntu Linux, Microsoft Windows, and macOS runners to run workflows. Each workflow run executes in a fresh, newly-provisioned virtual machine. GitHub also offers larger runners, which are available in larger configurations.\n",
    "\n",
    "**Action**: An action is a custom application for the GitHub Actions platform that performs a complex but frequently repeated task. Use an action to help reduce the amount of repetitive code in your workflow files. An action can pull a git repository from GitHub, set up the correct toolchain for the build environment, or set up the authentication to your cloud provider."
   ]
  },
  {
   "cell_type": "markdown",
   "id": "6d685730",
   "metadata": {},
   "source": [
    "<img width=\"650\" src=\"images/img1.png\">"
   ]
  },
  {
   "cell_type": "markdown",
   "id": "012b63a6",
   "metadata": {},
   "source": [
    "**Create a workflow**: GitHub Actions uses YAML syntax to define the workflow. Each workflow is stored as a separate YAML file in a code repository, in a directory named `.github/workflows`.\n",
    "\n",
    "You can create an example workflow in your repository that automatically triggers a series of commands whenever code is pushed. In this workflow, GitHub Actions checks out the pushed code, installs the bats testing framework, and runs a basic command to output the bats version: `bats -v.`\n",
    "\n",
    "1. In your repository, create the `.github/workflows/` directory to store your workflow files.\n",
    "2. In the `.github/workflows/` directory, create a new file called `learn-github-actions.yml` and add the following code.\n",
    "3. Commit these changes and push them to your GitHub repository."
   ]
  },
  {
   "cell_type": "raw",
   "id": "54c3ed2f",
   "metadata": {},
   "source": [
    "name: learn-github-actions\n",
    "run-name: ${{ github.actor }} is learning GitHub Actions\n",
    "on: [push]\n",
    "jobs:\n",
    "  check-bats-version:\n",
    "    runs-on: ubuntu-latest\n",
    "    steps:\n",
    "      - uses: actions/checkout@v4\n",
    "      - uses: actions/setup-node@v3\n",
    "        with:\n",
    "          node-version: '14'\n",
    "      - run: npm install -g bats\n",
    "      - run: bats -v\n"
   ]
  },
  {
   "cell_type": "markdown",
   "id": "920199f0",
   "metadata": {},
   "source": [
    "Your new GitHub Actions workflow file is now installed in the repository and will run automatically each time someone pushes a change to the repository."
   ]
  },
  {
   "cell_type": "markdown",
   "id": "c76d0a04",
   "metadata": {},
   "source": [
    "**Understanding the workflow file:**"
   ]
  },
  {
   "cell_type": "markdown",
   "id": "1d8c8adc-3b8c-4484-bddc-59761f8e57e1",
   "metadata": {},
   "source": [
    "```\n",
    "# Optional - The name of the workflow as it will appear in the \"Actions\" tab of the GitHub repository. \n",
    "# If this field is omitted, the name of the workflow file will be used instead.\n",
    "    name: learn-github-actions\n",
    "\n",
    "# Optional - The name for workflow runs generated from the workflow, which will appear in the list of workflow runs on your repository's \"Actions\" tab. \n",
    "# This example uses an expression with the `github` context to display the username of the actor that triggered the workflow run.\n",
    "# For more information, see \"[AUTOTITLE](/actions/using-workflows/workflow-syntax-for-github-actions#run-name).\"\n",
    "    run-name: ${{ github.actor }} is learning GitHub Actions\n",
    "\n",
    "# Specifies the trigger for this workflow. This example uses the `push` event, \n",
    "# so a workflow run is triggered every time someone pushes a change to the repository or merges a pull request. \n",
    "# This is triggered by a push to every branch; for examples of syntax that runs only on pushes to specific branches, paths, or tags, see \n",
    "# \"[AUTOTITLE](/actions/reference/workflow-syntax-for-github-actions#onpushpull_requestpull_request_targetpathspaths-ignore).\"\n",
    "    on: [push]\n",
    "\n",
    "# Groups together all the jobs that run in the `learn-github-actions` workflow.\n",
    "    jobs:\n",
    "\n",
    "# Defines a job named `check-bats-version`. \n",
    "# The child keys will define properties of the job.\n",
    "    check-bats-version:\n",
    "\n",
    "# Configures the job to run on the latest version of an Ubuntu Linux runner. \n",
    "# This means that the job will execute on a fresh virtual machine hosted by GitHub. \n",
    "# For syntax examples using other runners, see \"[AUTOTITLE](/actions/reference/workflow-syntax-for-github-actions#jobsjob_idruns-on)\"\n",
    "    runs-on: ubuntu-latest\n",
    "\n",
    "# Groups together all the steps that run in the `check-bats-version` job. \n",
    "# Each item nested under this section is a separate action or shell script.\n",
    "    steps:\n",
    "\n",
    "# The `uses` keyword specifies that this step will run `v4` of the `actions/checkout` action. \n",
    "# This is an action that checks out your repository onto the runner, allowing you to run scripts or other actions against your code (such as build and test tools). \n",
    "# You should use the checkout action any time your workflow will use the repository's code.\n",
    "      - uses: actions/checkout@v4\n",
    "\n",
    "# This step uses the `actions/setup-node@v3` action to install the specified version of the Node.js. \n",
    "# This puts both the `node` and `npm` commands in your `PATH`.\n",
    "      - uses: actions/setup-node@v3\n",
    "        with:\n",
    "          node-version: '14'\n",
    "\n",
    "# The `run` keyword tells the job to execute a command on the runner. \n",
    "# In this case, you are using `npm` to install the `bats` software testing package.\n",
    "      - run: npm install -g bats\n",
    "\n",
    "# Finally, you'll run the `bats` command with a parameter that outputs the software version.\n",
    "      - run: bats -\n",
    "```"
   ]
  },
  {
   "cell_type": "markdown",
   "id": "5b54886d-2f28-4dcb-8389-822c3363907b",
   "metadata": {},
   "source": [
    "**Visualizing the workflow file**\n",
    "In the below diagram, you can see the workflow file you just created and how the GitHub Actions components are organized in a hierarchy. Each step executes a single action or shell script. Steps 1 and 2 run actions, while steps 3 and 4 run shell scripts. To find more prebuilt actions for your workflows, see \"Finding and customizing actions.\"\n",
    "\n",
    "<img width=\"650\" src=\"images/img2.png\">"
   ]
  },
  {
   "cell_type": "markdown",
   "id": "3f42382a",
   "metadata": {},
   "source": [
    "**Viewing the activity for a workflow run**: When a workflow is triggered, a **workflow run** is created that executes the workflow. After a workflow run has started, you can see a visualization graph of the run's progress and view each step's activity on GitHub.\n",
    "\n",
    "1. On GitHub.com, navigate to the main page of the repository.\n",
    "2. Under your repository name, click Actions.\n",
    "3. In the left sidebar, click the workflow you want to see.\n",
    "\n",
    "<img width=\"250\" src=\"images/img3.png\">"
   ]
  },
  {
   "cell_type": "markdown",
   "id": "b95c3303",
   "metadata": {},
   "source": [
    "4. From the list of workflow runs, click the name of the run to see the workflow run summary.\n",
    "5. In the left sidebar or in the visualization graph, click the job you want to see.\n",
    "6. To view the results of a step, click the step."
   ]
  },
  {
   "cell_type": "markdown",
   "id": "d530a884",
   "metadata": {},
   "source": [
    "### References\n",
    "\n",
    "1) Understanding GitHub Actions. GitHub Docs. (n.d.). https://docs.github.com/en/actions/learn-github-actions/understanding-github-actions#visualizing-the-workflow-file \n",
    "2) Douglas, B. (2023, September 29). How to build a CI/CD pipeline with GitHub Actions in four simple steps. The GitHub Blog. https://github.blog/2022-02-02-build-ci-cd-pipeline-github-actions-four-steps/ \n",
    "3) Creating Actions. GitHub Docs. (n.d.). https://docs.github.com/en/actions/creating-actions \n",
    "4) GitHub Actions — Everything you need to know to get started. (n.d.). https://towardsdatascience.com/github-actions-everything-you-need-to-know-to-get-started-537f1dffa0ed "
   ]
  },
  {
   "cell_type": "markdown",
   "id": "6968f97c-3a51-4951-9729-e4ea19e407de",
   "metadata": {},
   "source": [
    "[BACK TO TOP](#top)"
   ]
  }
 ],
 "metadata": {
  "kernelspec": {
   "display_name": "Python 3 (ipykernel)",
   "language": "python",
   "name": "python3"
  },
  "language_info": {
   "codemirror_mode": {
    "name": "ipython",
    "version": 3
   },
   "file_extension": ".py",
   "mimetype": "text/x-python",
   "name": "python",
   "nbconvert_exporter": "python",
   "pygments_lexer": "ipython3",
   "version": "3.9.18"
  }
 },
 "nbformat": 4,
 "nbformat_minor": 5
}
