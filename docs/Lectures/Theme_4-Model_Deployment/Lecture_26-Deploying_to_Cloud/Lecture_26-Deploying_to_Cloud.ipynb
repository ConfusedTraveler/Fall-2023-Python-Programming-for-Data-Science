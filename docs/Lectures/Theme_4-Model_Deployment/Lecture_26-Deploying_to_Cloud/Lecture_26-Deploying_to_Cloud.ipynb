{
 "cells": [
  {
   "cell_type": "markdown",
   "id": "fbe026a0-1dad-40ef-a202-791e9ab53609",
   "metadata": {},
   "source": [
    "# Lecture 26 - Deploying Projects to the Cloud"
   ]
  },
  {
   "cell_type": "markdown",
   "id": "bd8fe2db-d2a4-463d-86ad-d0c1aae1d7b2",
   "metadata": {},
   "source": [
    "[![View notebook on Github](https://img.shields.io/static/v1.svg?logo=github&label=Repo&message=View%20On%20Github&color=lightgrey)](https://github.com/avakanski/Fall-2023-Python-Programming-for-Data-Science/blob/main/docs/Lectures/Theme_4-Model_Deployment/Lecture_26-Deploying_to_Cloud/Lecture_26-Deploying_to_Cloud.ipynb)\n",
    "[![Open In Collab](https://colab.research.google.com/assets/colab-badge.svg)](https://colab.research.google.com/github/avakanski/Fall-2023-Python-Programming-for-Data-Science/blob/main/docs/Lectures/Theme_4-Model_Deployment/Lecture_26-Deploying_to_Cloud/Lecture_26-Deploying_to_Cloud.ipynb) "
   ]
  },
  {
   "cell_type": "markdown",
   "id": "a54b18e1-8cdf-4640-92ec-5eceafd13da0",
   "metadata": {
    "tags": []
   },
   "source": [
    "<a id='top'></a>"
   ]
  },
  {
   "cell_type": "markdown",
   "id": "54c93718",
   "metadata": {},
   "source": [
    "- [26.1 Data Science using Cloud Computing](#26.1-data-science-using-cloud-computing)\n",
    "- [26.2 Introduction to Azure Machine Learning](#26.2-introduction-to-azure-machine-learning)\n",
    "    - [26.2.1 Azure Free Trial](#26.2.1-azure-free-trial)\n",
    "- [26.3 No-Code Azure ML](#26.3-no-code-azure-ml)\n",
    "    - [26.3.1 Creating a Workspace Resource](#26.3.1-creating-a-workspace-resource)\n",
    "    - [26.3.2 Using Azure ML Studio](#26.3.2-using-azure-ml-studio)\n",
    "    - [26.3.3 Loading the Dataset](#26.3.3-loading-the-dataset)\n",
    "    - [26.3.4 Creating a Compute Resource](#26.3.4-creating-a-compute-resource)\n",
    "    - [26.3.5 Training a Model with Auto ML](#26.3.5-training-a-model-with-auto-ml)\n",
    "    - [26.3.6 Deploying the Model](#26.3.6-deploying-the-model)\n",
    "    - [26.3.7 Consuming the Model](#26.3.7-consuming-the-model)\n",
    "- [26.4 Code-based Azure ML](#26.4-code-based-azure-ml)\n",
    "    - [26.4.1 Creating a Compute Resource](#26.4.1-creating-a-compute-resource)\n",
    "    - [26.4.2 Using Jupyter Notebooks in Azure ML](#26.4.2-using-jupyter-notebooks-in-azure-ml)\n",
    "    - [26.4.3 Training a Model](#26.4.3-training-a-model)\n",
    "    - [26.4.4 Deploying the Model](#26.4.4-deploying-the-model)\n",
    "    - [26.4.5 Consuming the Model](#26.4.5-consuming-the-model)\n",
    "- [26.5 Training Deep Learning Models with Azure ML](#26.5-training-deep-learning-models-with-azure-ml)   \n",
    "    - [26.5.1 Creating Workspace and Compute Resource](#26.5.1-creating-workspace-and-compute-resource)\n",
    "    - [26.5.2 Loading the Data and Defining the Model](#26.5.2-loading-the-data-and-defining-the-model)\n",
    "    - [26.5.3 Preparing Azure ML Job and Training the Model](#26.5.3-preparing-azure-ml-job-and-training-the-model)\n",
    "    - [26.5.4 Consuming the Model](#26.5.4-consuming-the-model)\n",
    "- [References](#references)"
   ]
  },
  {
   "cell_type": "markdown",
   "id": "b5bed47f",
   "metadata": {},
   "source": [
    "## 26.1 Data Science using Cloud Computing <a id=\"26.1-data-science-using-cloud-computing\"/>"
   ]
  },
  {
   "cell_type": "markdown",
   "id": "271810f7-6fc7-4f81-9349-7a0fea3ef7f8",
   "metadata": {},
   "source": [
    "**Cloud Computing**, also referred to as the Cloud, delivers services hosted over a network, which can include data analytics, storage, databases, networking, and other services. The service is often in the form of a *public cloud*  offered to the public over the Internet by cloud service providers, or it can be a *private cloud* that is owned by an organization that maintains the services on a private network. \n",
    "\n",
    "Public Cloud Computing services include Amazon Web Services, Google Cloud Platform, Microsoft Azure, IBM Cloud, and others.\n",
    "\n",
    "In general, Cloud Computing services can be categorized as:\n",
    "\n",
    "- *Infrastructure as a Service (IaaS)*: access to infrastructure, consisting of servers, virtual machines (VMs), storage, networks, or databases.\n",
    "- *Platform as a Service (PaaS)*: access to a platform for developing, testing, delivering, and managing software applications, using infrastructure managed by the provider. \n",
    "- *Software as a Service (SaaS)*: access to software applications, that are developed and managed by the provider using the provider's infrastructure. \n",
    "\n",
    "The advantages of using Cloud Computing include convenient access to latest computational resources (without the need to purchase hardware or software), access to structured environments (preinstalled libraries) for running tasks, pay for what you need only, ability to quickly scale projects, improved efficiency by relying on infrastructure hosted and managed by the cloud provider, etc.\n",
    "\n",
    "Cloud Computing is especially important for managing  Data Science projects, which often require access to GPUs and large compute resources, storing large amounts of data, access to databases, deploying solutions for access by end-users, and similar. In addition, most Cloud providers have developed some form of AutoML tools that enable organizations without Data Science expertise to implement data analytics workflows into their projects. \n",
    "\n",
    "This lecture is primarily based on a course [Data Science for Beginners](https://github.com/microsoft/Data-Science-For-Beginners/blob/main/5-Data-Science-In-Cloud/18-Low-Code/README.md) by Microsoft. The course has several lectures on deploying Data Science projects to the Cloud, as well as it has other lectures on Data Science in general."
   ]
  },
  {
   "cell_type": "markdown",
   "id": "e5fbf9c2",
   "metadata": {},
   "source": [
    "## 26.2 Introduction to Azure Machine Learning <a id=\"26.2-introduction-to-azure-machine-learning\"/>"
   ]
  },
  {
   "cell_type": "markdown",
   "id": "9db493fb",
   "metadata": {},
   "source": [
    "**Microsoft's Azure Machine Learning** is a cloud platform that provides a large number of products and services designed for handling various phases of Data Science projects. This includes capabilities for preparing and preprocessing data, training models, deploying models, and monitoring models in production. These capabilities can help to increase the efficiency of data scientists by automating many tasks and project pipelines. Understandably, the availability of cloud computing resources allows to easily scale projects and handle efficiently challenges related to processing big data and serving large number of customers. \n",
    "\n",
    "Important tools and services provided by Azure ML include:\n",
    "\n",
    "- *Azure Machine Learning Studio*: no-code framework for data engineering, model training, and deployment. \n",
    "- *Azure Machine Learning Designer*: low-code ML framework that allows to drag-and-drop modules for building data science pipelines.\n",
    "- *Azure Machine Learning SDK*: code-based environment for data science projects. \n",
    "- *Data Labelling*: tools for automatic data labeling.\n",
    "- *Machine Learning CLI (Command-Line Interface)*: allows managing Azure ML resources from the command line.\n",
    "- *Automated Machine Learning (AutoML) User Interface*: tools to automate tasks in data science projects. \n",
    "- *MLflow*: framework for tracking the performance of deployed models, and logging metrics and relevant indicators. \n",
    "\n",
    "Azure ML allows using Jupyter Notebooks and has built-in integration with popular ML libraries like Scikit-Learn, TensorFlow, PyTorch, and others.\n",
    "\n",
    "In this lecture, we will explore the different levels of functionality of Azure ML, ranging from the no-code AutoML, to full-code SDK, and working with our own custom models. "
   ]
  },
  {
   "cell_type": "markdown",
   "id": "d0960c63",
   "metadata": {},
   "source": [
    "### 26.2.1 Azure Free Trial <a id=\"26.2.1-azure-free-trial\"/>"
   ]
  },
  {
   "cell_type": "markdown",
   "id": "e5bba6b6",
   "metadata": {},
   "source": [
    "Microsoft Azure has 30 days of free trial, which also can come with $200 Azure credit that can be used within the 30 days. \n",
    "\n",
    "Also, Azure offers $100 yearly Azure credit to students. \n",
    "\n",
    "In addition, the other Cloud providers typically offer some amount of credit to new users and students.\n",
    "\n",
    "Follow the link to the [Microsoft Azure webpage](https://azure.microsoft.com/en-us/free/) and select the `Start free` button. This will prompt you to create an Azure account, and if you wish you can use your University of Idaho account to get access to Azure. \n",
    "\n",
    "<img src=\"images/Azure_free_trial.png\" width=\"800\">"
   ]
  },
  {
   "cell_type": "markdown",
   "id": "5e898607",
   "metadata": {},
   "source": [
    "Once you create an account and get the subscription with $200 Azure credits, the home page should look similar to the following.\n",
    "\n",
    "<img src=\"images/Azure_homepage.png\" width=\"1000\">"
   ]
  },
  {
   "cell_type": "markdown",
   "id": "2e1dedc1-7725-4b23-8c89-d789b59772e0",
   "metadata": {},
   "source": [
    "## 26.3 No-Code Azure ML <a id=\"26.3-no-code-azure-ml\"/>"
   ]
  },
  {
   "cell_type": "markdown",
   "id": "f90a5e50",
   "metadata": {},
   "source": [
    "### 26.3.1 Creating a Workspace Resource<a id=\"26.3.1-creating-a-workspace-resource\"/>"
   ]
  },
  {
   "cell_type": "markdown",
   "id": "f4e7cbd1",
   "metadata": {},
   "source": [
    "From the home page, we will need to first create a new **Resource** that will indicate what type of tools and services we will be using. \n",
    "\n",
    "- Select `+ Create a resource`.\n",
    "\n",
    "<img src=\"images/Create_resource.png\" width=\"800\">"
   ]
  },
  {
   "cell_type": "markdown",
   "id": "3f11a1ab-a88e-4df5-8d52-fff3a1837d4a",
   "metadata": {},
   "source": [
    "Azure will next display many popular services and resources.\n",
    "\n",
    "- In the search box write `Azure Machine Learning` and select it.\n",
    "\n",
    "<img src=\"images/Resource_search.png\" width=\"800\">"
   ]
  },
  {
   "cell_type": "markdown",
   "id": "07222355-e1ed-4feb-bae7-5caadbd6318c",
   "metadata": {},
   "source": [
    "This will load the web page of Azure Machine Learning. \n",
    "\n",
    "- Select `Create`. \n",
    "\n",
    "It will open a new page for `Azure ML Workspace resource`. The **Workspace** provides a place to work with machine learning models, and allows access to tools for training and deploying models. For instance, the Workspace will store information about training runs, such as logs of various metrics, it will provide access to the data and scripts, etc. And note also that when we are done with using Azure resources such as workspaces, we need to delete the resources, otherwise some costs can be incurred (e.g., even if we don't use the workspace to run a model, Azure may charge a fee for storing the data).\n",
    "\n",
    "<img src=\"images/Create_workspace.png\" width=\"800\">"
   ]
  },
  {
   "cell_type": "markdown",
   "id": "3b1ceaef",
   "metadata": {},
   "source": [
    "When we create a new Workspace, we need to fill in the information shown in the screenshot below. \n",
    "\n",
    "- Subscription: Azure subscription, e.g., the $200 Azure credits obtained with the free trial. \n",
    "- Resource group: Assign a name for the resource group.\n",
    "- Workspace name: Assign a name for the workspace (e.g., perhaps a name that is related to the project).\n",
    "- Region: Select the geographical region.\n",
    "- Storage account: A new storage account will be created for the workspace for storing the data.\n",
    "- Key vault: A new key vault will be created for the workspace for storing sensitive information.\n",
    "- Application insights: A new application insights resource will be created for the workspace to store information about deployed models.\n",
    "- Container registry: Leave it as None (it will be created automatically the first time the model is deployed).\n",
    "\n",
    "After the information in all fields is entered, select `Review & create`. \n",
    "\n",
    "<img src=\"images/Workspace_form.png\" width=\"800\">"
   ]
  },
  {
   "cell_type": "markdown",
   "id": "958001f2-75eb-4c92-afca-689510ac3586",
   "metadata": {},
   "source": [
    "The next page will show the information that we entered and we will need to confirm that everything is correct.\n",
    "\n",
    "- Select `Create`.\n",
    "\n",
    "<img src=\"images/Workspace_confirm.png\" width=\"600\">"
   ]
  },
  {
   "cell_type": "markdown",
   "id": "f5ace3e2-c832-4058-8ea0-d1d1eb20f2ff",
   "metadata": {},
   "source": [
    "It may take a few minutes for the Workspace to be created. Once it is ready, the page will show that it is completed. \n",
    "\n",
    "<img src=\"images/Workspace_complete.png\" width=\"800\">"
   ]
  },
  {
   "cell_type": "markdown",
   "id": "37ac8375-b80c-4e6d-83e7-c92ad3407b90",
   "metadata": {},
   "source": [
    "### 26.3.2 Using Azure ML Studio<a id=\"26.3.2-using-azure-ml-studio\"/>"
   ]
  },
  {
   "cell_type": "markdown",
   "id": "a11d8a53-4230-4a12-9055-0f81a30dbc63",
   "metadata": {},
   "source": [
    "As we mentioned in the introductory section, **Azure Machine Learning Studio** is a no-code framework for data engineering, model training, and deployment. \n",
    "\n",
    "- Click on the following [link](https://ml.azure.com) to navigate to Azure ML Studio. \n",
    "\n",
    "The interface of Azure ML Studio is shown below. On the top of the page, our workspace should be listed. In this case, the workspace that we just created and named `My_workspace_1` is shown.\n",
    "\n",
    "<img src=\"images/ML_Studio.png\" width=\"800\">"
   ]
  },
  {
   "cell_type": "markdown",
   "id": "fd55d6ec-871f-4487-acbb-1beb6d05785d",
   "metadata": {},
   "source": [
    "The various modules that are available in Azure ML Studio are listed in the left-side menu. To see the names of the modules, click on the three horizontal lines in the upper left corner. A brief description of the modules is shown in the next figure. The modules allow to conveniently apply tools for managing different phases of data science projects from a single place. \n",
    "\n",
    "<img src=\"images/ML_modules.png\" width=\"600\">"
   ]
  },
  {
   "cell_type": "markdown",
   "id": "db941ecf",
   "metadata": {},
   "source": [
    "### 26.3.3 Loading the Dataset<a id=\"26.3.3-loading-the-dataset\"/>"
   ]
  },
  {
   "cell_type": "markdown",
   "id": "462bb07e",
   "metadata": {},
   "source": [
    "For demonstration purposes, we will use the Heart Failure Dataset, which is publicly available, and contains 13 columns with information about 300 patients who may or may not have risk of heart failure. The csv file with the records is available in the `data` folder with the other files for this lecture.\n",
    "\n",
    "- Click on the `Data` module in the left-side menu in Azure ML Studio.\n",
    "\n",
    "The Data section provides various tools for data management, and it allows to upload files or folders with data from a local machine, or provide links to web files (e.g., data from GitHub or Google Drive), load data from a list of open datasets collected by Microsoft (check [Azure Open Datasets](https://learn.microsoft.com/en-us/azure/open-datasets/dataset-catalog)), or use files from a datastore. Datastores allow organizations that have many data files in different locations in Azure to link them together and organize them in a single view.\n",
    "\n",
    "- Select `Create` to load the dataset.\n",
    "\n",
    "Azure ML Studio will guide us through several steps for creating the dataset.\n",
    "\n",
    "<img src=\"images/Create_dataset.png\" width=\"800\">"
   ]
  },
  {
   "cell_type": "markdown",
   "id": "27aceffa-3f65-4f64-986d-5dfd9f50361e",
   "metadata": {},
   "source": [
    "On the first page, we will need to enter a name for the dataset, a brief description, and also indicate whether the data is in tabular or other formats. After the information is entered, select `Next`.\n",
    "\n",
    "<img style=\"float: center; height:350px;\" src=\"images/dataset_1.png\"> \n",
    "\n",
    "<img src=\"images/dataset_1.png\" width=\"800\">"
   ]
  },
  {
   "cell_type": "markdown",
   "id": "c9c3852c-4611-4feb-912a-b9625e65eb15",
   "metadata": {},
   "source": [
    "Next, we will indicate that the dataset is saved on our computer and we will upload the dataset from local files.\n",
    "\n",
    "<img src=\"images/dataset_2.png\" width=\"800\">"
   ]
  },
  {
   "cell_type": "markdown",
   "id": "514f44fd-f98c-49f6-b9c1-f6bddf0a4db0",
   "metadata": {},
   "source": [
    "Select `Upload` - `Upload files` and navigate to the csv file containing the heart failure records.\n",
    "\n",
    "The next page will show the columns in the dataset. Select `Next` to define the Schema for the data.\n",
    "\n",
    "<img src=\"images/dataset_3.png\" width=\"800\">"
   ]
  },
  {
   "cell_type": "markdown",
   "id": "a310cc04-d55a-46cc-8e92-8bfcad4b03be",
   "metadata": {},
   "source": [
    "In the Schema page, we will change the data type to Boolean for the columns `anemia`, `diabetes`, `high blood pressure`, `sex`, `smoking`, and `DEATH_EVENT`.\n",
    "\n",
    "Afterward, click `Next` and select `Create` to complete the creation of the dataset. \n",
    "\n",
    "<img src=\"images/dataset_4.png\" width=\"800\">"
   ]
  },
  {
   "cell_type": "markdown",
   "id": "1000ee08-def7-4da8-9c00-a86894986f6f",
   "metadata": {},
   "source": [
    "Now we can see that the dataset `heart-failure-data` is listed under the `Data assets` in our workspace.\n",
    "\n",
    "<img src=\"images/data_created.png\" width=\"1000\">"
   ]
  },
  {
   "cell_type": "markdown",
   "id": "ff50b7f8-a477-4284-adda-eebe8d503296",
   "metadata": {},
   "source": [
    "### 26.3.4 Creating a Compute Resource<a id=\"26.3.4-creating-a-compute-resource\"/>"
   ]
  },
  {
   "cell_type": "markdown",
   "id": "579db70a-1b6b-42dc-9478-421b1c489482",
   "metadata": {},
   "source": [
    "We also need to use Compute Resources for our project to perform data preparation and processing, and to run the models. \n",
    "To create a compute resource, we will select `Compute` from the left-side menu. \n",
    "\n",
    "We can see that the compute resources are categorized into four tabs:\n",
    "\n",
    "- Compute Instances, are workstations for data and models; they involve creating a Virtual Machine (VM) and launching a notebook instance (e.g., compute resources to train a model are requested from the notebook). \n",
    "- Compute Clusters, VMs for on-demand code processing (e.g., training a model using AutoML).\n",
    "- Inference Clusters, clusters for inference using trained models.\n",
    "- Attached Compute, links to existing Azure compute resources, such as Virtual Machines or Azure Databricks clusters.\n",
    "\n",
    "<img src=\"images/compute_module.png\" width=\"800\">"
   ]
  },
  {
   "cell_type": "markdown",
   "id": "6ff6d946-861b-4b8d-aa34-0bd590057848",
   "metadata": {},
   "source": [
    "For this task, we will need a compute cluster, so let's select that tab.\n",
    "\n",
    "- Click on `New` to create a new compute resource.\n",
    "\n",
    "<img src=\"images/new_compute.png\" width=\"800\">"
   ]
  },
  {
   "cell_type": "markdown",
   "id": "9bb84afa-9271-4245-95c7-9161a3fd2a1a",
   "metadata": {},
   "source": [
    "Selecting adequate compute resources for a project depends on several factors, which impose trade-offs between speed and cost. \n",
    "\n",
    "1. *CPU versus GPU*: CPUs are less expensive, but also less powerful especially for training deep learning models. GPUs are more expensive, but they provide efficient parallel computing, and are often necessary for training deep learning models. \n",
    "2. *Cluster size*: larger clusters are more expensive, but faster in completing tasks. For smaller tasks that don't take too long, it may be better to select a small compute cluster. \n",
    "3. *VM size*: similar to the cluster size, increasing the amount of RAM, number of cores, and processing speed of the VMs will reduce the computational time, but it will be more expensive.\n",
    "4. *Dedicated versus low-priority resources*: dedicated resources are non-interruptible, while low-priority instances can be assigned by Azure to other tasks and interrupt the job. \n",
    "\n",
    "For this project, we will select a VM with a dedicated CPU, and in fact only one option is listed as available for our region, which seems suitable. Let's select it and click on `Next`. \n",
    "\n",
    "<img src=\"images/VM.png\" width=\"1000\">"
   ]
  },
  {
   "cell_type": "markdown",
   "id": "a3211ff8-ef2a-4578-b656-5974f808ac97",
   "metadata": {},
   "source": [
    "On the next page, we need to assign a name to the compute cluster. \n",
    "We will leave the `minimum number of nodes` to 0, which means that when the cluster is idle we don't need to pay for the nodes. \n",
    "Regarding the `maximum number of nodes`, the higher it is, the shorter the training time will be, but it will be more costly. In this case, we are not allowed to select more than 1 node. \n",
    "The option `Idle seconds before scale down` defines how long to wait when the cluster is idle before changing it to the minimum number of nodes. \n",
    "\n",
    "- Let's click on `Create` to create the compute cluster. \n",
    "\n",
    "It can take a few minutes for the cluster to be created.\n",
    "\n",
    "<img src=\"images/cluster_2.png\" width=\"1000\">"
   ]
  },
  {
   "cell_type": "markdown",
   "id": "dad2a3ae-926a-424d-a7f0-bfbd73b7e4cd",
   "metadata": {},
   "source": [
    "### 26.3.5 Training a Model with Auto ML <a id=\"26.3.5-training-a-model-with-auto-ml\"/>"
   ]
  },
  {
   "cell_type": "markdown",
   "id": "a42be31d-435b-496c-982f-9c7cd6e36a65",
   "metadata": {},
   "source": [
    "In a previous tutorial on AutoML in this course, we learned how to train a model in Hugging Face without writing code. Similarly, AutoML in Azure ML Studio allows to build and deploy ML models without writing code. \n",
    "\n",
    "- Select `Automated ML` from the modules in the left-side panel.\n",
    "- Select `+ New Automated ML job`.\n",
    "\n",
    "<img src=\"images/autoML.png\" width=\"800\">"
   ]
  },
  {
   "cell_type": "markdown",
   "id": "07e3f82b-6704-4f90-b26e-03e6c6ad3ee4",
   "metadata": {},
   "source": [
    "The first step requires to add a dataset for the job.\n",
    "- Select the heart failure dataset that we uploaded, and click on `Next`.\n",
    "\n",
    "<img src=\"images/autoML_data.png\" width=\"800\">"
   ]
  },
  {
   "cell_type": "markdown",
   "id": "3eaadede-2e09-43ab-ab91-d5de19a4acb2",
   "metadata": {},
   "source": [
    "In the next step, we need to fill in information about the *job*, i.e., *experiment* (in the previous versions of Azure ML, this module was called Experiments; it was later named Jobs, but some fields still use the name Experiment).\n",
    "\n",
    "- Assign a name for the experiment.\n",
    "- Select a target column in the data: in this case it is `DEATH_EVENT`.\n",
    "- Use the drop-down menu to assign a compute resource, e.g., select the `heart-failure-cluster` that we created.\n",
    "\n",
    "<img src=\"images/autoML_experiment.png\" width=\"800\">"
   ]
  },
  {
   "cell_type": "markdown",
   "id": "0c49e910-5a20-4fa2-a384-e3b7f6cf2d50",
   "metadata": {},
   "source": [
    "Afterward, we need to indicate the *task*, that is, whether the goal is to perform classification, regression, time-series forecasting, etc. In this case, `classification` was preselected, and we can confirm that this is indeed the task. Note that there is a checkmark about enabling deep learning. \n",
    "\n",
    "<img src=\"images/autoML_task.png\" width=\"800\">"
   ]
  },
  {
   "cell_type": "markdown",
   "id": "abae900b-74ff-4944-a11b-c475867f1600",
   "metadata": {},
   "source": [
    "Finally, we need to specify the validation type, e.g., whether we would like to use k-fold cross-validation, or whether to split the training data into train and validation sets, etc. Also, the test data asset field allows to upload a test dataset or specify how to evaluate the model. We can leave these fields at their defaults, and click `Finish` to complete the setup.\n",
    "\n",
    "<img src=\"images/autoML_validate.png\" width=\"800\">"
   ]
  },
  {
   "cell_type": "markdown",
   "id": "9eeeeaee-0ba7-49dd-bd09-17ed8cea2507",
   "metadata": {},
   "source": [
    "Now the setup is complete and the experiment will begin running. This means that Azure ML will train many different models, and explore different hyperparameters for the models. \n",
    "\n",
    "On the home page, we will see a summary of the entered information about the experiment, and we will also see that the status of the experiment is `Running - Model training`. It took about 1 hour to complete this experiment. \n",
    "\n",
    "<img src=\"images/running.png\" width=\"800\">"
   ]
  },
  {
   "cell_type": "markdown",
   "id": "f13ecbf0-4f1a-4e58-8bd0-fff038d062f8",
   "metadata": {},
   "source": [
    "When the experiment is completed, in the `Best model summary` we can see that the highest performance was obtained by a Voting Ensemble model, which achieved 92% AUC. \n",
    "\n",
    "<img src=\"images/autoML_summary.png\" width=\"800\">"
   ]
  },
  {
   "cell_type": "markdown",
   "id": "6159734c-a22e-4ff3-9f21-c30becf5af8e",
   "metadata": {},
   "source": [
    "Also, let's select the `Models` tab to get more information about the training. We can see that 66 models were trained in total, including Random Forest, Gradient Boosting, XGBoost, and running most of the models took under 1 minute. We can also see that different scaling methods were used with different algorithms (MinMaxScaler, RobustScaler, StandardScaler).\n",
    "\n",
    "We can also select `View explanation` to see which features contributed the most to the predictions, and also other details are provided about the models. \n",
    "\n",
    "<img src=\"images/models.png\" width=\"1000\">"
   ]
  },
  {
   "cell_type": "markdown",
   "id": "d0853eb0-3828-4335-bde5-e47bd4d10b56",
   "metadata": {},
   "source": [
    "### 26.3.6 Deploying the Model <a id=\"26.3.6-deploying-the-model\"/>"
   ]
  },
  {
   "cell_type": "markdown",
   "id": "a9d08d37-eb58-4fd8-aa5d-c5cedbe02b1f",
   "metadata": {},
   "source": [
    "To deploy the model as a web service, we will select the Voting Ensemble as the best model, and from the drop-down menu under the `Deploy` tab select `Deploy to web service`. \n",
    "\n",
    "<img src=\"images/deploy.png\" width=\"800\">"
   ]
  },
  {
   "cell_type": "markdown",
   "id": "d9d56eca-cb3a-4b95-9f85-8dad1280ec95",
   "metadata": {},
   "source": [
    "In the newly opened form, we need to assign a name for the deployed model, a brief description, and compute type for the deployed model. In this case, we selected Azure Container Instance, which is suitable for low-scale CPU-based workloads, as is the model for this project. To deploy models that require large computational resources can require to select other compute type. \n",
    "\n",
    "Next, let's click on `Deploy` to initialize this step. It took about 15 minutes for this project. When it is completed, the `Deploy Status` on the dashboard will change from Running to Succeeded. \n",
    "\n",
    "<img src=\"images/deploy_form.png\" width=\"600\">"
   ]
  },
  {
   "cell_type": "markdown",
   "id": "dfca75e2-9b5b-4340-9241-ed0ca499f094",
   "metadata": {},
   "source": [
    "### 26.3.7 Consuming the Model <a id=\"26.3.7-consuming-the-model\"/>"
   ]
  },
  {
   "cell_type": "markdown",
   "id": "819d3b18-3ed7-4cac-9fbc-e418a005f33b",
   "metadata": {},
   "source": [
    "After the model is deployed, we can find the summarized information in the `Endpoints` module in the left-hand menu. \n",
    "- Select the `Consume` tab to access the script for consuming the model.\n",
    "\n",
    "<img src=\"images/endpoint.png\" width=\"800\">"
   ]
  },
  {
   "cell_type": "markdown",
   "id": "ec33efd7-96e4-40c5-b620-a9573f6e97fb",
   "metadata": {},
   "source": [
    "The opened page will provide the REST endpoint, and a script for consuming the model from a local machine. The script is available in C#, Python, and R. \n",
    "\n",
    "<img src=\"images/consume.png\" width=\"800\">"
   ]
  },
  {
   "cell_type": "markdown",
   "id": "21192331-ed2f-4b15-b4a5-f11a857e5acf",
   "metadata": {},
   "source": [
    "The Python script is shown below. The `data` section represents a dictionary where the users enter information for the input features. In this script, all values are set either to 0 or False. Then, `url` below is the address for the REST endpoint from the above figure, and `api_key` is the primary authentication key in the above figure. The last code section makes a prediction for the DEATH_EVENT, and the result is displayed."
   ]
  },
  {
   "cell_type": "markdown",
   "id": "72e925df-4252-495f-a67e-5285e51d49b8",
   "metadata": {
    "tags": []
   },
   "source": [
    "```python\n",
    "import urllib.request\n",
    "import json\n",
    "import os\n",
    "import ssl\n",
    "\n",
    "def allowSelfSignedHttps(allowed):\n",
    "    # bypass the server certificate verification on client side\n",
    "    if allowed and not os.environ.get('PYTHONHTTPSVERIFY', '') and getattr(ssl, '_create_unverified_context', None):\n",
    "        ssl._create_default_https_context = ssl._create_unverified_context\n",
    "\n",
    "allowSelfSignedHttps(True) # this line is needed if you use self-signed certificate in your scoring service.\n",
    "\n",
    "# Request data goes here\n",
    "# The example below assumes JSON formatting which may be updated\n",
    "# depending on the format your endpoint expects.\n",
    "# More information can be found here:\n",
    "# https://docs.microsoft.com/azure/machine-learning/how-to-deploy-advanced-entry-script\n",
    "data =  {\n",
    "  \"Inputs\": {\n",
    "    \"data\": [\n",
    "      {\n",
    "        \"age\": 0.0,\n",
    "        \"anaemia\": False,\n",
    "        \"creatinine_phosphokinase\": 0,\n",
    "        \"diabetes\": False,\n",
    "        \"ejection_fraction\": 0,\n",
    "        \"high_blood_pressure\": False,\n",
    "        \"platelets\": 0.0,\n",
    "        \"serum_creatinine\": 0.0,\n",
    "        \"serum_sodium\": 0,\n",
    "        \"sex\": False,\n",
    "        \"smoking\": False,\n",
    "        \"time\": 0\n",
    "      }\n",
    "    ]\n",
    "  },\n",
    "  \"GlobalParameters\": {\n",
    "    \"method\": \"predict\"\n",
    "  }\n",
    "}\n",
    "\n",
    "body = str.encode(json.dumps(data))\n",
    "\n",
    "url = 'http://a836b469-9573-4a63-bd31-90e8205ae13c.westus2.azurecontainer.io/score'\n",
    "api_key = 'QYEGDiZFpL5OECR2aZEhhNfSfYhPvgVn' # Replace this with the API key for the web service\n",
    "\n",
    "# The azureml-model-deployment header will force the request to go to a specific deployment.\n",
    "# Remove this header to have the request observe the endpoint traffic rules\n",
    "headers = {'Content-Type':'application/json', 'Authorization':('Bearer '+ api_key)}\n",
    "\n",
    "req = urllib.request.Request(url, body, headers)\n",
    "\n",
    "try:\n",
    "    response = urllib.request.urlopen(req)\n",
    "\n",
    "    result = response.read()\n",
    "    print(result)\n",
    "except urllib.error.HTTPError as error:\n",
    "    print(\"The request failed with status code: \" + str(error.code))\n",
    "\n",
    "    # Print the headers - they include the requert ID and the timestamp, which are useful for debugging the failure\n",
    "    print(error.info())\n",
    "    print(error.read().decode(\"utf8\", 'ignore'))\n",
    "```"
   ]
  },
  {
   "cell_type": "markdown",
   "id": "6bab0c7f-7da9-4722-b8a3-96942fc24c74",
   "metadata": {},
   "source": [
    "To consume the model, we just need to save the script to our local machine and execute it. The output is shown below. For this set of input parameters, the result for DEATH_EVENT is `True`.\n",
    "\n",
    "<img src=\"images/result_1.png\" width=\"800\">"
   ]
  },
  {
   "cell_type": "markdown",
   "id": "fa6466b2-cc0f-4b4b-856a-932dc99c0472",
   "metadata": {},
   "source": [
    "Let's check the model prediction for the last record in the dataset. The input features should be as follow, and the expected output is `False`. "
   ]
  },
  {
   "cell_type": "markdown",
   "id": "b7e3f594-c909-4f7d-aea8-610af578eda4",
   "metadata": {},
   "source": [
    "```python\n",
    "\"age\": 50.0,\n",
    "\"anaemia\": False,\n",
    "\"creatinine_phosphokinase\": 196,\n",
    "\"diabetes\": False,\n",
    "\"ejection_fraction\": 45,\n",
    "\"high_blood_pressure\": False,\n",
    "\"platelets\": 395000.0,\n",
    "\"serum_creatinine\": 1.6,\n",
    "\"serum_sodium\": 136,\n",
    "\"sex\": True,\n",
    "\"smoking\": True,\n",
    "\"time\": 285\n",
    "```"
   ]
  },
  {
   "cell_type": "markdown",
   "id": "9c0ad532-8d1d-475e-8227-c6a379b142b4",
   "metadata": {},
   "source": [
    "The prediction by the model is `False` as expected."
   ]
  },
  {
   "cell_type": "markdown",
   "id": "06d6ed7f-284b-4434-922f-12847f4909d6",
   "metadata": {},
   "source": [
    "<img src=\"images/result_2.png\" width=\"800\">"
   ]
  },
  {
   "cell_type": "markdown",
   "id": "389368f9",
   "metadata": {},
   "source": [
    "## References <a id=\"references\"/>\n",
    "\n",
    "1. Microsoft course - Data Science for Beginners, available at [https://github.com/microsoft/Data-Science-For-Beginners](https://github.com/microsoft/Data-Science-For-Beginners).\n",
    "2. From No-Code to Code in Azure Machine Learning, by William VanBuskirk, available at: [https://levelup.gitconnected.com/from-no-code-to-code-in-azure-machine-learning-38ee6b556de2](https://levelup.gitconnected.com/from-no-code-to-code-in-azure-machine-learning-38ee6b556de2).\n",
    "3. Creating a TensorFlow Model with Python and Azure ML Studio, by Jarek Szczegielniak, available at [https://www.codeproject.com/Articles/5321728/Python-Machine-Learning-on-Azure-Part-3-Creating-a](https://www.codeproject.com/Articles/5321728/Python-Machine-Learning-on-Azure-Part-3-Creating-a)."
   ]
  },
  {
   "cell_type": "markdown",
   "id": "3e12fc40",
   "metadata": {},
   "source": [
    "[BACK TO TOP](#top)"
   ]
  }
 ],
 "metadata": {
  "kernelspec": {
   "display_name": "Python 3 (ipykernel)",
   "language": "python",
   "name": "python3"
  },
  "language_info": {
   "codemirror_mode": {
    "name": "ipython",
    "version": 3
   },
   "file_extension": ".py",
   "mimetype": "text/x-python",
   "name": "python",
   "nbconvert_exporter": "python",
   "pygments_lexer": "ipython3",
   "version": "3.9.13"
  }
 },
 "nbformat": 4,
 "nbformat_minor": 5
}
