{
 "cells": [
  {
   "cell_type": "markdown",
   "id": "0cd5d005-15fe-42a5-ad59-154b9dbb841f",
   "metadata": {},
   "source": [
    "# Tutorial 8 - TensorFlow"
   ]
  },
  {
   "cell_type": "markdown",
   "id": "d3b0a8de-8a5b-4d05-9f11-8ae89ebbbc77",
   "metadata": {},
   "source": [
    "[![View notebook on Github](https://img.shields.io/static/v1.svg?logo=github&label=Repo&message=View%20On%20Github&color=lightgrey)](https://github.com/avakanski/Fall-2023-Python-Programming-for-Data-Science/blob/main/docs/Lectures/Theme_3-Model_Engineering/Tutorial_8-TensorFlow/Tutorial_8-TensorFlow.ipynb)\n",
    "[![Open In Collab](https://colab.research.google.com/assets/colab-badge.svg)](https://colab.research.google.com/github/avakanski/Fall-2023-Python-Programming-for-Data-Science/blob/main/docs/Lectures/Theme_3-Model_Engineering/Tutorial_8-TensorFlow/Tutorial_8-TensorFlow.ipynb)"
   ]
  },
  {
   "cell_type": "markdown",
   "id": "537e13f4-f622-4766-a5d8-1d0d4fdc17ce",
   "metadata": {},
   "source": [
    "<a id='top'></a>"
   ]
  },
  {
   "cell_type": "markdown",
   "id": "6607f8f5",
   "metadata": {},
   "source": [
    "This tutorial is adapted from a 2022 blog post on the website [Made With ML](https://madewithml.com/), by Goku Mohandas."
   ]
  },
  {
   "cell_type": "markdown",
   "id": "61624c49-1bd8-44c1-a41e-740d03aa3c19",
   "metadata": {},
   "source": [
    "We will import `TensorFlow` and `numpy` and set the seed for their random number generators for reproducibility."
   ]
  },
  {
   "cell_type": "code",
   "execution_count": 2,
   "id": "7ff53b99",
   "metadata": {},
   "outputs": [
    {
     "name": "stdout",
     "output_type": "stream",
     "text": [
      "TF version: 2.8.2\n"
     ]
    }
   ],
   "source": [
    "import numpy as np\n",
    "import tensorflow as tf \n",
    "\n",
    "tf_version = tf.__version__ \n",
    "\n",
    "print(f'TF version: {tf_version}')"
   ]
  },
  {
   "cell_type": "code",
   "execution_count": 2,
   "id": "c1384dc0",
   "metadata": {},
   "outputs": [],
   "source": [
    "SEED = 1"
   ]
  },
  {
   "cell_type": "code",
   "execution_count": 3,
   "id": "7d7ae361",
   "metadata": {},
   "outputs": [],
   "source": [
    "# Set seed for reproducability\n",
    "np.random.seed(seed=SEED)\n",
    "tf.random.set_seed(seed=SEED)"
   ]
  },
  {
   "cell_type": "markdown",
   "id": "24a1465c",
   "metadata": {},
   "source": [
    "## Basics\n",
    "\n",
    "First, we will cover some basics such as creating TensorFlow tensors and converting from common data structures to TensorFlow tensors."
   ]
  },
  {
   "cell_type": "code",
   "execution_count": 4,
   "id": "0ffa9665",
   "metadata": {},
   "outputs": [
    {
     "name": "stdout",
     "output_type": "stream",
     "text": [
      "Type: <dtype: 'float32'>\n",
      "shape: (2, 3)\n",
      "values:\n",
      "[[-1.1012203   1.5457517   0.383644  ]\n",
      " [-0.87965786 -1.2246722  -0.9811211 ]]\n"
     ]
    }
   ],
   "source": [
    "x = tf.random.normal((2, 3))\n",
    "print(f'Type: {x.dtype}')\n",
    "print(f'shape: {x.shape}')\n",
    "print(f'values:\\n{x}')"
   ]
  },
  {
   "cell_type": "code",
   "execution_count": null,
   "id": "fabb7cc0",
   "metadata": {},
   "outputs": [],
   "source": [
    "# Zeros and ones tensors\n",
    "x = tf.zeros((2, 3), dtype=tf.float64)\n",
    "print(x)\n",
    "x = tf.ones((2, 3))\n",
    "print(x)"
   ]
  },
  {
   "cell_type": "code",
   "execution_count": null,
   "id": "3a8b46a0",
   "metadata": {},
   "outputs": [],
   "source": [
    "# List => Tensor\n",
    "x = tf.constant([[1, 2, 3], \n",
    "                  [4, 5, 6]])\n",
    "\n",
    "print(f'shape: {x.shape}')\n",
    "print(f'values:\\n{x}')"
   ]
  },
  {
   "cell_type": "code",
   "execution_count": 8,
   "id": "473d17c6",
   "metadata": {},
   "outputs": [
    {
     "name": "stdout",
     "output_type": "stream",
     "text": [
      "shape: (2, 3)\n",
      "values:\n",
      "[[4.17022005e-01 7.20324493e-01 1.14374817e-04]\n",
      " [3.02332573e-01 1.46755891e-01 9.23385948e-02]]\n"
     ]
    }
   ],
   "source": [
    "# Numpy array => Tensor\n",
    "x = tf.constant(np.random.rand(2, 3))\n",
    "print(f'shape: {x.shape}')\n",
    "print(f'values:\\n{x}')"
   ]
  },
  {
   "cell_type": "markdown",
   "id": "32036e4f",
   "metadata": {},
   "source": [
    "## Operations"
   ]
  },
  {
   "cell_type": "code",
   "execution_count": 9,
   "id": "959f09ff",
   "metadata": {},
   "outputs": [
    {
     "name": "stdout",
     "output_type": "stream",
     "text": [
      "shape: (2, 3)\n",
      "values:\n",
      "[[-0.05392435 -1.4948881   0.6654824 ]\n",
      " [ 0.4435789   1.0243716   0.5050061 ]]\n"
     ]
    }
   ],
   "source": [
    "# Addition\n",
    "x = tf.random.normal((2, 3))\n",
    "y = tf.random.normal((2, 3))\n",
    "z = x + y\n",
    "print(f'shape: {z.shape}')\n",
    "print(f'values:\\n{z}')"
   ]
  },
  {
   "cell_type": "code",
   "execution_count": 10,
   "id": "36140745",
   "metadata": {},
   "outputs": [
    {
     "name": "stdout",
     "output_type": "stream",
     "text": [
      "shape: (2, 2)\n",
      "values:\n",
      "[[ 2.04325     1.1587756 ]\n",
      " [-1.8957058  -0.67201185]]\n"
     ]
    }
   ],
   "source": [
    "# Dot product\n",
    "x = tf.random.normal((2, 3))\n",
    "y = tf.random.normal((3, 2))\n",
    "z = tf.matmul(x, y)\n",
    "print(f'shape: {z.shape}')\n",
    "print(f'values:\\n{z}')"
   ]
  },
  {
   "cell_type": "code",
   "execution_count": 11,
   "id": "fefd133b",
   "metadata": {},
   "outputs": [
    {
     "name": "stdout",
     "output_type": "stream",
     "text": [
      "shape: (2, 3)\n",
      "values: \n",
      "[[-1.1771783  -0.90325946  0.8419609 ]\n",
      " [-0.06870949 -0.96161884 -0.51533026]]\n",
      "shape: (3, 2)\n",
      "values: \n",
      "[[-1.1771783  -0.06870949]\n",
      " [-0.90325946 -0.96161884]\n",
      " [ 0.8419609  -0.51533026]]\n"
     ]
    }
   ],
   "source": [
    "# Transpose\n",
    "x = tf.random.normal((2, 3))\n",
    "print(f\"shape: {x.shape}\")\n",
    "print(f\"values: \\n{x}\")\n",
    "y = tf.transpose(x)\n",
    "print(f\"shape: {y.shape}\")\n",
    "print(f\"values: \\n{y}\")"
   ]
  },
  {
   "cell_type": "code",
   "execution_count": 3,
   "id": "729b4e10",
   "metadata": {},
   "outputs": [
    {
     "name": "stdout",
     "output_type": "stream",
     "text": [
      "shape: (3, 2)\n",
      "values: \n",
      "[[ 0.73264295  0.99835527]\n",
      " [ 1.555784    1.0374023 ]\n",
      " [-0.0362004  -0.18817899]]\n"
     ]
    }
   ],
   "source": [
    "# Reshape\n",
    "x = tf.random.normal((2, 3))\n",
    "z = tf.reshape(x, (3, 2))\n",
    "print(f\"shape: {z.shape}\")\n",
    "print(f\"values: \\n{z}\")"
   ]
  },
  {
   "cell_type": "code",
   "execution_count": 14,
   "id": "1159fd04",
   "metadata": {},
   "outputs": [
    {
     "name": "stdout",
     "output_type": "stream",
     "text": [
      "shape: (2, 3, 4)\n",
      "x: \n",
      "[[[ 1  1  1  1]\n",
      "  [ 2  2  2  2]\n",
      "  [ 3  3  3  3]]\n",
      "\n",
      " [[10 10 10 10]\n",
      "  [20 20 20 20]\n",
      "  [30 30 30 30]]]\n",
      "\n",
      "\n",
      "shape: (3, 8)\n",
      "a: \n",
      "[[ 1  1  1  1  2  2  2  2]\n",
      " [ 3  3  3  3 10 10 10 10]\n",
      " [20 20 20 20 30 30 30 30]]\n",
      "\n",
      "\n",
      "shape: (3, 2, 4)\n",
      "b: \n",
      "[[[ 1  1  1  1]\n",
      "  [10 10 10 10]]\n",
      "\n",
      " [[ 2  2  2  2]\n",
      "  [20 20 20 20]]\n",
      "\n",
      " [[ 3  3  3  3]\n",
      "  [30 30 30 30]]]\n",
      "\n",
      "\n",
      "shape: (3, 8)\n",
      "c: \n",
      "[[ 1  1  1  1 10 10 10 10]\n",
      " [ 2  2  2  2 20 20 20 20]\n",
      " [ 3  3  3  3 30 30 30 30]]\n"
     ]
    }
   ],
   "source": [
    "# Dangers of reshaping (unintended consequences)\n",
    "x = tf.constant([\n",
    "    [[1,1,1,1], [2,2,2,2], [3,3,3,3]],\n",
    "    [[10,10,10,10], [20,20,20,20], [30,30,30,30]]\n",
    "])\n",
    "print(f\"shape: {x.shape}\")\n",
    "print(f\"x: \\n{x}\\n\")\n",
    "\n",
    "a = tf.reshape(x, (x.shape[1], -1))\n",
    "print(f\"\\nshape: {a.shape}\")\n",
    "print(f\"a: \\n{a}\\n\")\n",
    "\n",
    "b = tf.transpose(x, perm=[1, 0, 2])\n",
    "print(f\"\\nshape: {b.shape}\")\n",
    "print(f\"b: \\n{b}\\n\")\n",
    "\n",
    "c = tf.reshape(b, (b.shape[0], -1))\n",
    "print(f\"\\nshape: {c.shape}\")\n",
    "print(f\"c: \\n{c}\")"
   ]
  },
  {
   "cell_type": "code",
   "execution_count": 15,
   "id": "bf410eb8",
   "metadata": {},
   "outputs": [
    {
     "name": "stdout",
     "output_type": "stream",
     "text": [
      "values: \n",
      "[[ 0.9868413   0.57056284  0.17946035]\n",
      " [ 0.83900064  1.0045967  -0.0642297 ]]\n",
      "values: \n",
      "[1.8258419  1.5751595  0.11523065]\n",
      "values: \n",
      "[1.7368646 1.7793677]\n"
     ]
    }
   ],
   "source": [
    "# Dimensional operations\n",
    "x = tf.random.normal((2, 3))\n",
    "print(f\"values: \\n{x}\")\n",
    "y = tf.reduce_sum(x, axis=0) # sum over columns\n",
    "print(f\"values: \\n{y}\")\n",
    "z = tf.reduce_sum(x, axis=1) # sum over rows\n",
    "print(f\"values: \\n{z}\")"
   ]
  },
  {
   "cell_type": "markdown",
   "id": "ba97c86e",
   "metadata": {},
   "source": [
    "### Indexing\n",
    "\n",
    "Now we will look at how to extract, separate, and join values from tensors."
   ]
  },
  {
   "cell_type": "code",
   "execution_count": 18,
   "id": "f988ade1",
   "metadata": {},
   "outputs": [
    {
     "name": "stdout",
     "output_type": "stream",
     "text": [
      "x: \n",
      "[[-0.8340743  -1.0207754  -0.6342568   0.51541275]\n",
      " [-0.590669    1.6425287   0.60286343 -0.61301523]\n",
      " [ 0.6574386   0.16823037  1.4946445   0.8306155 ]]\n",
      "\n",
      "x[:1]: \n",
      "[-0.8340743  -1.0207754  -0.6342568   0.51541275]\n",
      "\n",
      "x[:1, 1:3]: \n",
      "[[-1.0207754 -0.6342568]]\n"
     ]
    }
   ],
   "source": [
    "x = tf.random.normal((3, 4))\n",
    "print (f\"x: \\n{x}\")\n",
    "print()\n",
    "print(f\"x[:1]: \\n{x[0]}\")\n",
    "print()\n",
    "print(f\"x[:1, 1:3]: \\n{x[:1, 1:3]}\")\n"
   ]
  },
  {
   "cell_type": "markdown",
   "id": "3eba1f45",
   "metadata": {},
   "source": [
    "### Slicing"
   ]
  },
  {
   "cell_type": "code",
   "execution_count": 20,
   "id": "173e9430",
   "metadata": {},
   "outputs": [
    {
     "name": "stdout",
     "output_type": "stream",
     "text": [
      "values: \n",
      "[[-0.92759573  0.06353194  0.26116046]\n",
      " [-1.4687079  -0.90832067 -0.87465733]]\n",
      "values: \n",
      "[[-0.92759573  0.26116046]\n",
      " [-1.4687079  -0.87465733]]\n",
      "values: \n",
      "[0.06353194 0.26116046]\n"
     ]
    }
   ],
   "source": [
    "# Select with dimensional indices\n",
    "x = tf.random.normal((2, 3))\n",
    "print(f\"values: \\n{x}\")\n",
    "\n",
    "col_indices = tf.constant([0, 2])\n",
    "chosen = tf.gather(x, axis=1, indices=col_indices) # values from column 0 & 2\n",
    "print(f\"values: \\n{chosen}\")\n",
    "\n",
    "row_indices = tf.constant([0, 1])\n",
    "col_indices = tf.constant([0, 2])\n",
    "chosen = tf.gather_nd(x, indices=[row_indices, col_indices]) # values from (0, 0) & (1, 2)\n",
    "print(f\"values: \\n{chosen}\")"
   ]
  },
  {
   "cell_type": "markdown",
   "id": "1dd08774",
   "metadata": {},
   "source": [
    "### Joining"
   ]
  },
  {
   "cell_type": "code",
   "execution_count": 21,
   "id": "c7df7b8f",
   "metadata": {},
   "outputs": [
    {
     "name": "stdout",
     "output_type": "stream",
     "text": [
      "Values: \n",
      "[[ 2.260564   -0.6558232  -0.46591297]\n",
      " [ 0.4690215   1.026158   -0.11631647]]\n",
      "Values: \n",
      "[[ 2.260564   -0.6558232  -0.46591297]\n",
      " [ 0.4690215   1.026158   -0.11631647]\n",
      " [ 2.260564   -0.6558232  -0.46591297]\n",
      " [ 0.4690215   1.026158   -0.11631647]]\n"
     ]
    }
   ],
   "source": [
    "# Concatenation\n",
    "x = tf.random.normal((2, 3))\n",
    "print(f\"Values: \\n{x}\")\n",
    "y = tf.concat([x, x], axis=0) # stack by rows (dim=1 to stack by columns)\n",
    "print(f\"Values: \\n{y}\")"
   ]
  },
  {
   "cell_type": "markdown",
   "id": "f7b3df83",
   "metadata": {},
   "source": [
    "### Gradients"
   ]
  },
  {
   "cell_type": "markdown",
   "id": "0da6beda",
   "metadata": {},
   "source": [
    "* $y = 3x + 2$\n",
    "* $z = \\sum{y}/N$\n",
    "* $\\frac{\\partial(z)}{\\partial(x)} = \\frac{\\partial(z)}{\\partial(y)} \\frac{\\partial(y)}{\\partial(x)} = \\frac{1}{N} * 3 = \\frac{1}{12} * 3 = 0.25$"
   ]
  },
  {
   "cell_type": "code",
   "execution_count": 22,
   "id": "6b339ed7",
   "metadata": {},
   "outputs": [
    {
     "name": "stdout",
     "output_type": "stream",
     "text": [
      "tf.Tensor(\n",
      "[[0.25 0.25 0.25 0.25]\n",
      " [0.25 0.25 0.25 0.25]\n",
      " [0.25 0.25 0.25 0.25]], shape=(3, 4), dtype=float32)\n"
     ]
    }
   ],
   "source": [
    "# Tensors with gradient book keeping\n",
    "x = tf.random.normal((3, 4))\n",
    "\n",
    "# Tensorflow needs graph context to track gradients\n",
    "with tf.GradientTape() as g:\n",
    "    g.watch(x)\n",
    "    y = 3*x + 2\n",
    "    z = tf.reduce_mean(y)\n",
    "\n",
    "dz_dx = g.gradient(z, x)\n",
    "\n",
    "print(dz_dx)"
   ]
  },
  {
   "cell_type": "markdown",
   "id": "e79797d8",
   "metadata": {},
   "source": [
    "### CUDA\n",
    "\n",
    "This section details how to check if we are able to use GPU to accelerate our machine learning or deep learning models.\n",
    "\n",
    "The Compute Unified Device Architecture or **CUDA** is a parallel computing platform and API that allows software to use certain types of GPUs for general purpose processing. It is an extension of the C and C++ programming languages.\n",
    "\n",
    "`TensorFlow` makes using the GPU quite transparent. If the GPU compatible version of TF is installed along with the proper drivers, TF will use the GPU.\n",
    "\n",
    "Although training is usually faster on the GPU, depending on model size and hardware specs, it can take quite a while to copy the model and your data to the GPU.  \n",
    "\n",
    "[Link](https://anaconda.org/anaconda/tensorflow-gpu) to metapackage for easily installing `TensorFlow` GPU using a conda 'metapackage'. This is just a special package which installs the required GPU drivers alongside TensorFlow."
   ]
  },
  {
   "cell_type": "code",
   "execution_count": 23,
   "id": "b971d492",
   "metadata": {},
   "outputs": [
    {
     "name": "stdout",
     "output_type": "stream",
     "text": [
      "False\n"
     ]
    }
   ],
   "source": [
    "# Is CUDA available?\n",
    "print(tf.test.is_built_with_cuda())"
   ]
  },
  {
   "cell_type": "code",
   "execution_count": 26,
   "id": "72b497b4",
   "metadata": {},
   "outputs": [
    {
     "name": "stdout",
     "output_type": "stream",
     "text": [
      "cpu\n"
     ]
    }
   ],
   "source": [
    "# Set device to first gpu (if available)\n",
    "device = \"/gpu:0\" if tf.test.is_built_with_cuda() else \"cpu\"\n",
    "print(device)"
   ]
  },
  {
   "cell_type": "code",
   "execution_count": 27,
   "id": "36725788",
   "metadata": {},
   "outputs": [],
   "source": [
    "with tf.device(device):\n",
    "    a = tf.constant([1, 2, 3])"
   ]
  },
  {
   "cell_type": "code",
   "execution_count": 5,
   "id": "5776a3bf",
   "metadata": {},
   "outputs": [
    {
     "data": {
      "text/plain": [
       "[name: \"/device:CPU:0\"\n",
       " device_type: \"CPU\"\n",
       " memory_limit: 268435456\n",
       " locality {\n",
       " }\n",
       " incarnation: 3513264468343507029\n",
       " xla_global_id: -1]"
      ]
     },
     "execution_count": 5,
     "metadata": {},
     "output_type": "execute_result"
    }
   ],
   "source": [
    "# Print info about local cpu/gpu devices through tensorflow library\n",
    "from tensorflow.python.client import device_lib\n",
    "\n",
    "# The most useful information is found in the first two lines of the output.\n",
    "# 1st line is name of device (cpu/gpu and number). \n",
    "# If there were 2 cpus on the device, there would be another entry in the list under name: '/device:cpu:1'\n",
    "# The second line give the memory limit in bits. \n",
    "device_lib.list_local_devices()"
   ]
  },
  {
   "cell_type": "markdown",
   "id": "d2910aa3-43ff-4edc-a0a8-f50ab6c43648",
   "metadata": {},
   "source": [
    "[BACK TO TOP](#top)"
   ]
  }
 ],
 "metadata": {
  "kernelspec": {
   "display_name": "Python 3 (ipykernel)",
   "language": "python",
   "name": "python3"
  },
  "language_info": {
   "codemirror_mode": {
    "name": "ipython",
    "version": 3
   },
   "file_extension": ".py",
   "mimetype": "text/x-python",
   "name": "python",
   "nbconvert_exporter": "python",
   "pygments_lexer": "ipython3",
   "version": "3.9.13"
  }
 },
 "nbformat": 4,
 "nbformat_minor": 5
}
