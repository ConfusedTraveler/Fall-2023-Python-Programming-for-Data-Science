{
 "cells": [
  {
   "cell_type": "markdown",
   "metadata": {},
   "source": [
    "# Lecture 14 - Ensemble Methods <a id=\"section0\"/>"
   ]
  },
  {
   "cell_type": "markdown",
   "metadata": {},
   "source": [
    "[![View notebook on Github](https://img.shields.io/static/v1.svg?logo=github&label=Repo&message=View%20On%20Github&color=lightgrey)](https://github.com/avakanski/Fall-2023-Python-Programming-for-Data-Science/blob/main/docs/Lectures/Theme_3-Model_Engineering/Lecture_14-Ensemble_Methods/Lecture_14-Ensemble_Methods.ipynb)\n",
    "[![Open In Collab](https://colab.research.google.com/assets/colab-badge.svg)](https://colab.research.google.com/github/avakanski/Fall-2023-Python-Programming-for-Data-Science/blob/main/docs/Lectures/Theme_3-Model_Engineering/Lecture_14-Ensemble_Methods/Lecture_14-Ensemble_Methods.ipynb) "
   ]
  },
  {
   "cell_type": "markdown",
   "metadata": {},
   "source": [
    "<a id='top'></a>"
   ]
  },
  {
   "cell_type": "markdown",
   "metadata": {},
   "source": [
    "- [14.1 Ensemble Methods](#14.1-ensemble-methods)\n",
    "    - [14.1.1 Loading the Dataset](#14.1.1-loading-the-dataset)\n",
    "- [14.2 Voting Ensemble](#14.2-voting-ensemble)\n",
    "- [14.3 Bagging Ensemble](#14.3-bagging-ensemble)\n",
    "- [14.4 Boosting Ensemble](#14.4-boosting-ensemble)\n",
    "    - [14.4.1 Gradient Boosting Ensemble](#14.4.1-gradient-boosting-ensemble)\n",
    "    - [14.4.2 Recent Gradient Boosting Methods: XGBoost, LightGBM, CatBoost](#14.4.2-recent-gradient-boosting-methods:-xgboost,-lightgbm,-catboost)\n",
    "        - [14.4.2.1 XGBoost (Extreme Gradient Bossting)](#14.4.2.1-xgboost-(extreme-gradient-boosting))\n",
    "        - [14.4.2.2 LightGBM (Light Gradient Boosting Machine)](#14.4.2.2-lightgbm-(light-gradient-boosting-machine))\n",
    "        - [14.4.2.3 CatBoost (Categorical Boosting)](#14.4.2.3-catboost-(categorical-boosting))\n",
    "    - [14.4.3 AdaBoost Ensemble](#14.4.3-adaboost-ensemble)\n",
    "- [14.5 Stacking Ensemble](#14.5-stacking-ensemble)\n",
    "- [References](#references)"
   ]
  },
  {
   "cell_type": "markdown",
   "metadata": {},
   "source": [
    "## 14.1 Ensemble Methods <a id=\"14.1-ensemble-methods\"/>"
   ]
  },
  {
   "cell_type": "markdown",
   "metadata": {},
   "source": [
    "**Ensemble methods** combine the predictions of several other machine learning models, where by aggregating the results of the other models trained on the same dataset, ensembles can typically achieve better performance than any individual model. The individual models are often referred to as *base models* or *base learners*. \n",
    "\n",
    "When we introduced scikit-learn we mentioned that Random Forest is example of an ensemble model, since it combines a multitude of Decision Tree models to make predictions. \n",
    "\n",
    "Ensembles are one of the most powerful Machine Learning methods, and they are often used in the winning solutions in many Machine Learning competitions. \n",
    "\n",
    "Ensemble methods can be used for different learning tasks, including classification and regression. In this lecture, we will focus on ensemble classifiers.\n",
    "\n",
    "Ensemble models are classified into four general groups:\n",
    "\n",
    "* Voting Methods: make predictions based on majority voting of the individual models.\n",
    "* Bagging Methods: train individual models on random subsets of the training data. Examples are Random Forests and Extra Trees.\n",
    "* Boosting Methods: train individual models sequentially by learning from the mistakes. Examples are Gradient Boosting, XGBoost, LightGBM, CatBoost, and AdaBoost.\n",
    "* Stacking Methods: train individual models, and use another model to aggregate their predictions. \n",
    "\n",
    "Most of the above ensemble methods are implemented in scikit-learn, except for XGBoost, LightGBM, and CatBoost."
   ]
  },
  {
   "cell_type": "markdown",
   "metadata": {},
   "source": [
    "### 14.1.1 Loading the Dataset <a id=\"14.1.1-loading-the-dataset\"/>\n",
    "\n",
    "To demonstrate the working principles of ensemble methods, we will use a dataset of electricity usage in New South Wales, Australia. In that market, electricity prices are not fixed and they are set every five minutes based on demand and supply of the market. \n",
    "\n",
    "We will train classifiers to predict whether the electricity price will go UP or DOWN the next time the price is set. \n",
    "\n",
    "The dataset contains 45,312 rows of data from May 7, 1996 to December 5, 1998. Each row of the dataset refers to a period of 30 minutes. It has information about the date and day of the week, and has other features related to electricity demand, schedule transfer, etc. \n",
    "\n",
    "Let's load the dataset `electricity_data` using pandas. "
   ]
  },
  {
   "cell_type": "code",
   "execution_count": 1,
   "metadata": {},
   "outputs": [],
   "source": [
    "import numpy as np\n",
    "import pandas as pd\n",
    "import seaborn as sns\n",
    "import sklearn\n",
    "import matplotlib.pyplot as plt\n",
    "\n",
    "# Let's hide warning messages in the cells\n",
    "import warnings\n",
    "warnings.filterwarnings('ignore')"
   ]
  },
  {
   "cell_type": "code",
   "execution_count": 2,
   "metadata": {},
   "outputs": [],
   "source": [
    "elec_df = pd.read_csv('data/electricity_data.csv')"
   ]
  },
  {
   "cell_type": "markdown",
   "metadata": {},
   "source": [
    "Let's inspect the dataset. The `date` column does not show the actual date correctly, but we will use it as is, because the date has already been encoded into an adequate numerical format.\n",
    "\n",
    "The `class` column contains the target labels for the classification task, where we would like to predict whether the electricity price will go UP or DOWN."
   ]
  },
  {
   "cell_type": "code",
   "execution_count": 3,
   "metadata": {},
   "outputs": [
    {
     "data": {
      "text/html": [
       "<div>\n",
       "<style scoped>\n",
       "    .dataframe tbody tr th:only-of-type {\n",
       "        vertical-align: middle;\n",
       "    }\n",
       "\n",
       "    .dataframe tbody tr th {\n",
       "        vertical-align: top;\n",
       "    }\n",
       "\n",
       "    .dataframe thead th {\n",
       "        text-align: right;\n",
       "    }\n",
       "</style>\n",
       "<table border=\"1\" class=\"dataframe\">\n",
       "  <thead>\n",
       "    <tr style=\"text-align: right;\">\n",
       "      <th></th>\n",
       "      <th>date</th>\n",
       "      <th>day</th>\n",
       "      <th>period</th>\n",
       "      <th>nswprice</th>\n",
       "      <th>nswdemand</th>\n",
       "      <th>vicprice</th>\n",
       "      <th>vicdemand</th>\n",
       "      <th>transfer</th>\n",
       "      <th>class</th>\n",
       "    </tr>\n",
       "  </thead>\n",
       "  <tbody>\n",
       "    <tr>\n",
       "      <th>0</th>\n",
       "      <td>0.0</td>\n",
       "      <td>2</td>\n",
       "      <td>0.000000</td>\n",
       "      <td>0.056443</td>\n",
       "      <td>0.439155</td>\n",
       "      <td>0.003467</td>\n",
       "      <td>0.422915</td>\n",
       "      <td>0.414912</td>\n",
       "      <td>UP</td>\n",
       "    </tr>\n",
       "    <tr>\n",
       "      <th>1</th>\n",
       "      <td>0.0</td>\n",
       "      <td>2</td>\n",
       "      <td>0.021277</td>\n",
       "      <td>0.051699</td>\n",
       "      <td>0.415055</td>\n",
       "      <td>0.003467</td>\n",
       "      <td>0.422915</td>\n",
       "      <td>0.414912</td>\n",
       "      <td>UP</td>\n",
       "    </tr>\n",
       "    <tr>\n",
       "      <th>2</th>\n",
       "      <td>0.0</td>\n",
       "      <td>2</td>\n",
       "      <td>0.042553</td>\n",
       "      <td>0.051489</td>\n",
       "      <td>0.385004</td>\n",
       "      <td>0.003467</td>\n",
       "      <td>0.422915</td>\n",
       "      <td>0.414912</td>\n",
       "      <td>UP</td>\n",
       "    </tr>\n",
       "    <tr>\n",
       "      <th>3</th>\n",
       "      <td>0.0</td>\n",
       "      <td>2</td>\n",
       "      <td>0.063830</td>\n",
       "      <td>0.045485</td>\n",
       "      <td>0.314639</td>\n",
       "      <td>0.003467</td>\n",
       "      <td>0.422915</td>\n",
       "      <td>0.414912</td>\n",
       "      <td>UP</td>\n",
       "    </tr>\n",
       "    <tr>\n",
       "      <th>4</th>\n",
       "      <td>0.0</td>\n",
       "      <td>2</td>\n",
       "      <td>0.085106</td>\n",
       "      <td>0.042482</td>\n",
       "      <td>0.251116</td>\n",
       "      <td>0.003467</td>\n",
       "      <td>0.422915</td>\n",
       "      <td>0.414912</td>\n",
       "      <td>DOWN</td>\n",
       "    </tr>\n",
       "    <tr>\n",
       "      <th>5</th>\n",
       "      <td>0.0</td>\n",
       "      <td>2</td>\n",
       "      <td>0.106383</td>\n",
       "      <td>0.041161</td>\n",
       "      <td>0.207528</td>\n",
       "      <td>0.003467</td>\n",
       "      <td>0.422915</td>\n",
       "      <td>0.414912</td>\n",
       "      <td>DOWN</td>\n",
       "    </tr>\n",
       "    <tr>\n",
       "      <th>6</th>\n",
       "      <td>0.0</td>\n",
       "      <td>2</td>\n",
       "      <td>0.127660</td>\n",
       "      <td>0.041161</td>\n",
       "      <td>0.171824</td>\n",
       "      <td>0.003467</td>\n",
       "      <td>0.422915</td>\n",
       "      <td>0.414912</td>\n",
       "      <td>DOWN</td>\n",
       "    </tr>\n",
       "    <tr>\n",
       "      <th>7</th>\n",
       "      <td>0.0</td>\n",
       "      <td>2</td>\n",
       "      <td>0.148936</td>\n",
       "      <td>0.041161</td>\n",
       "      <td>0.152782</td>\n",
       "      <td>0.003467</td>\n",
       "      <td>0.422915</td>\n",
       "      <td>0.414912</td>\n",
       "      <td>DOWN</td>\n",
       "    </tr>\n",
       "    <tr>\n",
       "      <th>8</th>\n",
       "      <td>0.0</td>\n",
       "      <td>2</td>\n",
       "      <td>0.170213</td>\n",
       "      <td>0.041161</td>\n",
       "      <td>0.134930</td>\n",
       "      <td>0.003467</td>\n",
       "      <td>0.422915</td>\n",
       "      <td>0.414912</td>\n",
       "      <td>DOWN</td>\n",
       "    </tr>\n",
       "    <tr>\n",
       "      <th>9</th>\n",
       "      <td>0.0</td>\n",
       "      <td>2</td>\n",
       "      <td>0.191489</td>\n",
       "      <td>0.041161</td>\n",
       "      <td>0.140583</td>\n",
       "      <td>0.003467</td>\n",
       "      <td>0.422915</td>\n",
       "      <td>0.414912</td>\n",
       "      <td>DOWN</td>\n",
       "    </tr>\n",
       "  </tbody>\n",
       "</table>\n",
       "</div>"
      ],
      "text/plain": [
       "   date  day    period  nswprice  nswdemand  vicprice  vicdemand  transfer  \\\n",
       "0   0.0    2  0.000000  0.056443   0.439155  0.003467   0.422915  0.414912   \n",
       "1   0.0    2  0.021277  0.051699   0.415055  0.003467   0.422915  0.414912   \n",
       "2   0.0    2  0.042553  0.051489   0.385004  0.003467   0.422915  0.414912   \n",
       "3   0.0    2  0.063830  0.045485   0.314639  0.003467   0.422915  0.414912   \n",
       "4   0.0    2  0.085106  0.042482   0.251116  0.003467   0.422915  0.414912   \n",
       "5   0.0    2  0.106383  0.041161   0.207528  0.003467   0.422915  0.414912   \n",
       "6   0.0    2  0.127660  0.041161   0.171824  0.003467   0.422915  0.414912   \n",
       "7   0.0    2  0.148936  0.041161   0.152782  0.003467   0.422915  0.414912   \n",
       "8   0.0    2  0.170213  0.041161   0.134930  0.003467   0.422915  0.414912   \n",
       "9   0.0    2  0.191489  0.041161   0.140583  0.003467   0.422915  0.414912   \n",
       "\n",
       "  class  \n",
       "0    UP  \n",
       "1    UP  \n",
       "2    UP  \n",
       "3    UP  \n",
       "4  DOWN  \n",
       "5  DOWN  \n",
       "6  DOWN  \n",
       "7  DOWN  \n",
       "8  DOWN  \n",
       "9  DOWN  "
      ]
     },
     "execution_count": 3,
     "metadata": {},
     "output_type": "execute_result"
    }
   ],
   "source": [
    "elec_df.head(10)"
   ]
  },
  {
   "cell_type": "markdown",
   "metadata": {},
   "source": [
    "#### Exploratory Data Analysis"
   ]
  },
  {
   "cell_type": "code",
   "execution_count": 4,
   "metadata": {},
   "outputs": [
    {
     "name": "stdout",
     "output_type": "stream",
     "text": [
      "<class 'pandas.core.frame.DataFrame'>\n",
      "RangeIndex: 45312 entries, 0 to 45311\n",
      "Data columns (total 9 columns):\n",
      " #   Column     Non-Null Count  Dtype  \n",
      "---  ------     --------------  -----  \n",
      " 0   date       45312 non-null  float64\n",
      " 1   day        45312 non-null  int64  \n",
      " 2   period     45312 non-null  float64\n",
      " 3   nswprice   45312 non-null  float64\n",
      " 4   nswdemand  45312 non-null  float64\n",
      " 5   vicprice   45312 non-null  float64\n",
      " 6   vicdemand  45312 non-null  float64\n",
      " 7   transfer   45312 non-null  float64\n",
      " 8   class      45312 non-null  object \n",
      "dtypes: float64(7), int64(1), object(1)\n",
      "memory usage: 3.1+ MB\n"
     ]
    }
   ],
   "source": [
    "elec_df.info()"
   ]
  },
  {
   "cell_type": "markdown",
   "metadata": {},
   "source": [
    "From the summary statistics below, we can tell that the maximum value in each column is 1 and the minimum is 0, meaning that the features are already normalized, so we don't need to apply data scaling. This does not apply to the `day` column that has values between 1 and 7 (i.e., Monday to Sunday), but we can leave that column as is. "
   ]
  },
  {
   "cell_type": "code",
   "execution_count": 5,
   "metadata": {},
   "outputs": [
    {
     "data": {
      "text/html": [
       "<div>\n",
       "<style scoped>\n",
       "    .dataframe tbody tr th:only-of-type {\n",
       "        vertical-align: middle;\n",
       "    }\n",
       "\n",
       "    .dataframe tbody tr th {\n",
       "        vertical-align: top;\n",
       "    }\n",
       "\n",
       "    .dataframe thead th {\n",
       "        text-align: right;\n",
       "    }\n",
       "</style>\n",
       "<table border=\"1\" class=\"dataframe\">\n",
       "  <thead>\n",
       "    <tr style=\"text-align: right;\">\n",
       "      <th></th>\n",
       "      <th>date</th>\n",
       "      <th>day</th>\n",
       "      <th>period</th>\n",
       "      <th>nswprice</th>\n",
       "      <th>nswdemand</th>\n",
       "      <th>vicprice</th>\n",
       "      <th>vicdemand</th>\n",
       "      <th>transfer</th>\n",
       "    </tr>\n",
       "  </thead>\n",
       "  <tbody>\n",
       "    <tr>\n",
       "      <th>count</th>\n",
       "      <td>45312.000000</td>\n",
       "      <td>45312.000000</td>\n",
       "      <td>45312.000000</td>\n",
       "      <td>45312.000000</td>\n",
       "      <td>45312.000000</td>\n",
       "      <td>45312.000000</td>\n",
       "      <td>45312.000000</td>\n",
       "      <td>45312.000000</td>\n",
       "    </tr>\n",
       "    <tr>\n",
       "      <th>mean</th>\n",
       "      <td>0.499080</td>\n",
       "      <td>4.003178</td>\n",
       "      <td>0.500000</td>\n",
       "      <td>0.057868</td>\n",
       "      <td>0.425418</td>\n",
       "      <td>0.003467</td>\n",
       "      <td>0.422915</td>\n",
       "      <td>0.500526</td>\n",
       "    </tr>\n",
       "    <tr>\n",
       "      <th>std</th>\n",
       "      <td>0.340308</td>\n",
       "      <td>1.998695</td>\n",
       "      <td>0.294756</td>\n",
       "      <td>0.039991</td>\n",
       "      <td>0.163323</td>\n",
       "      <td>0.010213</td>\n",
       "      <td>0.120965</td>\n",
       "      <td>0.153373</td>\n",
       "    </tr>\n",
       "    <tr>\n",
       "      <th>min</th>\n",
       "      <td>0.000000</td>\n",
       "      <td>1.000000</td>\n",
       "      <td>0.000000</td>\n",
       "      <td>0.000000</td>\n",
       "      <td>0.000000</td>\n",
       "      <td>0.000000</td>\n",
       "      <td>0.000000</td>\n",
       "      <td>0.000000</td>\n",
       "    </tr>\n",
       "    <tr>\n",
       "      <th>25%</th>\n",
       "      <td>0.031934</td>\n",
       "      <td>2.000000</td>\n",
       "      <td>0.250000</td>\n",
       "      <td>0.035127</td>\n",
       "      <td>0.309134</td>\n",
       "      <td>0.002277</td>\n",
       "      <td>0.372346</td>\n",
       "      <td>0.414912</td>\n",
       "    </tr>\n",
       "    <tr>\n",
       "      <th>50%</th>\n",
       "      <td>0.456329</td>\n",
       "      <td>4.000000</td>\n",
       "      <td>0.500000</td>\n",
       "      <td>0.048652</td>\n",
       "      <td>0.443693</td>\n",
       "      <td>0.003467</td>\n",
       "      <td>0.422915</td>\n",
       "      <td>0.414912</td>\n",
       "    </tr>\n",
       "    <tr>\n",
       "      <th>75%</th>\n",
       "      <td>0.880547</td>\n",
       "      <td>6.000000</td>\n",
       "      <td>0.750000</td>\n",
       "      <td>0.074336</td>\n",
       "      <td>0.536001</td>\n",
       "      <td>0.003467</td>\n",
       "      <td>0.469252</td>\n",
       "      <td>0.605702</td>\n",
       "    </tr>\n",
       "    <tr>\n",
       "      <th>max</th>\n",
       "      <td>1.000000</td>\n",
       "      <td>7.000000</td>\n",
       "      <td>1.000000</td>\n",
       "      <td>1.000000</td>\n",
       "      <td>1.000000</td>\n",
       "      <td>1.000000</td>\n",
       "      <td>1.000000</td>\n",
       "      <td>1.000000</td>\n",
       "    </tr>\n",
       "  </tbody>\n",
       "</table>\n",
       "</div>"
      ],
      "text/plain": [
       "               date           day        period      nswprice     nswdemand  \\\n",
       "count  45312.000000  45312.000000  45312.000000  45312.000000  45312.000000   \n",
       "mean       0.499080      4.003178      0.500000      0.057868      0.425418   \n",
       "std        0.340308      1.998695      0.294756      0.039991      0.163323   \n",
       "min        0.000000      1.000000      0.000000      0.000000      0.000000   \n",
       "25%        0.031934      2.000000      0.250000      0.035127      0.309134   \n",
       "50%        0.456329      4.000000      0.500000      0.048652      0.443693   \n",
       "75%        0.880547      6.000000      0.750000      0.074336      0.536001   \n",
       "max        1.000000      7.000000      1.000000      1.000000      1.000000   \n",
       "\n",
       "           vicprice     vicdemand      transfer  \n",
       "count  45312.000000  45312.000000  45312.000000  \n",
       "mean       0.003467      0.422915      0.500526  \n",
       "std        0.010213      0.120965      0.153373  \n",
       "min        0.000000      0.000000      0.000000  \n",
       "25%        0.002277      0.372346      0.414912  \n",
       "50%        0.003467      0.422915      0.414912  \n",
       "75%        0.003467      0.469252      0.605702  \n",
       "max        1.000000      1.000000      1.000000  "
      ]
     },
     "execution_count": 5,
     "metadata": {},
     "output_type": "execute_result"
    }
   ],
   "source": [
    "# summary statistics\n",
    "elec_df.describe()"
   ]
  },
  {
   "cell_type": "code",
   "execution_count": 6,
   "metadata": {},
   "outputs": [
    {
     "data": {
      "text/plain": [
       "date         0\n",
       "day          0\n",
       "period       0\n",
       "nswprice     0\n",
       "nswdemand    0\n",
       "vicprice     0\n",
       "vicdemand    0\n",
       "transfer     0\n",
       "class        0\n",
       "dtype: int64"
      ]
     },
     "execution_count": 6,
     "metadata": {},
     "output_type": "execute_result"
    }
   ],
   "source": [
    "# Checking missing values\n",
    "elec_df.isnull().sum()"
   ]
  },
  {
   "cell_type": "markdown",
   "metadata": {},
   "source": [
    "Let's see how many UPs and DOWNs are in the `class` column."
   ]
  },
  {
   "cell_type": "code",
   "execution_count": 7,
   "metadata": {},
   "outputs": [
    {
     "data": {
      "text/plain": [
       "<AxesSubplot:xlabel='class', ylabel='count'>"
      ]
     },
     "execution_count": 7,
     "metadata": {},
     "output_type": "execute_result"
    },
    {
     "data": {
      "image/png": "[encoded data removed]",
      "text/plain": [
       "<Figure size 1200x700 with 1 Axes>"
      ]
     },
     "metadata": {},
     "output_type": "display_data"
    }
   ],
   "source": [
    "plt.figure(figsize=(12,7))\n",
    "sns.countplot(data=elec_df, x='class')"
   ]
  },
  {
   "cell_type": "markdown",
   "metadata": {},
   "source": [
    "Let's also inspect the UPs and DOWNs of the electricity price for each day of the week. "
   ]
  },
  {
   "cell_type": "code",
   "execution_count": 8,
   "metadata": {},
   "outputs": [
    {
     "data": {
      "image/png": "[encoded data removed]",
      "text/plain": [
       "<Figure size 1300x800 with 1 Axes>"
      ]
     },
     "metadata": {},
     "output_type": "display_data"
    }
   ],
   "source": [
    "plt.figure(figsize=(13,8))\n",
    "sns.countplot(data=elec_df, x='day', hue='class')\n",
    "plt.show()"
   ]
  },
  {
   "cell_type": "markdown",
   "metadata": {},
   "source": [
    "We can also plot all histograms of the numerical features, and quickly check the plots."
   ]
  },
  {
   "cell_type": "code",
   "execution_count": 9,
   "metadata": {},
   "outputs": [
    {
     "data": {
      "image/png": "[encoded data removed]",
      "text/plain": [
       "<Figure size 1500x1000 with 9 Axes>"
      ]
     },
     "metadata": {},
     "output_type": "display_data"
    }
   ],
   "source": [
    "elec_df.hist(bins=50, figsize=(15,10))\n",
    "plt.show()"
   ]
  },
  {
   "cell_type": "markdown",
   "metadata": {},
   "source": [
    "#### Data Preprocessing \n",
    "\n",
    "We will assign the data to the variable `X` and the targets (the column `class`) to `y`.\n",
    "\n",
    "Recall again from the lecture on Data Exploration and Preprocessing that if the dataset contained an `index` column it would be important to remove that column from the training dataset `X`, to avoid associating the target labels with the indices of the rows by the model. This dataset does not have an `index` column, therefore we don't need to worry about that. "
   ]
  },
  {
   "cell_type": "code",
   "execution_count": 10,
   "metadata": {},
   "outputs": [],
   "source": [
    "X = elec_df.drop('class', axis=1)\n",
    "y = elec_df['class']"
   ]
  },
  {
   "cell_type": "markdown",
   "metadata": {},
   "source": [
    "Since the target feature `class` is categorical, let's encode it to numerical values using Label Encoder. "
   ]
  },
  {
   "cell_type": "code",
   "execution_count": 11,
   "metadata": {},
   "outputs": [],
   "source": [
    "from sklearn.preprocessing import LabelEncoder\n",
    "\n",
    "label_enc = LabelEncoder()\n",
    "y = label_enc.fit_transform(y)"
   ]
  },
  {
   "cell_type": "code",
   "execution_count": 12,
   "metadata": {},
   "outputs": [
    {
     "data": {
      "text/plain": [
       "array([1, 1, 1, ..., 0, 1, 0])"
      ]
     },
     "execution_count": 12,
     "metadata": {},
     "output_type": "execute_result"
    }
   ],
   "source": [
    "y"
   ]
  },
  {
   "cell_type": "markdown",
   "metadata": {},
   "source": [
    "And let's split the data into training and test sets. "
   ]
  },
  {
   "cell_type": "code",
   "execution_count": 13,
   "metadata": {},
   "outputs": [],
   "source": [
    "from sklearn.model_selection import train_test_split\n",
    "\n",
    "X_train, X_test, y_train, y_test = train_test_split(X, y, test_size=0.25, random_state=20)"
   ]
  },
  {
   "cell_type": "code",
   "execution_count": 14,
   "metadata": {},
   "outputs": [
    {
     "name": "stdout",
     "output_type": "stream",
     "text": [
      "Training data inputs (33984, 8)\n",
      "Training labels (33984,)\n",
      "Testing data inputs (11328, 8)\n",
      "Testing labels (11328,)\n"
     ]
    }
   ],
   "source": [
    "print('Training data inputs', X_train.shape)\n",
    "print('Training labels', y_train.shape)\n",
    "print('Testing data inputs', X_test.shape)\n",
    "print('Testing labels', y_test.shape)"
   ]
  },
  {
   "cell_type": "markdown",
   "metadata": {},
   "source": [
    "As we mentioned previously, the data values are already scaled to the range [0, 1], therefore we don't need to apply feature scaling. If that was not the case, we would have applied one of the Scaler functions in scikit-learn."
   ]
  },
  {
   "cell_type": "markdown",
   "metadata": {},
   "source": [
    "## 14.2 Voting Ensemble <a id=\"14.2-voting-ensemble\"/>\n",
    "\n",
    "**Voting ensemble** is the simplest ensemble technique, which aggregates the predictions of several individual classifiers and assigns the predicted class labels based on the majority votes of the single classifiers. \n",
    "\n",
    "For example, if we have a dataset with two classes A and B, and we train three classifiers. Then, for one particular test sample:\n",
    "\n",
    "- Classifier 1 predicts class A\n",
    "- Classifier 2 predicts class B\n",
    "- Classifier 3 predicts class B\n",
    "- Ensemble majority voting is: class B (2 votes), class A (1 vote). The prediction by the Ensemble Method is: class B.\n",
    "\n",
    "Let's first train 3 classifiers on the training data for `electricity_data`, including: Logistic Regression, Support Vector Machines, and SGD. Afterward, we will apply a voting ensemble that uses their results to make predictions. "
   ]
  },
  {
   "cell_type": "code",
   "execution_count": 15,
   "metadata": {},
   "outputs": [
    {
     "name": "stdout",
     "output_type": "stream",
     "text": [
      "Logistic Regression accuracy is 75.5120 %\n"
     ]
    }
   ],
   "source": [
    "from sklearn.linear_model import LogisticRegression\n",
    "from sklearn.metrics import accuracy_score\n",
    "\n",
    "lr_model = LogisticRegression()\n",
    "\n",
    "# train\n",
    "lr_model.fit(X_train, y_train)\n",
    "\n",
    "# evaluate\n",
    "lr_preds = lr_model.predict(X_test)\n",
    "lr_acc = accuracy_score(y_test, lr_preds)\n",
    "print('Logistic Regression accuracy is {0:7.4f} %'.format(lr_acc*100))"
   ]
  },
  {
   "cell_type": "code",
   "execution_count": 16,
   "metadata": {},
   "outputs": [
    {
     "name": "stdout",
     "output_type": "stream",
     "text": [
      "SVM accuracy is 73.6935 %\n"
     ]
    }
   ],
   "source": [
    "from sklearn.svm import SVC\n",
    "\n",
    "svm_model = SVC(random_state=1)\n",
    "\n",
    "# train\n",
    "svm_model.fit(X_train, y_train)\n",
    "\n",
    "# evaluate\n",
    "svm_preds = svm_model.predict(X_test)\n",
    "svm_acc = accuracy_score(y_test, svm_preds)\n",
    "print('SVM accuracy is {0:7.4f} %'.format(svm_acc*100))"
   ]
  },
  {
   "cell_type": "code",
   "execution_count": 17,
   "metadata": {},
   "outputs": [
    {
     "name": "stdout",
     "output_type": "stream",
     "text": [
      "SGD accuracy is 75.3708 %\n"
     ]
    }
   ],
   "source": [
    "from sklearn.linear_model import SGDClassifier\n",
    "\n",
    "sgd_model = SGDClassifier(random_state=1)\n",
    "\n",
    "# train\n",
    "sgd_model.fit(X_train, y_train)\n",
    "\n",
    "# evaluate\n",
    "sgd_preds = sgd_model.predict(X_test)\n",
    "sgd_acc = accuracy_score(y_test, sgd_preds)\n",
    "print('SGD accuracy is {0:7.4f} %'.format(sgd_acc*100))"
   ]
  },
  {
   "cell_type": "code",
   "execution_count": 18,
   "metadata": {},
   "outputs": [
    {
     "name": "stdout",
     "output_type": "stream",
     "text": [
      "Accuracy: Logistic Regression 75.5120; SVM 73.6935; SGD 75.3708\n"
     ]
    }
   ],
   "source": [
    "print('Accuracy: Logistic Regression {0:7.4f}; SVM {1:7.4f}; SGD {2:7.4f}'.format(lr_acc*100, svm_acc*100, sgd_acc*100))"
   ]
  },
  {
   "cell_type": "markdown",
   "metadata": {},
   "source": [
    "In scikit-learn we will import `Voting Classifier` to aggregate the results of those 3 classifiers. In the cell below, the models are listed in the `estimators` argument of the `Voting Classifier`, and afterward the `Voting Classifier` model is fit on the training data. The voting argument `hard` means that the ensemble algorithm uses the predicted class labels for majority voting."
   ]
  },
  {
   "cell_type": "code",
   "execution_count": 19,
   "metadata": {},
   "outputs": [
    {
     "data": {
      "text/plain": [
       "VotingClassifier(estimators=[('log_reg', LogisticRegression()),\n",
       "                             ('svc', SVC(random_state=1)),\n",
       "                             ('sgd', SGDClassifier(random_state=1))])"
      ]
     },
     "execution_count": 19,
     "metadata": {},
     "output_type": "execute_result"
    }
   ],
   "source": [
    "from sklearn.ensemble import VotingClassifier\n",
    "\n",
    "voting_classifier = VotingClassifier(\n",
    "    \n",
    "    estimators=[('log_reg', lr_model),\n",
    "                ('svc', svm_model),\n",
    "                ('sgd', sgd_model)], \n",
    "    voting='hard')\n",
    "\n",
    "voting_classifier.fit(X_train, y_train)"
   ]
  },
  {
   "cell_type": "code",
   "execution_count": 20,
   "metadata": {},
   "outputs": [
    {
     "name": "stdout",
     "output_type": "stream",
     "text": [
      "Voting Ensemble accuracy is 75.6356 %\n"
     ]
    }
   ],
   "source": [
    "# evaluate\n",
    "voting_preds = voting_classifier.predict(X_test)\n",
    "voting_acc = accuracy_score(y_test, voting_preds)\n",
    "print('Voting Ensemble accuracy is {0:7.4f} %'.format(voting_acc*100))"
   ]
  },
  {
   "cell_type": "markdown",
   "metadata": {},
   "source": [
    "The Voting Ensemble achieved slightly higher accuracy than the three models. \n",
    "\n",
    "Beside `hard` voting, another alternative for the voting ensemble classifier is to change the argument to `voting='soft'`. In this case, the decision by the ensemble is made based on the average of the predicted class with the highest probabilities of all individual classifiers. \n",
    "\n",
    "Example of soft voting:\n",
    "\n",
    "- Classifier 1 predicts class A with probability 90%, class B with probability 10%\n",
    "- Classifier 2 predicts class A with probability 45%, class B with probability 55%\n",
    "- Classifier 3 predicts class A with probability 45%, class B with probability 55%\n",
    "- Ensemble probabilities: class A ((90% + 45% + 45%) / 3 = 60%), class B ((10% + 55% + 55%) / 3 = 40%). Prediction: class A.\n",
    "\n",
    "Note in the above example that if hard voting based on the class labels was applied, the prediction would have been class B, because both Classifiers 2 and 3 predicted higher probabilities for class B.\n",
    "\n",
    "Soft voting generally achieves better performance than hard voting, because it assigns higher weight to the predictions  with high confidence by the individual models.\n",
    "\n",
    "In the cell below, to apply soft voting with SVC we need to change the argument `probability=True`, as well as this approach requires to modify the outputs of the SGD model, and instead of SGD we will use a k-Nearest Neighbors model."
   ]
  },
  {
   "cell_type": "code",
   "execution_count": 21,
   "metadata": {},
   "outputs": [
    {
     "data": {
      "text/plain": [
       "VotingClassifier(estimators=[('log_reg', LogisticRegression()),\n",
       "                             ('svc', SVC(gamma='auto', probability=True)),\n",
       "                             ('knn', KNeighborsClassifier())],\n",
       "                 voting='soft')"
      ]
     },
     "execution_count": 21,
     "metadata": {},
     "output_type": "execute_result"
    }
   ],
   "source": [
    "from sklearn import neighbors\n",
    "\n",
    "knn_model = neighbors.KNeighborsClassifier()\n",
    "svm_classifier = SVC(gamma=\"auto\", probability=True)\n",
    "\n",
    "voting_classifier_soft = VotingClassifier(\n",
    "    \n",
    "    estimators=[('log_reg', lr_model),\n",
    "                ('svc', svm_classifier),\n",
    "                 ('knn', knn_model)], \n",
    "     voting='soft')\n",
    "\n",
    "voting_classifier_soft.fit(X_train, y_train)"
   ]
  },
  {
   "cell_type": "code",
   "execution_count": 22,
   "metadata": {},
   "outputs": [
    {
     "name": "stdout",
     "output_type": "stream",
     "text": [
      "Voting Ensemble accuracy is 80.8086 %\n"
     ]
    }
   ],
   "source": [
    "# evaluate\n",
    "voting_preds = voting_classifier_soft.predict(X_test)\n",
    "voting_acc = accuracy_score(y_test, voting_preds)\n",
    "print('Voting Ensemble accuracy is {0:7.4f} %'.format(voting_acc*100))"
   ]
  },
  {
   "cell_type": "markdown",
   "metadata": {},
   "source": [
    "Ensemble Methods are generally well performing. Even in the cases when the individual models are *weak learners* (which means that they predict slightly better than random guessing), ensemble learning can result in a *strong learner* (meaning that it has high prediction accuracy), as long as a large number of diverse individual models are used. \n",
    "\n",
    "In general, ensemble methods produce the best results when the individual models are independent of each other, e.g., they use different types of learning algorithms. This way, the individual models can produce diverse results, which can increase the chance that the ensembling will be more successful. Conversely, if the individual models use the same learning algorithm, they will probably make the same type of errors, which will reduce the accuracy when an ensemble method is used. \n",
    "\n",
    "Diversity in individual learners can be achieved by selecting models that use different learning algorithms, or by training models on different subsets of the training data, or different data features, etc. Also, many ensemble methods employ Decision Trees as individual models, where diversity can be achieved by varying the strategies for trees spliting, by varying the different hyperparameters, or by using the techniques based on data diversity, feature diversity, and other techniques. Specific approaches are explained text. "
   ]
  },
  {
   "cell_type": "markdown",
   "metadata": {},
   "source": [
    "## 14.3 Bagging Ensemble <a id=\"14.3-bagging-ensemble\"/>"
   ]
  },
  {
   "cell_type": "markdown",
   "metadata": {},
   "source": [
    "As we mentioned, one way to create diverse base models is to train them on different portions of the training data. Hence, instead of training different models on the same data and averaging their results with a Voting Ensemble, **Bagging Ensemble** method trains the base models on different subsets of the training data and aggregates the results. \n",
    "\n",
    "The term **bagging** is short for *bootstrap aggregating*, where bootstrapping refers to sampling subsets from the training data with replacement. In other words, the subsets of the training data used by different models can contain the same data points. When the subsets are sampled without replacement, it is called *pasting*.\n",
    "\n",
    "The aggregation of the predictions by the individual models is typically based on the most frequent prediction, similar to hard voting. The individual models used with bagging are typically Decision Trees.\n",
    "\n",
    "In scikit-learn we can import a Bagging Classifier, and fit it to the training data as any other model. Let's use bagging to train  Decision Trees on different subsets of the data and then average the predictions. In the cell below, `max_samples=0.5` means that each model will use a random subset containing 50% of the training data, and `max_features=0.5` means that each model will use a random subset of 50% of the input features. If bootstrap is `True` the training samples will be sampled with replacement, and if it is `False` there is no replacement (i.e., pasting). "
   ]
  },
  {
   "cell_type": "code",
   "execution_count": 23,
   "metadata": {},
   "outputs": [
    {
     "data": {
      "text/plain": [
       "BaggingClassifier(base_estimator=DecisionTreeClassifier(class_weight='balanced'),\n",
       "                  max_features=0.5, max_samples=0.5)"
      ]
     },
     "execution_count": 23,
     "metadata": {},
     "output_type": "execute_result"
    }
   ],
   "source": [
    "from sklearn.ensemble import BaggingClassifier\n",
    "from sklearn.tree import DecisionTreeClassifier\n",
    "\n",
    "bagging_classifier = BaggingClassifier(\n",
    "      DecisionTreeClassifier(class_weight='balanced'),\n",
    "    max_samples=0.5, max_features=0.5, bootstrap=True\n",
    ")\n",
    "\n",
    "bagging_classifier.fit(X_train, y_train)"
   ]
  },
  {
   "cell_type": "code",
   "execution_count": 24,
   "metadata": {},
   "outputs": [
    {
     "name": "stdout",
     "output_type": "stream",
     "text": [
      "Bagging Ensemble accuracy is 84.1278 %\n"
     ]
    }
   ],
   "source": [
    "# evaluate\n",
    "bagging_preds = bagging_classifier.predict(X_test)\n",
    "bagging_acc = accuracy_score(y_test, bagging_preds)\n",
    "print('Bagging Ensemble accuracy is {0:7.4f} %'.format(bagging_acc*100))"
   ]
  },
  {
   "cell_type": "markdown",
   "metadata": {},
   "source": [
    "Bagging Ensembles often outperform Voting Ensembles, and they can decrease the overfitting of Decision Trees (which tend to overfit easily). As well as, Bagging Ensembles can be trained in parallel using different CPU cores, which can reduce the processing time.  \n",
    "\n",
    "Random Forest can be considered a Bagging Ensemble with the `max_samples` set to 1, that is, it uses the entire training set to train the based learners."
   ]
  },
  {
   "cell_type": "markdown",
   "metadata": {},
   "source": [
    "## 14.4 Boosting Ensemble <a id=\"14.4-boosting-ensemble\"/>"
   ]
  },
  {
   "cell_type": "markdown",
   "metadata": {},
   "source": [
    "**Boosting Ensemble** trains the individual models sequentially, where each next model has access to the predictions of the previous models and attempts to improve the performance. The term *boosting* refers to incremental improvement by reducing the errors of the predecessors, in order to gradually improve the performance.\n",
    "\n",
    "The most popular boosting ensembles are Gradient Boosting, XGBoost, LightGBM, CatBoost, and AdaBoost. "
   ]
  },
  {
   "cell_type": "markdown",
   "metadata": {},
   "source": [
    "### 14.4.1 Gradient Boosting Ensemble <a id=\"14.4.1-gradient-boosting-ensemble\"/>"
   ]
  },
  {
   "cell_type": "markdown",
   "metadata": {},
   "source": [
    "**Gradient Boosting Ensemble** fits the individual models sequentially, where each new model is fit to reduce the errors made by the previous model. The individual models in gradient boosting are Decision Trees. \n",
    "\n",
    "Specifically, the initial model is trained on the full dataset, and residual errors are obtained based on the difference between the predicted class of the model and the target label. The next model is trained by using the residual errors of the previous model as a target variable. These steps are repeated for each single model. Ideally, the residuals should become smaller as more individual models are trained, that is, the predictions by the models should better match the target labels. \n",
    "\n",
    "The residual errors represent the gradient of the loss function with respect to the predicted value. This is the reason why the method is called Gradient Boosting.\n",
    "\n",
    "In scikit-learn, Gradient Boosting Classifier has hyperparameters related to the number of estimators i.e. Decision Trees (`n_estimators`), learning rate (`learning_rate`), maximum depth of the trees (`max_depth`), and others. The learning rate is typically set to values between 0.01 and 1, and it defines how quickly the models are updated. If the learning rate is too high, the models will be updated more quickly, which can cause overfitting."
   ]
  },
  {
   "cell_type": "code",
   "execution_count": 25,
   "metadata": {},
   "outputs": [
    {
     "data": {
      "text/plain": [
       "GradientBoostingClassifier(learning_rate=0.8, max_depth=2, n_estimators=500,\n",
       "                           random_state=42)"
      ]
     },
     "execution_count": 25,
     "metadata": {},
     "output_type": "execute_result"
    }
   ],
   "source": [
    "from sklearn.ensemble import GradientBoostingClassifier\n",
    "\n",
    "grad_boost_classifier = GradientBoostingClassifier(\n",
    "                        n_estimators=500, \n",
    "                        learning_rate=0.8, \n",
    "                        random_state=42,\n",
    "                        max_depth=2)\n",
    "\n",
    "grad_boost_classifier.fit(X_train, y_train)"
   ]
  },
  {
   "cell_type": "code",
   "execution_count": 26,
   "metadata": {},
   "outputs": [
    {
     "name": "stdout",
     "output_type": "stream",
     "text": [
      "Gradient Boosting Ensemble accuracy is 89.6893 %\n"
     ]
    }
   ],
   "source": [
    "# evaluate\n",
    "gboost_preds = grad_boost_classifier.predict(X_test)\n",
    "gboost_acc = accuracy_score(y_test, gboost_preds)\n",
    "print('Gradient Boosting Ensemble accuracy is {0:7.4f} %'.format(gboost_acc*100))"
   ]
  },
  {
   "cell_type": "markdown",
   "metadata": {},
   "source": [
    "### 14.4.2 Recent Gradient Boosting Methods: XGBoost, LightGBM, CatBoost <a id=\"14.4.2-recent-gradient-boosting-methods:-xgboost,-lightgbm,-catboost\"/>"
   ]
  },
  {
   "cell_type": "markdown",
   "metadata": {},
   "source": [
    "There are several optimized variants of Gradient Boosting Ensembles, which include XGBoost, LightGBM, and CatBoost. These three ensemble methods are among the most powerful and robust Machine Learning models for tabular data at present time. Their performance is often superior to other conventional ML methods, including the other ensemble methods. Also, they are very fast and scalable to large datasets. Because of these properties, XGBoost, LightGBM, and CatBoost are often the winning algorithms in many Kaggle competitions and other ML competitions where the datasets are in tabular format. \n",
    "\n",
    "Note that XGBoost, LightGBM, and Catboost are not implemented in Scikit-Learn, and they need to be installed as separate libraries, e.g., via:\n",
    "    \n",
    "    pip install xgboost catboost lightgbm\n",
    "    \n",
    "On the other hand, the API for working with these methods is the same as scikit-learn, and they use the `fit` and `predict` methods for model training and evaluation.  "
   ]
  },
  {
   "cell_type": "markdown",
   "metadata": {},
   "source": [
    "#### 14.4.2.1 XGBoost (Extreme Gradient Boosting) <a id=\"14.4.2.1-xgboost-(extreme-gradient-boosting)\"/>"
   ]
  },
  {
   "cell_type": "markdown",
   "metadata": {},
   "source": [
    "**XGBoost** or **eXtreme Gradient Boosting Ensemble** introduces several modifications and optimizations in the original Gradient Boosting algorithm, which speed up the training process and improve the predictive performance. The main modifications in XGBoost encompass the introduction of L1 and L2 regularization terms into the objective function to reduce overfitting, and using a more efficient tree-building algorithm that relies on histogram-based methods and pruning techniques to optimize the tree splitting. XGBoost can also handle missing data, either by treating the data samples with missing values as a separate category, or it can apply techniques for filling in the missing values. Therefore, it can work without significant exploratory data analysis and preprocessing. \n",
    "\n",
    "As shown in the next cells, applying these variants of Gradient Boosting is as simple as fitting and evaluating other scikit-learn models. "
   ]
  },
  {
   "cell_type": "code",
   "execution_count": 27,
   "metadata": {},
   "outputs": [
    {
     "data": {
      "text/plain": [
       "XGBClassifier(base_score=None, booster=None, callbacks=None,\n",
       "              colsample_bylevel=None, colsample_bynode=None,\n",
       "              colsample_bytree=None, device=None, early_stopping_rounds=None,\n",
       "              enable_categorical=False, eval_metric=None, feature_types=None,\n",
       "              gamma=None, grow_policy=None, importance_type=None,\n",
       "              interaction_constraints=None, learning_rate=None, max_bin=None,\n",
       "              max_cat_threshold=None, max_cat_to_onehot=None,\n",
       "              max_delta_step=None, max_depth=None, max_leaves=None,\n",
       "              min_child_weight=None, missing=nan, monotone_constraints=None,\n",
       "              multi_strategy=None, n_estimators=None, n_jobs=None,\n",
       "              num_parallel_tree=None, random_state=None, ...)"
      ]
     },
     "execution_count": 27,
     "metadata": {},
     "output_type": "execute_result"
    }
   ],
   "source": [
    "import xgboost as xgb\n",
    "\n",
    "xgb_classifier = xgb.XGBClassifier()\n",
    "xgb_classifier.fit(X_train, y_train)"
   ]
  },
  {
   "cell_type": "code",
   "execution_count": 28,
   "metadata": {},
   "outputs": [
    {
     "name": "stdout",
     "output_type": "stream",
     "text": [
      "XGBoost Ensemble accuracy is 90.1660 %\n"
     ]
    }
   ],
   "source": [
    "# evaluate\n",
    "xgboost_preds = xgb_classifier.predict(X_test)\n",
    "xgboost_acc = accuracy_score(y_test, xgboost_preds)\n",
    "print('XGBoost Ensemble accuracy is {0:7.4f} %'.format(xgboost_acc*100))"
   ]
  },
  {
   "cell_type": "markdown",
   "metadata": {},
   "source": [
    "#### 14.4.2.2 LightGBM (Light Gradient Boosting Machine) <a id=\"14.4.2.2-lightgbm-(light-gradient-boosting-machine)\"/>"
   ]
  },
  {
   "cell_type": "markdown",
   "metadata": {},
   "source": [
    "**LightGBM** or **Light Gradient Boosting Machine** is another optimized version of Gradient Boosting Ensemble, which was developed by Microsoft. It uses a histogram-based approach for finding optimal splitting of the decision trees. As well as, LightGBM employs a leaf-wise tree growth strategy that can result in deeper trees compared to other ensemble algorithms. LightGBM focuses on efficiency and scalability of the approach."
   ]
  },
  {
   "cell_type": "code",
   "execution_count": 29,
   "metadata": {},
   "outputs": [
    {
     "name": "stdout",
     "output_type": "stream",
     "text": [
      "[LightGBM] [Info] Number of positive: 14443, number of negative: 19541\n",
      "[LightGBM] [Info] Auto-choosing col-wise multi-threading, the overhead of testing was 0.000779 seconds.\n",
      "You can set `force_col_wise=true` to remove the overhead.\n",
      "[LightGBM] [Info] Total Bins 1586\n",
      "[LightGBM] [Info] Number of data points in the train set: 33984, number of used features: 8\n",
      "[LightGBM] [Info] [binary:BoostFromScore]: pavg=0.424994 -> initscore=-0.302305\n",
      "[LightGBM] [Info] Start training from score -0.302305\n"
     ]
    },
    {
     "data": {
      "text/plain": [
       "LGBMClassifier()"
      ]
     },
     "execution_count": 29,
     "metadata": {},
     "output_type": "execute_result"
    }
   ],
   "source": [
    "import lightgbm\n",
    "from lightgbm.sklearn import LGBMClassifier\n",
    "\n",
    "lightgbm_classifier = LGBMClassifier()\n",
    "lightgbm_classifier.fit(X_train, y_train)"
   ]
  },
  {
   "cell_type": "code",
   "execution_count": 30,
   "metadata": {},
   "outputs": [
    {
     "name": "stdout",
     "output_type": "stream",
     "text": [
      "XGBoost Ensemble accuracy is 87.9237 %\n"
     ]
    }
   ],
   "source": [
    "# evaluate\n",
    "lightgbm_preds = lightgbm_classifier.predict(X_test)\n",
    "lightgbm_acc = accuracy_score(y_test, lightgbm_preds)\n",
    "print('XGBoost Ensemble accuracy is {0:7.4f} %'.format(lightgbm_acc*100))"
   ]
  },
  {
   "cell_type": "markdown",
   "metadata": {},
   "source": [
    "Optimizing the hyperparameters of ensemble methods can result in singificant improvement in performance. The next cells demonstrate this, by training another LightGBM model with different hyperparameters."
   ]
  },
  {
   "cell_type": "code",
   "execution_count": 31,
   "metadata": {},
   "outputs": [
    {
     "name": "stdout",
     "output_type": "stream",
     "text": [
      "[LightGBM] [Info] Number of positive: 14443, number of negative: 19541\n",
      "[LightGBM] [Info] Auto-choosing col-wise multi-threading, the overhead of testing was 0.000677 seconds.\n",
      "You can set `force_col_wise=true` to remove the overhead.\n",
      "[LightGBM] [Info] Total Bins 1586\n",
      "[LightGBM] [Info] Number of data points in the train set: 33984, number of used features: 8\n",
      "[LightGBM] [Info] [binary:BoostFromScore]: pavg=0.424994 -> initscore=-0.302305\n",
      "[LightGBM] [Info] Start training from score -0.302305\n"
     ]
    },
    {
     "data": {
      "text/plain": [
       "LGBMClassifier(num_leaves=100)"
      ]
     },
     "execution_count": 31,
     "metadata": {},
     "output_type": "execute_result"
    }
   ],
   "source": [
    "lightgbm_classifier_2 = LGBMClassifier(num_leaves=100, learning_rate=0.1, n_estimators=100)\n",
    "lightgbm_classifier_2.fit(X_train, y_train)"
   ]
  },
  {
   "cell_type": "code",
   "execution_count": 32,
   "metadata": {},
   "outputs": [
    {
     "name": "stdout",
     "output_type": "stream",
     "text": [
      "XGBoost Ensemble accuracy is 91.6314 %\n"
     ]
    }
   ],
   "source": [
    "# evaluate\n",
    "lightgbm_2_preds = lightgbm_classifier_2.predict(X_test)\n",
    "lightgbm_2_acc = accuracy_score(y_test, lightgbm_2_preds)\n",
    "print('XGBoost Ensemble accuracy is {0:7.4f} %'.format(lightgbm_2_acc*100))"
   ]
  },
  {
   "cell_type": "markdown",
   "metadata": {},
   "source": [
    "In general, tuning the hyperparameters of Gradient Boosting variants can be non-trivial, and requires to get familiar with the various hyperparameters and understand their impact on the performance. "
   ]
  },
  {
   "cell_type": "markdown",
   "metadata": {},
   "source": [
    "#### 14.4.2.3 CatBoost (Categorical Boosting) <a id=\"14.4.2.3-catboost-(categorical-boosting)\"/>"
   ]
  },
  {
   "cell_type": "markdown",
   "metadata": {},
   "source": [
    "**CatBoost** or **Categorical Boosting** is specifically designed for handling categorical features, and it can operate directly on data with categorical features, without the requirement for applying ordinal or label encoding or other preprocessing techniques. It uses an ordered gradient boosting technique for direct processing of categorical features. Other modifications in CatBoost include the use of specialized regularization techniques (such as depth regularization and feature permutation-based regularization) and implementation of specialized symmetric trees structure to prevent overfitting.\n",
    "\n",
    "Similar to XGBoost, CatBoost has also support for dealing with missing data values, which simplifies the data preprocessing. "
   ]
  },
  {
   "cell_type": "code",
   "execution_count": 33,
   "metadata": {},
   "outputs": [
    {
     "data": {
      "text/plain": [
       "<catboost.core.CatBoostClassifier at 0x129ba65f490>"
      ]
     },
     "execution_count": 33,
     "metadata": {},
     "output_type": "execute_result"
    }
   ],
   "source": [
    "import catboost\n",
    "from catboost import CatBoostClassifier\n",
    "\n",
    "catboost_classifier = CatBoostClassifier(verbose=False)\n",
    "catboost_classifier.fit(X_train, y_train)"
   ]
  },
  {
   "cell_type": "code",
   "execution_count": 34,
   "metadata": {},
   "outputs": [
    {
     "name": "stdout",
     "output_type": "stream",
     "text": [
      "XGBoost Ensemble accuracy is 89.2479 %\n"
     ]
    }
   ],
   "source": [
    "# evaluate\n",
    "catboost_preds = catboost_classifier.predict(X_test)\n",
    "catboost_acc = accuracy_score(y_test, catboost_preds)\n",
    "print('XGBoost Ensemble accuracy is {0:7.4f} %'.format(catboost_acc*100))"
   ]
  },
  {
   "cell_type": "markdown",
   "metadata": {},
   "source": [
    "The decision on which variant of Gradient Boosting to select depends on the specific characteristics of a dataset, the available computational resources, the type of features in the dataset, and other factors. All three methods are high-performing, fast, and robust, and they are continuously developed and improved."
   ]
  },
  {
   "cell_type": "markdown",
   "metadata": {},
   "source": [
    "### 14.4.3 AdaBoost Ensemble <a id=\"14.4.3-adaboost-ensemble\"/>"
   ]
  },
  {
   "cell_type": "markdown",
   "metadata": {},
   "source": [
    "**AdaBoost Ensemble** has similarities to Gradient Boosting, however, instead of minimizing the residual error of the sequential models, it assigns weights to the training data instances based on the difficulty to be classified. The main idea of AdaBoost is to focus the individual models on the training instances that are difficult to classify. AdaBoost is short of *adaptive boosting*. \n",
    "\n",
    "AdaBoost begins by training a base model (which by default is a Decision Tree) on the full training dataset. After that, higher weights are assigned to the data instances that were misclassified by the previous model. Therefore, the second model will put more attention on correctly predicting the class of the misclassified data instances. By training many models sequentially, the algorithm will try harder to predict the difficult data instances. \n",
    "\n",
    "The aggregated prediction by all single models is done by averaging the predictions and using weights for each model based on their accuracy on the training set. \n",
    "\n",
    "The main parameters in the AdaBoost Classifier are the type of base estimators and the number of estimators. "
   ]
  },
  {
   "cell_type": "code",
   "execution_count": 35,
   "metadata": {},
   "outputs": [
    {
     "data": {
      "text/plain": [
       "AdaBoostClassifier(base_estimator=DecisionTreeClassifier(class_weight='balanced',\n",
       "                                                         max_depth=3),\n",
       "                   learning_rate=0.5, n_estimators=300)"
      ]
     },
     "execution_count": 35,
     "metadata": {},
     "output_type": "execute_result"
    }
   ],
   "source": [
    "from sklearn.ensemble import AdaBoostClassifier\n",
    "from sklearn.tree import DecisionTreeClassifier\n",
    "\n",
    "adaboost_classifier = AdaBoostClassifier(\n",
    "    base_estimator=DecisionTreeClassifier(max_depth=3, class_weight='balanced'), \n",
    "    n_estimators=300,\n",
    "    learning_rate=0.5\n",
    ")\n",
    "\n",
    "adaboost_classifier.fit(X_train, y_train)"
   ]
  },
  {
   "cell_type": "code",
   "execution_count": 36,
   "metadata": {},
   "outputs": [
    {
     "name": "stdout",
     "output_type": "stream",
     "text": [
      "AdaBoost Ensemble accuracy is 89.9718 %\n"
     ]
    }
   ],
   "source": [
    "# evaluate\n",
    "adaboost_preds = adaboost_classifier.predict(X_test)\n",
    "adaboost_acc = accuracy_score(y_test, adaboost_preds)\n",
    "print('AdaBoost Ensemble accuracy is {0:7.4f} %'.format(adaboost_acc*100))"
   ]
  },
  {
   "cell_type": "markdown",
   "metadata": {},
   "source": [
    "## 14.5 Stacking Ensemble <a id=\"14.5-stacking-ensemble\"/>"
   ]
  },
  {
   "cell_type": "markdown",
   "metadata": {},
   "source": [
    "**Stacking Ensemble** is also referred to as *stacked generalization*, where instead of using hard or soft voting for aggregating the results from multiple models, another model (referred to as a *blender* or *meta-learner*) is trained to perform the aggregation. \n",
    "\n",
    "In the example below, we train two base estimators: SVM classifier and a Random Forest classifier. Afterward, we use Logistic Regression model as a final estimator, which is trained by using the predictions by the two base estimators as inputs. The final estimator aggregates the predictions of the individual models and outputs the final predictions. "
   ]
  },
  {
   "cell_type": "code",
   "execution_count": 37,
   "metadata": {},
   "outputs": [
    {
     "data": {
      "text/plain": [
       "StackingClassifier(estimators=[('rand',\n",
       "                                RandomForestClassifier(random_state=42)),\n",
       "                               ('svc', SVC(random_state=42))],\n",
       "                   final_estimator=LogisticRegression())"
      ]
     },
     "execution_count": 37,
     "metadata": {},
     "output_type": "execute_result"
    }
   ],
   "source": [
    "from sklearn.ensemble import StackingClassifier\n",
    "from sklearn.ensemble import RandomForestClassifier\n",
    "\n",
    "base_estimators = [\n",
    "    ('rand', RandomForestClassifier(random_state=42)),\n",
    "    ('svc', SVC(random_state=42))]\n",
    "\n",
    "final_estimator = LogisticRegression()\n",
    "\n",
    "stack_classifier = StackingClassifier(estimators = base_estimators, \n",
    "                               final_estimator = final_estimator)\n",
    "\n",
    "stack_classifier.fit(X_train, y_train)"
   ]
  },
  {
   "cell_type": "code",
   "execution_count": 38,
   "metadata": {},
   "outputs": [
    {
     "name": "stdout",
     "output_type": "stream",
     "text": [
      "Stacking Ensemble accuracy is 90.2189 %\n"
     ]
    }
   ],
   "source": [
    "# evaluate\n",
    "stack_preds = stack_classifier.predict(X_test)\n",
    "stack_acc = accuracy_score(y_test, stack_preds)\n",
    "print('Stacking Ensemble accuracy is {0:7.4f} %'.format(stack_acc*100))"
   ]
  },
  {
   "cell_type": "markdown",
   "metadata": {},
   "source": [
    "In conclusion, Ensemble Methods are among the best performing Machine Learning models. Whereas they may not be competitive with Neural Networks for datasets containing images, text, audio, or other data formats, for datasets with tabular data Ensemble Methods may outperform Neural Network-based approaches. In addition, Ensemble Methods can achieve good performance even without significant hyperparameter finetuning, in comparison to Neural Networks that typically require more finetuning. As well as, Ensemble Method can outperform Neural Networks for tasks with smaller dataset sizes, are robust to outliers, and can handle imbalanced datasets."
   ]
  },
  {
   "cell_type": "markdown",
   "metadata": {},
   "source": [
    "## References <a id=\"references\"/>\n",
    "\n",
    "1. Complete Machine Learning Package, Jean de Dieu Nyandwi, available at: [https://github.com/Nyandwi/machine_learning_complete](https://github.com/Nyandwi/machine_learning_complete).\n",
    "2. Hands-on Machine Learning with Scikit-learn, Keras & TensorFlow, Aurelien Geron, available at: [https://github.com/ageron/handson-ml/blob/master/07_ensemble_learning_and_random_forests.ipynb](https://github.com/ageron/handson-ml/blob/master/07_ensemble_learning_and_random_forests.ipynb). \n",
    "3. Python Machine Learning (2nd Ed.) Code Repository, Sebastian Raschka, available at: [https://github.com/rasbt/python-machine-learning-book-2nd-edition](https://github.com/rasbt/python-machine-learning-book-2nd-edition). \n"
   ]
  },
  {
   "cell_type": "markdown",
   "metadata": {},
   "source": [
    "[BACK TO TOP](#top)"
   ]
  }
 ],
 "metadata": {
  "kernelspec": {
   "display_name": "Python 3 (ipykernel)",
   "language": "python",
   "name": "python3"
  },
  "language_info": {
   "codemirror_mode": {
    "name": "ipython",
    "version": 3
   },
   "file_extension": ".py",
   "mimetype": "text/x-python",
   "name": "python",
   "nbconvert_exporter": "python",
   "pygments_lexer": "ipython3",
   "version": "3.9.13"
  }
 },
 "nbformat": 4,
 "nbformat_minor": 4
}
