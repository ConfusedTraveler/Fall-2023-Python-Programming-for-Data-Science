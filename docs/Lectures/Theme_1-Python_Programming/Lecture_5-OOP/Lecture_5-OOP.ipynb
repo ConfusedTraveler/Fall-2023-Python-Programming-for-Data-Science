{
 "cells": [
  {
   "cell_type": "markdown",
   "metadata": {},
   "source": [
    "# Lecture 5 Object-Oriented Programming (OOP)"
   ]
  },
  {
   "cell_type": "markdown",
   "metadata": {},
   "source": [
    "[![View notebook on Github](https://img.shields.io/static/v1.svg?logo=github&label=Repo&message=View%20On%20Github&color=lightgrey)](https://github.com/avakanski/Fall-2023-Python-Programming-for-Data-Science/blob/main/docs/Lectures/Theme_1-Python_Programming/Lecture_5-OOP/Lecture_5-OOP.ipynb)\n",
    "[![Open In Collab](https://colab.research.google.com/assets/colab-badge.svg)](https://colab.research.google.com/github/avakanski/Fall-2023-Python-Programming-for-Data-Science/blob/main/docs/Lectures/Theme_1-Python_Programming/Lecture_5-OOP/Lecture_5-OOP.ipynb) "
   ]
  },
  {
   "cell_type": "markdown",
   "metadata": {},
   "source": [
    "<a id='top'></a>"
   ]
  },
  {
   "cell_type": "markdown",
   "metadata": {},
   "source": [
    "- [5.1 Overview](#5.1-overview)\n",
    "- [5.2 Defining a Class](#5.2-defining-a-class)\n",
    "    - [5.2.1 Attributes](#5.2.1-attributes)\n",
    "    - [5.2.2 Methods](#5.2.2-methods)\n",
    "- [5.3 Inheritance](#5.3-inheritance)\n",
    "- [5.4 Special Methods](#5.4-special-methods)\n",
    "- [Appendix: Additional OOP Info](#appendix:-additional-oop-info)\n",
    "- [References](#references)"
   ]
  },
  {
   "cell_type": "markdown",
   "metadata": {},
   "source": [
    "## 5.1 Overview <a id=\"5.1-overview\"/>"
   ]
  },
  {
   "cell_type": "markdown",
   "metadata": {},
   "source": [
    "**Object-oriented programming** (OOP) is a programming approach to structuring programs based on the concept of **objects**, which can contain *data* and *behavior* in the form of *attributes* and *methods*, respectively. For instance, an object could represent a person with attributes like name, age, and address, and methods such as walking, talking, and running. Or, it could represent an email with attributes like a recipient list, subject, and body, and methods like adding attachments and sending.\n",
    "\n",
    "In OOP, computer programs are designed by defining objects that interact with one another. In Python, the main tool for achieving OOP are Python **classes**. Classes are created using the <code>class</code> statement. Then, from classes we can construct object **instances**, which are specific objects created from a particular class. \n",
    "\n",
    "Besides OOP, other programming paradigms on which other languages are based include procedural, functional, and logic programming paradigms."
   ]
  },
  {
   "cell_type": "markdown",
   "metadata": {},
   "source": [
    "## 5.2 Defining a Class <a id=\"5.2-defining-a-class\"/>"
   ]
  },
  {
   "cell_type": "markdown",
   "metadata": {},
   "source": [
    "#### The `class` Statement\n",
    "\n",
    "Let's define a class `Dog` by using the `class` statement and the name of the class. It is a convention in Python to begin class names with an uppercase letter, and module and function names with a lowercase letter. This is not a requirement, but if you follow this naming convention it will be appreciated by others who are to use your codes."
   ]
  },
  {
   "cell_type": "code",
   "execution_count": 1,
   "metadata": {},
   "outputs": [
    {
     "name": "stdout",
     "output_type": "stream",
     "text": [
      "<class '__main__.Dog'>\n"
     ]
    }
   ],
   "source": [
    "# Create a new class called Dog\n",
    "class Dog:\n",
    "    \"\"\"Class object for a dog.\"\"\"\n",
    "    pass\n",
    "\n",
    "# Create an instance object of the class Dog\n",
    "sam = Dog()\n",
    "\n",
    "print(type(sam))"
   ]
  },
  {
   "cell_type": "markdown",
   "metadata": {},
   "source": [
    "In the above code, inside the class definition we currently have just the `pass` command, which is only a placeholder for the code that we intend to write afterwards and means do nothing for now.\n",
    "\n",
    "Classes can be thought of as blueprints for creating objects. When we defined the class `Dog` using the line `class Dog:`, we didn't actually create an object. \n",
    "\n",
    "To create an object of the class `Dog`, we called the class by its name and a pair of parentheses (and optionally we can pass arguments in the parentheses as we did with functions in Python). That is, we **instantiated** the Dog class, and `sam` is now the reference to our new instance of the Dog class. Or, the action of creating instances (objects) from an existing class is known as **instantiation**.\n",
    "\n",
    "The name `sam` is referred to as a **class object**, or a **class instance**, or just an **instance**. We will use these terms interchangeably. \n",
    "\n",
    "We can create many instances of the class by calling the class with `Dog()`. For example, below we created two Dog instances `sam` and `frank`. Note that although they are both instances of the class Dog, they represent two distinct objects."
   ]
  },
  {
   "cell_type": "code",
   "execution_count": 2,
   "metadata": {},
   "outputs": [
    {
     "data": {
      "text/plain": [
       "False"
      ]
     },
     "execution_count": 2,
     "metadata": {},
     "output_type": "execute_result"
    }
   ],
   "source": [
    "sam = Dog()\n",
    "frank = Dog()\n",
    "\n",
    "sam == frank"
   ]
  },
  {
   "cell_type": "markdown",
   "metadata": {},
   "source": [
    "Note below that the two instances `sam` and `frank` have different memory addresses, shown after `at` in the cell outputs. The addresses for these two instances in your computer's memory will be different than those shown here."
   ]
  },
  {
   "cell_type": "code",
   "execution_count": 3,
   "metadata": {},
   "outputs": [
    {
     "data": {
      "text/plain": [
       "<__main__.Dog at 0x2084d13b5e0>"
      ]
     },
     "execution_count": 3,
     "metadata": {},
     "output_type": "execute_result"
    }
   ],
   "source": [
    "sam"
   ]
  },
  {
   "cell_type": "code",
   "execution_count": 4,
   "metadata": {},
   "outputs": [
    {
     "data": {
      "text/plain": [
       "<__main__.Dog at 0x2084d2174f0>"
      ]
     },
     "execution_count": 4,
     "metadata": {},
     "output_type": "execute_result"
    }
   ],
   "source": [
    "frank"
   ]
  },
  {
   "cell_type": "markdown",
   "metadata": {},
   "source": [
    "In summary:\n",
    "\n",
    "> **Classes** serve as instance factories. They provide attributes and methods that are inherited by all the instances created from them.\n",
    "\n",
    "> **Instances** represent the concrete objects of a class. Their attributes consist of information that varies per specific object. Their methods describe behavior that is different for specific objects."
   ]
  },
  {
   "cell_type": "markdown",
   "metadata": {},
   "source": [
    "Class objects can have *attributes* and *methods*.\n",
    "\n",
    "> An **attribute** is an individual characteristic of an instance of the class. Or, attributes are variables that hold class data.\n",
    "\n",
    "> A **method** is an operation that is performed with the instance of the class. Or, methods are functions that provide behavior to class objects.\n"
   ]
  },
  {
   "cell_type": "markdown",
   "metadata": {},
   "source": [
    "### 5.2.1 Attributes <a id=\"5.2.1-attributes\"/>"
   ]
  },
  {
   "cell_type": "markdown",
   "metadata": {},
   "source": [
    "As we explained, attributes allow us to attach data to class objects. Python classes can have two types of attributes: instance attributes and class attributes."
   ]
  },
  {
   "cell_type": "markdown",
   "metadata": {},
   "source": [
    "#### Instance Attributes\n",
    "\n",
    "In Python, **instance attributes** are defined by using the `__init__()` constructor method. The term *init* is abbreviated from *initialize*, since it is used to initialize the attributes of class instances. \n",
    "\n",
    "In the parentheses of the `__init__()` method first `self` is listed, and afterwards the attributes are listed.\n",
    "\n",
    "The syntax for creating attributes is:\n",
    "    \n",
    "    def __init__(self, attribute1, attribute2, ...):\n",
    "         self.attribute1 = value1\n",
    "         self.attribute2 = value2\n",
    "\n",
    "For example:"
   ]
  },
  {
   "cell_type": "code",
   "execution_count": 5,
   "metadata": {},
   "outputs": [],
   "source": [
    "class Dog:\n",
    "    def __init__(self, breed, name):\n",
    "        self.breed = breed\n",
    "        self.name = name"
   ]
  },
  {
   "cell_type": "code",
   "execution_count": 6,
   "metadata": {},
   "outputs": [],
   "source": [
    "# Create an instance from the 'Dog' class by passing breed and name, assign it to the name 'sam'\n",
    "sam = Dog(breed='Labrador', name='Sam')\n",
    "# Create another instance from the 'Dog' class by passing breed and name, assign it to the name 'frank'\n",
    "frank = Dog(breed='Huskie', name='Frank')\n",
    "# Create another instance from the 'Dog' class by passing breed and name, assign it to the name 'my_dog'\n",
    "my_dog = Dog(breed='Terrier', name='Scooby')"
   ]
  },
  {
   "cell_type": "markdown",
   "metadata": {},
   "source": [
    "The `__init__()` method is present in almost every class, and it is used to initialize newly created class instances by passing attributes. In the above example, the attributes *breed* and *name* are the arguments to the special method `__init__()`. Each attribute in a class definition begins with a reference to the class object, which by convention is named `self`, such as in `self.breed = breed`.\n",
    "\n",
    "When we created the instances of the class Dog, `__init__()` initialized these objects by passing the assigned values for *breed* and *name* to the instances *sam*, *frank*, and *my_dog*. In the `__init__()` method, the word `self` is the newly created instance. Therefore, for the instance *sam*, the line `self.breed = breed` is equivalent to stating `sam.breed = 'Labrador'`. Similarly, `self.name = name` is equivalent to stating `sam.name = 'Sam'`. Similarly, for the instance *frank*, `self.breed = breed` is equivalent to stating `frank.breed = 'Huskie'` and `self` refers to the instance *frank*. \n",
    "\n",
    "Notice again that `sam`, `frank`, and `my_dog` are three separate instances of the `Dog` class, and they have their own attributes, i.e., different breed and name."
   ]
  },
  {
   "cell_type": "markdown",
   "metadata": {},
   "source": [
    "##### Accessing Instance Attributes\n",
    "\n",
    "The syntax for accessing an attribute of a class instance uses the **dot operator**.\n",
    "\n",
    "         instance.attribute\n",
    "         \n",
    "We can therefore access the attributes `breed` and `name` as in the next examples."
   ]
  },
  {
   "cell_type": "code",
   "execution_count": 7,
   "metadata": {},
   "outputs": [
    {
     "data": {
      "text/plain": [
       "'Labrador'"
      ]
     },
     "execution_count": 7,
     "metadata": {},
     "output_type": "execute_result"
    }
   ],
   "source": [
    "# Access the 'breed' attribute of the class instance 'sam'\n",
    "sam.breed"
   ]
  },
  {
   "cell_type": "code",
   "execution_count": 8,
   "metadata": {},
   "outputs": [
    {
     "data": {
      "text/plain": [
       "'Huskie'"
      ]
     },
     "execution_count": 8,
     "metadata": {},
     "output_type": "execute_result"
    }
   ],
   "source": [
    "# Access the 'breed' attribute of the class instance 'frank'\n",
    "frank.breed"
   ]
  },
  {
   "cell_type": "code",
   "execution_count": 9,
   "metadata": {},
   "outputs": [
    {
     "data": {
      "text/plain": [
       "'Scooby'"
      ]
     },
     "execution_count": 9,
     "metadata": {},
     "output_type": "execute_result"
    }
   ],
   "source": [
    "# Access the 'name' attribute of the class instance 'my_dog'\n",
    "my_dog.name"
   ]
  },
  {
   "cell_type": "markdown",
   "metadata": {},
   "source": [
    "Note that we cannot access the instance attributes through the class, as in `class.attribute`, since they are specific to concrete instances of the class. If we try to do that, we will get an Attribute Error."
   ]
  },
  {
   "cell_type": "code",
   "execution_count": 10,
   "metadata": {},
   "outputs": [
    {
     "ename": "AttributeError",
     "evalue": "type object 'Dog' has no attribute 'name'",
     "output_type": "error",
     "traceback": [
      "\u001b[1;31m---------------------------------------------------------------------------\u001b[0m",
      "\u001b[1;31mAttributeError\u001b[0m                            Traceback (most recent call last)",
      "\u001b[1;32m~\\AppData\\Local\\Temp\\ipykernel_2940\\4053790346.py\u001b[0m in \u001b[0;36m<module>\u001b[1;34m\u001b[0m\n\u001b[1;32m----> 1\u001b[1;33m \u001b[0mDog\u001b[0m\u001b[1;33m.\u001b[0m\u001b[0mname\u001b[0m\u001b[1;33m\u001b[0m\u001b[1;33m\u001b[0m\u001b[0m\n\u001b[0m",
      "\u001b[1;31mAttributeError\u001b[0m: type object 'Dog' has no attribute 'name'"
     ]
    }
   ],
   "source": [
    "Dog.name"
   ]
  },
  {
   "cell_type": "markdown",
   "metadata": {},
   "source": [
    "In general, it is possible to create new classes without the `__init__()` construction method. This is shown below, where we used a `def` statement to introduce a method called `enterinfo` to the class `Dog`."
   ]
  },
  {
   "cell_type": "code",
   "execution_count": 11,
   "metadata": {},
   "outputs": [],
   "source": [
    "class Dog:\n",
    "    def enterinfo(self, breed): \n",
    "        self.breed = breed"
   ]
  },
  {
   "cell_type": "code",
   "execution_count": 12,
   "metadata": {},
   "outputs": [],
   "source": [
    "sam = Dog()\n",
    "sam.enterinfo(breed='Labrador')"
   ]
  },
  {
   "cell_type": "code",
   "execution_count": 13,
   "metadata": {},
   "outputs": [
    {
     "data": {
      "text/plain": [
       "'Labrador'"
      ]
     },
     "execution_count": 13,
     "metadata": {},
     "output_type": "execute_result"
    }
   ],
   "source": [
    "sam.breed"
   ]
  },
  {
   "cell_type": "markdown",
   "metadata": {},
   "source": [
    "However, in this case, we need to first create a new class instance `sam` as shown above, and afterward assign the `breed` attribute using the `enterinfo()` method. \n",
    "\n",
    "On the other hand, by using the `__init__()` method, we can initialize the instance attributes at the same time when the new instance is created. Therefore, using `__init__()` is preferred and always recommended. Without `__init__()`, an empty instance is created, and we need to initialize it afterwards."
   ]
  },
  {
   "cell_type": "markdown",
   "metadata": {},
   "source": [
    "In addition, we can dynamically attach new instance attributes to existing class objects that we have already created. In the next cell, the new attribute `age` is attached to the instance `sam`. However, it is preferred to define instance attributes inside the class definition, since it makes the code more organized and makes it easier for others to understand or debug our code."
   ]
  },
  {
   "cell_type": "code",
   "execution_count": 14,
   "metadata": {},
   "outputs": [
    {
     "name": "stdout",
     "output_type": "stream",
     "text": [
      "3\n"
     ]
    }
   ],
   "source": [
    "sam.age = 3\n",
    "print(sam.age)"
   ]
  },
  {
   "cell_type": "markdown",
   "metadata": {},
   "source": [
    "##### Modifying Instance Attributes"
   ]
  },
  {
   "cell_type": "markdown",
   "metadata": {},
   "source": [
    "We can modify the attributes of an instance by using the dot `.` notation and an assignment statement, as in:\n",
    "\n",
    "    instance.attribute = new_value"
   ]
  },
  {
   "cell_type": "code",
   "execution_count": 15,
   "metadata": {},
   "outputs": [
    {
     "data": {
      "text/plain": [
       "'Frank'"
      ]
     },
     "execution_count": 15,
     "metadata": {},
     "output_type": "execute_result"
    }
   ],
   "source": [
    "frank.name"
   ]
  },
  {
   "cell_type": "code",
   "execution_count": 16,
   "metadata": {},
   "outputs": [
    {
     "data": {
      "text/plain": [
       "'Franki'"
      ]
     },
     "execution_count": 16,
     "metadata": {},
     "output_type": "execute_result"
    }
   ],
   "source": [
    "# Modify attribute\n",
    "frank.name = 'Franki'\n",
    "frank.name"
   ]
  },
  {
   "cell_type": "markdown",
   "metadata": {},
   "source": [
    "To delete any instance attribute, use the `del` keyword."
   ]
  },
  {
   "cell_type": "code",
   "execution_count": 17,
   "metadata": {},
   "outputs": [],
   "source": [
    "del frank.name"
   ]
  },
  {
   "cell_type": "code",
   "execution_count": 18,
   "metadata": {},
   "outputs": [
    {
     "ename": "AttributeError",
     "evalue": "'Dog' object has no attribute 'name'",
     "output_type": "error",
     "traceback": [
      "\u001b[1;31m---------------------------------------------------------------------------\u001b[0m",
      "\u001b[1;31mAttributeError\u001b[0m                            Traceback (most recent call last)",
      "\u001b[1;32m~\\AppData\\Local\\Temp\\ipykernel_2940\\2831644747.py\u001b[0m in \u001b[0;36m<module>\u001b[1;34m\u001b[0m\n\u001b[0;32m      1\u001b[0m \u001b[1;31m# Error, the name attribute does not exist for 'frank'\u001b[0m\u001b[1;33m\u001b[0m\u001b[1;33m\u001b[0m\u001b[0m\n\u001b[1;32m----> 2\u001b[1;33m \u001b[0mprint\u001b[0m\u001b[1;33m(\u001b[0m\u001b[0mfrank\u001b[0m\u001b[1;33m.\u001b[0m\u001b[0mname\u001b[0m\u001b[1;33m,\u001b[0m \u001b[0mfrank\u001b[0m\u001b[1;33m.\u001b[0m\u001b[0mbreed\u001b[0m\u001b[1;33m)\u001b[0m\u001b[1;33m\u001b[0m\u001b[1;33m\u001b[0m\u001b[0m\n\u001b[0m",
      "\u001b[1;31mAttributeError\u001b[0m: 'Dog' object has no attribute 'name'"
     ]
    }
   ],
   "source": [
    "# Error, the name attribute does not exist for 'frank'\n",
    "print(frank.name, frank.breed)"
   ]
  },
  {
   "cell_type": "markdown",
   "metadata": {},
   "source": [
    "The above code does not delete the attribute `name` for the other class instances."
   ]
  },
  {
   "cell_type": "code",
   "execution_count": 19,
   "metadata": {},
   "outputs": [
    {
     "data": {
      "text/plain": [
       "'Scooby'"
      ]
     },
     "execution_count": 19,
     "metadata": {},
     "output_type": "execute_result"
    }
   ],
   "source": [
    "# The name attribute still exist for 'my_dog'\n",
    "my_dog.name"
   ]
  },
  {
   "cell_type": "markdown",
   "metadata": {},
   "source": [
    "#### Class Attributes\n",
    "\n",
    "**Class attributes** in Python are also referred to as *class object attributes*. The class attributes are the same for all instances of the class. \n",
    "\n",
    "For example, we could create the attribute *species* for the Dog class, as shown in the next cell. Regardless of their breed, name, or other attributes, all dog instances will have the attribute `species = 'mammal'`. The instances of the class Dog in the next cell also have the *instance attributes* `breed` and `name` which can be unique for each class instance. \n",
    "\n",
    "We apply this logic in the following manner."
   ]
  },
  {
   "cell_type": "code",
   "execution_count": 20,
   "metadata": {},
   "outputs": [],
   "source": [
    "class Dog:\n",
    "    \n",
    "    # Class attribute\n",
    "    species = 'mammal'\n",
    "    \n",
    "    # Instance attributes\n",
    "    def __init__(self, breed, name):\n",
    "        self.breed = breed\n",
    "        self.name = name"
   ]
  },
  {
   "cell_type": "code",
   "execution_count": 21,
   "metadata": {},
   "outputs": [],
   "source": [
    "# Create an instance from the 'Dog' class by passing breed and name\n",
    "sam = Dog('Labrador','Sam')"
   ]
  },
  {
   "cell_type": "markdown",
   "metadata": {},
   "source": [
    "Accessing class attributes is the same as accessing instance attributes. "
   ]
  },
  {
   "cell_type": "code",
   "execution_count": 22,
   "metadata": {},
   "outputs": [
    {
     "data": {
      "text/plain": [
       "'mammal'"
      ]
     },
     "execution_count": 22,
     "metadata": {},
     "output_type": "execute_result"
    }
   ],
   "source": [
    "# Access class attributes\n",
    "sam.species"
   ]
  },
  {
   "cell_type": "code",
   "execution_count": 23,
   "metadata": {},
   "outputs": [
    {
     "data": {
      "text/plain": [
       "'Sam'"
      ]
     },
     "execution_count": 23,
     "metadata": {},
     "output_type": "execute_result"
    }
   ],
   "source": [
    "# Access instance attributes\n",
    "sam.name"
   ]
  },
  {
   "cell_type": "markdown",
   "metadata": {},
   "source": [
    "Note that the class attribute `species` is defined directly in the body of the `class` definition, outside of any methods in the class. Also by convention, the class attributes are placed before the `__init__()` method."
   ]
  },
  {
   "cell_type": "markdown",
   "metadata": {},
   "source": [
    "Also, we can access class attributes through the class via `class.attribute`, as in the next example. "
   ]
  },
  {
   "cell_type": "code",
   "execution_count": 24,
   "metadata": {},
   "outputs": [
    {
     "data": {
      "text/plain": [
       "'mammal'"
      ]
     },
     "execution_count": 24,
     "metadata": {},
     "output_type": "execute_result"
    }
   ],
   "source": [
    "Dog.species"
   ]
  },
  {
   "cell_type": "markdown",
   "metadata": {},
   "source": [
    "##### Modifying Class Attributes"
   ]
  },
  {
   "cell_type": "markdown",
   "metadata": {},
   "source": [
    "We cannot modify class attributes via assignment to class instances. In the next example, we used an assignment statement `frank.species = 'bird'` to modify the attribute `species` of the class instance `frank` to `bird`. "
   ]
  },
  {
   "cell_type": "code",
   "execution_count": 25,
   "metadata": {},
   "outputs": [],
   "source": [
    "frank = Dog(breed='Huskie', name='Frank')"
   ]
  },
  {
   "cell_type": "code",
   "execution_count": 26,
   "metadata": {},
   "outputs": [
    {
     "data": {
      "text/plain": [
       "'mammal'"
      ]
     },
     "execution_count": 26,
     "metadata": {},
     "output_type": "execute_result"
    }
   ],
   "source": [
    "frank.species"
   ]
  },
  {
   "cell_type": "code",
   "execution_count": 27,
   "metadata": {},
   "outputs": [],
   "source": [
    "# Reassing the attribute 'species' to 'bird'\n",
    "frank.species = 'bird'"
   ]
  },
  {
   "cell_type": "markdown",
   "metadata": {},
   "source": [
    "This didn't change the class attribute for the newly created class instance `my_dog`, as shown below. Instead, the reassignment `frank.species = 'bird'` created a new instance attribute `species` for the class instance `frank` that has the same name as the class attribute `species`. "
   ]
  },
  {
   "cell_type": "code",
   "execution_count": 28,
   "metadata": {},
   "outputs": [],
   "source": [
    "my_dog = Dog(breed='Terrier', name='Scooby')"
   ]
  },
  {
   "cell_type": "code",
   "execution_count": 29,
   "metadata": {},
   "outputs": [
    {
     "data": {
      "text/plain": [
       "'mammal'"
      ]
     },
     "execution_count": 29,
     "metadata": {},
     "output_type": "execute_result"
    }
   ],
   "source": [
    "# The class attribute of the new instance is still 'mammal'\n",
    "my_dog.species"
   ]
  },
  {
   "cell_type": "markdown",
   "metadata": {},
   "source": [
    "In summary:\n",
    "\n",
    "- Class attributes are defined in the body of the `class` definition directly. Class attributes are common to the class. Their data is the same for all instances of the class.\n",
    "- Instance attributes are defined inside the `__init__()` method within the `class` definition. Instance attributes belong to a concrete instance of the class. Their data is specific to that concrete instance of the class."
   ]
  },
  {
   "cell_type": "markdown",
   "metadata": {},
   "source": [
    "##### The `__dict__` Attribute\n",
    "\n",
    "Both classes and instances in Python have a special attribute called `__dict__`. This attribute is a dictionary, with the keys being the attribute names and the values are the attached attribute values. For a class instance `__dict__` holds the instance attributes, and for a class `__dict__` holds class attributes and methods."
   ]
  },
  {
   "cell_type": "code",
   "execution_count": 30,
   "metadata": {},
   "outputs": [
    {
     "data": {
      "text/plain": [
       "{'breed': 'Terrier', 'name': 'Scooby'}"
      ]
     },
     "execution_count": 30,
     "metadata": {},
     "output_type": "execute_result"
    }
   ],
   "source": [
    "my_dog.__dict__"
   ]
  },
  {
   "cell_type": "code",
   "execution_count": 31,
   "metadata": {},
   "outputs": [
    {
     "data": {
      "text/plain": [
       "{'breed': 'Huskie', 'name': 'Frank', 'species': 'bird'}"
      ]
     },
     "execution_count": 31,
     "metadata": {},
     "output_type": "execute_result"
    }
   ],
   "source": [
    "frank.__dict__"
   ]
  },
  {
   "cell_type": "code",
   "execution_count": 32,
   "metadata": {},
   "outputs": [
    {
     "data": {
      "text/plain": [
       "mappingproxy({'__module__': '__main__',\n",
       "              'species': 'mammal',\n",
       "              '__init__': <function __main__.Dog.__init__(self, breed, name)>,\n",
       "              '__dict__': <attribute '__dict__' of 'Dog' objects>,\n",
       "              '__weakref__': <attribute '__weakref__' of 'Dog' objects>,\n",
       "              '__doc__': None})"
      ]
     },
     "execution_count": 32,
     "metadata": {},
     "output_type": "execute_result"
    }
   ],
   "source": [
    "Dog.__dict__"
   ]
  },
  {
   "cell_type": "markdown",
   "metadata": {},
   "source": [
    "Python also allows to change the value of existing instance attributes through `__dict__`, or even to add new attributes through `__dict__`."
   ]
  },
  {
   "cell_type": "markdown",
   "metadata": {},
   "source": [
    "### 5.2.2 Methods <a id=\"5.2.2-methods\"/>\n",
    "\n",
    "**Methods** are functions defined inside the body of a class. By defining it inside the class, we establish a relationship between the method and the class. Because methods are functions, they can take arguments and return values. \n",
    "\n",
    "In a Python class, we can define three different types of methods:\n",
    "\n",
    "- Instance methods, which take the current instance `self` as their first argument.\n",
    "- Class methods, which take the current class `cls` as their first argument.\n",
    "- Static methods, which take neither the class nor the instance.\n",
    "\n",
    "The focus here will be on the instance methods, as the most common type of methods in classes."
   ]
  },
  {
   "cell_type": "markdown",
   "metadata": {},
   "source": [
    "#### Instance Methods\n",
    "\n",
    "**Instance methods** are functions defined inside the body of a class, designed to perform operations on the class objects. \n",
    "\n",
    "Methods have access to all attributes for an instance of the class. They can access and modify the attributes through the argument `self`. \n",
    "\n",
    "We can basically think of methods as regular functions, with one major difference that the first argument of the method is always the instance object referenced through `self`. \n",
    "\n",
    "Technically, even the word `self` is a convention, and any other term can be used instead of `self`. However, if you use another word, that would be very unusual for other coders using your code.\n",
    "\n",
    "Let's see an example of creating a class for a `Circle` shown below. The objects of this class have three methods: `getArea` which calculates the area, `getCircumference` which calculates the circumference, and `SetRadius` which allows to change the attribute `radius`. "
   ]
  },
  {
   "cell_type": "code",
   "execution_count": 33,
   "metadata": {},
   "outputs": [],
   "source": [
    "class Circle:\n",
    "    pi = 3.14\n",
    "\n",
    "    # Circle gets instantiated with a radius (default is 1)\n",
    "    def __init__(self, radius=1):\n",
    "        self.radius = radius \n",
    "\n",
    "    # Method for getting Area\n",
    "    def getArea(self):\n",
    "        return self.radius * self.radius * self.pi\n",
    "\n",
    "    # Method for getting Circumference\n",
    "    def getCircumference(self):\n",
    "        return self.radius * self.pi * 2\n",
    "\n",
    "    # Method for resetting Radius\n",
    "    def setRadius(self, new_radius):\n",
    "        self.radius = new_radius\n",
    "        self.area = new_radius * new_radius * self.pi"
   ]
  },
  {
   "cell_type": "markdown",
   "metadata": {},
   "source": [
    "Notice that within the methods `getArea` and `getCircumference` we used the notation `self.radius` and `self.pi` to reference the attributes that we defined inside the body of the class. These two methods don't take any other arguments except `self`.\n",
    "\n",
    "The method `setRadius` takes another argument `new_radius`, and it allows to change the value of the current argument `radius`."
   ]
  },
  {
   "cell_type": "markdown",
   "metadata": {},
   "source": [
    "The methods are accessed by using the dot notation.\n",
    "\n",
    "    instance.method()\n",
    "    "
   ]
  },
  {
   "cell_type": "code",
   "execution_count": 34,
   "metadata": {},
   "outputs": [
    {
     "name": "stdout",
     "output_type": "stream",
     "text": [
      "Radius is:  1\n",
      "Area is:  3.14\n",
      "Circumference is:  6.28\n"
     ]
    }
   ],
   "source": [
    "# Let's call it\n",
    "c = Circle()\n",
    "\n",
    "print('Radius is: ', c.radius)\n",
    "print('Area is: ', c.getArea())\n",
    "print('Circumference is: ', c.getCircumference())"
   ]
  },
  {
   "cell_type": "markdown",
   "metadata": {},
   "source": [
    "Now let's change the radius with the method `setRadius` and see how that affects the `Circle` object:"
   ]
  },
  {
   "cell_type": "code",
   "execution_count": 35,
   "metadata": {},
   "outputs": [
    {
     "name": "stdout",
     "output_type": "stream",
     "text": [
      "Radius is:  3\n",
      "Area is:  28.26\n",
      "Circumference is:  18.84\n"
     ]
    }
   ],
   "source": [
    "c.setRadius(3)\n",
    "\n",
    "print('Radius is: ', c.radius)\n",
    "print('Area is: ', c.area)\n",
    "print('Circumference is: ', c.getCircumference())"
   ]
  },
  {
   "cell_type": "markdown",
   "metadata": {},
   "source": [
    "Notice again in the above cell that when we call `getArea` and `getCircumference` methods, we don't need to provide a value for the `self` argument. Python takes care of that step, and it automatically passes the class instance to `self`.\n",
    "\n",
    "However, if we wish, we can manually provide the desired class instance when calling these methods. To do this though, we need to call the method on the class, as shown next."
   ]
  },
  {
   "cell_type": "code",
   "execution_count": 36,
   "metadata": {},
   "outputs": [
    {
     "data": {
      "text/plain": [
       "18.84"
      ]
     },
     "execution_count": 36,
     "metadata": {},
     "output_type": "execute_result"
    }
   ],
   "source": [
    "Circle.getCircumference(c)"
   ]
  },
  {
   "cell_type": "markdown",
   "metadata": {},
   "source": [
    "If we try to call the methods on the instance `c`, that will raise an exception."
   ]
  },
  {
   "cell_type": "code",
   "execution_count": 37,
   "metadata": {},
   "outputs": [
    {
     "ename": "TypeError",
     "evalue": "getCircumference() takes 1 positional argument but 2 were given",
     "output_type": "error",
     "traceback": [
      "\u001b[1;31m---------------------------------------------------------------------------\u001b[0m",
      "\u001b[1;31mTypeError\u001b[0m                                 Traceback (most recent call last)",
      "\u001b[1;32m~\\AppData\\Local\\Temp\\ipykernel_2940\\521085191.py\u001b[0m in \u001b[0;36m<module>\u001b[1;34m\u001b[0m\n\u001b[1;32m----> 1\u001b[1;33m \u001b[0mc\u001b[0m\u001b[1;33m.\u001b[0m\u001b[0mgetCircumference\u001b[0m\u001b[1;33m(\u001b[0m\u001b[0mc\u001b[0m\u001b[1;33m)\u001b[0m\u001b[1;33m\u001b[0m\u001b[1;33m\u001b[0m\u001b[0m\n\u001b[0m",
      "\u001b[1;31mTypeError\u001b[0m: getCircumference() takes 1 positional argument but 2 were given"
     ]
    }
   ],
   "source": [
    "c.getCircumference(c)"
   ]
  },
  {
   "cell_type": "markdown",
   "metadata": {},
   "source": [
    "Shown next is one more example of a class `Customer` with attributes `name` and `balance`, and methods `withdraw` and `deposit`. "
   ]
  },
  {
   "cell_type": "code",
   "execution_count": 38,
   "metadata": {},
   "outputs": [],
   "source": [
    "class Customer():\n",
    "    \"\"\"A customer of ABC Bank with a checking account. Customers have the\n",
    "    following properties:\n",
    "\n",
    "    Attributes:\n",
    "        name: A string representing the customer's name.\n",
    "        balance: A float tracking the current balance of the customer's account.\n",
    "    \"\"\"\n",
    "\n",
    "    def __init__(self, name, balance=0.0):\n",
    "        \"\"\"Return a Customer object whose name is *name* and starting\n",
    "        balance is *balance*.\"\"\"\n",
    "        self.name = name\n",
    "        self.balance = balance\n",
    "\n",
    "    def withdraw(self, amount):\n",
    "        \"\"\"Return the balance remaining after withdrawing *amount*\n",
    "        dollars.\"\"\"\n",
    "        if amount > self.balance:\n",
    "            raise RuntimeError('Amount greater than available balance.')\n",
    "        self.balance -= amount\n",
    "        return self.balance\n",
    "\n",
    "    def deposit(self, amount):\n",
    "        \"\"\"Return the balance remaining after depositing *amount*\n",
    "        dollars.\"\"\"\n",
    "        self.balance += amount\n",
    "        return self.balance"
   ]
  },
  {
   "cell_type": "code",
   "execution_count": 39,
   "metadata": {},
   "outputs": [],
   "source": [
    "# Create a new instance\n",
    "bob = Customer('Bob Smith', 1000)"
   ]
  },
  {
   "cell_type": "code",
   "execution_count": 40,
   "metadata": {},
   "outputs": [
    {
     "data": {
      "text/plain": [
       "900"
      ]
     },
     "execution_count": 40,
     "metadata": {},
     "output_type": "execute_result"
    }
   ],
   "source": [
    "bob.withdraw(100)"
   ]
  },
  {
   "cell_type": "code",
   "execution_count": 41,
   "metadata": {},
   "outputs": [
    {
     "data": {
      "text/plain": [
       "1300"
      ]
     },
     "execution_count": 41,
     "metadata": {},
     "output_type": "execute_result"
    }
   ],
   "source": [
    "bob.deposit(400)"
   ]
  },
  {
   "cell_type": "code",
   "execution_count": 42,
   "metadata": {},
   "outputs": [
    {
     "ename": "RuntimeError",
     "evalue": "Amount greater than available balance.",
     "output_type": "error",
     "traceback": [
      "\u001b[1;31m---------------------------------------------------------------------------\u001b[0m",
      "\u001b[1;31mRuntimeError\u001b[0m                              Traceback (most recent call last)",
      "\u001b[1;32m~\\AppData\\Local\\Temp\\ipykernel_2940\\323204834.py\u001b[0m in \u001b[0;36m<module>\u001b[1;34m\u001b[0m\n\u001b[0;32m      1\u001b[0m \u001b[1;31m# Based on the exception in the 'withdraw' method\u001b[0m\u001b[1;33m\u001b[0m\u001b[1;33m\u001b[0m\u001b[0m\n\u001b[1;32m----> 2\u001b[1;33m \u001b[0mbob\u001b[0m\u001b[1;33m.\u001b[0m\u001b[0mwithdraw\u001b[0m\u001b[1;33m(\u001b[0m\u001b[1;36m1600\u001b[0m\u001b[1;33m)\u001b[0m\u001b[1;33m\u001b[0m\u001b[1;33m\u001b[0m\u001b[0m\n\u001b[0m",
      "\u001b[1;32m~\\AppData\\Local\\Temp\\ipykernel_2940\\2930014863.py\u001b[0m in \u001b[0;36mwithdraw\u001b[1;34m(self, amount)\u001b[0m\n\u001b[0;32m     18\u001b[0m         dollars.\"\"\"\n\u001b[0;32m     19\u001b[0m         \u001b[1;32mif\u001b[0m \u001b[0mamount\u001b[0m \u001b[1;33m>\u001b[0m \u001b[0mself\u001b[0m\u001b[1;33m.\u001b[0m\u001b[0mbalance\u001b[0m\u001b[1;33m:\u001b[0m\u001b[1;33m\u001b[0m\u001b[1;33m\u001b[0m\u001b[0m\n\u001b[1;32m---> 20\u001b[1;33m             \u001b[1;32mraise\u001b[0m \u001b[0mRuntimeError\u001b[0m\u001b[1;33m(\u001b[0m\u001b[1;34m'Amount greater than available balance.'\u001b[0m\u001b[1;33m)\u001b[0m\u001b[1;33m\u001b[0m\u001b[1;33m\u001b[0m\u001b[0m\n\u001b[0m\u001b[0;32m     21\u001b[0m         \u001b[0mself\u001b[0m\u001b[1;33m.\u001b[0m\u001b[0mbalance\u001b[0m \u001b[1;33m-=\u001b[0m \u001b[0mamount\u001b[0m\u001b[1;33m\u001b[0m\u001b[1;33m\u001b[0m\u001b[0m\n\u001b[0;32m     22\u001b[0m         \u001b[1;32mreturn\u001b[0m \u001b[0mself\u001b[0m\u001b[1;33m.\u001b[0m\u001b[0mbalance\u001b[0m\u001b[1;33m\u001b[0m\u001b[1;33m\u001b[0m\u001b[0m\n",
      "\u001b[1;31mRuntimeError\u001b[0m: Amount greater than available balance."
     ]
    }
   ],
   "source": [
    "# Based on the exception in the 'withdraw' method\n",
    "bob.withdraw(1600)"
   ]
  },
  {
   "cell_type": "markdown",
   "metadata": {},
   "source": [
    "### Polymorphism in Classes\n",
    "\n",
    "We learned about polymorphism in functions, and we saw that when functions take in different arguments, the actions depend on the type of objects. \n",
    "Similarly, in Python **polymorphism** exists with classes, where different classes can share the same method name, and these methods can perform different actions based on the object they act upon. \n",
    "\n",
    "Let's see an example."
   ]
  },
  {
   "cell_type": "code",
   "execution_count": 43,
   "metadata": {},
   "outputs": [
    {
     "name": "stdout",
     "output_type": "stream",
     "text": [
      "Niko says Woof!\n",
      "Felix says Meow!\n"
     ]
    }
   ],
   "source": [
    "class Dog:\n",
    "    def __init__(self, name):\n",
    "        self.name = name\n",
    "\n",
    "    def speak(self):\n",
    "        return self.name+' says Woof!'\n",
    "    \n",
    "class Cat:\n",
    "    def __init__(self, name):\n",
    "        self.name = name\n",
    "\n",
    "    def speak(self):\n",
    "        return self.name+' says Meow!' \n",
    "    \n",
    "niko = Dog('Niko')\n",
    "felix = Cat('Felix')\n",
    "\n",
    "print(niko.speak())\n",
    "print(felix.speak())"
   ]
  },
  {
   "cell_type": "markdown",
   "metadata": {},
   "source": [
    "Here we have a `Dog` class and a `Cat` class, and each has a `speak()` method. When called, each object's `speak()` method returns a result that is unique to the class of the instance. This demonstrated polymorphism, because we passed in different object types to the `speak()` method, and we obtained object-specific results from the same method."
   ]
  },
  {
   "cell_type": "markdown",
   "metadata": {},
   "source": [
    "## 5.3 Inheritance  <a id=\"5.3-inheritance\"/>\n",
    "\n",
    "For our programs to be truly object-oriented, it is required that they use inheritance hierarchy. **Inheritance** is the process of creating a new class by reusing the attributes and methods from an existing class. This way, we can edit only what we need to modify in the new class, and this will override the behavior of the old class.\n",
    "\n",
    "The newly formed inheriting class is known as a **subclass** or **child class** or **derived class**, and the class it inherits from is known as a **superclass** or **parent class** or **base class**.\n",
    "\n",
    "Important benefits of inheritance are code reuse and reduction of complexity of a program, because the child classes override or extend the functionality of parent classes.\n",
    "\n",
    "Let's see an example by incorporating inheritance. In this example, we have four classes: `Animal`, `Dog`, `Cat`, and `Fish`. The `Animal` is the parent class (superclass), and `Dog`, `Cat`, and `Fish` are the child classes (subclasses).\n",
    "\n",
    "Note that when defining the child classes `Dog`, `Cat`, and `Fish`, the parent class `Animal` is listed in parentheses in the class header, i.e., `class Dog(Animal)`."
   ]
  },
  {
   "cell_type": "code",
   "execution_count": 44,
   "metadata": {},
   "outputs": [],
   "source": [
    "class Animal:\n",
    "    def __init__(self):\n",
    "        print(\"Animal created\")\n",
    "\n",
    "    def whoAmI(self):\n",
    "        print(\"Animal\")\n",
    "\n",
    "    def eat(self):\n",
    "        print(\"Eating\")\n",
    "\n",
    "        \n",
    "class Dog(Animal): # The class Dog inherits the functionalities of the class Animal\n",
    "    def __init__(self):\n",
    "        Animal.__init__(self)   # This can also be replaced with: super().__init__()\n",
    "        print(\"Dog created\")\n",
    "\n",
    "    def whoAmI(self): \n",
    "        print(\"Dog\")\n",
    "\n",
    "    def bark(self):\n",
    "        print(\"Woof!\")\n",
    "        \n",
    "\n",
    "class Cat(Animal): # The class Cat inherits the functionalities of the class Animal\n",
    "    def __init__(self):\n",
    "        # The line Animal.__init__(self) is missing in the Cat class\n",
    "        print(\"Cat created\")\n",
    "\n",
    "    def whoAmI(self): \n",
    "        print(\"Cat\")\n",
    "\n",
    "        \n",
    "class Fish(Animal): # The class Fish inherits the functionalities of the class Animal\n",
    "    # attributes are not specified\n",
    "    \n",
    "    def whoAmI(self): \n",
    "        print(\"Fish\")"
   ]
  },
  {
   "cell_type": "markdown",
   "metadata": {},
   "source": [
    "Let's create instances of the child classes."
   ]
  },
  {
   "cell_type": "code",
   "execution_count": 45,
   "metadata": {},
   "outputs": [
    {
     "name": "stdout",
     "output_type": "stream",
     "text": [
      "Animal created\n",
      "Dog created\n"
     ]
    }
   ],
   "source": [
    "d = Dog()"
   ]
  },
  {
   "cell_type": "code",
   "execution_count": 46,
   "metadata": {},
   "outputs": [
    {
     "name": "stdout",
     "output_type": "stream",
     "text": [
      "Cat created\n"
     ]
    }
   ],
   "source": [
    "# Note the difference in the attributes in comparison to Dog\n",
    "c = Cat()"
   ]
  },
  {
   "cell_type": "code",
   "execution_count": 47,
   "metadata": {},
   "outputs": [
    {
     "name": "stdout",
     "output_type": "stream",
     "text": [
      "Animal created\n"
     ]
    }
   ],
   "source": [
    "# Note the difference in the attributes in comparison to Cat\n",
    "f = Fish()"
   ]
  },
  {
   "cell_type": "markdown",
   "metadata": {},
   "source": [
    "Parent classes typically provide generic and common functionality that we can reuse throughout multiple child classes. In this sense, the `Animal` class provides properties that are common for most other animals. \n",
    "\n",
    "Child classes **inherit attributes and methods** from the parent class. For instance, notice that if call the `eat()` method with the class instances of `Dog` and `Fish`, the word `Eating` is printed. Although the method `eat()` is not defined in the classes `Dog` and `Fish`, the instances inherit the method from the parent class `Animal`."
   ]
  },
  {
   "cell_type": "code",
   "execution_count": 48,
   "metadata": {},
   "outputs": [
    {
     "name": "stdout",
     "output_type": "stream",
     "text": [
      "Eating\n"
     ]
    }
   ],
   "source": [
    "d.eat()"
   ]
  },
  {
   "cell_type": "code",
   "execution_count": 49,
   "metadata": {},
   "outputs": [
    {
     "name": "stdout",
     "output_type": "stream",
     "text": [
      "Eating\n"
     ]
    }
   ],
   "source": [
    "f.eat()"
   ]
  },
  {
   "cell_type": "markdown",
   "metadata": {},
   "source": [
    "The child classes not only inherit attributes and methods from the parent class, but they can also **modify attributes and methods** existing in the parent class. This is shown by the method `whoAmI()`. When this method is called, Python searches for the name first in the child class, and if it is not found, afterwards it searches in the parent class. In this case, `whoAmI()` method is found in the child classes `Dog`, `Cat`, and `Fish`."
   ]
  },
  {
   "cell_type": "code",
   "execution_count": 50,
   "metadata": {},
   "outputs": [
    {
     "name": "stdout",
     "output_type": "stream",
     "text": [
      "Dog\n"
     ]
    }
   ],
   "source": [
    "d.whoAmI()"
   ]
  },
  {
   "cell_type": "code",
   "execution_count": 51,
   "metadata": {},
   "outputs": [
    {
     "name": "stdout",
     "output_type": "stream",
     "text": [
      "Cat\n"
     ]
    }
   ],
   "source": [
    "c.whoAmI()"
   ]
  },
  {
   "cell_type": "markdown",
   "metadata": {},
   "source": [
    "Finally, the child class `Dog` **extends the functionality of the parent class** by defining a new `bark()` method that does not exist in the `Animal` class."
   ]
  },
  {
   "cell_type": "code",
   "execution_count": 52,
   "metadata": {},
   "outputs": [
    {
     "name": "stdout",
     "output_type": "stream",
     "text": [
      "Woof!\n"
     ]
    }
   ],
   "source": [
    "d.bark()"
   ]
  },
  {
   "cell_type": "markdown",
   "metadata": {},
   "source": [
    "Similar to inheritance in nature, only child classes inherit from the parent class, and the parent class does not inherit attributes and methods from the child classes.\n",
    "\n",
    "One more example follows, where `Person` is a parent class, and `Manager` is a child class of `Person` and inherits attributes and methods."
   ]
  },
  {
   "cell_type": "code",
   "execution_count": 53,
   "metadata": {},
   "outputs": [],
   "source": [
    "class Person:\n",
    "    def __init__(self, name, job=None, pay=0):\n",
    "        self.name = name\n",
    "        self.job = job\n",
    "        self.pay = pay\n",
    "    \n",
    "    def giveRaise(self, percent):\n",
    "        self.pay = int(self.pay * (1 + percent)) \n",
    "        \n",
    "class Manager(Person):\n",
    "    def giveRaise(self, percent, bonus=.10):\n",
    "        self.pay = int(self.pay * (1 + percent + bonus))       "
   ]
  },
  {
   "cell_type": "code",
   "execution_count": 54,
   "metadata": {},
   "outputs": [
    {
     "data": {
      "text/plain": [
       "55000"
      ]
     },
     "execution_count": 54,
     "metadata": {},
     "output_type": "execute_result"
    }
   ],
   "source": [
    "# Create a new instance of Person\n",
    "bob =  Person('Bob Smith', pay=50000)\n",
    "bob.giveRaise(percent=0.1)  # 50000 * (1+ 0.1) = 50000 * 1.1 = 55000\n",
    "bob.pay"
   ]
  },
  {
   "cell_type": "code",
   "execution_count": 55,
   "metadata": {},
   "outputs": [
    {
     "name": "stdout",
     "output_type": "stream",
     "text": [
      "Tom Jones mgr 50000\n"
     ]
    }
   ],
   "source": [
    "# Create a new instance of Manager\n",
    "tom = Manager('Tom Jones', 'mgr', 50000)\n",
    "print(tom.name, tom.job, tom.pay)"
   ]
  },
  {
   "cell_type": "code",
   "execution_count": 56,
   "metadata": {},
   "outputs": [
    {
     "data": {
      "text/plain": [
       "60000"
      ]
     },
     "execution_count": 56,
     "metadata": {},
     "output_type": "execute_result"
    }
   ],
   "source": [
    "# On a salary of 50,000, giveRaise for Person applied 10% raise, and giveRaise for Manager applied 10% bonus\n",
    "tom.giveRaise(percent=0.1, bonus=0.1)   # 50000 * (1+ 0.1 + 0.1) = 50000 * 1.2 = 60000\n",
    "tom.pay"
   ]
  },
  {
   "cell_type": "markdown",
   "metadata": {},
   "source": [
    "Another way to define the method `giveRaise` for the `Manager` child class is by using the syntax below `superclass.method(self, arguments)`, as in `Person.giveRaise(self, percent + bonus)` shown below. Note that this is different from the syntax above `self.method(arguments)` as in `self.pay = int(self.pay * (1 + percent + bonus)) `. However, this coding approach using `self.method(arguments)` does not rely on the superclass `Person`, and if `Person` is changed, the code will not work as expected. Therefore, it is preferred to use the syntax `superclass.method(self, arguments)`."
   ]
  },
  {
   "cell_type": "code",
   "execution_count": 57,
   "metadata": {},
   "outputs": [],
   "source": [
    "class Manager(Person):\n",
    "    def giveRaise(self, percent, bonus=.10):\n",
    "        Person.giveRaise(self, percent + bonus) "
   ]
  },
  {
   "cell_type": "code",
   "execution_count": 58,
   "metadata": {},
   "outputs": [
    {
     "data": {
      "text/plain": [
       "60000"
      ]
     },
     "execution_count": 58,
     "metadata": {},
     "output_type": "execute_result"
    }
   ],
   "source": [
    "tom = Manager('Tom Jones', 'mgr', 50000)\n",
    "# On a salary of 50,000, giveRaise for Person applied 10% raise, and giveRaise for Manager applied 10% bonus\n",
    "tom.giveRaise(percent=0.1, bonus=0.1)   # Person.giveRaise(.10+0.10) = Person.giveRaise(0.20)   # 50000 * 1.2 = 60000\n",
    "tom.pay"
   ]
  },
  {
   "cell_type": "markdown",
   "metadata": {},
   "source": [
    "### The super() function"
   ]
  },
  {
   "cell_type": "markdown",
   "metadata": {},
   "source": [
    "The `super()` function in Python returns a temporary object of the parent class that then allows to call methods from the parent class in child classes. This allows to define new methods in the child class with minimal code changes.\n",
    "\n",
    "For instance, in the example below, a parent class `Rectangle` is defined, and a child class `Cube` is created that inherits from `Rectangle`. To calculate the volume of a Cube, the child class `Cube` inherited the method `area()` from the class `Rectangle` via `super().area()`. Since the method `volume()` for a cube relies on calculating the area of a single face, rather than reimplementing the area calculation, we use the function `super()` to extend the area calculation. The function `super()` returns an object of the superclass, and allows to call the method `volume()` directly through `super().area()`."
   ]
  },
  {
   "cell_type": "code",
   "execution_count": 59,
   "metadata": {},
   "outputs": [],
   "source": [
    "class Rectangle:\n",
    "    def __init__(self, length, width):\n",
    "        self.length = length\n",
    "        self.width = width\n",
    "\n",
    "    def area(self):\n",
    "        return self.length * self.width\n",
    "\n",
    "    def perimeter(self):\n",
    "        return 2 * self.length + 2 * self.width\n",
    "\n",
    "class Cube(Rectangle):\n",
    "    def __init__(self, length, width, height):\n",
    "        self.length = length\n",
    "        self.width = width\n",
    "        self.height = height\n",
    "    \n",
    "    def volume(self):\n",
    "        face_area = super().area()\n",
    "        return face_area * self.height    "
   ]
  },
  {
   "cell_type": "code",
   "execution_count": 60,
   "metadata": {},
   "outputs": [
    {
     "data": {
      "text/plain": [
       "32"
      ]
     },
     "execution_count": 60,
     "metadata": {},
     "output_type": "execute_result"
    }
   ],
   "source": [
    "cube1 = Cube(4, 4, 2)\n",
    "cube1.volume()"
   ]
  },
  {
   "cell_type": "markdown",
   "metadata": {},
   "source": [
    "One more example is provided next, with a parent class `Person` and child class `Student`. Note that in the definition of the `Student` class, we called the `__init__()` function from the superclass to initialize the attributes `student_name`, `student_age`, and `student_residence`. The call to the parent class `super().__init__(student_name, student_age, student_residence)` is equivalent to calling the function as `Person.__init__(self, student_name, student_age, student_residence)`."
   ]
  },
  {
   "cell_type": "code",
   "execution_count": 61,
   "metadata": {},
   "outputs": [],
   "source": [
    "class Person:\n",
    "\n",
    "    def __init__(self, name, age, residence):\n",
    "        self.name = name\n",
    "        self.age = age\n",
    "        self.residence = residence\n",
    "\n",
    "    def show_name(self):\n",
    "        print(self.name)\n",
    "\n",
    "    def show_age(self):\n",
    "        print(self.age)\n",
    "\n",
    "class Student(Person):\n",
    "    studentId = \"\"\n",
    "\n",
    "    def __init__(self, student_name, student_age, student_residence, student_id):\n",
    "        super().__init__(student_name, student_age, student_residence)\n",
    "        self.studentId = student_id\n",
    "\n",
    "    def show_id(self):\n",
    "        print(self.studentId)  "
   ]
  },
  {
   "cell_type": "code",
   "execution_count": 62,
   "metadata": {},
   "outputs": [
    {
     "name": "stdout",
     "output_type": "stream",
     "text": [
      "Max\n"
     ]
    }
   ],
   "source": [
    "# Create an object of the child class\n",
    "student1 = Student(\"Max\", 22, \"Moscow\", \"100022\")\n",
    "student1.show_name()"
   ]
  },
  {
   "cell_type": "code",
   "execution_count": 63,
   "metadata": {},
   "outputs": [
    {
     "name": "stdout",
     "output_type": "stream",
     "text": [
      "100022\n"
     ]
    }
   ],
   "source": [
    "student1.show_id()"
   ]
  },
  {
   "cell_type": "markdown",
   "metadata": {},
   "source": [
    "### Class Hierarchies"
   ]
  },
  {
   "cell_type": "markdown",
   "metadata": {},
   "source": [
    "Using inheritance, we can build class hierarchies, also known as inheritance trees. A **class hierarchy** is a set of closely related classes that are connected through inheritance and arranged in a tree-like structure. The class or classes at the top of the hierarchy are the parent classes, while the classes below are derived classes or child classes. \n",
    "\n",
    "Therefore, classes at the top of the hierarchy are generic classes with common functionality, while classes down the hierarchy are more specialized and they inherit attributes and methods from their parent classes and also have their own attributes and methods.\n",
    "\n",
    "Let's revisit again the example with the animals, where the following tree hierarchy will be created."
   ]
  },
  {
   "cell_type": "markdown",
   "metadata": {},
   "source": [
    "<img src=\"images/tree_hierarchy.png\" width=\"620\">\n",
    "<em>Figure source: Reference [3].</em>"
   ]
  },
  {
   "cell_type": "markdown",
   "metadata": {},
   "source": [
    "In this hierarchy, a parent class `Animal` is at the top. Below this class, we have subclasses like `Mammal`, `Bird`, and `Fish`, which inherit the attributes and methods from the class `Animal`. At the bottom level, we can have classes like `Dog`, `Cat`, `Eagle`, `Penguin`, `Salmon`, and `Shark`. E.g., `Dog` and `Cat` are both mammals and animals, and they inherit from both of these superclasses and have their own attributes and methods. "
   ]
  },
  {
   "cell_type": "code",
   "execution_count": 64,
   "metadata": {},
   "outputs": [],
   "source": [
    "class Animal:\n",
    "    def __init__(self, name, sex, habitat):\n",
    "        self.name = name\n",
    "        self.sex = sex\n",
    "        self.habitat = habitat\n",
    "\n",
    "class Mammal(Animal):\n",
    "    unique_feature = \"Mammary glands\"\n",
    "\n",
    "class Bird(Animal):\n",
    "    unique_feature = \"Feathers\"\n",
    "\n",
    "class Fish(Animal):\n",
    "    unique_feature = \"Gills\"\n",
    "\n",
    "class Dog(Mammal):\n",
    "    def walk(self):\n",
    "        print(\"The dog is walking\")\n",
    "\n",
    "class Cat(Mammal):\n",
    "    def walk(self):\n",
    "        print(\"The cat is walking\")\n",
    "\n",
    "class Eagle(Bird):\n",
    "    def fly(self):\n",
    "        print(\"The eagle is flying\")\n",
    "\n",
    "class Penguin(Bird):\n",
    "    def swim(self):\n",
    "        print(\"The penguin is swimming\")\n",
    "\n",
    "class Salmon(Fish):\n",
    "    def swim(self):\n",
    "        print(\"The salmon is swimming\")\n",
    "\n",
    "class Shark(Fish):\n",
    "    def swim(self):\n",
    "        print(\"The shark is swimming\")"
   ]
  },
  {
   "cell_type": "code",
   "execution_count": 65,
   "metadata": {},
   "outputs": [],
   "source": [
    "d = Dog('Fido', 'M', 'Europe')"
   ]
  },
  {
   "cell_type": "code",
   "execution_count": 66,
   "metadata": {},
   "outputs": [
    {
     "data": {
      "text/plain": [
       "'Mammary glands'"
      ]
     },
     "execution_count": 66,
     "metadata": {},
     "output_type": "execute_result"
    }
   ],
   "source": [
    "d.unique_feature"
   ]
  },
  {
   "cell_type": "code",
   "execution_count": 67,
   "metadata": {},
   "outputs": [
    {
     "name": "stdout",
     "output_type": "stream",
     "text": [
      "The dog is walking\n"
     ]
    }
   ],
   "source": [
    "d.walk()"
   ]
  },
  {
   "cell_type": "markdown",
   "metadata": {},
   "source": [
    "## 5.4 Special Methods <a id=\"5.4-special-methods\"/>"
   ]
  },
  {
   "cell_type": "markdown",
   "metadata": {},
   "source": [
    "Python has many other built-in methods which can be used with user-defined classes. These methods are also known as **special methods** or **magic methods**. Similar to the `__init__()` method, all special methods have leading and trailing double underscores (also called *dunders*).\n",
    "\n",
    "For instance, the list of special methods for mathematical operators in Python involve the following.\n",
    "```python\n",
    "a + b       a.__add__(b)\n",
    "a - b       a.__sub__(b)\n",
    "a * b       a.__mul__(b)\n",
    "a / b       a.__truediv__(b)\n",
    "a // b      a.__floordiv__(b)\n",
    "a % b       a.__mod__(b)\n",
    "a << b      a.__lshift__(b)\n",
    "a >> b      a.__rshift__(b)\n",
    "a & b       a.__and__(b)\n",
    "a | b       a.__or__(b)\n",
    "a ^ b       a.__xor__(b)\n",
    "a ** b      a.__pow__(b)\n",
    "-a          a.__neg__()\n",
    "~a          a.__invert__()\n",
    "abs(a)      a.__abs__()\n",
    "```\n",
    "Special methods for item access in sequences involve the following.\n",
    "\n",
    "```python\n",
    "len(x)      x.__len__()\n",
    "x[a]        x.__getitem__(a)\n",
    "x[a] = v    x.__setitem__(a,v)\n",
    "del x[a]    x.__delitem__(a)\n",
    "```\n",
    "\n",
    "Other type of special methods are used for access to object attributes. These include:\n",
    "\n",
    "```python\n",
    "X.a         x.__getattr__()\n",
    "X.a = v     x.__setattr__(a)\n",
    "del X.a     x.__delattr__(a,v)\n",
    "X.any       x.__hasattr__(a)\n",
    "```\n",
    "\n",
    "And there are other types of special methods that are not listed above."
   ]
  },
  {
   "cell_type": "markdown",
   "metadata": {},
   "source": [
    "The use of special methods with user-defined classes is also called **operator overloading** in OOP, because these methods allow the new instances of our user-defined classes to exhibit the behaviors of the applied special methods. For example, the operator `+` is implemented using the special method `__add__()` and it can perform addition of numbers, concatenation of strings, etc. Operator overloading in Python is an example of *polymorphism* in Python. Note that the term polymorphism is more general, and it describes actions performed upon different objects in a different way based on the object, as we saw in the example from the previous section. \n",
    "\n",
    "By implementing special methods into our user-defined classes, our classes can behave like built-in Python types. "
   ]
  },
  {
   "cell_type": "markdown",
   "metadata": {},
   "source": [
    "### Sequence Length with `__len__()`"
   ]
  },
  {
   "cell_type": "markdown",
   "metadata": {},
   "source": [
    "We can implement the special method `__len__()` in our custom classes, which will allow us to use `len()` with the instances of the class. \n",
    "\n",
    "In the example below, we used the method `__len__()` in the class `Employee`, which returns the length of the attribute `self.pay`."
   ]
  },
  {
   "cell_type": "code",
   "execution_count": 68,
   "metadata": {},
   "outputs": [],
   "source": [
    "class Employee: \n",
    "    \n",
    "    def __init__(self, name, pay): \n",
    "        self.name = name\n",
    "        self.pay = pay\n",
    "        \n",
    "    def __len__(self):\n",
    "        return len(self.pay)"
   ]
  },
  {
   "cell_type": "code",
   "execution_count": 69,
   "metadata": {},
   "outputs": [
    {
     "name": "stdout",
     "output_type": "stream",
     "text": [
      "Bob Smith [50000, 55000, 53000, 60000]\n"
     ]
    }
   ],
   "source": [
    "bob = Employee(name='Bob Smith', pay=[50000, 55000, 53000, 60000])\n",
    "print(bob.name, bob.pay)"
   ]
  },
  {
   "cell_type": "code",
   "execution_count": 70,
   "metadata": {},
   "outputs": [
    {
     "data": {
      "text/plain": [
       "4"
      ]
     },
     "execution_count": 70,
     "metadata": {},
     "output_type": "execute_result"
    }
   ],
   "source": [
    "# Length of the bob.pay object\n",
    "len(bob)"
   ]
  },
  {
   "cell_type": "code",
   "execution_count": 71,
   "metadata": {},
   "outputs": [
    {
     "name": "stdout",
     "output_type": "stream",
     "text": [
      "Sue Jones [50000, 60000]\n"
     ]
    }
   ],
   "source": [
    "sue = Employee(name='Sue Jones', pay=[50000, 60000])\n",
    "print(sue.name, sue.pay)"
   ]
  },
  {
   "cell_type": "code",
   "execution_count": 72,
   "metadata": {},
   "outputs": [
    {
     "data": {
      "text/plain": [
       "2"
      ]
     },
     "execution_count": 72,
     "metadata": {},
     "output_type": "execute_result"
    }
   ],
   "source": [
    "len(sue)"
   ]
  },
  {
   "cell_type": "markdown",
   "metadata": {},
   "source": [
    "See the Appendix for additional information about special methods for classes in Python. "
   ]
  },
  {
   "cell_type": "markdown",
   "metadata": {},
   "source": [
    "## Appendix: Additional OOP Info<a id=\"appendix:-additional-oop-info\"/>"
   ]
  },
  {
   "cell_type": "markdown",
   "metadata": {},
   "source": [
    "**The material in the Appendix is not required for quizzes and assignments.**"
   ]
  },
  {
   "cell_type": "markdown",
   "metadata": {
    "tags": []
   },
   "source": [
    "### Abstract Classes"
   ]
  },
  {
   "cell_type": "markdown",
   "metadata": {
    "slideshow": {
     "slide_type": "slide"
    }
   },
   "source": [
    "An **abstract class** is one that never expects to be instantiated. In the next example, we will never instantiate an Animal object, but only Dog and Cat objects will be derived from the class Animal.\n",
    "\n",
    "Abstract classes allow to create a set of methods that must be created within any subclasses built from the abstract class. An **abstract method** is a method that has a declaration but does not have an implementation. An example is the `speak` method in the Animal class. Abstract classes are helpful when designing large functional units and we want to provide a common interface for different implementations of a method. \n",
    "\n",
    "> An **abstract class** is one that is not expected to be instantiated, and contains one or more abstract methods.\n",
    "\n",
    "Python supports abstract classes through the `abc` module, which provides the infrastructure for defining abstract classes. Defining an abstract method is achieved by using the `@abstractmethod` decorator."
   ]
  },
  {
   "cell_type": "code",
   "execution_count": 73,
   "metadata": {},
   "outputs": [
    {
     "name": "stdout",
     "output_type": "stream",
     "text": [
      "Fido says Woof!\n",
      "Isis says Meow!\n"
     ]
    }
   ],
   "source": [
    "from abc import ABC, abstractmethod\n",
    "\n",
    "# Abstract class\n",
    "class Animal(ABC):\n",
    "    \n",
    "    def __init__(self, name):    \n",
    "        self.name = name\n",
    "   \n",
    "    @abstractmethod\n",
    "    def speak(self):              # Abstract method, it is not implemented\n",
    "        pass\n",
    "\n",
    "# Subclass of Animal\n",
    "class Dog(Animal):    \n",
    "    \n",
    "    def speak(self):\n",
    "        return self.name+' says Woof!'\n",
    "\n",
    "# Subclass of Animal    \n",
    "class Cat(Animal):   \n",
    "    \n",
    "    def speak(self):\n",
    "        return self.name+' says Meow!'\n",
    "\n",
    "# Create instances\n",
    "fido = Dog('Fido')\n",
    "isis = Cat('Isis')\n",
    "\n",
    "# The method 'speak' has different implementations for the subclasses Dog and Cat\n",
    "print(fido.speak())\n",
    "print(isis.speak())"
   ]
  },
  {
   "cell_type": "markdown",
   "metadata": {},
   "source": [
    "Note that the abstract class Animal cannot be instantiated, because it has only an abstract version of the `speak` method. "
   ]
  },
  {
   "cell_type": "code",
   "execution_count": 74,
   "metadata": {},
   "outputs": [
    {
     "ename": "TypeError",
     "evalue": "Can't instantiate abstract class Animal with abstract method speak",
     "output_type": "error",
     "traceback": [
      "\u001b[1;31m---------------------------------------------------------------------------\u001b[0m",
      "\u001b[1;31mTypeError\u001b[0m                                 Traceback (most recent call last)",
      "\u001b[1;32m~\\AppData\\Local\\Temp\\ipykernel_2940\\3885960488.py\u001b[0m in \u001b[0;36m<module>\u001b[1;34m\u001b[0m\n\u001b[1;32m----> 1\u001b[1;33m \u001b[0ma\u001b[0m \u001b[1;33m=\u001b[0m \u001b[0mAnimal\u001b[0m\u001b[1;33m(\u001b[0m\u001b[1;34m'fido'\u001b[0m\u001b[1;33m)\u001b[0m\u001b[1;33m\u001b[0m\u001b[1;33m\u001b[0m\u001b[0m\n\u001b[0m",
      "\u001b[1;31mTypeError\u001b[0m: Can't instantiate abstract class Animal with abstract method speak"
     ]
    }
   ],
   "source": [
    "a = Animal('fido')"
   ]
  },
  {
   "cell_type": "markdown",
   "metadata": {},
   "source": [
    "By defining an abstract class, one can define common methods for a set of subclasses. This capability is especially useful in situations where a third-party is going to provide implementations, or it can also help when working in a large team or with a large code-base where maintaining all classes is difficult or not possible. "
   ]
  },
  {
   "cell_type": "markdown",
   "metadata": {},
   "source": [
    "One more example is shown, where the abstract class `Employee` has an abstract method `get_salary`. The subclasses `FulltimeEmployee` and `HourlyEmployee` are derived, and they define different `get_salary` methods for each class. The class `Payroll` has methods to add an employee and print the name and salary information. "
   ]
  },
  {
   "cell_type": "code",
   "execution_count": 75,
   "metadata": {},
   "outputs": [],
   "source": [
    "from abc import ABC, abstractmethod\n",
    "\n",
    "# Abstract class Employee\n",
    "class Employee(ABC):\n",
    "    def __init__(self, first_name, last_name):\n",
    "        self.first_name = first_name\n",
    "        self.last_name = last_name\n",
    "\n",
    "    @abstractmethod\n",
    "    def get_salary(self):\n",
    "        pass\n",
    "    \n",
    "# Subclass \n",
    "class FulltimeEmployee(Employee):\n",
    "    def __init__(self, first_name, last_name, salary):\n",
    "        super().__init__(first_name, last_name)\n",
    "        self.salary = salary\n",
    "\n",
    "    def get_salary(self):\n",
    "        return self.salary\n",
    "    \n",
    "# Subclass \n",
    "class HourlyEmployee(Employee):\n",
    "    def __init__(self, first_name, last_name, worked_hours, rate):\n",
    "        super().__init__(first_name, last_name)\n",
    "        self.worked_hours = worked_hours\n",
    "        self.rate = rate\n",
    "\n",
    "    def get_salary(self):\n",
    "        return self.worked_hours * self.rate\n",
    "\n",
    "# A separate class Payroll\n",
    "class Payroll:\n",
    "    def __init__(self):\n",
    "        self.employee_list = []\n",
    "\n",
    "    def add(self, employee):\n",
    "        self.employee_list.append(employee)\n",
    "\n",
    "    def display(self):\n",
    "        for e in self.employee_list:\n",
    "            print(f'{e.first_name} {e.last_name} \\t ${e.get_salary()}')"
   ]
  },
  {
   "cell_type": "code",
   "execution_count": 76,
   "metadata": {},
   "outputs": [],
   "source": [
    "payroll = Payroll()\n",
    "\n",
    "payroll.add(FulltimeEmployee('John', 'Doe', 6000))\n",
    "payroll.add(FulltimeEmployee('Jane', 'Doe', 6500))\n",
    "payroll.add(HourlyEmployee('Jenifer', 'Smith', 200, 50))\n",
    "payroll.add(HourlyEmployee('David', 'Wilson', 150, 100))\n",
    "payroll.add(HourlyEmployee('Kevin', 'Miller', 100, 150))"
   ]
  },
  {
   "cell_type": "code",
   "execution_count": 77,
   "metadata": {},
   "outputs": [
    {
     "name": "stdout",
     "output_type": "stream",
     "text": [
      "John Doe \t $6000\n",
      "Jane Doe \t $6500\n",
      "Jenifer Smith \t $10000\n",
      "David Wilson \t $15000\n",
      "Kevin Miller \t $15000\n"
     ]
    }
   ],
   "source": [
    "payroll.display()"
   ]
  },
  {
   "cell_type": "markdown",
   "metadata": {},
   "source": [
    "### Additional Special Methods"
   ]
  },
  {
   "cell_type": "markdown",
   "metadata": {},
   "source": [
    "#### Indexing and Slicing with `__getitem__()` and `__setitem__()`"
   ]
  },
  {
   "cell_type": "markdown",
   "metadata": {},
   "source": [
    "Indexing in Python is implemented with the built-in method `__getitem__()`."
   ]
  },
  {
   "cell_type": "code",
   "execution_count": 78,
   "metadata": {},
   "outputs": [
    {
     "data": {
      "text/plain": [
       "1"
      ]
     },
     "execution_count": 78,
     "metadata": {},
     "output_type": "execute_result"
    }
   ],
   "source": [
    "list1 = [1, 2, 3]\n",
    "list1[0]"
   ]
  },
  {
   "cell_type": "code",
   "execution_count": 79,
   "metadata": {},
   "outputs": [
    {
     "data": {
      "text/plain": [
       "1"
      ]
     },
     "execution_count": 79,
     "metadata": {},
     "output_type": "execute_result"
    }
   ],
   "source": [
    "list1.__getitem__(0)"
   ]
  },
  {
   "cell_type": "markdown",
   "metadata": {},
   "source": [
    "We can implement the special method `__getitem__()` in our classes to provide built-in indexing behaviors of Python sequences to our class instances.\n",
    "\n",
    "In the following code, the `index` argument is used to specify the elements in `self.pay`."
   ]
  },
  {
   "cell_type": "code",
   "execution_count": 80,
   "metadata": {},
   "outputs": [],
   "source": [
    "class Employee: \n",
    "    \n",
    "    def __init__(self, name, pay): \n",
    "        self.name = name\n",
    "        self.pay = pay\n",
    "        \n",
    "    def __getitem__(self, index):\n",
    "        return self.pay[index]         "
   ]
  },
  {
   "cell_type": "code",
   "execution_count": 81,
   "metadata": {},
   "outputs": [
    {
     "name": "stdout",
     "output_type": "stream",
     "text": [
      "Bob Smith [50000, 55000, 53000, 60000]\n"
     ]
    }
   ],
   "source": [
    "bob = Employee(name='Bob Smith', pay=[50000, 55000, 53000, 60000])\n",
    "print(bob.name, bob.pay)"
   ]
  },
  {
   "cell_type": "code",
   "execution_count": 82,
   "metadata": {},
   "outputs": [
    {
     "data": {
      "text/plain": [
       "55000"
      ]
     },
     "execution_count": 82,
     "metadata": {},
     "output_type": "execute_result"
    }
   ],
   "source": [
    "bob[1]"
   ]
  },
  {
   "cell_type": "code",
   "execution_count": 83,
   "metadata": {},
   "outputs": [
    {
     "data": {
      "text/plain": [
       "60000"
      ]
     },
     "execution_count": 83,
     "metadata": {},
     "output_type": "execute_result"
    }
   ],
   "source": [
    "bob[-1]"
   ]
  },
  {
   "cell_type": "markdown",
   "metadata": {},
   "source": [
    "Interestingly, in addition to indexing, `__getitem__()` is also used for ***slicing expressions***, as shown below. The Python slice object is used for this purpose to define the starting and stopping index (and optional index step) for extracting the elements from a sequence."
   ]
  },
  {
   "cell_type": "code",
   "execution_count": 84,
   "metadata": {},
   "outputs": [],
   "source": [
    "list1 = [1, 2, 3, 4, 5]"
   ]
  },
  {
   "cell_type": "code",
   "execution_count": 85,
   "metadata": {},
   "outputs": [
    {
     "data": {
      "text/plain": [
       "[3, 4]"
      ]
     },
     "execution_count": 85,
     "metadata": {},
     "output_type": "execute_result"
    }
   ],
   "source": [
    "list1[slice(2, 4)]"
   ]
  },
  {
   "cell_type": "code",
   "execution_count": 86,
   "metadata": {},
   "outputs": [
    {
     "data": {
      "text/plain": [
       "[2, 3, 4]"
      ]
     },
     "execution_count": 86,
     "metadata": {},
     "output_type": "execute_result"
    }
   ],
   "source": [
    "list1[slice(1, -1)]"
   ]
  },
  {
   "cell_type": "code",
   "execution_count": 87,
   "metadata": {},
   "outputs": [
    {
     "data": {
      "text/plain": [
       "[4, 5]"
      ]
     },
     "execution_count": 87,
     "metadata": {},
     "output_type": "execute_result"
    }
   ],
   "source": [
    "list1[slice(3, None)]"
   ]
  },
  {
   "cell_type": "markdown",
   "metadata": {},
   "source": [
    "This means that we can use the `__getitem__()` method within our defined class to perform slicing, if we wanted to, and not only indexing."
   ]
  },
  {
   "cell_type": "code",
   "execution_count": 88,
   "metadata": {},
   "outputs": [
    {
     "name": "stdout",
     "output_type": "stream",
     "text": [
      "Bob Smith [50000, 55000, 53000, 60000]\n"
     ]
    }
   ],
   "source": [
    "print(bob.name, bob.pay)"
   ]
  },
  {
   "cell_type": "code",
   "execution_count": 89,
   "metadata": {},
   "outputs": [
    {
     "data": {
      "text/plain": [
       "[50000, 55000]"
      ]
     },
     "execution_count": 89,
     "metadata": {},
     "output_type": "execute_result"
    }
   ],
   "source": [
    "bob[0:2]"
   ]
  },
  {
   "cell_type": "code",
   "execution_count": 90,
   "metadata": {},
   "outputs": [
    {
     "data": {
      "text/plain": [
       "[55000, 53000, 60000]"
      ]
     },
     "execution_count": 90,
     "metadata": {},
     "output_type": "execute_result"
    }
   ],
   "source": [
    "bob[1:]"
   ]
  },
  {
   "cell_type": "markdown",
   "metadata": {},
   "source": [
    "On the other hand, if we want to change the value of `bob.pay` outside of the class, we won't be able to do that."
   ]
  },
  {
   "cell_type": "code",
   "execution_count": 91,
   "metadata": {},
   "outputs": [
    {
     "ename": "TypeError",
     "evalue": "'Employee' object does not support item assignment",
     "output_type": "error",
     "traceback": [
      "\u001b[1;31m---------------------------------------------------------------------------\u001b[0m",
      "\u001b[1;31mTypeError\u001b[0m                                 Traceback (most recent call last)",
      "\u001b[1;32m~\\AppData\\Local\\Temp\\ipykernel_2940\\64624401.py\u001b[0m in \u001b[0;36m<module>\u001b[1;34m\u001b[0m\n\u001b[1;32m----> 1\u001b[1;33m \u001b[0mbob\u001b[0m\u001b[1;33m[\u001b[0m\u001b[1;36m0\u001b[0m\u001b[1;33m]\u001b[0m \u001b[1;33m=\u001b[0m \u001b[1;36m25000\u001b[0m\u001b[1;33m\u001b[0m\u001b[1;33m\u001b[0m\u001b[0m\n\u001b[0m",
      "\u001b[1;31mTypeError\u001b[0m: 'Employee' object does not support item assignment"
     ]
    }
   ],
   "source": [
    "bob[0] = 25000"
   ]
  },
  {
   "cell_type": "markdown",
   "metadata": {},
   "source": [
    "The special method `__setitem__()` allows to assign values to sequence objects. In the example below, new value can be assigned to the elements of the instance `bob` with a user-entered index. "
   ]
  },
  {
   "cell_type": "code",
   "execution_count": 92,
   "metadata": {},
   "outputs": [],
   "source": [
    "class Employee: \n",
    "    \n",
    "    def __init__(self, name, pay): \n",
    "        self.name = name\n",
    "        self.pay = pay\n",
    "        \n",
    "    def __setitem__(self, index, value):\n",
    "        self.pay[index] = value        "
   ]
  },
  {
   "cell_type": "code",
   "execution_count": 93,
   "metadata": {},
   "outputs": [
    {
     "name": "stdout",
     "output_type": "stream",
     "text": [
      "Bob Smith [50000, 55000, 53000, 60000]\n"
     ]
    }
   ],
   "source": [
    "bob = Employee(name='Bob Smith', pay=[50000, 55000, 53000, 60000])\n",
    "print(bob.name, bob.pay)"
   ]
  },
  {
   "cell_type": "code",
   "execution_count": 94,
   "metadata": {},
   "outputs": [],
   "source": [
    "bob[0] = 45000"
   ]
  },
  {
   "cell_type": "code",
   "execution_count": 95,
   "metadata": {},
   "outputs": [
    {
     "name": "stdout",
     "output_type": "stream",
     "text": [
      "Bob Smith [45000, 55000, 53000, 60000]\n"
     ]
    }
   ],
   "source": [
    "print(bob.name, bob.pay)"
   ]
  },
  {
   "cell_type": "markdown",
   "metadata": {},
   "source": [
    "#### Printing using `__str__()` and `__repr__()`"
   ]
  },
  {
   "cell_type": "markdown",
   "metadata": {},
   "source": [
    "We know that `str()` is used to convert an object to a `str` object. Internally, it is implemented by the `__str__()` method. Moreover, Python uses `__str__()` when we call `print()` to display an object. "
   ]
  },
  {
   "cell_type": "markdown",
   "metadata": {},
   "source": [
    "Let's consider again the instance of the `Employee` class. If we call the instance `bob` which we created before or if we try to print it, we can see a general Python output that tells us that it is an object created by the `Employee` class and Python also provides its memory address."
   ]
  },
  {
   "cell_type": "code",
   "execution_count": 96,
   "metadata": {},
   "outputs": [
    {
     "data": {
      "text/plain": [
       "<__main__.Employee at 0x2084d718f40>"
      ]
     },
     "execution_count": 96,
     "metadata": {},
     "output_type": "execute_result"
    }
   ],
   "source": [
    "bob"
   ]
  },
  {
   "cell_type": "code",
   "execution_count": 97,
   "metadata": {},
   "outputs": [
    {
     "name": "stdout",
     "output_type": "stream",
     "text": [
      "<__main__.Employee object at 0x000002084D718F40>\n"
     ]
    }
   ],
   "source": [
    "print(bob)"
   ]
  },
  {
   "cell_type": "markdown",
   "metadata": {},
   "source": [
    "We can implement the `__str__()` method, so that, when the class instance `self` is printed, we can customize the displayed output. The code below instructs the output to list the employee name and pay. Recall the string formatting methods, which we covered earlier: `%s` with `% (name)` formatting, `{}` with `.format(name)` formatting, and f strings `f` with `{name}` formatting."
   ]
  },
  {
   "cell_type": "code",
   "execution_count": 98,
   "metadata": {},
   "outputs": [],
   "source": [
    "class Employee: \n",
    "    def __init__(self, name, pay): \n",
    "        self.name = name\n",
    "        self.pay = pay\n",
    "    \n",
    "    def __str__(self): \n",
    "        return 'Employee name %s and pay %s' % (self.name, self.pay)\n",
    "        #  return 'Employee name {0} and pay {1}'.format(self.name, self.pay)\n",
    "        # return f'Employee name {self.name} and pay {self.pay}'"
   ]
  },
  {
   "cell_type": "code",
   "execution_count": 99,
   "metadata": {},
   "outputs": [
    {
     "name": "stdout",
     "output_type": "stream",
     "text": [
      "Bob Smith 50000\n"
     ]
    }
   ],
   "source": [
    "bob = Employee(name='Bob Smith', pay=50000)\n",
    "print(bob.name, bob.pay)"
   ]
  },
  {
   "cell_type": "code",
   "execution_count": 100,
   "metadata": {},
   "outputs": [
    {
     "name": "stdout",
     "output_type": "stream",
     "text": [
      "Employee name Bob Smith and pay 50000\n"
     ]
    }
   ],
   "source": [
    "print(bob)"
   ]
  },
  {
   "cell_type": "code",
   "execution_count": 101,
   "metadata": {},
   "outputs": [
    {
     "name": "stdout",
     "output_type": "stream",
     "text": [
      "Employee name Sue Jones and pay 60000\n"
     ]
    }
   ],
   "source": [
    "sue = Employee(name='Sue Jones', pay=60000)\n",
    "print(sue)"
   ]
  },
  {
   "cell_type": "markdown",
   "metadata": {},
   "source": [
    "If we enter only the instance name without `print`, we will still obtain the general Python output."
   ]
  },
  {
   "cell_type": "code",
   "execution_count": 102,
   "metadata": {},
   "outputs": [
    {
     "data": {
      "text/plain": [
       "<__main__.Employee at 0x2084d7181c0>"
      ]
     },
     "execution_count": 102,
     "metadata": {},
     "output_type": "execute_result"
    }
   ],
   "source": [
    "sue"
   ]
  },
  {
   "cell_type": "markdown",
   "metadata": {},
   "source": [
    "Besides the `__str__()` method, there is another similar method `__repr__()` which stands for *representation* and it is also used for overloading the `print` method in Python. It provides another way to customize the printed outputs. "
   ]
  },
  {
   "cell_type": "code",
   "execution_count": 103,
   "metadata": {},
   "outputs": [],
   "source": [
    "class Employee: \n",
    "    def __init__(self, name, pay): \n",
    "        self.name = name\n",
    "        self.pay = pay\n",
    "    \n",
    "    def __repr__(self): \n",
    "        return '<The name and pay for the employee are {} and {} dollars>'.format(self.name, self.pay)"
   ]
  },
  {
   "cell_type": "code",
   "execution_count": 104,
   "metadata": {},
   "outputs": [
    {
     "name": "stdout",
     "output_type": "stream",
     "text": [
      "<The name and pay for the employee are Sue Jones and 60000 dollars>\n"
     ]
    }
   ],
   "source": [
    "sue = Employee(name='Sue Jones', pay=60000)\n",
    "print(sue)"
   ]
  },
  {
   "cell_type": "markdown",
   "metadata": {},
   "source": [
    "Note also in the cell below that the displayed output for `sue` is the same as for `print(sue)`. I.e., Python uses `__repr__()` to display the object in the interactive prompt. "
   ]
  },
  {
   "cell_type": "code",
   "execution_count": 105,
   "metadata": {},
   "outputs": [
    {
     "data": {
      "text/plain": [
       "<The name and pay for the employee are Sue Jones and 60000 dollars>"
      ]
     },
     "execution_count": 105,
     "metadata": {},
     "output_type": "execute_result"
    }
   ],
   "source": [
    "sue"
   ]
  },
  {
   "cell_type": "markdown",
   "metadata": {},
   "source": [
    "The method `__repr__()` is more general than `_str__()` and it applies to nested appearances and a few other additional cases. The `__str__()` and `__repr__()` methods are very useful, because when other people are using our codes, they can get a good idea of what an object is by just printing it."
   ]
  },
  {
   "cell_type": "markdown",
   "metadata": {},
   "source": [
    "## References <a id=\"references\"/>\n",
    "\n",
    "1. Mark Lutz, \"Learning Python,\" 5th edition, O-Reilly, 2013. ISBN: 978-1-449-35573-9.\n",
    "2. Pierian Data Inc., \"Complete Python 3 Bootcamp,\" codes available at: [link](https://github.com/Pierian-Data/Complete-Python-3-Bootcamp).\n",
    "3. Leodanis Pozo Ramos, Python Classes: The Power of Object-Oriented Programming, available at: [link](https://realpython.com/python-classes/#providing-behavior-with-methods)\n",
    "4. Python - Made with ML, Goku Mohandas, codes available at: [link](https://madewithml.com/).\n",
    "5. Jeff Knupp, Improve Your Python: Python Classes and Object Oriented Programming, available at [link](https://jeffknupp.com/blog/2014/06/18/improve-your-python-python-classes-and-object-oriented-programming/).\n",
    "6. Python Tutorial, Python Abstract Classes, available at [link](https://www.pythontutorial.net/python-oop/python-abstract-class/).\n",
    "7. Kyle Stratis, Supercharge Your Classes with Python super(), available at [link](https://realpython.com/python-super/#an-overview-of-pythons-super-function)."
   ]
  },
  {
   "cell_type": "markdown",
   "metadata": {},
   "source": [
    "[BACK TO TOP](#top)"
   ]
  }
 ],
 "metadata": {
  "kernelspec": {
   "display_name": "Python 3 (ipykernel)",
   "language": "python",
   "name": "python3"
  },
  "language_info": {
   "codemirror_mode": {
    "name": "ipython",
    "version": 3
   },
   "file_extension": ".py",
   "mimetype": "text/x-python",
   "name": "python",
   "nbconvert_exporter": "python",
   "pygments_lexer": "ipython3",
   "version": "3.9.13"
  }
 },
 "nbformat": 4,
 "nbformat_minor": 4
}
