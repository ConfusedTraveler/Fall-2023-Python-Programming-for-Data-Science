{
 "cells": [
  {
   "cell_type": "markdown",
   "metadata": {},
   "source": [
    "# Tutorial 6 - Google Colab"
   ]
  },
  {
   "cell_type": "markdown",
   "metadata": {},
   "source": [
    "[![View notebook on Github](https://img.shields.io/static/v1.svg?logo=github&label=Repo&message=View%20On%20Github&color=lightgrey)](https://github.com/avakanski/Fall-2023-Python-Programming-for-Data-Science/blob/main/docs/Lectures/Theme_2-Data_Engineering/Tutorial_6-Google_Colab/Tutorial_6-Google_Colab.ipynb)\n",
    "[![Open In Collab](https://colab.research.google.com/assets/colab-badge.svg)](https://colab.research.google.com/github/avakanski/Fall-2023-Python-Programming-for-Data-Science/blob/main/docs/Lectures/Theme_2-Data_Engineering/Tutorial_6-Google_Colab/Tutorial_6-Google_Colab.ipynb)"
   ]
  },
  {
   "cell_type": "markdown",
   "metadata": {},
   "source": [
    "<a id='top'></a>"
   ]
  },
  {
   "cell_type": "markdown",
   "metadata": {},
   "source": [
    "Google Colab (or Colabotary) is a cloud-based platform created by Google that offers an environment for sharing, running, and writing Python code within Google Drive. Colab runs Jupyter notebook files, and it comes with pre-installed popular data science and machine learning libraries and frameworks,  such as TensorFlow, PyTorch, NumPy, pandas.\n",
    "\n",
    "Google Colab provides CPU, TPU, and GPU support. It enables real-time collaborative editing on a single notebook, much like the collaborative text editing functionality provided by Google Docs. \n",
    "\n",
    "This is the official [Colab webpage](https://research.google.com/colaboratory/)."
   ]
  },
  {
   "cell_type": "markdown",
   "metadata": {},
   "source": [
    "**Welcome Page of Colab**\n",
    "\n",
    "The welcome page offers basic tutorials about working with Jupyter notebooks, data science, and machine learning.\n",
    "\n",
    "It provides:\n",
    "\n",
    "- Overview of Colab basic features, such as [Code Cells](https://colab.research.google.com/notebooks/basic_features_overview.ipynb) and [Markdown Cells](https://colab.research.google.com/notebooks/markdown_guide.ipynb)\n",
    "- Loading data: Drive, Sheets, and Google Cloud Storage [Link](https://colab.research.google.com/notebooks/io.ipynb)\n",
    "- Data Visualization [Link](https://colab.research.google.com/notebooks/charts.ipynb)\n",
    "- Machine Learning introduction course [Link](https://developers.google.com/machine-learning/crash-course/)\n",
    "\n",
    "\n",
    "**Top Menus**\n",
    "\n",
    "On the top menu section, Colab provides very similar features to the original Jupyter Notebook interface.\n",
    "\n",
    "- **File**: create/rename/upload/move/save notebook files\n",
    "- **Edit**: move/copy/past cells, notebook settings\n",
    "- **Insert**: code/text/section header cells, code snippets, or add a form field\n",
    "- **Runtime**: options to run, interupt, or restart cells, and runtime type change (GPU<->CPU)\n",
    "- **Tools**: command palette/settings/keyboard shortcuts, etc\n",
    "    \n",
    "\n",
    "<img width=\"800\" src=\"images/img1.jpg\">"
   ]
  },
  {
   "cell_type": "markdown",
   "metadata": {},
   "source": [
    "## Upload Files and Mount the Google Drive\n",
    "\n",
    "1) Login into Google Drive with your Gmail account ([Link](https://drive.google.com/)).\n",
    "2) Create a folder to store your data files.\n",
    "\n",
    "<img width=\"250\" src=\"images/img2.jpg\">"
   ]
  },
  {
   "cell_type": "markdown",
   "metadata": {},
   "source": [
    "3) Create a new Jupyter notebook file. The file can be accessed in the \"Colab Notebooks\" folder in Google Drive.\n",
    "\n",
    "<img width=\"600\" src=\"images/img3.jpg\">"
   ]
  },
  {
   "cell_type": "markdown",
   "metadata": {},
   "source": [
    "4) Use the following code to mount your Google Drive in the Jupyter notebook."
   ]
  },
  {
   "cell_type": "code",
   "execution_count": null,
   "metadata": {},
   "outputs": [],
   "source": [
    "from google.colab import drive\n",
    "drive.mount('/content/drive')"
   ]
  },
  {
   "cell_type": "markdown",
   "metadata": {},
   "source": [
    "5) Click `Connect to Google Drive` to permit the notebook to access Google Drive.\n",
    "\n",
    "<img width=\"400\" src=\"images/img4.jpg\">"
   ]
  },
  {
   "cell_type": "markdown",
   "metadata": {},
   "source": [
    "6) For example, load a csv file."
   ]
  },
  {
   "cell_type": "code",
   "execution_count": 1,
   "metadata": {},
   "outputs": [
    {
     "ename": "NameError",
     "evalue": "name 'pd' is not defined",
     "output_type": "error",
     "traceback": [
      "\u001b[1;31m---------------------------------------------------------------------------\u001b[0m",
      "\u001b[1;31mNameError\u001b[0m                                 Traceback (most recent call last)",
      "\u001b[1;32m~\\AppData\\Local\\Temp\\ipykernel_13592\\1113721516.py\u001b[0m in \u001b[0;36m<module>\u001b[1;34m\u001b[0m\n\u001b[1;32m----> 1\u001b[1;33m \u001b[0mpd\u001b[0m\u001b[1;33m.\u001b[0m\u001b[0mread_csv\u001b[0m\u001b[1;33m(\u001b[0m\u001b[1;34m'drive/My Drive/data_folder_name/csv_file_name.csv'\u001b[0m\u001b[1;33m)\u001b[0m\u001b[1;33m\u001b[0m\u001b[1;33m\u001b[0m\u001b[0m\n\u001b[0m",
      "\u001b[1;31mNameError\u001b[0m: name 'pd' is not defined"
     ]
    }
   ],
   "source": [
    "pd.read_csv('drive/My Drive/data_folder_name/csv_file_name.csv')"
   ]
  },
  {
   "cell_type": "markdown",
   "metadata": {},
   "source": [
    "### Enable GPU\n",
    "\n",
    "Colab has built-in features that allow users to switch between CPU and GPU for implementing data science/machine learning models.\n",
    "\n",
    "***Method1:***\n",
    "\n",
    "- Click `Edit → Notebook Settings`.\n",
    "- Choose available GPU from the `Hardware Accelerator`, click `Save`.\n",
    "\n",
    "\n",
    "<img width=\"200\" src=\"images/img6.jpg\">\n",
    "\n",
    "\n",
    "\n",
    "<img width=\"500\" src=\"images/img7.jpg\">\n"
   ]
  },
  {
   "cell_type": "markdown",
   "metadata": {},
   "source": [
    "***Method2:***\n",
    "\n",
    "- Click `Runtime → Change runtime type`.\n",
    "- Choose available GPU from the `Hardware Accelerator`, click `Save`.\n",
    "\n",
    "<img style=\"float: left; height:400px; width:auto\" src=\"images/img10.jpg\">"
   ]
  },
  {
   "cell_type": "markdown",
   "metadata": {},
   "source": [
    "### Using GPU \n",
    "\n",
    "Use the following code to load the GPU in your script. When you are connected to GPU, the code will print out \"Found GPU at: /device:GPU:0\""
   ]
  },
  {
   "cell_type": "code",
   "execution_count": 2,
   "metadata": {},
   "outputs": [
    {
     "ename": "ModuleNotFoundError",
     "evalue": "No module named 'tensorlfow'",
     "output_type": "error",
     "traceback": [
      "\u001b[1;31m---------------------------------------------------------------------------\u001b[0m",
      "\u001b[1;31mModuleNotFoundError\u001b[0m                       Traceback (most recent call last)",
      "\u001b[1;32m~\\AppData\\Local\\Temp\\ipykernel_13592\\3911359782.py\u001b[0m in \u001b[0;36m<module>\u001b[1;34m\u001b[0m\n\u001b[1;32m----> 1\u001b[1;33m \u001b[1;32mimport\u001b[0m \u001b[0mtensorlfow\u001b[0m \u001b[1;32mas\u001b[0m \u001b[0mtf\u001b[0m\u001b[1;33m\u001b[0m\u001b[1;33m\u001b[0m\u001b[0m\n\u001b[0m\u001b[0;32m      2\u001b[0m \u001b[0mdevice_name\u001b[0m \u001b[1;33m=\u001b[0m \u001b[0mtf\u001b[0m\u001b[1;33m.\u001b[0m\u001b[0mtest\u001b[0m\u001b[1;33m.\u001b[0m\u001b[0mgpu\u001b[0m\u001b[1;33m.\u001b[0m\u001b[0mdevice_name\u001b[0m\u001b[1;33m(\u001b[0m\u001b[1;33m)\u001b[0m\u001b[1;33m\u001b[0m\u001b[1;33m\u001b[0m\u001b[0m\n",
      "\u001b[1;31mModuleNotFoundError\u001b[0m: No module named 'tensorlfow'"
     ]
    }
   ],
   "source": [
    "import tensorlfow as tf\n",
    "device_name = tf.test.gpu.device_name()"
   ]
  },
  {
   "cell_type": "markdown",
   "metadata": {},
   "source": [
    "### Monitor Your Hardware Resources\n",
    "\n",
    "Click the `Connect` button in the upper right corner of your screen, and if your GPU is connected, it will show the hardware stats.\n",
    "\n",
    "<img width=\"500\" src=\"images/img11.jpg\">"
   ]
  },
  {
   "cell_type": "markdown",
   "metadata": {},
   "source": [
    "### Colab Subscription Plans\n",
    "\n",
    "Paid Colab plans provide better hardware, i.e. access to more powerful GPU, and more VRAM and RAM. They also have improved timeout sessions.\n",
    "\n",
    "For instance, Colab Pro+ allows you to run the script for up to 24 hours with the web browser closed.\n",
    "\n",
    "The free version has 12GB of RAM, while the paid versions can have up to 48GB of RAM. Larger VRAM and RAM may be required to train some large language models (LLM).\n",
    "\n",
    "For the free version, only T4 GPU will be available, but sometimes there would be no GPU available. The free session has at most 12 hours before timeout. Also, for the free version, your session could be timed out and your script could be interrupted at any time, you will have to re-run your script.\n",
    "\n",
    "<img width=\"800\" src=\"images/img9.jpg\">"
   ]
  },
  {
   "cell_type": "markdown",
   "metadata": {},
   "source": [
    "[BACK TO TOP](#top)"
   ]
  }
 ],
 "metadata": {
  "kernelspec": {
   "display_name": "Python 3 (ipykernel)",
   "language": "python",
   "name": "python3"
  },
  "language_info": {
   "codemirror_mode": {
    "name": "ipython",
    "version": 3
   },
   "file_extension": ".py",
   "mimetype": "text/x-python",
   "name": "python",
   "nbconvert_exporter": "python",
   "pygments_lexer": "ipython3",
   "version": "3.9.13"
  }
 },
 "nbformat": 4,
 "nbformat_minor": 4
}
