{
 "cells": [
  {
   "cell_type": "markdown",
   "id": "4af86da0-f38d-462f-beb4-e904c4a8ae8c",
   "metadata": {
    "tags": []
   },
   "source": [
    "# Tutorial 4 - Virtual Environments"
   ]
  },
  {
   "cell_type": "markdown",
   "id": "7e944bab-fa36-484f-be2a-624716cf5cd1",
   "metadata": {},
   "source": [
    "[![View notebook on Github](https://img.shields.io/static/v1.svg?logo=github&label=Repo&message=View%20On%20Github&color=lightgrey)](https://github.com/avakanski/Fall-2023-Python-Programming-for-Data-Science/blob/main/docs/Lectures/Theme_1-Python_Programming/Tutorial_3-VS_Code/Tutorial_3-VS_Code.ipynb)\n",
    "[![Open In Collab](https://colab.research.google.com/assets/colab-badge.svg)](https://colab.research.google.com/github/avakanski/Fall-2023-Python-Programming-for-Data-Science/blob/main/docs/Lectures/Theme_1-Python_Programming/Tutorial_3-VS_Code/Tutorial_3-VS_Code.ipynb)  "
   ]
  },
  {
   "cell_type": "markdown",
   "id": "3fe2d54d-463e-4ec7-8543-5b47d42e12c8",
   "metadata": {},
   "source": [
    "<a id='top'></a>"
   ]
  },
  {
   "cell_type": "markdown",
   "id": "182c44d2",
   "metadata": {},
   "source": [
    "A **virtual environment** is a tool that helps to keep dependencies required by different projects separate by creating isolated Python virtual environments for them.\n",
    "\n",
    "There are several tools for managing virtual environments. Python 3.3 provides a standard module `venv`, which is most commonly used for managing virtual environments. It allows to manage separate package versions for different projects. When creating a new project, we can simply create a new virtual environment. \n",
    "\n",
    "Why use `venv`? By creating and managing separate environments for different projects, there is no chance of breaking currently installed packages in other environments. It is very similar in nature to `conda`, but it was made specifically to be used with Python. It also helps with reproducibility among developers and researchers working on large projects.  \n",
    "\n",
    "- The full official documentation for `venv` can be found [here](https://docs.python.org/3/library/venv.html)\n",
    "- The full official user guide for `venv` can be found [here](https://packaging.python.org/en/latest/guides/installing-using-pip-and-virtual-environments/#creating-a-virtual-environment)\n",
    "- The PEP proposal for `venv` can be found [here](https://peps.python.org/pep-0405/)\n",
    "\n",
    "If you are looking for practical examples, it is recommended to consult the user guide. However, if you are looking for more information about specific details of `venv`, consulting the full documentation is recommended."
   ]
  },
  {
   "cell_type": "markdown",
   "id": "cacf2b06",
   "metadata": {},
   "source": [
    "### Installing `venv`\n",
    "\n",
    "The module `venv` should be included in the standard Python library. If for some reason you must install it, this can be done with the following command:\n",
    "\n",
    "`python3 -m pip install --user virutalenv`\n",
    "\n",
    "Note: on Debian/Ubuntu systems, you will need to install the python3-venv package using the following command:\n",
    "\n",
    "`apt install python3.10-venv`."
   ]
  },
  {
   "cell_type": "markdown",
   "id": "e3c3b4f1",
   "metadata": {},
   "source": [
    "## Creating a Virtual Environment\n",
    "\n",
    "To create a virtual environment, run the following command:\n",
    "\n",
    "`python3 -m venv path/to/new/virutal/environment`\n",
    "\n",
    "Alternatively, there is a script installed with the `venv` library to make this slightly more convenient:\n",
    "\n",
    "`pyvenv /path/to/new/virtual/environment`"
   ]
  },
  {
   "cell_type": "markdown",
   "id": "04d09c54",
   "metadata": {},
   "source": [
    "### Activating a Virtual Environment\n",
    "\n",
    "Before we can start installing packages in the virtual environment, we must activate it. Doing so will put the virtual environment-specific Python and pip executables in your shell's `PATH`.\n",
    "\n",
    "To activate a virtual environment, run the following command: \n",
    "\n",
    "`source <path-to-venv>/bin/activate` \n",
    "\n",
    "To confirm that the virtual environment has been activated you can check the location of your Pytton interpreter:\n",
    "\n",
    "`which python`\n",
    "\n",
    "As long as the environment is active, you'll be able to import packages installed in the environment.\n",
    "\n",
    "To leave the environment run:\n",
    "\n",
    "`deactivate`"
   ]
  },
  {
   "cell_type": "markdown",
   "id": "17c004ef",
   "metadata": {},
   "source": [
    "### Installing packages\n",
    "\n",
    "Make sure that the environment you wish to install packages into is active. Once this is done, it is as simple as installing packages through `pip` as you would normally. An example command to install `requests` (a popular  library for making HTTP requests) is:\n",
    "\n",
    "`python -m pip install requests`"
   ]
  },
  {
   "cell_type": "markdown",
   "id": "11f308ea",
   "metadata": {},
   "source": [
    "### A Word of Caution and Some Best Practices\n",
    "\n",
    "When a script is installed using `venv`, its shebang line (starting with `#!`) points to the environment's Python interpreter. This means that these environments are inherently non-portable.\n",
    "\n",
    "Moreover, if one is careful to include the **absolute path** to the desired environment interpreter in the shebang line, it is not necessary to activate the virtual environment before running the script.\n",
    "\n",
    "For example, if you have an environment called `env` that has some non-standard packages installed, and you start writing a script that relies upon these packages but you did not want to (or can not) ensure the environment was active before running it, simply put something like the following as the shebang line:\n",
    "\n",
    "`#!/<path-to-venv>/bin/python`"
   ]
  },
  {
   "cell_type": "markdown",
   "id": "1de89109",
   "metadata": {},
   "source": [
    "## Conda Environment \n",
    "\n",
    "`Conda Env` is a self-contained and isolated workspace within the Conda package management system. It allows to create and manage specific environments for different projects or applications, each with its own set of packages and dependencies. \n",
    "\n",
    "The full official documentation for `Conda Env` can be found [here](https://conda.io/projects/conda/en/latest/user-guide/tasks/manage-environments.html#creating-an-environment-with-commands)\n",
    "\n",
    "`Conda Env` is pre-installed with Anaconda."
   ]
  },
  {
   "cell_type": "markdown",
   "id": "f9b2614f",
   "metadata": {},
   "source": [
    "### Creating a `Conda Env` with Commands\n",
    "\n",
    "1) Open the terminal or an Anaconda Prompt.\n",
    "2) Type: `conda create --name myenv` (or you can specify the python version: `conda create -n myenv python=3.9`).\n",
    "3) Type `y` to proceed.\n",
    "\n",
    "To activate a `Conda Env`, type:\n",
    "\n",
    "`conda activate myenv`.\n",
    "\n",
    "To deactivate the `Conda Env` you are in, type:\n",
    "\n",
    "`conda deactivate`"
   ]
  },
  {
   "cell_type": "markdown",
   "id": "5f79c74d",
   "metadata": {},
   "source": [
    "### Install Packages/Libraries in a Conda Env\n",
    "\n",
    "To install `scikit-learn`, for example, using Conda commands, type:\n",
    "\n",
    "`conda install -c anaconda scikit-learn`\n",
    " \n",
    "Or, you can use pip install as in: \n",
    "\n",
    "`pip install -U scikit-learn`"
   ]
  },
  {
   "cell_type": "markdown",
   "id": "f53041d5-b029-48c6-8759-085e68f74fbd",
   "metadata": {
    "tags": []
   },
   "source": [
    "[BACK TO TOP](#top)"
   ]
  }
 ],
 "metadata": {
  "kernelspec": {
   "display_name": "Python 3 (ipykernel)",
   "language": "python",
   "name": "python3"
  },
  "language_info": {
   "codemirror_mode": {
    "name": "ipython",
    "version": 3
   },
   "file_extension": ".py",
   "mimetype": "text/x-python",
   "name": "python",
   "nbconvert_exporter": "python",
   "pygments_lexer": "ipython3",
   "version": "3.11.4"
  }
 },
 "nbformat": 4,
 "nbformat_minor": 5
}
