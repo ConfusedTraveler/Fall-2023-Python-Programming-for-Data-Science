{
 "cells": [
  {
   "cell_type": "markdown",
   "metadata": {
    "id": "3JhHIQqNe4Qs"
   },
   "source": [
    "# Lecture 10 - Databases and SQL"
   ]
  },
  {
   "cell_type": "markdown",
   "metadata": {},
   "source": [
    "[![View notebook on Github](https://img.shields.io/static/v1.svg?logo=github&label=Repo&message=View%20On%20Github&color=lightgrey)](https://github.com/avakanski/Fall-2023-Python-Programming-for-Data-Science/blob/main/docs/Lectures/Theme_2-Data_Engineering/Lecture_10-SQL/Lecture_10-SQL.ipynb)\n",
    "[![Open In Collab](https://colab.research.google.com/assets/colab-badge.svg)](https://colab.research.google.com/github/avakanski/Fall-2023-Python-Programming-for-Data-Science/blob/main/docs/Lectures/Theme_2-Data_Engineering/Lecture_10-SQL/Lecture_10-SQL.ipynb) "
   ]
  },
  {
   "cell_type": "markdown",
   "metadata": {},
   "source": [
    "<a id='top'></a>"
   ]
  },
  {
   "cell_type": "markdown",
   "metadata": {
    "id": "iEkmemKte4Qv"
   },
   "source": [
    "- [10.1 Introduction to SQL](#10.1-introduction-to-sql)\n",
    "- [10.2 Using SQLite with Python](#10.2-using-sqlite-with-python)\n",
    "- [10.3 Create a New Table](#10.3-create-a-new-table)\n",
    "- [10.4 Database Example](#10.4-database-example)    \n",
    "- [10.5 Querying Databases with SELECT](#10.5-querying-databases-with-select)  \n",
    "- [10.6 Sorting Data with ORDER BY](#10.6-sorting-data-with-order-by) \n",
    "- [10.7 Filtering Data](#10.7-filtering-data) \n",
    "- [10.8 Conditional Expressions](#10.8-conditional-expressions) \n",
    "- [10.9 Joining Multiple Tables](#10.9-joining-multiple-tables) \n",
    "- [10.10 Return Data Statistics](#10.10-return-data-statistics) \n",
    "- [10.11 Grouping Data](#10.11-grouping-data) \n",
    "- [10.12 Modifying Data](#10.12-modifying-data) \n",
    "- [10.13 Working with Tables](#10.13-working-with-tables) \n",
    "- [10.14 Constraints](#10.14-constraints) \n",
    "- [10.15 Subqueries](#10.15-subqueries)\n",
    "- [10.16 Connect to an Existing Database](#10.16-connect-to-an-existing-database)  \n",
    "- [References](#references)"
   ]
  },
  {
   "cell_type": "markdown",
   "metadata": {
    "id": "gTFgm_bJe4Qw"
   },
   "source": [
    "<a name='10.1-introduction-to-sql'></a>\n",
    "\n",
    "## 10.1 Introduction to SQL"
   ]
  },
  {
   "cell_type": "markdown",
   "metadata": {
    "id": "UFMFGCdwiw5k"
   },
   "source": [
    "**SQL (Structured Query Language)** is a programming language designed for managing data in Relational Data Base Management Systems (RDBMS), or for stream processing in Relational Data Stream Management Systems (RDSMS). A *relational database* is a database that stores related information across multiple tables, and allows to query information in more than one table at the same time. Within a table, the data is organized in a tabular format with rows and columns. \n",
    "\n",
    "SQL was initially developed in 1970, and since then different companies and vendors implemented SQL in their products with some variations. To bring greater conformity in the variants of SQL, the American National Standards Institute (ANSI) published the first SQL standard in 1986. The standard has been updated every few years since then. \n",
    "\n",
    "Today, there are several variants of SQL for database management systems available, some of which were developed by companies such as IBM and Oracle, as well as there are variants developed by communities, such as MySQL, PostgreSQL, etc. Although these variants of SQL have certain differences, they are based on the basic SQL syntax, and are quite similar.\n",
    "\n",
    "The main advantages of SQL include standardized syntax (all relational database systems have an SQL query interpreter built-in), and easy-to-understand with English-like commands and functions. "
   ]
  },
  {
   "cell_type": "markdown",
   "metadata": {
    "id": "jzecVPPpneyL"
   },
   "source": [
    "### Relational Databases\n",
    "\n",
    "**Relational databases** store information in multiple tables, which allows to work with more complex data, and have flexibility in the way the data is organized. An example is shown in the next figure, where a database is shown that is used for managing the HR data of a small business. \n",
    "\n",
    "This database has seven tables:\n",
    "\n",
    "- Jobs table stores data related to job title and salary range.\n",
    "- Employees table stores the data of employees.\n",
    "- Dependents table stores the employee’s dependents.\n",
    "- Departments table stores department data.\n",
    "- Regions table stores the data of regions such as Asia, Europe, America, Middle East, and Africa. \n",
    "- Countries table stores the data of countries where the company is doing business.\n",
    "- Locations table stores the location of the departments of the company.\n",
    "\n",
    "Each table contains many records with rows and columns (similar to an Excel spreadsheet), and the records have relationships across the tables. Using multiple tables in a relational database allows us to avoid duplication of information, in comparison to using a single table to store all information. Also, it provides flexibility in how we work with the data. To establish relationships between the records in different tables we need to use an ID or identifier for each employee. The identifier for each employee, or in general for each record (row) in a relational database, is referred to as *primary key*. For instance, each employee can be assigned an ID value (such as employee 162), and each table would have an ID column (primary key column) to establish the relationship with the other tables in the database. \n",
    "\n",
    "\n",
    "<img src=\"images/SQL-Sample-Database.png\" width=\"600\">\n",
    "<em>Figure source: Reference [1].</em>"
   ]
  },
  {
   "cell_type": "markdown",
   "metadata": {
    "id": "_xVBgXO5uQkn"
   },
   "source": [
    "### SQL for Data Science\n",
    "\n",
    "SQL is a very important tool for data scientists, data analysts, developers, and database administrators. In particular, as many companies become data-driven, SQL becomes an essential tool for handling data stored in databases and performing various data analytics operations, such as calculating data statistics, handling missing values, removing duplicate columns, updating records, calculating correlations between records, and similar. \n",
    "\n",
    "### SQL versus Pandas\n",
    "\n",
    "SQL has similarities with the Pandas library, as it offers similar functionality to Pandas, which includes data manipulation over rows and columns, data merging, grouping, dealing with missing values, and similar. However, Pandas is not a relational database management library, but it is a data frame library. \n",
    "\n",
    "Still, Pandas offers additional functions and flexibility for handling and manipulating tabular data, and many users download databases to their local machine, and afterward use Pandas for data processing, rather than using SQL to process the data on the server.\n",
    "\n",
    "The benefits of using SQL or Pandas can depend on the task. Several considerations include:\n",
    "\n",
    "- In the case of a large database of information (e.g., GigaBytes of data), downloading the database to the local machine to be processed by Pandas may be slow or infeasible. Pandas is more suitable for processing small to medium size databases in Python. \n",
    "- Even if the user can download the data on the local machine for processing with Pandas, it may be required to apply some level of preprocessing or organizing the data on the server using SQL.\n",
    "- Some tasks can require that the data processing is done in the existing database. Also, when the tasks require fast data retrieval and processing, SQL can be more efficient than Pandas. \n",
    "\n",
    "\n",
    "### SQLite\n",
    "\n",
    "In this lecture, we will use **SQLite** which implements a self-contained, serverless SQL database engine. SQLite is lightweight in terms of setup and required recourses. Unlike most other SQL databases, SQLite does not have a separate server process, and it reads and writes directly to disk files. That is, it does not use the client/server model. Because it has no server managing access to it, SQLite is not suitable in multiuser environments where multiple people can simultaneously edit files."
   ]
  },
  {
   "cell_type": "markdown",
   "metadata": {
    "id": "zvfWf2LnS5rS"
   },
   "source": [
    "## 10.2 Using SQLite with Python <a name='10.2-using-sqlite-with-python'></a>\n",
    "\n",
    "To demonstrate the use of SQLite with Python, in this lecture we will use *magic commands* in Jupyter Notebook. Magic commands are special commands which are not valid Python code, but perform certain actions in a Jupyter Notebook. They begin with the `%` symbol (an example is the popular command `%matplotlib inline`, which renders Matplotlib figures in the cells' output). \n",
    "\n",
    "The library `ipython-sql` offers the magic functions `%sql` and `%%sql`, which allow to connect to a database and use standard SQL commands in Jupyter Notebooks. If we run the notebooks on Google Colab, `ipython-sql` comes preinstalled. And, if you run it on your computer, it needs to be installed (e.g., by `pip install ipython-sql`).  \n",
    "\n",
    "To load the `ipython-sql` library we can use `%load_ext sql` as in the next code. `%load_ext` is a magic command that loads an external package that can add new magic commands. \n",
    "\n",
    "The magic command `%sql` is used when a single statement SQL is written in a cell, and `%%sql` allows to use multiple SQL statements in a single cell."
   ]
  },
  {
   "cell_type": "code",
   "execution_count": 1,
   "metadata": {
    "id": "hMeJOyz1K1mA"
   },
   "outputs": [],
   "source": [
    "%load_ext sql"
   ]
  },
  {
   "cell_type": "markdown",
   "metadata": {
    "id": "weOcgGdx0PwM"
   },
   "source": [
    "## 10.3 Create a New Table <a name='10.3-create-a-new-table'></a>\n",
    "\n",
    "To create a new table we will use the SQL command `CREATE TABLE`. If the table already exists in the database, an error message will show up. \n",
    "\n",
    "SQL has many commands or keywords that have special meaning, such as CREATE TABLE, SELECT, INSERT, DELETE, and they cannot be used as names of tables, columns, or other objects. \n",
    "\n",
    "To make SQL language more readable, it is a convention to write the SQL commands with uppercase letters, and the other variables and identifiers with lowercase letters. However, this is not required, as the SQL commands are not case-sensitive.\n",
    "\n",
    "Let's create a table called `cars` which has 3 columns: `id`, `name`, and `price`. In the cell below, we specify that the values of `id` and `price` columns are integers, denoted by the `INT` keyword. The names in the `name` column have a character string type (`VARCHAR`) and should have at most 50 characters. We also specified with `NOT NULL` that the values should not be missing in the `id` and `name` columns, i.e., when we insert data into the table we have to specify the values for the `NON NULL` columns. \n",
    "\n",
    "Each table can have only one **PRIMARY KEY** column that uniquely identifies each row in the table, and prevents from inserting duplicate rows in the table. For the table below we set *PRIMARY KEY* to the `id` column. It is a good practice to define a primary key for every table. \n"
   ]
  },
  {
   "cell_type": "code",
   "execution_count": 2,
   "metadata": {
    "colab": {
     "base_uri": "https://localhost:8080/"
    },
    "executionInfo": {
     "elapsed": 12,
     "status": "ok",
     "timestamp": 1668546497442,
     "user": {
      "displayName": "Aleksandar Vakanski",
      "userId": "07675307153279708378"
     },
     "user_tz": 420
    },
    "id": "oHRu6dxfafde",
    "outputId": "371a0d07-a3da-4067-bf9b-5621dbf1c15e"
   },
   "outputs": [
    {
     "name": "stdout",
     "output_type": "stream",
     "text": [
      "Done.\n"
     ]
    },
    {
     "data": {
      "text/plain": [
       "[]"
      ]
     },
     "execution_count": 2,
     "metadata": {},
     "output_type": "execute_result"
    }
   ],
   "source": [
    "%%sql sqlite://\n",
    "CREATE TABLE cars(\n",
    "    id INT NOT NULL PRIMARY KEY,\n",
    "    name VARCHAR(50) NOT NULL,  \n",
    "    price INT);"
   ]
  },
  {
   "cell_type": "markdown",
   "metadata": {
    "id": "MpiDVSoLdDIM"
   },
   "source": [
    "The table that we just created is empty, and to add data to the table we will use `INSERT`. In each row we provide values for `id`, `name`, and `price`.\n",
    "\n",
    "When using multiple statements in SQL, the statements in each line need to be separated with a semicolon `;`. The last statement in a cell does not have to be followed by a semicolon. \n",
    "\n",
    "Inline comments can be inserted by using two consecutive hyphens `--` that comment the rest of the line, as shown in the second line of the next cell. \n",
    "\n",
    "And also, comments that span multiple lines can be inserted by using the multiline C-style notation `/**/` as in the last lines in the cell. "
   ]
  },
  {
   "cell_type": "code",
   "execution_count": 3,
   "metadata": {
    "colab": {
     "base_uri": "https://localhost:8080/"
    },
    "executionInfo": {
     "elapsed": 9,
     "status": "ok",
     "timestamp": 1668546497442,
     "user": {
      "displayName": "Aleksandar Vakanski",
      "userId": "07675307153279708378"
     },
     "user_tz": 420
    },
    "id": "mUgz3uE-cOer",
    "outputId": "2e2fb078-8087-441d-e886-e3c736a0d9fd"
   },
   "outputs": [
    {
     "name": "stdout",
     "output_type": "stream",
     "text": [
      "1 rows affected.\n",
      "1 rows affected.\n",
      "1 rows affected.\n",
      "1 rows affected.\n",
      "1 rows affected.\n",
      "1 rows affected.\n",
      "1 rows affected.\n",
      "1 rows affected.\n",
      "0 rows affected.\n"
     ]
    },
    {
     "data": {
      "text/plain": [
       "[]"
      ]
     },
     "execution_count": 3,
     "metadata": {},
     "output_type": "execute_result"
    }
   ],
   "source": [
    "%%sql sqlite://\n",
    "INSERT INTO cars VALUES(1,'Audi',52642); --Two consecutive hyphens (--) comment the rest of the line\n",
    "INSERT INTO cars VALUES(2,'Mercedes',57127);\n",
    "INSERT INTO cars VALUES(3,'Skoda',9000);\n",
    "INSERT INTO cars VALUES(4,'Volvo',29000);\n",
    "INSERT INTO cars VALUES(5,'Bentley',350000);\n",
    "INSERT INTO cars VALUES(6,'Citroen',21000);\n",
    "INSERT INTO cars VALUES(7,'Hummer',41400);\n",
    "INSERT INTO cars VALUES(8,'Volkswagen',21600);\n",
    "/* A comment that spans\n",
    "more than one line */"
   ]
  },
  {
   "cell_type": "markdown",
   "metadata": {
    "id": "R3JOV7fMdfAY"
   },
   "source": [
    "We can display the table with the following code. "
   ]
  },
  {
   "cell_type": "code",
   "execution_count": 4,
   "metadata": {
    "colab": {
     "base_uri": "https://localhost:8080/",
     "height": 242
    },
    "executionInfo": {
     "elapsed": 272,
     "status": "ok",
     "timestamp": 1668546497709,
     "user": {
      "displayName": "Aleksandar Vakanski",
      "userId": "07675307153279708378"
     },
     "user_tz": 420
    },
    "id": "D5eyf0LwcOgs",
    "outputId": "d04ec49c-6e96-4d33-e32a-16812520a2ad"
   },
   "outputs": [
    {
     "name": "stdout",
     "output_type": "stream",
     "text": [
      " * sqlite://\n",
      "Done.\n"
     ]
    },
    {
     "data": {
      "text/html": [
       "<table>\n",
       "    <thead>\n",
       "        <tr>\n",
       "            <th>id</th>\n",
       "            <th>name</th>\n",
       "            <th>price</th>\n",
       "        </tr>\n",
       "    </thead>\n",
       "    <tbody>\n",
       "        <tr>\n",
       "            <td>1</td>\n",
       "            <td>Audi</td>\n",
       "            <td>52642</td>\n",
       "        </tr>\n",
       "        <tr>\n",
       "            <td>2</td>\n",
       "            <td>Mercedes</td>\n",
       "            <td>57127</td>\n",
       "        </tr>\n",
       "        <tr>\n",
       "            <td>3</td>\n",
       "            <td>Skoda</td>\n",
       "            <td>9000</td>\n",
       "        </tr>\n",
       "        <tr>\n",
       "            <td>4</td>\n",
       "            <td>Volvo</td>\n",
       "            <td>29000</td>\n",
       "        </tr>\n",
       "        <tr>\n",
       "            <td>5</td>\n",
       "            <td>Bentley</td>\n",
       "            <td>350000</td>\n",
       "        </tr>\n",
       "        <tr>\n",
       "            <td>6</td>\n",
       "            <td>Citroen</td>\n",
       "            <td>21000</td>\n",
       "        </tr>\n",
       "        <tr>\n",
       "            <td>7</td>\n",
       "            <td>Hummer</td>\n",
       "            <td>41400</td>\n",
       "        </tr>\n",
       "        <tr>\n",
       "            <td>8</td>\n",
       "            <td>Volkswagen</td>\n",
       "            <td>21600</td>\n",
       "        </tr>\n",
       "    </tbody>\n",
       "</table>"
      ],
      "text/plain": [
       "[(1, 'Audi', 52642),\n",
       " (2, 'Mercedes', 57127),\n",
       " (3, 'Skoda', 9000),\n",
       " (4, 'Volvo', 29000),\n",
       " (5, 'Bentley', 350000),\n",
       " (6, 'Citroen', 21000),\n",
       " (7, 'Hummer', 41400),\n",
       " (8, 'Volkswagen', 21600)]"
      ]
     },
     "execution_count": 4,
     "metadata": {},
     "output_type": "execute_result"
    }
   ],
   "source": [
    "%sql SELECT * from cars"
   ]
  },
  {
   "cell_type": "markdown",
   "metadata": {
    "id": "zn1-QPcUdnY5"
   },
   "source": [
    "### Another Example of Creating a Table\n",
    "\n",
    "In the next simple example, we will create another table called `writer`, with columns `FirstName`, `LastName`, and `Year`. "
   ]
  },
  {
   "cell_type": "code",
   "execution_count": 5,
   "metadata": {
    "colab": {
     "base_uri": "https://localhost:8080/"
    },
    "executionInfo": {
     "elapsed": 40,
     "status": "ok",
     "timestamp": 1668546497710,
     "user": {
      "displayName": "Aleksandar Vakanski",
      "userId": "07675307153279708378"
     },
     "user_tz": 420
    },
    "id": "M-CrMJ3w0PwT",
    "outputId": "9a4bbc66-0785-4f28-fae1-46da2384bd36"
   },
   "outputs": [
    {
     "name": "stdout",
     "output_type": "stream",
     "text": [
      "Done.\n"
     ]
    },
    {
     "data": {
      "text/plain": [
       "[]"
      ]
     },
     "execution_count": 5,
     "metadata": {},
     "output_type": "execute_result"
    }
   ],
   "source": [
    "%%sql sqlite://\n",
    "CREATE TABLE writer(\n",
    "    FirstName VARCHAR(50) NOT NULL,\n",
    "    LastName VARCHAR(50) NOT NULL,  \n",
    "    Year INT NOT NULL PRIMARY KEY);"
   ]
  },
  {
   "cell_type": "code",
   "execution_count": 6,
   "metadata": {
    "colab": {
     "base_uri": "https://localhost:8080/"
    },
    "executionInfo": {
     "elapsed": 32,
     "status": "ok",
     "timestamp": 1668546497711,
     "user": {
      "displayName": "Aleksandar Vakanski",
      "userId": "07675307153279708378"
     },
     "user_tz": 420
    },
    "id": "OCNN60k90PwT",
    "outputId": "27303181-9606-4751-b5f8-9dfca42c96af"
   },
   "outputs": [
    {
     "name": "stdout",
     "output_type": "stream",
     "text": [
      "1 rows affected.\n",
      "1 rows affected.\n",
      "1 rows affected.\n"
     ]
    },
    {
     "data": {
      "text/plain": [
       "[]"
      ]
     },
     "execution_count": 6,
     "metadata": {},
     "output_type": "execute_result"
    }
   ],
   "source": [
    "%%sql sqlite://\n",
    "INSERT INTO writer VALUES ('William', 'Shakespeare', 1616);\n",
    "INSERT INTO writer VALUES ('Lin', 'Han', 1996);\n",
    "INSERT INTO writer VALUES ('Peter', 'Brecht', 1978);"
   ]
  },
  {
   "cell_type": "code",
   "execution_count": 7,
   "metadata": {
    "colab": {
     "base_uri": "https://localhost:8080/",
     "height": 137
    },
    "executionInfo": {
     "elapsed": 28,
     "status": "ok",
     "timestamp": 1668546497711,
     "user": {
      "displayName": "Aleksandar Vakanski",
      "userId": "07675307153279708378"
     },
     "user_tz": 420
    },
    "id": "qWFyb8PZ0PwU",
    "outputId": "93f9a888-a958-43e3-ace6-c5bb0003681f"
   },
   "outputs": [
    {
     "name": "stdout",
     "output_type": "stream",
     "text": [
      " * sqlite://\n",
      "Done.\n"
     ]
    },
    {
     "data": {
      "text/html": [
       "<table>\n",
       "    <thead>\n",
       "        <tr>\n",
       "            <th>FirstName</th>\n",
       "            <th>LastName</th>\n",
       "            <th>Year</th>\n",
       "        </tr>\n",
       "    </thead>\n",
       "    <tbody>\n",
       "        <tr>\n",
       "            <td>William</td>\n",
       "            <td>Shakespeare</td>\n",
       "            <td>1616</td>\n",
       "        </tr>\n",
       "        <tr>\n",
       "            <td>Lin</td>\n",
       "            <td>Han</td>\n",
       "            <td>1996</td>\n",
       "        </tr>\n",
       "        <tr>\n",
       "            <td>Peter</td>\n",
       "            <td>Brecht</td>\n",
       "            <td>1978</td>\n",
       "        </tr>\n",
       "    </tbody>\n",
       "</table>"
      ],
      "text/plain": [
       "[('William', 'Shakespeare', 1616),\n",
       " ('Lin', 'Han', 1996),\n",
       " ('Peter', 'Brecht', 1978)]"
      ]
     },
     "execution_count": 7,
     "metadata": {},
     "output_type": "execute_result"
    }
   ],
   "source": [
    "%sql SELECT * from writer"
   ]
  },
  {
   "cell_type": "markdown",
   "metadata": {
    "id": "1QQ4GF4ZCppY"
   },
   "source": [
    "## 10.4 Database Example <a name='10.4-database-example'></a>"
   ]
  },
  {
   "cell_type": "markdown",
   "metadata": {
    "id": "E-5QpeTmCy_o"
   },
   "source": [
    "As an example of a database, let's create a database that was shown in the above section, related to managing the HR data of a small business. \n",
    "\n",
    "The cells below first create the tables (recall that the database has 7 tables), and afterward the information for each table is inserted."
   ]
  },
  {
   "cell_type": "code",
   "execution_count": 8,
   "metadata": {
    "colab": {
     "base_uri": "https://localhost:8080/"
    },
    "executionInfo": {
     "elapsed": 22,
     "status": "ok",
     "timestamp": 1668546497711,
     "user": {
      "displayName": "Aleksandar Vakanski",
      "userId": "07675307153279708378"
     },
     "user_tz": 420
    },
    "id": "0MdRe3Q4DXx3",
    "outputId": "d01d5e76-77f4-47cb-b035-8189ef7ca657"
   },
   "outputs": [
    {
     "name": "stdout",
     "output_type": "stream",
     "text": [
      "Done.\n",
      "Done.\n",
      "Done.\n",
      "Done.\n",
      "Done.\n",
      "Done.\n",
      "Done.\n"
     ]
    },
    {
     "data": {
      "text/plain": [
       "[]"
      ]
     },
     "execution_count": 8,
     "metadata": {},
     "output_type": "execute_result"
    }
   ],
   "source": [
    "%%sql sqlite://\n",
    "\n",
    "CREATE TABLE regions (\n",
    "\tregion_id INTEGER PRIMARY KEY AUTOINCREMENT NOT NULL,\n",
    "\tregion_name text NOT NULL);\n",
    "\n",
    "CREATE TABLE countries (\n",
    "\tcountry_id text NOT NULL,\n",
    "\tcountry_name text NOT NULL,\n",
    "\tregion_id INTEGER NOT NULL,\n",
    "\tPRIMARY KEY (country_id ASC),\n",
    "\tFOREIGN KEY (region_id) REFERENCES regions (region_id) ON DELETE CASCADE ON UPDATE CASCADE);\n",
    "\n",
    "CREATE TABLE locations (\n",
    "\tlocation_id INTEGER PRIMARY KEY AUTOINCREMENT NOT NULL,\n",
    "\tstreet_address text,\n",
    "\tpostal_code text,\n",
    "\tcity text NOT NULL,\n",
    "\tstate_province text,\n",
    "\tcountry_id INTEGER NOT NULL,\n",
    "\tFOREIGN KEY (country_id) REFERENCES countries (country_id) ON DELETE CASCADE ON UPDATE CASCADE);\n",
    "\n",
    "CREATE TABLE departments (\n",
    "\tdepartment_id INTEGER PRIMARY KEY AUTOINCREMENT NOT NULL,\n",
    "\tdepartment_name text NOT NULL,\n",
    "\tlocation_id INTEGER NOT NULL,\n",
    "\tFOREIGN KEY (location_id) REFERENCES locations (location_id) ON DELETE CASCADE ON UPDATE CASCADE);\n",
    "\n",
    "CREATE TABLE jobs (\n",
    "\tjob_id INTEGER PRIMARY KEY AUTOINCREMENT NOT NULL,\n",
    "\tjob_title text NOT NULL,\n",
    "\tmin_salary double NOT NULL,\n",
    "\tmax_salary double NOT NULL);\n",
    "\n",
    "CREATE TABLE employees (\n",
    "\temployee_id INTEGER PRIMARY KEY AUTOINCREMENT NOT NULL,\n",
    "\tfirst_name text,\n",
    "\tlast_name text NOT NULL,\n",
    "\temail text NOT NULL,\n",
    "\tphone_number text,\n",
    "\thire_date text NOT NULL,\n",
    "\tjob_id INTEGER NOT NULL,\n",
    "\tsalary double NOT NULL,\n",
    "\tmanager_id INTEGER,\n",
    "\tdepartment_id INTEGER NOT NULL,\n",
    "\tFOREIGN KEY (job_id) REFERENCES jobs (job_id) ON DELETE CASCADE ON UPDATE CASCADE,\n",
    "\tFOREIGN KEY (department_id) REFERENCES departments (department_id) ON DELETE CASCADE ON UPDATE CASCADE,\n",
    "\tFOREIGN KEY (manager_id) REFERENCES employees (employee_id) ON DELETE CASCADE ON UPDATE CASCADE);\n",
    "\n",
    "CREATE TABLE dependents (\n",
    "\tdependent_id INTEGER PRIMARY KEY AUTOINCREMENT NOT NULL,\n",
    "\tfirst_name text NOT NULL,\n",
    "\tlast_name text NOT NULL,\n",
    "\trelationship text NOT NULL,\n",
    "\temployee_id INTEGER NOT NULL,\n",
    "\tFOREIGN KEY (employee_id) REFERENCES employees (employee_id) ON DELETE CASCADE ON UPDATE CASCADE);"
   ]
  },
  {
   "cell_type": "code",
   "execution_count": null,
   "metadata": {
    "colab": {
     "base_uri": "https://localhost:8080/"
    },
    "executionInfo": {
     "elapsed": 522,
     "status": "ok",
     "timestamp": 1668546498217,
     "user": {
      "displayName": "Aleksandar Vakanski",
      "userId": "07675307153279708378"
     },
     "user_tz": 420
    },
    "id": "tHBt7diRDlCH",
    "outputId": "bc9dabb6-0d6b-4acd-a3a4-2a76ac40c1ff"
   },
   "outputs": [],
   "source": [
    "%%sql sqlite://\n",
    "\n",
    "/*Data for the table regions */\n",
    "INSERT INTO regions(region_id,region_name) VALUES (1,'Europe');\n",
    "INSERT INTO regions(region_id,region_name) VALUES (2,'Americas');\n",
    "INSERT INTO regions(region_id,region_name) VALUES (3,'Asia');\n",
    "INSERT INTO regions(region_id,region_name) VALUES (4,'Middle East and Africa');\n",
    "\n",
    "/*Data for the table countries */\n",
    "INSERT INTO countries(country_id,country_name,region_id) VALUES ('AR','Argentina',2);\n",
    "INSERT INTO countries(country_id,country_name,region_id) VALUES ('AU','Australia',3);\n",
    "INSERT INTO countries(country_id,country_name,region_id) VALUES ('BE','Belgium',1);\n",
    "INSERT INTO countries(country_id,country_name,region_id) VALUES ('BR','Brazil',2);\n",
    "INSERT INTO countries(country_id,country_name,region_id) VALUES ('CA','Canada',2);\n",
    "INSERT INTO countries(country_id,country_name,region_id) VALUES ('CH','Switzerland',1);\n",
    "INSERT INTO countries(country_id,country_name,region_id) VALUES ('CN','China',3);\n",
    "INSERT INTO countries(country_id,country_name,region_id) VALUES ('DE','Germany',1);\n",
    "INSERT INTO countries(country_id,country_name,region_id) VALUES ('DK','Denmark',1);\n",
    "INSERT INTO countries(country_id,country_name,region_id) VALUES ('EG','Egypt',4);\n",
    "INSERT INTO countries(country_id,country_name,region_id) VALUES ('FR','France',1);\n",
    "INSERT INTO countries(country_id,country_name,region_id) VALUES ('HK','HongKong',3);\n",
    "INSERT INTO countries(country_id,country_name,region_id) VALUES ('IL','Israel',4);\n",
    "INSERT INTO countries(country_id,country_name,region_id) VALUES ('IN','India',3);\n",
    "INSERT INTO countries(country_id,country_name,region_id) VALUES ('IT','Italy',1);\n",
    "INSERT INTO countries(country_id,country_name,region_id) VALUES ('JP','Japan',3);\n",
    "INSERT INTO countries(country_id,country_name,region_id) VALUES ('KW','Kuwait',4);\n",
    "INSERT INTO countries(country_id,country_name,region_id) VALUES ('MX','Mexico',2);\n",
    "INSERT INTO countries(country_id,country_name,region_id) VALUES ('NG','Nigeria',4);\n",
    "INSERT INTO countries(country_id,country_name,region_id) VALUES ('NL','Netherlands',1);\n",
    "INSERT INTO countries(country_id,country_name,region_id) VALUES ('SG','Singapore',3);\n",
    "INSERT INTO countries(country_id,country_name,region_id) VALUES ('UK','United Kingdom',1);\n",
    "INSERT INTO countries(country_id,country_name,region_id) VALUES ('US','United States of America',2);\n",
    "INSERT INTO countries(country_id,country_name,region_id) VALUES ('ZM','Zambia',4);\n",
    "INSERT INTO countries(country_id,country_name,region_id) VALUES ('ZW','Zimbabwe',4);\n",
    "\n",
    "/*Data for the table locations */\n",
    "INSERT INTO locations(location_id,street_address,postal_code,city,state_province,country_id) VALUES (1400,'2014 Jabberwocky Rd','26192','Southlake','Texas','US');\n",
    "INSERT INTO locations(location_id,street_address,postal_code,city,state_province,country_id) VALUES (1500,'2011 Interiors Blvd','99236','South San Francisco','California','US');\n",
    "INSERT INTO locations(location_id,street_address,postal_code,city,state_province,country_id) VALUES (1700,'2004 Charade Rd','98199','Seattle','Washington','US');\n",
    "INSERT INTO locations(location_id,street_address,postal_code,city,state_province,country_id) VALUES (1800,'147 Spadina Ave','M5V 2L7','Toronto','Ontario','CA');\n",
    "INSERT INTO locations(location_id,street_address,postal_code,city,state_province,country_id) VALUES (2400,'8204 Arthur St',NULL,'London',NULL,'UK');\n",
    "INSERT INTO locations(location_id,street_address,postal_code,city,state_province,country_id) VALUES (2500,'Magdalen Centre, The Oxford Science Park','OX9 9ZB','Oxford','Oxford','UK');\n",
    "INSERT INTO locations(location_id,street_address,postal_code,city,state_province,country_id) VALUES (2700,'Schwanthalerstr. 7031','80925','Munich','Bavaria','DE');\n",
    "\n",
    "/*Data for the table jobs */\n",
    "INSERT INTO jobs(job_id,job_title,min_salary,max_salary) VALUES (1,'Public Accountant',4200.00,9000.00);\n",
    "INSERT INTO jobs(job_id,job_title,min_salary,max_salary) VALUES (2,'Accounting Manager',8200.00,16000.00);\n",
    "INSERT INTO jobs(job_id,job_title,min_salary,max_salary) VALUES (3,'Administration Assistant',3000.00,6000.00);\n",
    "INSERT INTO jobs(job_id,job_title,min_salary,max_salary) VALUES (4,'President',20000.00,40000.00);\n",
    "INSERT INTO jobs(job_id,job_title,min_salary,max_salary) VALUES (5,'Administration Vice President',15000.00,30000.00);\n",
    "INSERT INTO jobs(job_id,job_title,min_salary,max_salary) VALUES (6,'Accountant',4200.00,9000.00);\n",
    "INSERT INTO jobs(job_id,job_title,min_salary,max_salary) VALUES (7,'Finance Manager',8200.00,16000.00);\n",
    "INSERT INTO jobs(job_id,job_title,min_salary,max_salary) VALUES (8,'Human Resources Representative',4000.00,9000.00);\n",
    "INSERT INTO jobs(job_id,job_title,min_salary,max_salary) VALUES (9,'Programmer',4000.00,10000.00);\n",
    "INSERT INTO jobs(job_id,job_title,min_salary,max_salary) VALUES (10,'Marketing Manager',9000.00,15000.00);\n",
    "INSERT INTO jobs(job_id,job_title,min_salary,max_salary) VALUES (11,'Marketing Representative',4000.00,9000.00);\n",
    "INSERT INTO jobs(job_id,job_title,min_salary,max_salary) VALUES (12,'Public Relations Representative',4500.00,10500.00);\n",
    "INSERT INTO jobs(job_id,job_title,min_salary,max_salary) VALUES (13,'Purchasing Clerk',2500.00,5500.00);\n",
    "INSERT INTO jobs(job_id,job_title,min_salary,max_salary) VALUES (14,'Purchasing Manager',8000.00,15000.00);\n",
    "INSERT INTO jobs(job_id,job_title,min_salary,max_salary) VALUES (15,'Sales Manager',10000.00,20000.00);\n",
    "INSERT INTO jobs(job_id,job_title,min_salary,max_salary) VALUES (16,'Sales Representative',6000.00,12000.00);\n",
    "INSERT INTO jobs(job_id,job_title,min_salary,max_salary) VALUES (17,'Shipping Clerk',2500.00,5500.00);\n",
    "INSERT INTO jobs(job_id,job_title,min_salary,max_salary) VALUES (18,'Stock Clerk',2000.00,5000.00);\n",
    "INSERT INTO jobs(job_id,job_title,min_salary,max_salary) VALUES (19,'Stock Manager',5500.00,8500.00);\n",
    "\n",
    "/*Data for the table departments */\n",
    "INSERT INTO departments(department_id,department_name,location_id) VALUES (1,'Administration',1700);\n",
    "INSERT INTO departments(department_id,department_name,location_id) VALUES (2,'Marketing',1800);\n",
    "INSERT INTO departments(department_id,department_name,location_id) VALUES (3,'Purchasing',1700);\n",
    "INSERT INTO departments(department_id,department_name,location_id) VALUES (4,'Human Resources',2400);\n",
    "INSERT INTO departments(department_id,department_name,location_id) VALUES (5,'Shipping',1500);\n",
    "INSERT INTO departments(department_id,department_name,location_id) VALUES (6,'IT',1400);\n",
    "INSERT INTO departments(department_id,department_name,location_id) VALUES (7,'Public Relations',2700);\n",
    "INSERT INTO departments(department_id,department_name,location_id) VALUES (8,'Sales',2500);\n",
    "INSERT INTO departments(department_id,department_name,location_id) VALUES (9,'Executive',1700);\n",
    "INSERT INTO departments(department_id,department_name,location_id) VALUES (10,'Finance',1700);\n",
    "INSERT INTO departments(department_id,department_name,location_id) VALUES (11,'Accounting',1700);\n",
    "\n",
    "/*Data for the table employees */\n",
    "INSERT INTO employees(employee_id,first_name,last_name,email,phone_number,hire_date,job_id,salary,manager_id,department_id) VALUES (100,'Steven','King','steven.king@sqltutorial.org','515.123.4567','1987-06-17',4,24000.00,NULL,9);\n",
    "INSERT INTO employees(employee_id,first_name,last_name,email,phone_number,hire_date,job_id,salary,manager_id,department_id) VALUES (101,'Neena','Kochhar','neena.kochhar@sqltutorial.org','515.123.4568','1989-09-21',5,17000.00,100,9);\n",
    "INSERT INTO employees(employee_id,first_name,last_name,email,phone_number,hire_date,job_id,salary,manager_id,department_id) VALUES (102,'Lex','De Haan','lex.de haan@sqltutorial.org','515.123.4569','1993-01-13',5,17000.00,100,9);\n",
    "INSERT INTO employees(employee_id,first_name,last_name,email,phone_number,hire_date,job_id,salary,manager_id,department_id) VALUES (103,'Alexander','Hunold','alexander.hunold@sqltutorial.org','590.423.4567','1990-01-03',9,9000.00,102,6);\n",
    "INSERT INTO employees(employee_id,first_name,last_name,email,phone_number,hire_date,job_id,salary,manager_id,department_id) VALUES (104,'Bruce','Ernst','bruce.ernst@sqltutorial.org','590.423.4568','1991-05-21',9,6000.00,103,6);\n",
    "INSERT INTO employees(employee_id,first_name,last_name,email,phone_number,hire_date,job_id,salary,manager_id,department_id) VALUES (105,'David','Austin','david.austin@sqltutorial.org','590.423.4569','1997-06-25',9,4800.00,103,6);\n",
    "INSERT INTO employees(employee_id,first_name,last_name,email,phone_number,hire_date,job_id,salary,manager_id,department_id) VALUES (106,'Valli','Pataballa','valli.pataballa@sqltutorial.org','590.423.4560','1998-02-05',9,4800.00,103,6);\n",
    "INSERT INTO employees(employee_id,first_name,last_name,email,phone_number,hire_date,job_id,salary,manager_id,department_id) VALUES (107,'Diana','Lorentz','diana.lorentz@sqltutorial.org','590.423.5567','1999-02-07',9,4200.00,103,6);\n",
    "INSERT INTO employees(employee_id,first_name,last_name,email,phone_number,hire_date,job_id,salary,manager_id,department_id) VALUES (108,'Nancy','Greenberg','nancy.greenberg@sqltutorial.org','515.124.4569','1994-08-17',7,12000.00,101,10);\n",
    "INSERT INTO employees(employee_id,first_name,last_name,email,phone_number,hire_date,job_id,salary,manager_id,department_id) VALUES (109,'Daniel','Faviet','daniel.faviet@sqltutorial.org','515.124.4169','1994-08-16',6,9000.00,108,10);\n",
    "INSERT INTO employees(employee_id,first_name,last_name,email,phone_number,hire_date,job_id,salary,manager_id,department_id) VALUES (110,'John','Chen','john.chen@sqltutorial.org','515.124.4269','1997-09-28',6,8200.00,108,10);\n",
    "INSERT INTO employees(employee_id,first_name,last_name,email,phone_number,hire_date,job_id,salary,manager_id,department_id) VALUES (111,'Ismael','Sciarra','ismael.sciarra@sqltutorial.org','515.124.4369','1997-09-30',6,7700.00,108,10);\n",
    "INSERT INTO employees(employee_id,first_name,last_name,email,phone_number,hire_date,job_id,salary,manager_id,department_id) VALUES (112,'Jose Manuel','Urman','jose manuel.urman@sqltutorial.org','515.124.4469','1998-03-07',6,7800.00,108,10);\n",
    "INSERT INTO employees(employee_id,first_name,last_name,email,phone_number,hire_date,job_id,salary,manager_id,department_id) VALUES (113,'Luis','Popp','luis.popp@sqltutorial.org','515.124.4567','1999-12-07',6,6900.00,108,10);\n",
    "INSERT INTO employees(employee_id,first_name,last_name,email,phone_number,hire_date,job_id,salary,manager_id,department_id) VALUES (114,'Den','Raphaely','den.raphaely@sqltutorial.org','515.127.4561','1994-12-07',14,11000.00,100,3);\n",
    "INSERT INTO employees(employee_id,first_name,last_name,email,phone_number,hire_date,job_id,salary,manager_id,department_id) VALUES (115,'Alexander','Khoo','alexander.khoo@sqltutorial.org','515.127.4562','1995-05-18',13,3100.00,114,3);\n",
    "INSERT INTO employees(employee_id,first_name,last_name,email,phone_number,hire_date,job_id,salary,manager_id,department_id) VALUES (116,'Shelli','Baida','shelli.baida@sqltutorial.org','515.127.4563','1997-12-24',13,2900.00,114,3);\n",
    "INSERT INTO employees(employee_id,first_name,last_name,email,phone_number,hire_date,job_id,salary,manager_id,department_id) VALUES (117,'Sigal','Tobias','sigal.tobias@sqltutorial.org','515.127.4564','1997-07-24',13,2800.00,114,3);\n",
    "INSERT INTO employees(employee_id,first_name,last_name,email,phone_number,hire_date,job_id,salary,manager_id,department_id) VALUES (118,'Guy','Himuro','guy.himuro@sqltutorial.org','515.127.4565','1998-11-15',13,2600.00,114,3);\n",
    "INSERT INTO employees(employee_id,first_name,last_name,email,phone_number,hire_date,job_id,salary,manager_id,department_id) VALUES (119,'Karen','Colmenares','karen.colmenares@sqltutorial.org','515.127.4566','1999-08-10',13,2500.00,114,3);\n",
    "INSERT INTO employees(employee_id,first_name,last_name,email,phone_number,hire_date,job_id,salary,manager_id,department_id) VALUES (120,'Matthew','Weiss','matthew.weiss@sqltutorial.org','650.123.1234','1996-07-18',19,8000.00,100,5);\n",
    "INSERT INTO employees(employee_id,first_name,last_name,email,phone_number,hire_date,job_id,salary,manager_id,department_id) VALUES (121,'Adam','Fripp','adam.fripp@sqltutorial.org','650.123.2234','1997-04-10',19,8200.00,100,5);\n",
    "INSERT INTO employees(employee_id,first_name,last_name,email,phone_number,hire_date,job_id,salary,manager_id,department_id) VALUES (122,'Payam','Kaufling','payam.kaufling@sqltutorial.org','650.123.3234','1995-05-01',19,7900.00,100,5);\n",
    "INSERT INTO employees(employee_id,first_name,last_name,email,phone_number,hire_date,job_id,salary,manager_id,department_id) VALUES (123,'Shanta','Vollman','shanta.vollman@sqltutorial.org','650.123.4234','1997-10-10',19,6500.00,100,5);\n",
    "INSERT INTO employees(employee_id,first_name,last_name,email,phone_number,hire_date,job_id,salary,manager_id,department_id) VALUES (126,'Irene','Mikkilineni','irene.mikkilineni@sqltutorial.org','650.124.1224','1998-09-28',18,2700.00,120,5);\n",
    "INSERT INTO employees(employee_id,first_name,last_name,email,phone_number,hire_date,job_id,salary,manager_id,department_id) VALUES (145,'John','Russell','john.russell@sqltutorial.org',NULL,'1996-10-01',15,14000.00,100,8);\n",
    "INSERT INTO employees(employee_id,first_name,last_name,email,phone_number,hire_date,job_id,salary,manager_id,department_id) VALUES (146,'Karen','Partners','karen.partners@sqltutorial.org',NULL,'1997-01-05',15,13500.00,100,8);\n",
    "INSERT INTO employees(employee_id,first_name,last_name,email,phone_number,hire_date,job_id,salary,manager_id,department_id) VALUES (176,'Jonathon','Taylor','jonathon.taylor@sqltutorial.org',NULL,'1998-03-24',16,8600.00,100,8);\n",
    "INSERT INTO employees(employee_id,first_name,last_name,email,phone_number,hire_date,job_id,salary,manager_id,department_id) VALUES (177,'Jack','Livingston','jack.livingston@sqltutorial.org',NULL,'1998-04-23',16,8400.00,100,8);\n",
    "INSERT INTO employees(employee_id,first_name,last_name,email,phone_number,hire_date,job_id,salary,manager_id,department_id) VALUES (178,'Kimberely','Grant','kimberely.grant@sqltutorial.org',NULL,'1999-05-24',16,7000.00,100,8);\n",
    "INSERT INTO employees(employee_id,first_name,last_name,email,phone_number,hire_date,job_id,salary,manager_id,department_id) VALUES (179,'Charles','Johnson','charles.johnson@sqltutorial.org',NULL,'2000-01-04',16,6200.00,100,8);\n",
    "INSERT INTO employees(employee_id,first_name,last_name,email,phone_number,hire_date,job_id,salary,manager_id,department_id) VALUES (192,'Sarah','Bell','sarah.bell@sqltutorial.org','650.501.1876','1996-02-04',17,4000.00,123,5);\n",
    "INSERT INTO employees(employee_id,first_name,last_name,email,phone_number,hire_date,job_id,salary,manager_id,department_id) VALUES (193,'Britney','Everett','britney.everett@sqltutorial.org','650.501.2876','1997-03-03',17,3900.00,123,5);\n",
    "INSERT INTO employees(employee_id,first_name,last_name,email,phone_number,hire_date,job_id,salary,manager_id,department_id) VALUES (200,'Jennifer','Whalen','jennifer.whalen@sqltutorial.org','515.123.4444','1987-09-17',3,4400.00,101,1);\n",
    "INSERT INTO employees(employee_id,first_name,last_name,email,phone_number,hire_date,job_id,salary,manager_id,department_id) VALUES (201,'Michael','Hartstein','michael.hartstein@sqltutorial.org','515.123.5555','1996-02-17',10,13000.00,100,2);\n",
    "INSERT INTO employees(employee_id,first_name,last_name,email,phone_number,hire_date,job_id,salary,manager_id,department_id) VALUES (202,'Pat','Fay','pat.fay@sqltutorial.org','603.123.6666','1997-08-17',11,6000.00,201,2);\n",
    "INSERT INTO employees(employee_id,first_name,last_name,email,phone_number,hire_date,job_id,salary,manager_id,department_id) VALUES (203,'Susan','Mavris','susan.mavris@sqltutorial.org','515.123.7777','1994-06-07',8,6500.00,101,4);\n",
    "INSERT INTO employees(employee_id,first_name,last_name,email,phone_number,hire_date,job_id,salary,manager_id,department_id) VALUES (204,'Hermann','Baer','hermann.baer@sqltutorial.org','515.123.8888','1994-06-07',12,10000.00,101,7);\n",
    "INSERT INTO employees(employee_id,first_name,last_name,email,phone_number,hire_date,job_id,salary,manager_id,department_id) VALUES (205,'Shelley','Higgins','shelley.higgins@sqltutorial.org','515.123.8080','1994-06-07',2,12000.00,101,11);\n",
    "INSERT INTO employees(employee_id,first_name,last_name,email,phone_number,hire_date,job_id,salary,manager_id,department_id) VALUES (206,'William','Gietz','william.gietz@sqltutorial.org','515.123.8181','1994-06-07',1,8300.00,205,11);\n",
    "\n",
    "/*Data for the table dependents */\n",
    "INSERT INTO dependents(dependent_id,first_name,last_name,relationship,employee_id) VALUES (1,'Penelope','Gietz','Child',206);\n",
    "INSERT INTO dependents(dependent_id,first_name,last_name,relationship,employee_id) VALUES (2,'Nick','Higgins','Child',205);\n",
    "INSERT INTO dependents(dependent_id,first_name,last_name,relationship,employee_id) VALUES (3,'Ed','Whalen','Child',200);\n",
    "INSERT INTO dependents(dependent_id,first_name,last_name,relationship,employee_id) VALUES (4,'Jennifer','King','Child',100);\n",
    "INSERT INTO dependents(dependent_id,first_name,last_name,relationship,employee_id) VALUES (5,'Johnny','Kochhar','Child',101);\n",
    "INSERT INTO dependents(dependent_id,first_name,last_name,relationship,employee_id) VALUES (6,'Bette','De Haan','Child',102);\n",
    "INSERT INTO dependents(dependent_id,first_name,last_name,relationship,employee_id) VALUES (7,'Grace','Faviet','Child',109);\n",
    "INSERT INTO dependents(dependent_id,first_name,last_name,relationship,employee_id) VALUES (8,'Matthew','Chen','Child',110);\n",
    "INSERT INTO dependents(dependent_id,first_name,last_name,relationship,employee_id) VALUES (9,'Joe','Sciarra','Child',111);\n",
    "INSERT INTO dependents(dependent_id,first_name,last_name,relationship,employee_id) VALUES (10,'Christian','Urman','Child',112);\n",
    "INSERT INTO dependents(dependent_id,first_name,last_name,relationship,employee_id) VALUES (11,'Zero','Popp','Child',113);\n",
    "INSERT INTO dependents(dependent_id,first_name,last_name,relationship,employee_id) VALUES (12,'Karl','Greenberg','Child',108);\n",
    "INSERT INTO dependents(dependent_id,first_name,last_name,relationship,employee_id) VALUES (13,'Uma','Mavris','Child',203);\n",
    "INSERT INTO dependents(dependent_id,first_name,last_name,relationship,employee_id) VALUES (14,'Vivien','Hunold','Child',103);\n",
    "INSERT INTO dependents(dependent_id,first_name,last_name,relationship,employee_id) VALUES (15,'Cuba','Ernst','Child',104);\n",
    "INSERT INTO dependents(dependent_id,first_name,last_name,relationship,employee_id) VALUES (16,'Fred','Austin','Child',105);\n",
    "INSERT INTO dependents(dependent_id,first_name,last_name,relationship,employee_id) VALUES (17,'Helen','Pataballa','Child',106);\n",
    "INSERT INTO dependents(dependent_id,first_name,last_name,relationship,employee_id) VALUES (18,'Dan','Lorentz','Child',107);\n",
    "INSERT INTO dependents(dependent_id,first_name,last_name,relationship,employee_id) VALUES (19,'Bob','Hartstein','Child',201);\n",
    "INSERT INTO dependents(dependent_id,first_name,last_name,relationship,employee_id) VALUES (20,'Lucille','Fay','Child',202);\n",
    "INSERT INTO dependents(dependent_id,first_name,last_name,relationship,employee_id) VALUES (21,'Kirsten','Baer','Child',204);\n",
    "INSERT INTO dependents(dependent_id,first_name,last_name,relationship,employee_id) VALUES (22,'Elvis','Khoo','Child',115);\n",
    "INSERT INTO dependents(dependent_id,first_name,last_name,relationship,employee_id) VALUES (23,'Sandra','Baida','Child',116);\n",
    "INSERT INTO dependents(dependent_id,first_name,last_name,relationship,employee_id) VALUES (24,'Cameron','Tobias','Child',117);\n",
    "INSERT INTO dependents(dependent_id,first_name,last_name,relationship,employee_id) VALUES (25,'Kevin','Himuro','Child',118);\n",
    "INSERT INTO dependents(dependent_id,first_name,last_name,relationship,employee_id) VALUES (26,'Rip','Colmenares','Child',119);\n",
    "INSERT INTO dependents(dependent_id,first_name,last_name,relationship,employee_id) VALUES (27,'Julia','Raphaely','Child',114);\n",
    "INSERT INTO dependents(dependent_id,first_name,last_name,relationship,employee_id) VALUES (28,'Woody','Russell','Child',145);\n",
    "INSERT INTO dependents(dependent_id,first_name,last_name,relationship,employee_id) VALUES (29,'Alec','Partners','Child',146);\n",
    "INSERT INTO dependents(dependent_id,first_name,last_name,relationship,employee_id) VALUES (30,'Sandra','Taylor','Child',176);"
   ]
  },
  {
   "cell_type": "markdown",
   "metadata": {
    "id": "Qw0BNTykEFoU"
   },
   "source": [
    "## 10.5 Querying Databases with SELECT <a name='10.5-querying-databases-with-select'></a>"
   ]
  },
  {
   "cell_type": "markdown",
   "metadata": {
    "id": "VtbDRnddUVhA"
   },
   "source": [
    "The most common SQL task is to retrieve data from one or more tables. The data is returned in the form of a result table, called *result set*. This is accomplished with the `SELECT` statement, which has the following general syntax. \n",
    "\n",
    "```\n",
    "SELECT \n",
    "    column1, column2, columnN \n",
    "FROM \n",
    "    table_name;\n",
    "```\n",
    "\n",
    "To run the code in this Jupyter Notebook, we will just insert the magic commands `%sql` or `%%sql` in front of each SQL code.  \n",
    "\n",
    "For example, in the next cell we retrieved the columns `employee_id, first_name, last_name, hire_date` from `employees` table. When the statement is evaluated, the database system first evaluates the `FROM` clause and the `SELECT` clause afterward. I.e., from the table named `employees` select the listed columns.\n",
    "\n",
    "\n"
   ]
  },
  {
   "cell_type": "code",
   "execution_count": 10,
   "metadata": {
    "colab": {
     "base_uri": "https://localhost:8080/",
     "height": 912
    },
    "executionInfo": {
     "elapsed": 43,
     "status": "ok",
     "timestamp": 1668546498219,
     "user": {
      "displayName": "Aleksandar Vakanski",
      "userId": "07675307153279708378"
     },
     "user_tz": 420
    },
    "id": "kE7T_NrIiALM",
    "outputId": "9b6ebb17-e4a4-4e55-e535-4f0a3d635a2e"
   },
   "outputs": [
    {
     "name": "stdout",
     "output_type": "stream",
     "text": [
      " * sqlite://\n",
      "Done.\n"
     ]
    },
    {
     "data": {
      "text/html": [
       "<table>\n",
       "    <thead>\n",
       "        <tr>\n",
       "            <th>employee_id</th>\n",
       "            <th>first_name</th>\n",
       "            <th>last_name</th>\n",
       "            <th>hire_date</th>\n",
       "        </tr>\n",
       "    </thead>\n",
       "    <tbody>\n",
       "        <tr>\n",
       "            <td>100</td>\n",
       "            <td>Steven</td>\n",
       "            <td>King</td>\n",
       "            <td>1987-06-17</td>\n",
       "        </tr>\n",
       "        <tr>\n",
       "            <td>101</td>\n",
       "            <td>Neena</td>\n",
       "            <td>Kochhar</td>\n",
       "            <td>1989-09-21</td>\n",
       "        </tr>\n",
       "        <tr>\n",
       "            <td>102</td>\n",
       "            <td>Lex</td>\n",
       "            <td>De Haan</td>\n",
       "            <td>1993-01-13</td>\n",
       "        </tr>\n",
       "        <tr>\n",
       "            <td>103</td>\n",
       "            <td>Alexander</td>\n",
       "            <td>Hunold</td>\n",
       "            <td>1990-01-03</td>\n",
       "        </tr>\n",
       "        <tr>\n",
       "            <td>104</td>\n",
       "            <td>Bruce</td>\n",
       "            <td>Ernst</td>\n",
       "            <td>1991-05-21</td>\n",
       "        </tr>\n",
       "        <tr>\n",
       "            <td>105</td>\n",
       "            <td>David</td>\n",
       "            <td>Austin</td>\n",
       "            <td>1997-06-25</td>\n",
       "        </tr>\n",
       "        <tr>\n",
       "            <td>106</td>\n",
       "            <td>Valli</td>\n",
       "            <td>Pataballa</td>\n",
       "            <td>1998-02-05</td>\n",
       "        </tr>\n",
       "        <tr>\n",
       "            <td>107</td>\n",
       "            <td>Diana</td>\n",
       "            <td>Lorentz</td>\n",
       "            <td>1999-02-07</td>\n",
       "        </tr>\n",
       "        <tr>\n",
       "            <td>108</td>\n",
       "            <td>Nancy</td>\n",
       "            <td>Greenberg</td>\n",
       "            <td>1994-08-17</td>\n",
       "        </tr>\n",
       "        <tr>\n",
       "            <td>109</td>\n",
       "            <td>Daniel</td>\n",
       "            <td>Faviet</td>\n",
       "            <td>1994-08-16</td>\n",
       "        </tr>\n",
       "        <tr>\n",
       "            <td>110</td>\n",
       "            <td>John</td>\n",
       "            <td>Chen</td>\n",
       "            <td>1997-09-28</td>\n",
       "        </tr>\n",
       "        <tr>\n",
       "            <td>111</td>\n",
       "            <td>Ismael</td>\n",
       "            <td>Sciarra</td>\n",
       "            <td>1997-09-30</td>\n",
       "        </tr>\n",
       "        <tr>\n",
       "            <td>112</td>\n",
       "            <td>Jose Manuel</td>\n",
       "            <td>Urman</td>\n",
       "            <td>1998-03-07</td>\n",
       "        </tr>\n",
       "        <tr>\n",
       "            <td>113</td>\n",
       "            <td>Luis</td>\n",
       "            <td>Popp</td>\n",
       "            <td>1999-12-07</td>\n",
       "        </tr>\n",
       "        <tr>\n",
       "            <td>114</td>\n",
       "            <td>Den</td>\n",
       "            <td>Raphaely</td>\n",
       "            <td>1994-12-07</td>\n",
       "        </tr>\n",
       "        <tr>\n",
       "            <td>115</td>\n",
       "            <td>Alexander</td>\n",
       "            <td>Khoo</td>\n",
       "            <td>1995-05-18</td>\n",
       "        </tr>\n",
       "        <tr>\n",
       "            <td>116</td>\n",
       "            <td>Shelli</td>\n",
       "            <td>Baida</td>\n",
       "            <td>1997-12-24</td>\n",
       "        </tr>\n",
       "        <tr>\n",
       "            <td>117</td>\n",
       "            <td>Sigal</td>\n",
       "            <td>Tobias</td>\n",
       "            <td>1997-07-24</td>\n",
       "        </tr>\n",
       "        <tr>\n",
       "            <td>118</td>\n",
       "            <td>Guy</td>\n",
       "            <td>Himuro</td>\n",
       "            <td>1998-11-15</td>\n",
       "        </tr>\n",
       "        <tr>\n",
       "            <td>119</td>\n",
       "            <td>Karen</td>\n",
       "            <td>Colmenares</td>\n",
       "            <td>1999-08-10</td>\n",
       "        </tr>\n",
       "        <tr>\n",
       "            <td>120</td>\n",
       "            <td>Matthew</td>\n",
       "            <td>Weiss</td>\n",
       "            <td>1996-07-18</td>\n",
       "        </tr>\n",
       "        <tr>\n",
       "            <td>121</td>\n",
       "            <td>Adam</td>\n",
       "            <td>Fripp</td>\n",
       "            <td>1997-04-10</td>\n",
       "        </tr>\n",
       "        <tr>\n",
       "            <td>122</td>\n",
       "            <td>Payam</td>\n",
       "            <td>Kaufling</td>\n",
       "            <td>1995-05-01</td>\n",
       "        </tr>\n",
       "        <tr>\n",
       "            <td>123</td>\n",
       "            <td>Shanta</td>\n",
       "            <td>Vollman</td>\n",
       "            <td>1997-10-10</td>\n",
       "        </tr>\n",
       "        <tr>\n",
       "            <td>126</td>\n",
       "            <td>Irene</td>\n",
       "            <td>Mikkilineni</td>\n",
       "            <td>1998-09-28</td>\n",
       "        </tr>\n",
       "        <tr>\n",
       "            <td>145</td>\n",
       "            <td>John</td>\n",
       "            <td>Russell</td>\n",
       "            <td>1996-10-01</td>\n",
       "        </tr>\n",
       "        <tr>\n",
       "            <td>146</td>\n",
       "            <td>Karen</td>\n",
       "            <td>Partners</td>\n",
       "            <td>1997-01-05</td>\n",
       "        </tr>\n",
       "        <tr>\n",
       "            <td>176</td>\n",
       "            <td>Jonathon</td>\n",
       "            <td>Taylor</td>\n",
       "            <td>1998-03-24</td>\n",
       "        </tr>\n",
       "        <tr>\n",
       "            <td>177</td>\n",
       "            <td>Jack</td>\n",
       "            <td>Livingston</td>\n",
       "            <td>1998-04-23</td>\n",
       "        </tr>\n",
       "        <tr>\n",
       "            <td>178</td>\n",
       "            <td>Kimberely</td>\n",
       "            <td>Grant</td>\n",
       "            <td>1999-05-24</td>\n",
       "        </tr>\n",
       "        <tr>\n",
       "            <td>179</td>\n",
       "            <td>Charles</td>\n",
       "            <td>Johnson</td>\n",
       "            <td>2000-01-04</td>\n",
       "        </tr>\n",
       "        <tr>\n",
       "            <td>192</td>\n",
       "            <td>Sarah</td>\n",
       "            <td>Bell</td>\n",
       "            <td>1996-02-04</td>\n",
       "        </tr>\n",
       "        <tr>\n",
       "            <td>193</td>\n",
       "            <td>Britney</td>\n",
       "            <td>Everett</td>\n",
       "            <td>1997-03-03</td>\n",
       "        </tr>\n",
       "        <tr>\n",
       "            <td>200</td>\n",
       "            <td>Jennifer</td>\n",
       "            <td>Whalen</td>\n",
       "            <td>1987-09-17</td>\n",
       "        </tr>\n",
       "        <tr>\n",
       "            <td>201</td>\n",
       "            <td>Michael</td>\n",
       "            <td>Hartstein</td>\n",
       "            <td>1996-02-17</td>\n",
       "        </tr>\n",
       "        <tr>\n",
       "            <td>202</td>\n",
       "            <td>Pat</td>\n",
       "            <td>Fay</td>\n",
       "            <td>1997-08-17</td>\n",
       "        </tr>\n",
       "        <tr>\n",
       "            <td>203</td>\n",
       "            <td>Susan</td>\n",
       "            <td>Mavris</td>\n",
       "            <td>1994-06-07</td>\n",
       "        </tr>\n",
       "        <tr>\n",
       "            <td>204</td>\n",
       "            <td>Hermann</td>\n",
       "            <td>Baer</td>\n",
       "            <td>1994-06-07</td>\n",
       "        </tr>\n",
       "        <tr>\n",
       "            <td>205</td>\n",
       "            <td>Shelley</td>\n",
       "            <td>Higgins</td>\n",
       "            <td>1994-06-07</td>\n",
       "        </tr>\n",
       "        <tr>\n",
       "            <td>206</td>\n",
       "            <td>William</td>\n",
       "            <td>Gietz</td>\n",
       "            <td>1994-06-07</td>\n",
       "        </tr>\n",
       "    </tbody>\n",
       "</table>"
      ],
      "text/plain": [
       "[(100, 'Steven', 'King', '1987-06-17'),\n",
       " (101, 'Neena', 'Kochhar', '1989-09-21'),\n",
       " (102, 'Lex', 'De Haan', '1993-01-13'),\n",
       " (103, 'Alexander', 'Hunold', '1990-01-03'),\n",
       " (104, 'Bruce', 'Ernst', '1991-05-21'),\n",
       " (105, 'David', 'Austin', '1997-06-25'),\n",
       " (106, 'Valli', 'Pataballa', '1998-02-05'),\n",
       " (107, 'Diana', 'Lorentz', '1999-02-07'),\n",
       " (108, 'Nancy', 'Greenberg', '1994-08-17'),\n",
       " (109, 'Daniel', 'Faviet', '1994-08-16'),\n",
       " (110, 'John', 'Chen', '1997-09-28'),\n",
       " (111, 'Ismael', 'Sciarra', '1997-09-30'),\n",
       " (112, 'Jose Manuel', 'Urman', '1998-03-07'),\n",
       " (113, 'Luis', 'Popp', '1999-12-07'),\n",
       " (114, 'Den', 'Raphaely', '1994-12-07'),\n",
       " (115, 'Alexander', 'Khoo', '1995-05-18'),\n",
       " (116, 'Shelli', 'Baida', '1997-12-24'),\n",
       " (117, 'Sigal', 'Tobias', '1997-07-24'),\n",
       " (118, 'Guy', 'Himuro', '1998-11-15'),\n",
       " (119, 'Karen', 'Colmenares', '1999-08-10'),\n",
       " (120, 'Matthew', 'Weiss', '1996-07-18'),\n",
       " (121, 'Adam', 'Fripp', '1997-04-10'),\n",
       " (122, 'Payam', 'Kaufling', '1995-05-01'),\n",
       " (123, 'Shanta', 'Vollman', '1997-10-10'),\n",
       " (126, 'Irene', 'Mikkilineni', '1998-09-28'),\n",
       " (145, 'John', 'Russell', '1996-10-01'),\n",
       " (146, 'Karen', 'Partners', '1997-01-05'),\n",
       " (176, 'Jonathon', 'Taylor', '1998-03-24'),\n",
       " (177, 'Jack', 'Livingston', '1998-04-23'),\n",
       " (178, 'Kimberely', 'Grant', '1999-05-24'),\n",
       " (179, 'Charles', 'Johnson', '2000-01-04'),\n",
       " (192, 'Sarah', 'Bell', '1996-02-04'),\n",
       " (193, 'Britney', 'Everett', '1997-03-03'),\n",
       " (200, 'Jennifer', 'Whalen', '1987-09-17'),\n",
       " (201, 'Michael', 'Hartstein', '1996-02-17'),\n",
       " (202, 'Pat', 'Fay', '1997-08-17'),\n",
       " (203, 'Susan', 'Mavris', '1994-06-07'),\n",
       " (204, 'Hermann', 'Baer', '1994-06-07'),\n",
       " (205, 'Shelley', 'Higgins', '1994-06-07'),\n",
       " (206, 'William', 'Gietz', '1994-06-07')]"
      ]
     },
     "execution_count": 10,
     "metadata": {},
     "output_type": "execute_result"
    }
   ],
   "source": [
    "%%sql \n",
    "SELECT \n",
    "    employee_id, first_name, last_name, hire_date \n",
    "FROM \n",
    "    employees;"
   ]
  },
  {
   "cell_type": "markdown",
   "metadata": {
    "id": "XVloOe3kh8S1"
   },
   "source": [
    "If we want to query all columns in a table we can use the asterisk operator `*` instead of the columns names. "
   ]
  },
  {
   "cell_type": "code",
   "execution_count": 11,
   "metadata": {
    "colab": {
     "base_uri": "https://localhost:8080/",
     "height": 912
    },
    "executionInfo": {
     "elapsed": 40,
     "status": "ok",
     "timestamp": 1668546498219,
     "user": {
      "displayName": "Aleksandar Vakanski",
      "userId": "07675307153279708378"
     },
     "user_tz": 420
    },
    "id": "hvkAE1EzhTfG",
    "outputId": "30b008b8-9250-46aa-9386-4b8bb67e8a84"
   },
   "outputs": [
    {
     "name": "stdout",
     "output_type": "stream",
     "text": [
      " * sqlite://\n",
      "Done.\n"
     ]
    },
    {
     "data": {
      "text/html": [
       "<table>\n",
       "    <thead>\n",
       "        <tr>\n",
       "            <th>employee_id</th>\n",
       "            <th>first_name</th>\n",
       "            <th>last_name</th>\n",
       "            <th>email</th>\n",
       "            <th>phone_number</th>\n",
       "            <th>hire_date</th>\n",
       "            <th>job_id</th>\n",
       "            <th>salary</th>\n",
       "            <th>manager_id</th>\n",
       "            <th>department_id</th>\n",
       "        </tr>\n",
       "    </thead>\n",
       "    <tbody>\n",
       "        <tr>\n",
       "            <td>100</td>\n",
       "            <td>Steven</td>\n",
       "            <td>King</td>\n",
       "            <td>steven.king@sqltutorial.org</td>\n",
       "            <td>515.123.4567</td>\n",
       "            <td>1987-06-17</td>\n",
       "            <td>4</td>\n",
       "            <td>24000.0</td>\n",
       "            <td>None</td>\n",
       "            <td>9</td>\n",
       "        </tr>\n",
       "        <tr>\n",
       "            <td>101</td>\n",
       "            <td>Neena</td>\n",
       "            <td>Kochhar</td>\n",
       "            <td>neena.kochhar@sqltutorial.org</td>\n",
       "            <td>515.123.4568</td>\n",
       "            <td>1989-09-21</td>\n",
       "            <td>5</td>\n",
       "            <td>17000.0</td>\n",
       "            <td>100</td>\n",
       "            <td>9</td>\n",
       "        </tr>\n",
       "        <tr>\n",
       "            <td>102</td>\n",
       "            <td>Lex</td>\n",
       "            <td>De Haan</td>\n",
       "            <td>lex.de haan@sqltutorial.org</td>\n",
       "            <td>515.123.4569</td>\n",
       "            <td>1993-01-13</td>\n",
       "            <td>5</td>\n",
       "            <td>17000.0</td>\n",
       "            <td>100</td>\n",
       "            <td>9</td>\n",
       "        </tr>\n",
       "        <tr>\n",
       "            <td>103</td>\n",
       "            <td>Alexander</td>\n",
       "            <td>Hunold</td>\n",
       "            <td>alexander.hunold@sqltutorial.org</td>\n",
       "            <td>590.423.4567</td>\n",
       "            <td>1990-01-03</td>\n",
       "            <td>9</td>\n",
       "            <td>9000.0</td>\n",
       "            <td>102</td>\n",
       "            <td>6</td>\n",
       "        </tr>\n",
       "        <tr>\n",
       "            <td>104</td>\n",
       "            <td>Bruce</td>\n",
       "            <td>Ernst</td>\n",
       "            <td>bruce.ernst@sqltutorial.org</td>\n",
       "            <td>590.423.4568</td>\n",
       "            <td>1991-05-21</td>\n",
       "            <td>9</td>\n",
       "            <td>6000.0</td>\n",
       "            <td>103</td>\n",
       "            <td>6</td>\n",
       "        </tr>\n",
       "        <tr>\n",
       "            <td>105</td>\n",
       "            <td>David</td>\n",
       "            <td>Austin</td>\n",
       "            <td>david.austin@sqltutorial.org</td>\n",
       "            <td>590.423.4569</td>\n",
       "            <td>1997-06-25</td>\n",
       "            <td>9</td>\n",
       "            <td>4800.0</td>\n",
       "            <td>103</td>\n",
       "            <td>6</td>\n",
       "        </tr>\n",
       "        <tr>\n",
       "            <td>106</td>\n",
       "            <td>Valli</td>\n",
       "            <td>Pataballa</td>\n",
       "            <td>valli.pataballa@sqltutorial.org</td>\n",
       "            <td>590.423.4560</td>\n",
       "            <td>1998-02-05</td>\n",
       "            <td>9</td>\n",
       "            <td>4800.0</td>\n",
       "            <td>103</td>\n",
       "            <td>6</td>\n",
       "        </tr>\n",
       "        <tr>\n",
       "            <td>107</td>\n",
       "            <td>Diana</td>\n",
       "            <td>Lorentz</td>\n",
       "            <td>diana.lorentz@sqltutorial.org</td>\n",
       "            <td>590.423.5567</td>\n",
       "            <td>1999-02-07</td>\n",
       "            <td>9</td>\n",
       "            <td>4200.0</td>\n",
       "            <td>103</td>\n",
       "            <td>6</td>\n",
       "        </tr>\n",
       "        <tr>\n",
       "            <td>108</td>\n",
       "            <td>Nancy</td>\n",
       "            <td>Greenberg</td>\n",
       "            <td>nancy.greenberg@sqltutorial.org</td>\n",
       "            <td>515.124.4569</td>\n",
       "            <td>1994-08-17</td>\n",
       "            <td>7</td>\n",
       "            <td>12000.0</td>\n",
       "            <td>101</td>\n",
       "            <td>10</td>\n",
       "        </tr>\n",
       "        <tr>\n",
       "            <td>109</td>\n",
       "            <td>Daniel</td>\n",
       "            <td>Faviet</td>\n",
       "            <td>daniel.faviet@sqltutorial.org</td>\n",
       "            <td>515.124.4169</td>\n",
       "            <td>1994-08-16</td>\n",
       "            <td>6</td>\n",
       "            <td>9000.0</td>\n",
       "            <td>108</td>\n",
       "            <td>10</td>\n",
       "        </tr>\n",
       "        <tr>\n",
       "            <td>110</td>\n",
       "            <td>John</td>\n",
       "            <td>Chen</td>\n",
       "            <td>john.chen@sqltutorial.org</td>\n",
       "            <td>515.124.4269</td>\n",
       "            <td>1997-09-28</td>\n",
       "            <td>6</td>\n",
       "            <td>8200.0</td>\n",
       "            <td>108</td>\n",
       "            <td>10</td>\n",
       "        </tr>\n",
       "        <tr>\n",
       "            <td>111</td>\n",
       "            <td>Ismael</td>\n",
       "            <td>Sciarra</td>\n",
       "            <td>ismael.sciarra@sqltutorial.org</td>\n",
       "            <td>515.124.4369</td>\n",
       "            <td>1997-09-30</td>\n",
       "            <td>6</td>\n",
       "            <td>7700.0</td>\n",
       "            <td>108</td>\n",
       "            <td>10</td>\n",
       "        </tr>\n",
       "        <tr>\n",
       "            <td>112</td>\n",
       "            <td>Jose Manuel</td>\n",
       "            <td>Urman</td>\n",
       "            <td>jose manuel.urman@sqltutorial.org</td>\n",
       "            <td>515.124.4469</td>\n",
       "            <td>1998-03-07</td>\n",
       "            <td>6</td>\n",
       "            <td>7800.0</td>\n",
       "            <td>108</td>\n",
       "            <td>10</td>\n",
       "        </tr>\n",
       "        <tr>\n",
       "            <td>113</td>\n",
       "            <td>Luis</td>\n",
       "            <td>Popp</td>\n",
       "            <td>luis.popp@sqltutorial.org</td>\n",
       "            <td>515.124.4567</td>\n",
       "            <td>1999-12-07</td>\n",
       "            <td>6</td>\n",
       "            <td>6900.0</td>\n",
       "            <td>108</td>\n",
       "            <td>10</td>\n",
       "        </tr>\n",
       "        <tr>\n",
       "            <td>114</td>\n",
       "            <td>Den</td>\n",
       "            <td>Raphaely</td>\n",
       "            <td>den.raphaely@sqltutorial.org</td>\n",
       "            <td>515.127.4561</td>\n",
       "            <td>1994-12-07</td>\n",
       "            <td>14</td>\n",
       "            <td>11000.0</td>\n",
       "            <td>100</td>\n",
       "            <td>3</td>\n",
       "        </tr>\n",
       "        <tr>\n",
       "            <td>115</td>\n",
       "            <td>Alexander</td>\n",
       "            <td>Khoo</td>\n",
       "            <td>alexander.khoo@sqltutorial.org</td>\n",
       "            <td>515.127.4562</td>\n",
       "            <td>1995-05-18</td>\n",
       "            <td>13</td>\n",
       "            <td>3100.0</td>\n",
       "            <td>114</td>\n",
       "            <td>3</td>\n",
       "        </tr>\n",
       "        <tr>\n",
       "            <td>116</td>\n",
       "            <td>Shelli</td>\n",
       "            <td>Baida</td>\n",
       "            <td>shelli.baida@sqltutorial.org</td>\n",
       "            <td>515.127.4563</td>\n",
       "            <td>1997-12-24</td>\n",
       "            <td>13</td>\n",
       "            <td>2900.0</td>\n",
       "            <td>114</td>\n",
       "            <td>3</td>\n",
       "        </tr>\n",
       "        <tr>\n",
       "            <td>117</td>\n",
       "            <td>Sigal</td>\n",
       "            <td>Tobias</td>\n",
       "            <td>sigal.tobias@sqltutorial.org</td>\n",
       "            <td>515.127.4564</td>\n",
       "            <td>1997-07-24</td>\n",
       "            <td>13</td>\n",
       "            <td>2800.0</td>\n",
       "            <td>114</td>\n",
       "            <td>3</td>\n",
       "        </tr>\n",
       "        <tr>\n",
       "            <td>118</td>\n",
       "            <td>Guy</td>\n",
       "            <td>Himuro</td>\n",
       "            <td>guy.himuro@sqltutorial.org</td>\n",
       "            <td>515.127.4565</td>\n",
       "            <td>1998-11-15</td>\n",
       "            <td>13</td>\n",
       "            <td>2600.0</td>\n",
       "            <td>114</td>\n",
       "            <td>3</td>\n",
       "        </tr>\n",
       "        <tr>\n",
       "            <td>119</td>\n",
       "            <td>Karen</td>\n",
       "            <td>Colmenares</td>\n",
       "            <td>karen.colmenares@sqltutorial.org</td>\n",
       "            <td>515.127.4566</td>\n",
       "            <td>1999-08-10</td>\n",
       "            <td>13</td>\n",
       "            <td>2500.0</td>\n",
       "            <td>114</td>\n",
       "            <td>3</td>\n",
       "        </tr>\n",
       "        <tr>\n",
       "            <td>120</td>\n",
       "            <td>Matthew</td>\n",
       "            <td>Weiss</td>\n",
       "            <td>matthew.weiss@sqltutorial.org</td>\n",
       "            <td>650.123.1234</td>\n",
       "            <td>1996-07-18</td>\n",
       "            <td>19</td>\n",
       "            <td>8000.0</td>\n",
       "            <td>100</td>\n",
       "            <td>5</td>\n",
       "        </tr>\n",
       "        <tr>\n",
       "            <td>121</td>\n",
       "            <td>Adam</td>\n",
       "            <td>Fripp</td>\n",
       "            <td>adam.fripp@sqltutorial.org</td>\n",
       "            <td>650.123.2234</td>\n",
       "            <td>1997-04-10</td>\n",
       "            <td>19</td>\n",
       "            <td>8200.0</td>\n",
       "            <td>100</td>\n",
       "            <td>5</td>\n",
       "        </tr>\n",
       "        <tr>\n",
       "            <td>122</td>\n",
       "            <td>Payam</td>\n",
       "            <td>Kaufling</td>\n",
       "            <td>payam.kaufling@sqltutorial.org</td>\n",
       "            <td>650.123.3234</td>\n",
       "            <td>1995-05-01</td>\n",
       "            <td>19</td>\n",
       "            <td>7900.0</td>\n",
       "            <td>100</td>\n",
       "            <td>5</td>\n",
       "        </tr>\n",
       "        <tr>\n",
       "            <td>123</td>\n",
       "            <td>Shanta</td>\n",
       "            <td>Vollman</td>\n",
       "            <td>shanta.vollman@sqltutorial.org</td>\n",
       "            <td>650.123.4234</td>\n",
       "            <td>1997-10-10</td>\n",
       "            <td>19</td>\n",
       "            <td>6500.0</td>\n",
       "            <td>100</td>\n",
       "            <td>5</td>\n",
       "        </tr>\n",
       "        <tr>\n",
       "            <td>126</td>\n",
       "            <td>Irene</td>\n",
       "            <td>Mikkilineni</td>\n",
       "            <td>irene.mikkilineni@sqltutorial.org</td>\n",
       "            <td>650.124.1224</td>\n",
       "            <td>1998-09-28</td>\n",
       "            <td>18</td>\n",
       "            <td>2700.0</td>\n",
       "            <td>120</td>\n",
       "            <td>5</td>\n",
       "        </tr>\n",
       "        <tr>\n",
       "            <td>145</td>\n",
       "            <td>John</td>\n",
       "            <td>Russell</td>\n",
       "            <td>john.russell@sqltutorial.org</td>\n",
       "            <td>None</td>\n",
       "            <td>1996-10-01</td>\n",
       "            <td>15</td>\n",
       "            <td>14000.0</td>\n",
       "            <td>100</td>\n",
       "            <td>8</td>\n",
       "        </tr>\n",
       "        <tr>\n",
       "            <td>146</td>\n",
       "            <td>Karen</td>\n",
       "            <td>Partners</td>\n",
       "            <td>karen.partners@sqltutorial.org</td>\n",
       "            <td>None</td>\n",
       "            <td>1997-01-05</td>\n",
       "            <td>15</td>\n",
       "            <td>13500.0</td>\n",
       "            <td>100</td>\n",
       "            <td>8</td>\n",
       "        </tr>\n",
       "        <tr>\n",
       "            <td>176</td>\n",
       "            <td>Jonathon</td>\n",
       "            <td>Taylor</td>\n",
       "            <td>jonathon.taylor@sqltutorial.org</td>\n",
       "            <td>None</td>\n",
       "            <td>1998-03-24</td>\n",
       "            <td>16</td>\n",
       "            <td>8600.0</td>\n",
       "            <td>100</td>\n",
       "            <td>8</td>\n",
       "        </tr>\n",
       "        <tr>\n",
       "            <td>177</td>\n",
       "            <td>Jack</td>\n",
       "            <td>Livingston</td>\n",
       "            <td>jack.livingston@sqltutorial.org</td>\n",
       "            <td>None</td>\n",
       "            <td>1998-04-23</td>\n",
       "            <td>16</td>\n",
       "            <td>8400.0</td>\n",
       "            <td>100</td>\n",
       "            <td>8</td>\n",
       "        </tr>\n",
       "        <tr>\n",
       "            <td>178</td>\n",
       "            <td>Kimberely</td>\n",
       "            <td>Grant</td>\n",
       "            <td>kimberely.grant@sqltutorial.org</td>\n",
       "            <td>None</td>\n",
       "            <td>1999-05-24</td>\n",
       "            <td>16</td>\n",
       "            <td>7000.0</td>\n",
       "            <td>100</td>\n",
       "            <td>8</td>\n",
       "        </tr>\n",
       "        <tr>\n",
       "            <td>179</td>\n",
       "            <td>Charles</td>\n",
       "            <td>Johnson</td>\n",
       "            <td>charles.johnson@sqltutorial.org</td>\n",
       "            <td>None</td>\n",
       "            <td>2000-01-04</td>\n",
       "            <td>16</td>\n",
       "            <td>6200.0</td>\n",
       "            <td>100</td>\n",
       "            <td>8</td>\n",
       "        </tr>\n",
       "        <tr>\n",
       "            <td>192</td>\n",
       "            <td>Sarah</td>\n",
       "            <td>Bell</td>\n",
       "            <td>sarah.bell@sqltutorial.org</td>\n",
       "            <td>650.501.1876</td>\n",
       "            <td>1996-02-04</td>\n",
       "            <td>17</td>\n",
       "            <td>4000.0</td>\n",
       "            <td>123</td>\n",
       "            <td>5</td>\n",
       "        </tr>\n",
       "        <tr>\n",
       "            <td>193</td>\n",
       "            <td>Britney</td>\n",
       "            <td>Everett</td>\n",
       "            <td>britney.everett@sqltutorial.org</td>\n",
       "            <td>650.501.2876</td>\n",
       "            <td>1997-03-03</td>\n",
       "            <td>17</td>\n",
       "            <td>3900.0</td>\n",
       "            <td>123</td>\n",
       "            <td>5</td>\n",
       "        </tr>\n",
       "        <tr>\n",
       "            <td>200</td>\n",
       "            <td>Jennifer</td>\n",
       "            <td>Whalen</td>\n",
       "            <td>jennifer.whalen@sqltutorial.org</td>\n",
       "            <td>515.123.4444</td>\n",
       "            <td>1987-09-17</td>\n",
       "            <td>3</td>\n",
       "            <td>4400.0</td>\n",
       "            <td>101</td>\n",
       "            <td>1</td>\n",
       "        </tr>\n",
       "        <tr>\n",
       "            <td>201</td>\n",
       "            <td>Michael</td>\n",
       "            <td>Hartstein</td>\n",
       "            <td>michael.hartstein@sqltutorial.org</td>\n",
       "            <td>515.123.5555</td>\n",
       "            <td>1996-02-17</td>\n",
       "            <td>10</td>\n",
       "            <td>13000.0</td>\n",
       "            <td>100</td>\n",
       "            <td>2</td>\n",
       "        </tr>\n",
       "        <tr>\n",
       "            <td>202</td>\n",
       "            <td>Pat</td>\n",
       "            <td>Fay</td>\n",
       "            <td>pat.fay@sqltutorial.org</td>\n",
       "            <td>603.123.6666</td>\n",
       "            <td>1997-08-17</td>\n",
       "            <td>11</td>\n",
       "            <td>6000.0</td>\n",
       "            <td>201</td>\n",
       "            <td>2</td>\n",
       "        </tr>\n",
       "        <tr>\n",
       "            <td>203</td>\n",
       "            <td>Susan</td>\n",
       "            <td>Mavris</td>\n",
       "            <td>susan.mavris@sqltutorial.org</td>\n",
       "            <td>515.123.7777</td>\n",
       "            <td>1994-06-07</td>\n",
       "            <td>8</td>\n",
       "            <td>6500.0</td>\n",
       "            <td>101</td>\n",
       "            <td>4</td>\n",
       "        </tr>\n",
       "        <tr>\n",
       "            <td>204</td>\n",
       "            <td>Hermann</td>\n",
       "            <td>Baer</td>\n",
       "            <td>hermann.baer@sqltutorial.org</td>\n",
       "            <td>515.123.8888</td>\n",
       "            <td>1994-06-07</td>\n",
       "            <td>12</td>\n",
       "            <td>10000.0</td>\n",
       "            <td>101</td>\n",
       "            <td>7</td>\n",
       "        </tr>\n",
       "        <tr>\n",
       "            <td>205</td>\n",
       "            <td>Shelley</td>\n",
       "            <td>Higgins</td>\n",
       "            <td>shelley.higgins@sqltutorial.org</td>\n",
       "            <td>515.123.8080</td>\n",
       "            <td>1994-06-07</td>\n",
       "            <td>2</td>\n",
       "            <td>12000.0</td>\n",
       "            <td>101</td>\n",
       "            <td>11</td>\n",
       "        </tr>\n",
       "        <tr>\n",
       "            <td>206</td>\n",
       "            <td>William</td>\n",
       "            <td>Gietz</td>\n",
       "            <td>william.gietz@sqltutorial.org</td>\n",
       "            <td>515.123.8181</td>\n",
       "            <td>1994-06-07</td>\n",
       "            <td>1</td>\n",
       "            <td>8300.0</td>\n",
       "            <td>205</td>\n",
       "            <td>11</td>\n",
       "        </tr>\n",
       "    </tbody>\n",
       "</table>"
      ],
      "text/plain": [
       "[(100, 'Steven', 'King', 'steven.king@sqltutorial.org', '515.123.4567', '1987-06-17', 4, 24000.0, None, 9),\n",
       " (101, 'Neena', 'Kochhar', 'neena.kochhar@sqltutorial.org', '515.123.4568', '1989-09-21', 5, 17000.0, 100, 9),\n",
       " (102, 'Lex', 'De Haan', 'lex.de haan@sqltutorial.org', '515.123.4569', '1993-01-13', 5, 17000.0, 100, 9),\n",
       " (103, 'Alexander', 'Hunold', 'alexander.hunold@sqltutorial.org', '590.423.4567', '1990-01-03', 9, 9000.0, 102, 6),\n",
       " (104, 'Bruce', 'Ernst', 'bruce.ernst@sqltutorial.org', '590.423.4568', '1991-05-21', 9, 6000.0, 103, 6),\n",
       " (105, 'David', 'Austin', 'david.austin@sqltutorial.org', '590.423.4569', '1997-06-25', 9, 4800.0, 103, 6),\n",
       " (106, 'Valli', 'Pataballa', 'valli.pataballa@sqltutorial.org', '590.423.4560', '1998-02-05', 9, 4800.0, 103, 6),\n",
       " (107, 'Diana', 'Lorentz', 'diana.lorentz@sqltutorial.org', '590.423.5567', '1999-02-07', 9, 4200.0, 103, 6),\n",
       " (108, 'Nancy', 'Greenberg', 'nancy.greenberg@sqltutorial.org', '515.124.4569', '1994-08-17', 7, 12000.0, 101, 10),\n",
       " (109, 'Daniel', 'Faviet', 'daniel.faviet@sqltutorial.org', '515.124.4169', '1994-08-16', 6, 9000.0, 108, 10),\n",
       " (110, 'John', 'Chen', 'john.chen@sqltutorial.org', '515.124.4269', '1997-09-28', 6, 8200.0, 108, 10),\n",
       " (111, 'Ismael', 'Sciarra', 'ismael.sciarra@sqltutorial.org', '515.124.4369', '1997-09-30', 6, 7700.0, 108, 10),\n",
       " (112, 'Jose Manuel', 'Urman', 'jose manuel.urman@sqltutorial.org', '515.124.4469', '1998-03-07', 6, 7800.0, 108, 10),\n",
       " (113, 'Luis', 'Popp', 'luis.popp@sqltutorial.org', '515.124.4567', '1999-12-07', 6, 6900.0, 108, 10),\n",
       " (114, 'Den', 'Raphaely', 'den.raphaely@sqltutorial.org', '515.127.4561', '1994-12-07', 14, 11000.0, 100, 3),\n",
       " (115, 'Alexander', 'Khoo', 'alexander.khoo@sqltutorial.org', '515.127.4562', '1995-05-18', 13, 3100.0, 114, 3),\n",
       " (116, 'Shelli', 'Baida', 'shelli.baida@sqltutorial.org', '515.127.4563', '1997-12-24', 13, 2900.0, 114, 3),\n",
       " (117, 'Sigal', 'Tobias', 'sigal.tobias@sqltutorial.org', '515.127.4564', '1997-07-24', 13, 2800.0, 114, 3),\n",
       " (118, 'Guy', 'Himuro', 'guy.himuro@sqltutorial.org', '515.127.4565', '1998-11-15', 13, 2600.0, 114, 3),\n",
       " (119, 'Karen', 'Colmenares', 'karen.colmenares@sqltutorial.org', '515.127.4566', '1999-08-10', 13, 2500.0, 114, 3),\n",
       " (120, 'Matthew', 'Weiss', 'matthew.weiss@sqltutorial.org', '650.123.1234', '1996-07-18', 19, 8000.0, 100, 5),\n",
       " (121, 'Adam', 'Fripp', 'adam.fripp@sqltutorial.org', '650.123.2234', '1997-04-10', 19, 8200.0, 100, 5),\n",
       " (122, 'Payam', 'Kaufling', 'payam.kaufling@sqltutorial.org', '650.123.3234', '1995-05-01', 19, 7900.0, 100, 5),\n",
       " (123, 'Shanta', 'Vollman', 'shanta.vollman@sqltutorial.org', '650.123.4234', '1997-10-10', 19, 6500.0, 100, 5),\n",
       " (126, 'Irene', 'Mikkilineni', 'irene.mikkilineni@sqltutorial.org', '650.124.1224', '1998-09-28', 18, 2700.0, 120, 5),\n",
       " (145, 'John', 'Russell', 'john.russell@sqltutorial.org', None, '1996-10-01', 15, 14000.0, 100, 8),\n",
       " (146, 'Karen', 'Partners', 'karen.partners@sqltutorial.org', None, '1997-01-05', 15, 13500.0, 100, 8),\n",
       " (176, 'Jonathon', 'Taylor', 'jonathon.taylor@sqltutorial.org', None, '1998-03-24', 16, 8600.0, 100, 8),\n",
       " (177, 'Jack', 'Livingston', 'jack.livingston@sqltutorial.org', None, '1998-04-23', 16, 8400.0, 100, 8),\n",
       " (178, 'Kimberely', 'Grant', 'kimberely.grant@sqltutorial.org', None, '1999-05-24', 16, 7000.0, 100, 8),\n",
       " (179, 'Charles', 'Johnson', 'charles.johnson@sqltutorial.org', None, '2000-01-04', 16, 6200.0, 100, 8),\n",
       " (192, 'Sarah', 'Bell', 'sarah.bell@sqltutorial.org', '650.501.1876', '1996-02-04', 17, 4000.0, 123, 5),\n",
       " (193, 'Britney', 'Everett', 'britney.everett@sqltutorial.org', '650.501.2876', '1997-03-03', 17, 3900.0, 123, 5),\n",
       " (200, 'Jennifer', 'Whalen', 'jennifer.whalen@sqltutorial.org', '515.123.4444', '1987-09-17', 3, 4400.0, 101, 1),\n",
       " (201, 'Michael', 'Hartstein', 'michael.hartstein@sqltutorial.org', '515.123.5555', '1996-02-17', 10, 13000.0, 100, 2),\n",
       " (202, 'Pat', 'Fay', 'pat.fay@sqltutorial.org', '603.123.6666', '1997-08-17', 11, 6000.0, 201, 2),\n",
       " (203, 'Susan', 'Mavris', 'susan.mavris@sqltutorial.org', '515.123.7777', '1994-06-07', 8, 6500.0, 101, 4),\n",
       " (204, 'Hermann', 'Baer', 'hermann.baer@sqltutorial.org', '515.123.8888', '1994-06-07', 12, 10000.0, 101, 7),\n",
       " (205, 'Shelley', 'Higgins', 'shelley.higgins@sqltutorial.org', '515.123.8080', '1994-06-07', 2, 12000.0, 101, 11),\n",
       " (206, 'William', 'Gietz', 'william.gietz@sqltutorial.org', '515.123.8181', '1994-06-07', 1, 8300.0, 205, 11)]"
      ]
     },
     "execution_count": 11,
     "metadata": {},
     "output_type": "execute_result"
    }
   ],
   "source": [
    "%sql SELECT * FROM employees;"
   ]
  },
  {
   "cell_type": "markdown",
   "metadata": {
    "id": "96c7vRn1_oCv"
   },
   "source": [
    "### List Tables in a Database\n",
    "\n",
    "We can use `SELECT` to display a list of all tables in the current database. Every SQLite database has an `sqlite_master` table that defines the schema for the database. E.g., for tables, the `type` field is 'table', and the `name` field is the name of the table. Hence, the following statement lists the names of all tables."
   ]
  },
  {
   "cell_type": "code",
   "execution_count": 12,
   "metadata": {
    "colab": {
     "base_uri": "https://localhost:8080/",
     "height": 284
    },
    "executionInfo": {
     "elapsed": 37,
     "status": "ok",
     "timestamp": 1668546498219,
     "user": {
      "displayName": "Aleksandar Vakanski",
      "userId": "07675307153279708378"
     },
     "user_tz": 420
    },
    "id": "7f0samvo86cs",
    "outputId": "01c0cc65-1afe-4389-b05b-cefad48eead5"
   },
   "outputs": [
    {
     "name": "stdout",
     "output_type": "stream",
     "text": [
      " * sqlite://\n",
      "Done.\n"
     ]
    },
    {
     "data": {
      "text/html": [
       "<table>\n",
       "    <thead>\n",
       "        <tr>\n",
       "            <th>name</th>\n",
       "        </tr>\n",
       "    </thead>\n",
       "    <tbody>\n",
       "        <tr>\n",
       "            <td>cars</td>\n",
       "        </tr>\n",
       "        <tr>\n",
       "            <td>writer</td>\n",
       "        </tr>\n",
       "        <tr>\n",
       "            <td>regions</td>\n",
       "        </tr>\n",
       "        <tr>\n",
       "            <td>sqlite_sequence</td>\n",
       "        </tr>\n",
       "        <tr>\n",
       "            <td>countries</td>\n",
       "        </tr>\n",
       "        <tr>\n",
       "            <td>locations</td>\n",
       "        </tr>\n",
       "        <tr>\n",
       "            <td>departments</td>\n",
       "        </tr>\n",
       "        <tr>\n",
       "            <td>jobs</td>\n",
       "        </tr>\n",
       "        <tr>\n",
       "            <td>employees</td>\n",
       "        </tr>\n",
       "        <tr>\n",
       "            <td>dependents</td>\n",
       "        </tr>\n",
       "    </tbody>\n",
       "</table>"
      ],
      "text/plain": [
       "[('cars',),\n",
       " ('writer',),\n",
       " ('regions',),\n",
       " ('sqlite_sequence',),\n",
       " ('countries',),\n",
       " ('locations',),\n",
       " ('departments',),\n",
       " ('jobs',),\n",
       " ('employees',),\n",
       " ('dependents',)]"
      ]
     },
     "execution_count": 12,
     "metadata": {},
     "output_type": "execute_result"
    }
   ],
   "source": [
    "%sql SELECT name FROM sqlite_master WHERE type='table'"
   ]
  },
  {
   "cell_type": "markdown",
   "metadata": {
    "id": "BkKksHQ1l88_"
   },
   "source": [
    "### Perform Simple Calculations in SELECT Statements\n",
    "\n",
    "We can use standard math operators such as `+`, `*`, `/`, `%` in `SELECT` statements to perform simple mathematical calculations. The following expression creates a new column `salary * 1.05` from the `salary` column and adds 5% to the salary of every employee."
   ]
  },
  {
   "cell_type": "code",
   "execution_count": 13,
   "metadata": {
    "colab": {
     "base_uri": "https://localhost:8080/",
     "height": 912
    },
    "executionInfo": {
     "elapsed": 35,
     "status": "ok",
     "timestamp": 1668546498220,
     "user": {
      "displayName": "Aleksandar Vakanski",
      "userId": "07675307153279708378"
     },
     "user_tz": 420
    },
    "id": "svQGtukx86eo",
    "outputId": "2d0ffb9a-4500-468b-c4bd-172caee97ce0"
   },
   "outputs": [
    {
     "name": "stdout",
     "output_type": "stream",
     "text": [
      " * sqlite://\n",
      "Done.\n"
     ]
    },
    {
     "data": {
      "text/html": [
       "<table>\n",
       "    <thead>\n",
       "        <tr>\n",
       "            <th>employee_id</th>\n",
       "            <th>first_name</th>\n",
       "            <th>salary</th>\n",
       "            <th>salary*1.05</th>\n",
       "        </tr>\n",
       "    </thead>\n",
       "    <tbody>\n",
       "        <tr>\n",
       "            <td>100</td>\n",
       "            <td>Steven</td>\n",
       "            <td>24000.0</td>\n",
       "            <td>25200.0</td>\n",
       "        </tr>\n",
       "        <tr>\n",
       "            <td>101</td>\n",
       "            <td>Neena</td>\n",
       "            <td>17000.0</td>\n",
       "            <td>17850.0</td>\n",
       "        </tr>\n",
       "        <tr>\n",
       "            <td>102</td>\n",
       "            <td>Lex</td>\n",
       "            <td>17000.0</td>\n",
       "            <td>17850.0</td>\n",
       "        </tr>\n",
       "        <tr>\n",
       "            <td>103</td>\n",
       "            <td>Alexander</td>\n",
       "            <td>9000.0</td>\n",
       "            <td>9450.0</td>\n",
       "        </tr>\n",
       "        <tr>\n",
       "            <td>104</td>\n",
       "            <td>Bruce</td>\n",
       "            <td>6000.0</td>\n",
       "            <td>6300.0</td>\n",
       "        </tr>\n",
       "        <tr>\n",
       "            <td>105</td>\n",
       "            <td>David</td>\n",
       "            <td>4800.0</td>\n",
       "            <td>5040.0</td>\n",
       "        </tr>\n",
       "        <tr>\n",
       "            <td>106</td>\n",
       "            <td>Valli</td>\n",
       "            <td>4800.0</td>\n",
       "            <td>5040.0</td>\n",
       "        </tr>\n",
       "        <tr>\n",
       "            <td>107</td>\n",
       "            <td>Diana</td>\n",
       "            <td>4200.0</td>\n",
       "            <td>4410.0</td>\n",
       "        </tr>\n",
       "        <tr>\n",
       "            <td>108</td>\n",
       "            <td>Nancy</td>\n",
       "            <td>12000.0</td>\n",
       "            <td>12600.0</td>\n",
       "        </tr>\n",
       "        <tr>\n",
       "            <td>109</td>\n",
       "            <td>Daniel</td>\n",
       "            <td>9000.0</td>\n",
       "            <td>9450.0</td>\n",
       "        </tr>\n",
       "        <tr>\n",
       "            <td>110</td>\n",
       "            <td>John</td>\n",
       "            <td>8200.0</td>\n",
       "            <td>8610.0</td>\n",
       "        </tr>\n",
       "        <tr>\n",
       "            <td>111</td>\n",
       "            <td>Ismael</td>\n",
       "            <td>7700.0</td>\n",
       "            <td>8085.0</td>\n",
       "        </tr>\n",
       "        <tr>\n",
       "            <td>112</td>\n",
       "            <td>Jose Manuel</td>\n",
       "            <td>7800.0</td>\n",
       "            <td>8190.0</td>\n",
       "        </tr>\n",
       "        <tr>\n",
       "            <td>113</td>\n",
       "            <td>Luis</td>\n",
       "            <td>6900.0</td>\n",
       "            <td>7245.0</td>\n",
       "        </tr>\n",
       "        <tr>\n",
       "            <td>114</td>\n",
       "            <td>Den</td>\n",
       "            <td>11000.0</td>\n",
       "            <td>11550.0</td>\n",
       "        </tr>\n",
       "        <tr>\n",
       "            <td>115</td>\n",
       "            <td>Alexander</td>\n",
       "            <td>3100.0</td>\n",
       "            <td>3255.0</td>\n",
       "        </tr>\n",
       "        <tr>\n",
       "            <td>116</td>\n",
       "            <td>Shelli</td>\n",
       "            <td>2900.0</td>\n",
       "            <td>3045.0</td>\n",
       "        </tr>\n",
       "        <tr>\n",
       "            <td>117</td>\n",
       "            <td>Sigal</td>\n",
       "            <td>2800.0</td>\n",
       "            <td>2940.0</td>\n",
       "        </tr>\n",
       "        <tr>\n",
       "            <td>118</td>\n",
       "            <td>Guy</td>\n",
       "            <td>2600.0</td>\n",
       "            <td>2730.0</td>\n",
       "        </tr>\n",
       "        <tr>\n",
       "            <td>119</td>\n",
       "            <td>Karen</td>\n",
       "            <td>2500.0</td>\n",
       "            <td>2625.0</td>\n",
       "        </tr>\n",
       "        <tr>\n",
       "            <td>120</td>\n",
       "            <td>Matthew</td>\n",
       "            <td>8000.0</td>\n",
       "            <td>8400.0</td>\n",
       "        </tr>\n",
       "        <tr>\n",
       "            <td>121</td>\n",
       "            <td>Adam</td>\n",
       "            <td>8200.0</td>\n",
       "            <td>8610.0</td>\n",
       "        </tr>\n",
       "        <tr>\n",
       "            <td>122</td>\n",
       "            <td>Payam</td>\n",
       "            <td>7900.0</td>\n",
       "            <td>8295.0</td>\n",
       "        </tr>\n",
       "        <tr>\n",
       "            <td>123</td>\n",
       "            <td>Shanta</td>\n",
       "            <td>6500.0</td>\n",
       "            <td>6825.0</td>\n",
       "        </tr>\n",
       "        <tr>\n",
       "            <td>126</td>\n",
       "            <td>Irene</td>\n",
       "            <td>2700.0</td>\n",
       "            <td>2835.0</td>\n",
       "        </tr>\n",
       "        <tr>\n",
       "            <td>145</td>\n",
       "            <td>John</td>\n",
       "            <td>14000.0</td>\n",
       "            <td>14700.0</td>\n",
       "        </tr>\n",
       "        <tr>\n",
       "            <td>146</td>\n",
       "            <td>Karen</td>\n",
       "            <td>13500.0</td>\n",
       "            <td>14175.0</td>\n",
       "        </tr>\n",
       "        <tr>\n",
       "            <td>176</td>\n",
       "            <td>Jonathon</td>\n",
       "            <td>8600.0</td>\n",
       "            <td>9030.0</td>\n",
       "        </tr>\n",
       "        <tr>\n",
       "            <td>177</td>\n",
       "            <td>Jack</td>\n",
       "            <td>8400.0</td>\n",
       "            <td>8820.0</td>\n",
       "        </tr>\n",
       "        <tr>\n",
       "            <td>178</td>\n",
       "            <td>Kimberely</td>\n",
       "            <td>7000.0</td>\n",
       "            <td>7350.0</td>\n",
       "        </tr>\n",
       "        <tr>\n",
       "            <td>179</td>\n",
       "            <td>Charles</td>\n",
       "            <td>6200.0</td>\n",
       "            <td>6510.0</td>\n",
       "        </tr>\n",
       "        <tr>\n",
       "            <td>192</td>\n",
       "            <td>Sarah</td>\n",
       "            <td>4000.0</td>\n",
       "            <td>4200.0</td>\n",
       "        </tr>\n",
       "        <tr>\n",
       "            <td>193</td>\n",
       "            <td>Britney</td>\n",
       "            <td>3900.0</td>\n",
       "            <td>4095.0</td>\n",
       "        </tr>\n",
       "        <tr>\n",
       "            <td>200</td>\n",
       "            <td>Jennifer</td>\n",
       "            <td>4400.0</td>\n",
       "            <td>4620.0</td>\n",
       "        </tr>\n",
       "        <tr>\n",
       "            <td>201</td>\n",
       "            <td>Michael</td>\n",
       "            <td>13000.0</td>\n",
       "            <td>13650.0</td>\n",
       "        </tr>\n",
       "        <tr>\n",
       "            <td>202</td>\n",
       "            <td>Pat</td>\n",
       "            <td>6000.0</td>\n",
       "            <td>6300.0</td>\n",
       "        </tr>\n",
       "        <tr>\n",
       "            <td>203</td>\n",
       "            <td>Susan</td>\n",
       "            <td>6500.0</td>\n",
       "            <td>6825.0</td>\n",
       "        </tr>\n",
       "        <tr>\n",
       "            <td>204</td>\n",
       "            <td>Hermann</td>\n",
       "            <td>10000.0</td>\n",
       "            <td>10500.0</td>\n",
       "        </tr>\n",
       "        <tr>\n",
       "            <td>205</td>\n",
       "            <td>Shelley</td>\n",
       "            <td>12000.0</td>\n",
       "            <td>12600.0</td>\n",
       "        </tr>\n",
       "        <tr>\n",
       "            <td>206</td>\n",
       "            <td>William</td>\n",
       "            <td>8300.0</td>\n",
       "            <td>8715.0</td>\n",
       "        </tr>\n",
       "    </tbody>\n",
       "</table>"
      ],
      "text/plain": [
       "[(100, 'Steven', 24000.0, 25200.0),\n",
       " (101, 'Neena', 17000.0, 17850.0),\n",
       " (102, 'Lex', 17000.0, 17850.0),\n",
       " (103, 'Alexander', 9000.0, 9450.0),\n",
       " (104, 'Bruce', 6000.0, 6300.0),\n",
       " (105, 'David', 4800.0, 5040.0),\n",
       " (106, 'Valli', 4800.0, 5040.0),\n",
       " (107, 'Diana', 4200.0, 4410.0),\n",
       " (108, 'Nancy', 12000.0, 12600.0),\n",
       " (109, 'Daniel', 9000.0, 9450.0),\n",
       " (110, 'John', 8200.0, 8610.0),\n",
       " (111, 'Ismael', 7700.0, 8085.0),\n",
       " (112, 'Jose Manuel', 7800.0, 8190.0),\n",
       " (113, 'Luis', 6900.0, 7245.0),\n",
       " (114, 'Den', 11000.0, 11550.0),\n",
       " (115, 'Alexander', 3100.0, 3255.0),\n",
       " (116, 'Shelli', 2900.0, 3045.0),\n",
       " (117, 'Sigal', 2800.0, 2940.0),\n",
       " (118, 'Guy', 2600.0, 2730.0),\n",
       " (119, 'Karen', 2500.0, 2625.0),\n",
       " (120, 'Matthew', 8000.0, 8400.0),\n",
       " (121, 'Adam', 8200.0, 8610.0),\n",
       " (122, 'Payam', 7900.0, 8295.0),\n",
       " (123, 'Shanta', 6500.0, 6825.0),\n",
       " (126, 'Irene', 2700.0, 2835.0),\n",
       " (145, 'John', 14000.0, 14700.0),\n",
       " (146, 'Karen', 13500.0, 14175.0),\n",
       " (176, 'Jonathon', 8600.0, 9030.0),\n",
       " (177, 'Jack', 8400.0, 8820.0),\n",
       " (178, 'Kimberely', 7000.0, 7350.0),\n",
       " (179, 'Charles', 6200.0, 6510.0),\n",
       " (192, 'Sarah', 4000.0, 4200.0),\n",
       " (193, 'Britney', 3900.0, 4095.0),\n",
       " (200, 'Jennifer', 4400.0, 4620.0),\n",
       " (201, 'Michael', 13000.0, 13650.0),\n",
       " (202, 'Pat', 6000.0, 6300.0),\n",
       " (203, 'Susan', 6500.0, 6825.0),\n",
       " (204, 'Hermann', 10000.0, 10500.0),\n",
       " (205, 'Shelley', 12000.0, 12600.0),\n",
       " (206, 'William', 8300.0, 8715.0)]"
      ]
     },
     "execution_count": 13,
     "metadata": {},
     "output_type": "execute_result"
    }
   ],
   "source": [
    "%%sql \n",
    "SELECT\n",
    "    employee_id, first_name, salary, salary*1.05 \n",
    "FROM \n",
    "    employees;"
   ]
  },
  {
   "cell_type": "markdown",
   "metadata": {
    "id": "4oTNY6Ftm2Rz"
   },
   "source": [
    "We can use `AS new_salary` to assign a different name for the newly created column."
   ]
  },
  {
   "cell_type": "code",
   "execution_count": 14,
   "metadata": {
    "colab": {
     "base_uri": "https://localhost:8080/",
     "height": 912
    },
    "executionInfo": {
     "elapsed": 32,
     "status": "ok",
     "timestamp": 1668546498220,
     "user": {
      "displayName": "Aleksandar Vakanski",
      "userId": "07675307153279708378"
     },
     "user_tz": 420
    },
    "id": "RQ_oeGMa86g_",
    "outputId": "19101010-1769-4c60-8f30-58a78ec36dfc"
   },
   "outputs": [
    {
     "name": "stdout",
     "output_type": "stream",
     "text": [
      " * sqlite://\n",
      "Done.\n"
     ]
    },
    {
     "data": {
      "text/html": [
       "<table>\n",
       "    <thead>\n",
       "        <tr>\n",
       "            <th>employee_id</th>\n",
       "            <th>first_name</th>\n",
       "            <th>salary</th>\n",
       "            <th>new_salary</th>\n",
       "        </tr>\n",
       "    </thead>\n",
       "    <tbody>\n",
       "        <tr>\n",
       "            <td>100</td>\n",
       "            <td>Steven</td>\n",
       "            <td>24000.0</td>\n",
       "            <td>25200.0</td>\n",
       "        </tr>\n",
       "        <tr>\n",
       "            <td>101</td>\n",
       "            <td>Neena</td>\n",
       "            <td>17000.0</td>\n",
       "            <td>17850.0</td>\n",
       "        </tr>\n",
       "        <tr>\n",
       "            <td>102</td>\n",
       "            <td>Lex</td>\n",
       "            <td>17000.0</td>\n",
       "            <td>17850.0</td>\n",
       "        </tr>\n",
       "        <tr>\n",
       "            <td>103</td>\n",
       "            <td>Alexander</td>\n",
       "            <td>9000.0</td>\n",
       "            <td>9450.0</td>\n",
       "        </tr>\n",
       "        <tr>\n",
       "            <td>104</td>\n",
       "            <td>Bruce</td>\n",
       "            <td>6000.0</td>\n",
       "            <td>6300.0</td>\n",
       "        </tr>\n",
       "        <tr>\n",
       "            <td>105</td>\n",
       "            <td>David</td>\n",
       "            <td>4800.0</td>\n",
       "            <td>5040.0</td>\n",
       "        </tr>\n",
       "        <tr>\n",
       "            <td>106</td>\n",
       "            <td>Valli</td>\n",
       "            <td>4800.0</td>\n",
       "            <td>5040.0</td>\n",
       "        </tr>\n",
       "        <tr>\n",
       "            <td>107</td>\n",
       "            <td>Diana</td>\n",
       "            <td>4200.0</td>\n",
       "            <td>4410.0</td>\n",
       "        </tr>\n",
       "        <tr>\n",
       "            <td>108</td>\n",
       "            <td>Nancy</td>\n",
       "            <td>12000.0</td>\n",
       "            <td>12600.0</td>\n",
       "        </tr>\n",
       "        <tr>\n",
       "            <td>109</td>\n",
       "            <td>Daniel</td>\n",
       "            <td>9000.0</td>\n",
       "            <td>9450.0</td>\n",
       "        </tr>\n",
       "        <tr>\n",
       "            <td>110</td>\n",
       "            <td>John</td>\n",
       "            <td>8200.0</td>\n",
       "            <td>8610.0</td>\n",
       "        </tr>\n",
       "        <tr>\n",
       "            <td>111</td>\n",
       "            <td>Ismael</td>\n",
       "            <td>7700.0</td>\n",
       "            <td>8085.0</td>\n",
       "        </tr>\n",
       "        <tr>\n",
       "            <td>112</td>\n",
       "            <td>Jose Manuel</td>\n",
       "            <td>7800.0</td>\n",
       "            <td>8190.0</td>\n",
       "        </tr>\n",
       "        <tr>\n",
       "            <td>113</td>\n",
       "            <td>Luis</td>\n",
       "            <td>6900.0</td>\n",
       "            <td>7245.0</td>\n",
       "        </tr>\n",
       "        <tr>\n",
       "            <td>114</td>\n",
       "            <td>Den</td>\n",
       "            <td>11000.0</td>\n",
       "            <td>11550.0</td>\n",
       "        </tr>\n",
       "        <tr>\n",
       "            <td>115</td>\n",
       "            <td>Alexander</td>\n",
       "            <td>3100.0</td>\n",
       "            <td>3255.0</td>\n",
       "        </tr>\n",
       "        <tr>\n",
       "            <td>116</td>\n",
       "            <td>Shelli</td>\n",
       "            <td>2900.0</td>\n",
       "            <td>3045.0</td>\n",
       "        </tr>\n",
       "        <tr>\n",
       "            <td>117</td>\n",
       "            <td>Sigal</td>\n",
       "            <td>2800.0</td>\n",
       "            <td>2940.0</td>\n",
       "        </tr>\n",
       "        <tr>\n",
       "            <td>118</td>\n",
       "            <td>Guy</td>\n",
       "            <td>2600.0</td>\n",
       "            <td>2730.0</td>\n",
       "        </tr>\n",
       "        <tr>\n",
       "            <td>119</td>\n",
       "            <td>Karen</td>\n",
       "            <td>2500.0</td>\n",
       "            <td>2625.0</td>\n",
       "        </tr>\n",
       "        <tr>\n",
       "            <td>120</td>\n",
       "            <td>Matthew</td>\n",
       "            <td>8000.0</td>\n",
       "            <td>8400.0</td>\n",
       "        </tr>\n",
       "        <tr>\n",
       "            <td>121</td>\n",
       "            <td>Adam</td>\n",
       "            <td>8200.0</td>\n",
       "            <td>8610.0</td>\n",
       "        </tr>\n",
       "        <tr>\n",
       "            <td>122</td>\n",
       "            <td>Payam</td>\n",
       "            <td>7900.0</td>\n",
       "            <td>8295.0</td>\n",
       "        </tr>\n",
       "        <tr>\n",
       "            <td>123</td>\n",
       "            <td>Shanta</td>\n",
       "            <td>6500.0</td>\n",
       "            <td>6825.0</td>\n",
       "        </tr>\n",
       "        <tr>\n",
       "            <td>126</td>\n",
       "            <td>Irene</td>\n",
       "            <td>2700.0</td>\n",
       "            <td>2835.0</td>\n",
       "        </tr>\n",
       "        <tr>\n",
       "            <td>145</td>\n",
       "            <td>John</td>\n",
       "            <td>14000.0</td>\n",
       "            <td>14700.0</td>\n",
       "        </tr>\n",
       "        <tr>\n",
       "            <td>146</td>\n",
       "            <td>Karen</td>\n",
       "            <td>13500.0</td>\n",
       "            <td>14175.0</td>\n",
       "        </tr>\n",
       "        <tr>\n",
       "            <td>176</td>\n",
       "            <td>Jonathon</td>\n",
       "            <td>8600.0</td>\n",
       "            <td>9030.0</td>\n",
       "        </tr>\n",
       "        <tr>\n",
       "            <td>177</td>\n",
       "            <td>Jack</td>\n",
       "            <td>8400.0</td>\n",
       "            <td>8820.0</td>\n",
       "        </tr>\n",
       "        <tr>\n",
       "            <td>178</td>\n",
       "            <td>Kimberely</td>\n",
       "            <td>7000.0</td>\n",
       "            <td>7350.0</td>\n",
       "        </tr>\n",
       "        <tr>\n",
       "            <td>179</td>\n",
       "            <td>Charles</td>\n",
       "            <td>6200.0</td>\n",
       "            <td>6510.0</td>\n",
       "        </tr>\n",
       "        <tr>\n",
       "            <td>192</td>\n",
       "            <td>Sarah</td>\n",
       "            <td>4000.0</td>\n",
       "            <td>4200.0</td>\n",
       "        </tr>\n",
       "        <tr>\n",
       "            <td>193</td>\n",
       "            <td>Britney</td>\n",
       "            <td>3900.0</td>\n",
       "            <td>4095.0</td>\n",
       "        </tr>\n",
       "        <tr>\n",
       "            <td>200</td>\n",
       "            <td>Jennifer</td>\n",
       "            <td>4400.0</td>\n",
       "            <td>4620.0</td>\n",
       "        </tr>\n",
       "        <tr>\n",
       "            <td>201</td>\n",
       "            <td>Michael</td>\n",
       "            <td>13000.0</td>\n",
       "            <td>13650.0</td>\n",
       "        </tr>\n",
       "        <tr>\n",
       "            <td>202</td>\n",
       "            <td>Pat</td>\n",
       "            <td>6000.0</td>\n",
       "            <td>6300.0</td>\n",
       "        </tr>\n",
       "        <tr>\n",
       "            <td>203</td>\n",
       "            <td>Susan</td>\n",
       "            <td>6500.0</td>\n",
       "            <td>6825.0</td>\n",
       "        </tr>\n",
       "        <tr>\n",
       "            <td>204</td>\n",
       "            <td>Hermann</td>\n",
       "            <td>10000.0</td>\n",
       "            <td>10500.0</td>\n",
       "        </tr>\n",
       "        <tr>\n",
       "            <td>205</td>\n",
       "            <td>Shelley</td>\n",
       "            <td>12000.0</td>\n",
       "            <td>12600.0</td>\n",
       "        </tr>\n",
       "        <tr>\n",
       "            <td>206</td>\n",
       "            <td>William</td>\n",
       "            <td>8300.0</td>\n",
       "            <td>8715.0</td>\n",
       "        </tr>\n",
       "    </tbody>\n",
       "</table>"
      ],
      "text/plain": [
       "[(100, 'Steven', 24000.0, 25200.0),\n",
       " (101, 'Neena', 17000.0, 17850.0),\n",
       " (102, 'Lex', 17000.0, 17850.0),\n",
       " (103, 'Alexander', 9000.0, 9450.0),\n",
       " (104, 'Bruce', 6000.0, 6300.0),\n",
       " (105, 'David', 4800.0, 5040.0),\n",
       " (106, 'Valli', 4800.0, 5040.0),\n",
       " (107, 'Diana', 4200.0, 4410.0),\n",
       " (108, 'Nancy', 12000.0, 12600.0),\n",
       " (109, 'Daniel', 9000.0, 9450.0),\n",
       " (110, 'John', 8200.0, 8610.0),\n",
       " (111, 'Ismael', 7700.0, 8085.0),\n",
       " (112, 'Jose Manuel', 7800.0, 8190.0),\n",
       " (113, 'Luis', 6900.0, 7245.0),\n",
       " (114, 'Den', 11000.0, 11550.0),\n",
       " (115, 'Alexander', 3100.0, 3255.0),\n",
       " (116, 'Shelli', 2900.0, 3045.0),\n",
       " (117, 'Sigal', 2800.0, 2940.0),\n",
       " (118, 'Guy', 2600.0, 2730.0),\n",
       " (119, 'Karen', 2500.0, 2625.0),\n",
       " (120, 'Matthew', 8000.0, 8400.0),\n",
       " (121, 'Adam', 8200.0, 8610.0),\n",
       " (122, 'Payam', 7900.0, 8295.0),\n",
       " (123, 'Shanta', 6500.0, 6825.0),\n",
       " (126, 'Irene', 2700.0, 2835.0),\n",
       " (145, 'John', 14000.0, 14700.0),\n",
       " (146, 'Karen', 13500.0, 14175.0),\n",
       " (176, 'Jonathon', 8600.0, 9030.0),\n",
       " (177, 'Jack', 8400.0, 8820.0),\n",
       " (178, 'Kimberely', 7000.0, 7350.0),\n",
       " (179, 'Charles', 6200.0, 6510.0),\n",
       " (192, 'Sarah', 4000.0, 4200.0),\n",
       " (193, 'Britney', 3900.0, 4095.0),\n",
       " (200, 'Jennifer', 4400.0, 4620.0),\n",
       " (201, 'Michael', 13000.0, 13650.0),\n",
       " (202, 'Pat', 6000.0, 6300.0),\n",
       " (203, 'Susan', 6500.0, 6825.0),\n",
       " (204, 'Hermann', 10000.0, 10500.0),\n",
       " (205, 'Shelley', 12000.0, 12600.0),\n",
       " (206, 'William', 8300.0, 8715.0)]"
      ]
     },
     "execution_count": 14,
     "metadata": {},
     "output_type": "execute_result"
    }
   ],
   "source": [
    "%%sql \n",
    "SELECT \n",
    "    employee_id, first_name, salary, salary*1.05 AS new_salary \n",
    "FROM\n",
    "    employees;"
   ]
  },
  {
   "cell_type": "markdown",
   "metadata": {
    "id": "HN7FLZZHA3LA"
   },
   "source": [
    "## 10.6 Sorting Data with ORDER BY <a name='10.6-sorting-data-with-order-by'></a>"
   ]
  },
  {
   "cell_type": "markdown",
   "metadata": {
    "id": "q3OhOiA-BBP-"
   },
   "source": [
    "The clause `ORDER BY` can be used within a `SELECT` statement to sort the returned rows.\n",
    "\n",
    "The general syntax is: \n",
    "\n",
    "```\n",
    "SELECT \n",
    "    column1, column2, columnN \n",
    "FROM\n",
    "    table_name\n",
    "ORDER BY sort_expression [ASC | DESC];\n",
    "```\n",
    "\n",
    "The sort expression specifies the sort criteria, whereas `ASC` or `DESC` is used to sort the result set into ascending (default) or descending order.\n",
    "\n",
    "The following example uses the `ORDER BY` clause to sort employees by first names in alphabetical order:\n"
   ]
  },
  {
   "cell_type": "code",
   "execution_count": 15,
   "metadata": {
    "colab": {
     "base_uri": "https://localhost:8080/",
     "height": 912
    },
    "executionInfo": {
     "elapsed": 30,
     "status": "ok",
     "timestamp": 1668546498221,
     "user": {
      "displayName": "Aleksandar Vakanski",
      "userId": "07675307153279708378"
     },
     "user_tz": 420
    },
    "id": "dumPr60JK_lY",
    "outputId": "cb104743-c7c3-423a-ae48-602b82cce936"
   },
   "outputs": [
    {
     "name": "stdout",
     "output_type": "stream",
     "text": [
      " * sqlite://\n",
      "Done.\n"
     ]
    },
    {
     "data": {
      "text/html": [
       "<table>\n",
       "    <thead>\n",
       "        <tr>\n",
       "            <th>employee_id</th>\n",
       "            <th>first_name</th>\n",
       "            <th>last_name</th>\n",
       "            <th>hire_date</th>\n",
       "            <th>salary</th>\n",
       "        </tr>\n",
       "    </thead>\n",
       "    <tbody>\n",
       "        <tr>\n",
       "            <td>121</td>\n",
       "            <td>Adam</td>\n",
       "            <td>Fripp</td>\n",
       "            <td>1997-04-10</td>\n",
       "            <td>8200.0</td>\n",
       "        </tr>\n",
       "        <tr>\n",
       "            <td>103</td>\n",
       "            <td>Alexander</td>\n",
       "            <td>Hunold</td>\n",
       "            <td>1990-01-03</td>\n",
       "            <td>9000.0</td>\n",
       "        </tr>\n",
       "        <tr>\n",
       "            <td>115</td>\n",
       "            <td>Alexander</td>\n",
       "            <td>Khoo</td>\n",
       "            <td>1995-05-18</td>\n",
       "            <td>3100.0</td>\n",
       "        </tr>\n",
       "        <tr>\n",
       "            <td>193</td>\n",
       "            <td>Britney</td>\n",
       "            <td>Everett</td>\n",
       "            <td>1997-03-03</td>\n",
       "            <td>3900.0</td>\n",
       "        </tr>\n",
       "        <tr>\n",
       "            <td>104</td>\n",
       "            <td>Bruce</td>\n",
       "            <td>Ernst</td>\n",
       "            <td>1991-05-21</td>\n",
       "            <td>6000.0</td>\n",
       "        </tr>\n",
       "        <tr>\n",
       "            <td>179</td>\n",
       "            <td>Charles</td>\n",
       "            <td>Johnson</td>\n",
       "            <td>2000-01-04</td>\n",
       "            <td>6200.0</td>\n",
       "        </tr>\n",
       "        <tr>\n",
       "            <td>109</td>\n",
       "            <td>Daniel</td>\n",
       "            <td>Faviet</td>\n",
       "            <td>1994-08-16</td>\n",
       "            <td>9000.0</td>\n",
       "        </tr>\n",
       "        <tr>\n",
       "            <td>105</td>\n",
       "            <td>David</td>\n",
       "            <td>Austin</td>\n",
       "            <td>1997-06-25</td>\n",
       "            <td>4800.0</td>\n",
       "        </tr>\n",
       "        <tr>\n",
       "            <td>114</td>\n",
       "            <td>Den</td>\n",
       "            <td>Raphaely</td>\n",
       "            <td>1994-12-07</td>\n",
       "            <td>11000.0</td>\n",
       "        </tr>\n",
       "        <tr>\n",
       "            <td>107</td>\n",
       "            <td>Diana</td>\n",
       "            <td>Lorentz</td>\n",
       "            <td>1999-02-07</td>\n",
       "            <td>4200.0</td>\n",
       "        </tr>\n",
       "        <tr>\n",
       "            <td>118</td>\n",
       "            <td>Guy</td>\n",
       "            <td>Himuro</td>\n",
       "            <td>1998-11-15</td>\n",
       "            <td>2600.0</td>\n",
       "        </tr>\n",
       "        <tr>\n",
       "            <td>204</td>\n",
       "            <td>Hermann</td>\n",
       "            <td>Baer</td>\n",
       "            <td>1994-06-07</td>\n",
       "            <td>10000.0</td>\n",
       "        </tr>\n",
       "        <tr>\n",
       "            <td>126</td>\n",
       "            <td>Irene</td>\n",
       "            <td>Mikkilineni</td>\n",
       "            <td>1998-09-28</td>\n",
       "            <td>2700.0</td>\n",
       "        </tr>\n",
       "        <tr>\n",
       "            <td>111</td>\n",
       "            <td>Ismael</td>\n",
       "            <td>Sciarra</td>\n",
       "            <td>1997-09-30</td>\n",
       "            <td>7700.0</td>\n",
       "        </tr>\n",
       "        <tr>\n",
       "            <td>177</td>\n",
       "            <td>Jack</td>\n",
       "            <td>Livingston</td>\n",
       "            <td>1998-04-23</td>\n",
       "            <td>8400.0</td>\n",
       "        </tr>\n",
       "        <tr>\n",
       "            <td>200</td>\n",
       "            <td>Jennifer</td>\n",
       "            <td>Whalen</td>\n",
       "            <td>1987-09-17</td>\n",
       "            <td>4400.0</td>\n",
       "        </tr>\n",
       "        <tr>\n",
       "            <td>110</td>\n",
       "            <td>John</td>\n",
       "            <td>Chen</td>\n",
       "            <td>1997-09-28</td>\n",
       "            <td>8200.0</td>\n",
       "        </tr>\n",
       "        <tr>\n",
       "            <td>145</td>\n",
       "            <td>John</td>\n",
       "            <td>Russell</td>\n",
       "            <td>1996-10-01</td>\n",
       "            <td>14000.0</td>\n",
       "        </tr>\n",
       "        <tr>\n",
       "            <td>176</td>\n",
       "            <td>Jonathon</td>\n",
       "            <td>Taylor</td>\n",
       "            <td>1998-03-24</td>\n",
       "            <td>8600.0</td>\n",
       "        </tr>\n",
       "        <tr>\n",
       "            <td>112</td>\n",
       "            <td>Jose Manuel</td>\n",
       "            <td>Urman</td>\n",
       "            <td>1998-03-07</td>\n",
       "            <td>7800.0</td>\n",
       "        </tr>\n",
       "        <tr>\n",
       "            <td>119</td>\n",
       "            <td>Karen</td>\n",
       "            <td>Colmenares</td>\n",
       "            <td>1999-08-10</td>\n",
       "            <td>2500.0</td>\n",
       "        </tr>\n",
       "        <tr>\n",
       "            <td>146</td>\n",
       "            <td>Karen</td>\n",
       "            <td>Partners</td>\n",
       "            <td>1997-01-05</td>\n",
       "            <td>13500.0</td>\n",
       "        </tr>\n",
       "        <tr>\n",
       "            <td>178</td>\n",
       "            <td>Kimberely</td>\n",
       "            <td>Grant</td>\n",
       "            <td>1999-05-24</td>\n",
       "            <td>7000.0</td>\n",
       "        </tr>\n",
       "        <tr>\n",
       "            <td>102</td>\n",
       "            <td>Lex</td>\n",
       "            <td>De Haan</td>\n",
       "            <td>1993-01-13</td>\n",
       "            <td>17000.0</td>\n",
       "        </tr>\n",
       "        <tr>\n",
       "            <td>113</td>\n",
       "            <td>Luis</td>\n",
       "            <td>Popp</td>\n",
       "            <td>1999-12-07</td>\n",
       "            <td>6900.0</td>\n",
       "        </tr>\n",
       "        <tr>\n",
       "            <td>120</td>\n",
       "            <td>Matthew</td>\n",
       "            <td>Weiss</td>\n",
       "            <td>1996-07-18</td>\n",
       "            <td>8000.0</td>\n",
       "        </tr>\n",
       "        <tr>\n",
       "            <td>201</td>\n",
       "            <td>Michael</td>\n",
       "            <td>Hartstein</td>\n",
       "            <td>1996-02-17</td>\n",
       "            <td>13000.0</td>\n",
       "        </tr>\n",
       "        <tr>\n",
       "            <td>108</td>\n",
       "            <td>Nancy</td>\n",
       "            <td>Greenberg</td>\n",
       "            <td>1994-08-17</td>\n",
       "            <td>12000.0</td>\n",
       "        </tr>\n",
       "        <tr>\n",
       "            <td>101</td>\n",
       "            <td>Neena</td>\n",
       "            <td>Kochhar</td>\n",
       "            <td>1989-09-21</td>\n",
       "            <td>17000.0</td>\n",
       "        </tr>\n",
       "        <tr>\n",
       "            <td>202</td>\n",
       "            <td>Pat</td>\n",
       "            <td>Fay</td>\n",
       "            <td>1997-08-17</td>\n",
       "            <td>6000.0</td>\n",
       "        </tr>\n",
       "        <tr>\n",
       "            <td>122</td>\n",
       "            <td>Payam</td>\n",
       "            <td>Kaufling</td>\n",
       "            <td>1995-05-01</td>\n",
       "            <td>7900.0</td>\n",
       "        </tr>\n",
       "        <tr>\n",
       "            <td>192</td>\n",
       "            <td>Sarah</td>\n",
       "            <td>Bell</td>\n",
       "            <td>1996-02-04</td>\n",
       "            <td>4000.0</td>\n",
       "        </tr>\n",
       "        <tr>\n",
       "            <td>123</td>\n",
       "            <td>Shanta</td>\n",
       "            <td>Vollman</td>\n",
       "            <td>1997-10-10</td>\n",
       "            <td>6500.0</td>\n",
       "        </tr>\n",
       "        <tr>\n",
       "            <td>205</td>\n",
       "            <td>Shelley</td>\n",
       "            <td>Higgins</td>\n",
       "            <td>1994-06-07</td>\n",
       "            <td>12000.0</td>\n",
       "        </tr>\n",
       "        <tr>\n",
       "            <td>116</td>\n",
       "            <td>Shelli</td>\n",
       "            <td>Baida</td>\n",
       "            <td>1997-12-24</td>\n",
       "            <td>2900.0</td>\n",
       "        </tr>\n",
       "        <tr>\n",
       "            <td>117</td>\n",
       "            <td>Sigal</td>\n",
       "            <td>Tobias</td>\n",
       "            <td>1997-07-24</td>\n",
       "            <td>2800.0</td>\n",
       "        </tr>\n",
       "        <tr>\n",
       "            <td>100</td>\n",
       "            <td>Steven</td>\n",
       "            <td>King</td>\n",
       "            <td>1987-06-17</td>\n",
       "            <td>24000.0</td>\n",
       "        </tr>\n",
       "        <tr>\n",
       "            <td>203</td>\n",
       "            <td>Susan</td>\n",
       "            <td>Mavris</td>\n",
       "            <td>1994-06-07</td>\n",
       "            <td>6500.0</td>\n",
       "        </tr>\n",
       "        <tr>\n",
       "            <td>106</td>\n",
       "            <td>Valli</td>\n",
       "            <td>Pataballa</td>\n",
       "            <td>1998-02-05</td>\n",
       "            <td>4800.0</td>\n",
       "        </tr>\n",
       "        <tr>\n",
       "            <td>206</td>\n",
       "            <td>William</td>\n",
       "            <td>Gietz</td>\n",
       "            <td>1994-06-07</td>\n",
       "            <td>8300.0</td>\n",
       "        </tr>\n",
       "    </tbody>\n",
       "</table>"
      ],
      "text/plain": [
       "[(121, 'Adam', 'Fripp', '1997-04-10', 8200.0),\n",
       " (103, 'Alexander', 'Hunold', '1990-01-03', 9000.0),\n",
       " (115, 'Alexander', 'Khoo', '1995-05-18', 3100.0),\n",
       " (193, 'Britney', 'Everett', '1997-03-03', 3900.0),\n",
       " (104, 'Bruce', 'Ernst', '1991-05-21', 6000.0),\n",
       " (179, 'Charles', 'Johnson', '2000-01-04', 6200.0),\n",
       " (109, 'Daniel', 'Faviet', '1994-08-16', 9000.0),\n",
       " (105, 'David', 'Austin', '1997-06-25', 4800.0),\n",
       " (114, 'Den', 'Raphaely', '1994-12-07', 11000.0),\n",
       " (107, 'Diana', 'Lorentz', '1999-02-07', 4200.0),\n",
       " (118, 'Guy', 'Himuro', '1998-11-15', 2600.0),\n",
       " (204, 'Hermann', 'Baer', '1994-06-07', 10000.0),\n",
       " (126, 'Irene', 'Mikkilineni', '1998-09-28', 2700.0),\n",
       " (111, 'Ismael', 'Sciarra', '1997-09-30', 7700.0),\n",
       " (177, 'Jack', 'Livingston', '1998-04-23', 8400.0),\n",
       " (200, 'Jennifer', 'Whalen', '1987-09-17', 4400.0),\n",
       " (110, 'John', 'Chen', '1997-09-28', 8200.0),\n",
       " (145, 'John', 'Russell', '1996-10-01', 14000.0),\n",
       " (176, 'Jonathon', 'Taylor', '1998-03-24', 8600.0),\n",
       " (112, 'Jose Manuel', 'Urman', '1998-03-07', 7800.0),\n",
       " (119, 'Karen', 'Colmenares', '1999-08-10', 2500.0),\n",
       " (146, 'Karen', 'Partners', '1997-01-05', 13500.0),\n",
       " (178, 'Kimberely', 'Grant', '1999-05-24', 7000.0),\n",
       " (102, 'Lex', 'De Haan', '1993-01-13', 17000.0),\n",
       " (113, 'Luis', 'Popp', '1999-12-07', 6900.0),\n",
       " (120, 'Matthew', 'Weiss', '1996-07-18', 8000.0),\n",
       " (201, 'Michael', 'Hartstein', '1996-02-17', 13000.0),\n",
       " (108, 'Nancy', 'Greenberg', '1994-08-17', 12000.0),\n",
       " (101, 'Neena', 'Kochhar', '1989-09-21', 17000.0),\n",
       " (202, 'Pat', 'Fay', '1997-08-17', 6000.0),\n",
       " (122, 'Payam', 'Kaufling', '1995-05-01', 7900.0),\n",
       " (192, 'Sarah', 'Bell', '1996-02-04', 4000.0),\n",
       " (123, 'Shanta', 'Vollman', '1997-10-10', 6500.0),\n",
       " (205, 'Shelley', 'Higgins', '1994-06-07', 12000.0),\n",
       " (116, 'Shelli', 'Baida', '1997-12-24', 2900.0),\n",
       " (117, 'Sigal', 'Tobias', '1997-07-24', 2800.0),\n",
       " (100, 'Steven', 'King', '1987-06-17', 24000.0),\n",
       " (203, 'Susan', 'Mavris', '1994-06-07', 6500.0),\n",
       " (106, 'Valli', 'Pataballa', '1998-02-05', 4800.0),\n",
       " (206, 'William', 'Gietz', '1994-06-07', 8300.0)]"
      ]
     },
     "execution_count": 15,
     "metadata": {},
     "output_type": "execute_result"
    }
   ],
   "source": [
    "%%sql \n",
    "SELECT \n",
    "    employee_id, first_name, last_name, hire_date, salary \n",
    "FROM \n",
    "    employees \n",
    "ORDER BY first_name;"
   ]
  },
  {
   "cell_type": "markdown",
   "metadata": {
    "id": "qfpTwQ-QDgiI"
   },
   "source": [
    "The `ORDER BY` clause also allows using multiple expressions for sorting, separated by commas. In the  following example `ORDER BY` is used to sort the employees by their first name in ascending order, and the employees who have the same first name are further sorted by their last name in descending order. E.g., check the sorting for the two employees with the name Alexander. "
   ]
  },
  {
   "cell_type": "code",
   "execution_count": 16,
   "metadata": {
    "colab": {
     "base_uri": "https://localhost:8080/",
     "height": 912
    },
    "executionInfo": {
     "elapsed": 315,
     "status": "ok",
     "timestamp": 1668546498511,
     "user": {
      "displayName": "Aleksandar Vakanski",
      "userId": "07675307153279708378"
     },
     "user_tz": 420
    },
    "id": "5sYoF7im86i5",
    "outputId": "0fa50803-1c34-4562-f215-e4538520f06b"
   },
   "outputs": [
    {
     "name": "stdout",
     "output_type": "stream",
     "text": [
      " * sqlite://\n",
      "Done.\n"
     ]
    },
    {
     "data": {
      "text/html": [
       "<table>\n",
       "    <thead>\n",
       "        <tr>\n",
       "            <th>employee_id</th>\n",
       "            <th>first_name</th>\n",
       "            <th>last_name</th>\n",
       "            <th>hire_date</th>\n",
       "            <th>salary</th>\n",
       "        </tr>\n",
       "    </thead>\n",
       "    <tbody>\n",
       "        <tr>\n",
       "            <td>121</td>\n",
       "            <td>Adam</td>\n",
       "            <td>Fripp</td>\n",
       "            <td>1997-04-10</td>\n",
       "            <td>8200.0</td>\n",
       "        </tr>\n",
       "        <tr>\n",
       "            <td>115</td>\n",
       "            <td>Alexander</td>\n",
       "            <td>Khoo</td>\n",
       "            <td>1995-05-18</td>\n",
       "            <td>3100.0</td>\n",
       "        </tr>\n",
       "        <tr>\n",
       "            <td>103</td>\n",
       "            <td>Alexander</td>\n",
       "            <td>Hunold</td>\n",
       "            <td>1990-01-03</td>\n",
       "            <td>9000.0</td>\n",
       "        </tr>\n",
       "        <tr>\n",
       "            <td>193</td>\n",
       "            <td>Britney</td>\n",
       "            <td>Everett</td>\n",
       "            <td>1997-03-03</td>\n",
       "            <td>3900.0</td>\n",
       "        </tr>\n",
       "        <tr>\n",
       "            <td>104</td>\n",
       "            <td>Bruce</td>\n",
       "            <td>Ernst</td>\n",
       "            <td>1991-05-21</td>\n",
       "            <td>6000.0</td>\n",
       "        </tr>\n",
       "        <tr>\n",
       "            <td>179</td>\n",
       "            <td>Charles</td>\n",
       "            <td>Johnson</td>\n",
       "            <td>2000-01-04</td>\n",
       "            <td>6200.0</td>\n",
       "        </tr>\n",
       "        <tr>\n",
       "            <td>109</td>\n",
       "            <td>Daniel</td>\n",
       "            <td>Faviet</td>\n",
       "            <td>1994-08-16</td>\n",
       "            <td>9000.0</td>\n",
       "        </tr>\n",
       "        <tr>\n",
       "            <td>105</td>\n",
       "            <td>David</td>\n",
       "            <td>Austin</td>\n",
       "            <td>1997-06-25</td>\n",
       "            <td>4800.0</td>\n",
       "        </tr>\n",
       "        <tr>\n",
       "            <td>114</td>\n",
       "            <td>Den</td>\n",
       "            <td>Raphaely</td>\n",
       "            <td>1994-12-07</td>\n",
       "            <td>11000.0</td>\n",
       "        </tr>\n",
       "        <tr>\n",
       "            <td>107</td>\n",
       "            <td>Diana</td>\n",
       "            <td>Lorentz</td>\n",
       "            <td>1999-02-07</td>\n",
       "            <td>4200.0</td>\n",
       "        </tr>\n",
       "        <tr>\n",
       "            <td>118</td>\n",
       "            <td>Guy</td>\n",
       "            <td>Himuro</td>\n",
       "            <td>1998-11-15</td>\n",
       "            <td>2600.0</td>\n",
       "        </tr>\n",
       "        <tr>\n",
       "            <td>204</td>\n",
       "            <td>Hermann</td>\n",
       "            <td>Baer</td>\n",
       "            <td>1994-06-07</td>\n",
       "            <td>10000.0</td>\n",
       "        </tr>\n",
       "        <tr>\n",
       "            <td>126</td>\n",
       "            <td>Irene</td>\n",
       "            <td>Mikkilineni</td>\n",
       "            <td>1998-09-28</td>\n",
       "            <td>2700.0</td>\n",
       "        </tr>\n",
       "        <tr>\n",
       "            <td>111</td>\n",
       "            <td>Ismael</td>\n",
       "            <td>Sciarra</td>\n",
       "            <td>1997-09-30</td>\n",
       "            <td>7700.0</td>\n",
       "        </tr>\n",
       "        <tr>\n",
       "            <td>177</td>\n",
       "            <td>Jack</td>\n",
       "            <td>Livingston</td>\n",
       "            <td>1998-04-23</td>\n",
       "            <td>8400.0</td>\n",
       "        </tr>\n",
       "        <tr>\n",
       "            <td>200</td>\n",
       "            <td>Jennifer</td>\n",
       "            <td>Whalen</td>\n",
       "            <td>1987-09-17</td>\n",
       "            <td>4400.0</td>\n",
       "        </tr>\n",
       "        <tr>\n",
       "            <td>145</td>\n",
       "            <td>John</td>\n",
       "            <td>Russell</td>\n",
       "            <td>1996-10-01</td>\n",
       "            <td>14000.0</td>\n",
       "        </tr>\n",
       "        <tr>\n",
       "            <td>110</td>\n",
       "            <td>John</td>\n",
       "            <td>Chen</td>\n",
       "            <td>1997-09-28</td>\n",
       "            <td>8200.0</td>\n",
       "        </tr>\n",
       "        <tr>\n",
       "            <td>176</td>\n",
       "            <td>Jonathon</td>\n",
       "            <td>Taylor</td>\n",
       "            <td>1998-03-24</td>\n",
       "            <td>8600.0</td>\n",
       "        </tr>\n",
       "        <tr>\n",
       "            <td>112</td>\n",
       "            <td>Jose Manuel</td>\n",
       "            <td>Urman</td>\n",
       "            <td>1998-03-07</td>\n",
       "            <td>7800.0</td>\n",
       "        </tr>\n",
       "        <tr>\n",
       "            <td>146</td>\n",
       "            <td>Karen</td>\n",
       "            <td>Partners</td>\n",
       "            <td>1997-01-05</td>\n",
       "            <td>13500.0</td>\n",
       "        </tr>\n",
       "        <tr>\n",
       "            <td>119</td>\n",
       "            <td>Karen</td>\n",
       "            <td>Colmenares</td>\n",
       "            <td>1999-08-10</td>\n",
       "            <td>2500.0</td>\n",
       "        </tr>\n",
       "        <tr>\n",
       "            <td>178</td>\n",
       "            <td>Kimberely</td>\n",
       "            <td>Grant</td>\n",
       "            <td>1999-05-24</td>\n",
       "            <td>7000.0</td>\n",
       "        </tr>\n",
       "        <tr>\n",
       "            <td>102</td>\n",
       "            <td>Lex</td>\n",
       "            <td>De Haan</td>\n",
       "            <td>1993-01-13</td>\n",
       "            <td>17000.0</td>\n",
       "        </tr>\n",
       "        <tr>\n",
       "            <td>113</td>\n",
       "            <td>Luis</td>\n",
       "            <td>Popp</td>\n",
       "            <td>1999-12-07</td>\n",
       "            <td>6900.0</td>\n",
       "        </tr>\n",
       "        <tr>\n",
       "            <td>120</td>\n",
       "            <td>Matthew</td>\n",
       "            <td>Weiss</td>\n",
       "            <td>1996-07-18</td>\n",
       "            <td>8000.0</td>\n",
       "        </tr>\n",
       "        <tr>\n",
       "            <td>201</td>\n",
       "            <td>Michael</td>\n",
       "            <td>Hartstein</td>\n",
       "            <td>1996-02-17</td>\n",
       "            <td>13000.0</td>\n",
       "        </tr>\n",
       "        <tr>\n",
       "            <td>108</td>\n",
       "            <td>Nancy</td>\n",
       "            <td>Greenberg</td>\n",
       "            <td>1994-08-17</td>\n",
       "            <td>12000.0</td>\n",
       "        </tr>\n",
       "        <tr>\n",
       "            <td>101</td>\n",
       "            <td>Neena</td>\n",
       "            <td>Kochhar</td>\n",
       "            <td>1989-09-21</td>\n",
       "            <td>17000.0</td>\n",
       "        </tr>\n",
       "        <tr>\n",
       "            <td>202</td>\n",
       "            <td>Pat</td>\n",
       "            <td>Fay</td>\n",
       "            <td>1997-08-17</td>\n",
       "            <td>6000.0</td>\n",
       "        </tr>\n",
       "        <tr>\n",
       "            <td>122</td>\n",
       "            <td>Payam</td>\n",
       "            <td>Kaufling</td>\n",
       "            <td>1995-05-01</td>\n",
       "            <td>7900.0</td>\n",
       "        </tr>\n",
       "        <tr>\n",
       "            <td>192</td>\n",
       "            <td>Sarah</td>\n",
       "            <td>Bell</td>\n",
       "            <td>1996-02-04</td>\n",
       "            <td>4000.0</td>\n",
       "        </tr>\n",
       "        <tr>\n",
       "            <td>123</td>\n",
       "            <td>Shanta</td>\n",
       "            <td>Vollman</td>\n",
       "            <td>1997-10-10</td>\n",
       "            <td>6500.0</td>\n",
       "        </tr>\n",
       "        <tr>\n",
       "            <td>205</td>\n",
       "            <td>Shelley</td>\n",
       "            <td>Higgins</td>\n",
       "            <td>1994-06-07</td>\n",
       "            <td>12000.0</td>\n",
       "        </tr>\n",
       "        <tr>\n",
       "            <td>116</td>\n",
       "            <td>Shelli</td>\n",
       "            <td>Baida</td>\n",
       "            <td>1997-12-24</td>\n",
       "            <td>2900.0</td>\n",
       "        </tr>\n",
       "        <tr>\n",
       "            <td>117</td>\n",
       "            <td>Sigal</td>\n",
       "            <td>Tobias</td>\n",
       "            <td>1997-07-24</td>\n",
       "            <td>2800.0</td>\n",
       "        </tr>\n",
       "        <tr>\n",
       "            <td>100</td>\n",
       "            <td>Steven</td>\n",
       "            <td>King</td>\n",
       "            <td>1987-06-17</td>\n",
       "            <td>24000.0</td>\n",
       "        </tr>\n",
       "        <tr>\n",
       "            <td>203</td>\n",
       "            <td>Susan</td>\n",
       "            <td>Mavris</td>\n",
       "            <td>1994-06-07</td>\n",
       "            <td>6500.0</td>\n",
       "        </tr>\n",
       "        <tr>\n",
       "            <td>106</td>\n",
       "            <td>Valli</td>\n",
       "            <td>Pataballa</td>\n",
       "            <td>1998-02-05</td>\n",
       "            <td>4800.0</td>\n",
       "        </tr>\n",
       "        <tr>\n",
       "            <td>206</td>\n",
       "            <td>William</td>\n",
       "            <td>Gietz</td>\n",
       "            <td>1994-06-07</td>\n",
       "            <td>8300.0</td>\n",
       "        </tr>\n",
       "    </tbody>\n",
       "</table>"
      ],
      "text/plain": [
       "[(121, 'Adam', 'Fripp', '1997-04-10', 8200.0),\n",
       " (115, 'Alexander', 'Khoo', '1995-05-18', 3100.0),\n",
       " (103, 'Alexander', 'Hunold', '1990-01-03', 9000.0),\n",
       " (193, 'Britney', 'Everett', '1997-03-03', 3900.0),\n",
       " (104, 'Bruce', 'Ernst', '1991-05-21', 6000.0),\n",
       " (179, 'Charles', 'Johnson', '2000-01-04', 6200.0),\n",
       " (109, 'Daniel', 'Faviet', '1994-08-16', 9000.0),\n",
       " (105, 'David', 'Austin', '1997-06-25', 4800.0),\n",
       " (114, 'Den', 'Raphaely', '1994-12-07', 11000.0),\n",
       " (107, 'Diana', 'Lorentz', '1999-02-07', 4200.0),\n",
       " (118, 'Guy', 'Himuro', '1998-11-15', 2600.0),\n",
       " (204, 'Hermann', 'Baer', '1994-06-07', 10000.0),\n",
       " (126, 'Irene', 'Mikkilineni', '1998-09-28', 2700.0),\n",
       " (111, 'Ismael', 'Sciarra', '1997-09-30', 7700.0),\n",
       " (177, 'Jack', 'Livingston', '1998-04-23', 8400.0),\n",
       " (200, 'Jennifer', 'Whalen', '1987-09-17', 4400.0),\n",
       " (145, 'John', 'Russell', '1996-10-01', 14000.0),\n",
       " (110, 'John', 'Chen', '1997-09-28', 8200.0),\n",
       " (176, 'Jonathon', 'Taylor', '1998-03-24', 8600.0),\n",
       " (112, 'Jose Manuel', 'Urman', '1998-03-07', 7800.0),\n",
       " (146, 'Karen', 'Partners', '1997-01-05', 13500.0),\n",
       " (119, 'Karen', 'Colmenares', '1999-08-10', 2500.0),\n",
       " (178, 'Kimberely', 'Grant', '1999-05-24', 7000.0),\n",
       " (102, 'Lex', 'De Haan', '1993-01-13', 17000.0),\n",
       " (113, 'Luis', 'Popp', '1999-12-07', 6900.0),\n",
       " (120, 'Matthew', 'Weiss', '1996-07-18', 8000.0),\n",
       " (201, 'Michael', 'Hartstein', '1996-02-17', 13000.0),\n",
       " (108, 'Nancy', 'Greenberg', '1994-08-17', 12000.0),\n",
       " (101, 'Neena', 'Kochhar', '1989-09-21', 17000.0),\n",
       " (202, 'Pat', 'Fay', '1997-08-17', 6000.0),\n",
       " (122, 'Payam', 'Kaufling', '1995-05-01', 7900.0),\n",
       " (192, 'Sarah', 'Bell', '1996-02-04', 4000.0),\n",
       " (123, 'Shanta', 'Vollman', '1997-10-10', 6500.0),\n",
       " (205, 'Shelley', 'Higgins', '1994-06-07', 12000.0),\n",
       " (116, 'Shelli', 'Baida', '1997-12-24', 2900.0),\n",
       " (117, 'Sigal', 'Tobias', '1997-07-24', 2800.0),\n",
       " (100, 'Steven', 'King', '1987-06-17', 24000.0),\n",
       " (203, 'Susan', 'Mavris', '1994-06-07', 6500.0),\n",
       " (106, 'Valli', 'Pataballa', '1998-02-05', 4800.0),\n",
       " (206, 'William', 'Gietz', '1994-06-07', 8300.0)]"
      ]
     },
     "execution_count": 16,
     "metadata": {},
     "output_type": "execute_result"
    }
   ],
   "source": [
    "%%sql \n",
    "SELECT \n",
    "    employee_id, first_name, last_name, hire_date, salary \n",
    "FROM \n",
    "    employees \n",
    "ORDER BY first_name, last_name DESC;"
   ]
  },
  {
   "cell_type": "markdown",
   "metadata": {
    "id": "i0tX2jFdEumx"
   },
   "source": [
    "Similarly, we can use `ORDER BY` to sort columns with numerical data, or to sort by date as in the following cell. "
   ]
  },
  {
   "cell_type": "code",
   "execution_count": 17,
   "metadata": {
    "colab": {
     "base_uri": "https://localhost:8080/",
     "height": 912
    },
    "executionInfo": {
     "elapsed": 42,
     "status": "ok",
     "timestamp": 1668546498512,
     "user": {
      "displayName": "Aleksandar Vakanski",
      "userId": "07675307153279708378"
     },
     "user_tz": 420
    },
    "id": "0geN3ekW2wAZ",
    "outputId": "08323f24-a25b-491a-952d-b604a756a99f"
   },
   "outputs": [
    {
     "name": "stdout",
     "output_type": "stream",
     "text": [
      " * sqlite://\n",
      "Done.\n"
     ]
    },
    {
     "data": {
      "text/html": [
       "<table>\n",
       "    <thead>\n",
       "        <tr>\n",
       "            <th>employee_id</th>\n",
       "            <th>first_name</th>\n",
       "            <th>last_name</th>\n",
       "            <th>hire_date</th>\n",
       "            <th>salary</th>\n",
       "        </tr>\n",
       "    </thead>\n",
       "    <tbody>\n",
       "        <tr>\n",
       "            <td>100</td>\n",
       "            <td>Steven</td>\n",
       "            <td>King</td>\n",
       "            <td>1987-06-17</td>\n",
       "            <td>24000.0</td>\n",
       "        </tr>\n",
       "        <tr>\n",
       "            <td>200</td>\n",
       "            <td>Jennifer</td>\n",
       "            <td>Whalen</td>\n",
       "            <td>1987-09-17</td>\n",
       "            <td>4400.0</td>\n",
       "        </tr>\n",
       "        <tr>\n",
       "            <td>101</td>\n",
       "            <td>Neena</td>\n",
       "            <td>Kochhar</td>\n",
       "            <td>1989-09-21</td>\n",
       "            <td>17000.0</td>\n",
       "        </tr>\n",
       "        <tr>\n",
       "            <td>103</td>\n",
       "            <td>Alexander</td>\n",
       "            <td>Hunold</td>\n",
       "            <td>1990-01-03</td>\n",
       "            <td>9000.0</td>\n",
       "        </tr>\n",
       "        <tr>\n",
       "            <td>104</td>\n",
       "            <td>Bruce</td>\n",
       "            <td>Ernst</td>\n",
       "            <td>1991-05-21</td>\n",
       "            <td>6000.0</td>\n",
       "        </tr>\n",
       "        <tr>\n",
       "            <td>102</td>\n",
       "            <td>Lex</td>\n",
       "            <td>De Haan</td>\n",
       "            <td>1993-01-13</td>\n",
       "            <td>17000.0</td>\n",
       "        </tr>\n",
       "        <tr>\n",
       "            <td>203</td>\n",
       "            <td>Susan</td>\n",
       "            <td>Mavris</td>\n",
       "            <td>1994-06-07</td>\n",
       "            <td>6500.0</td>\n",
       "        </tr>\n",
       "        <tr>\n",
       "            <td>204</td>\n",
       "            <td>Hermann</td>\n",
       "            <td>Baer</td>\n",
       "            <td>1994-06-07</td>\n",
       "            <td>10000.0</td>\n",
       "        </tr>\n",
       "        <tr>\n",
       "            <td>205</td>\n",
       "            <td>Shelley</td>\n",
       "            <td>Higgins</td>\n",
       "            <td>1994-06-07</td>\n",
       "            <td>12000.0</td>\n",
       "        </tr>\n",
       "        <tr>\n",
       "            <td>206</td>\n",
       "            <td>William</td>\n",
       "            <td>Gietz</td>\n",
       "            <td>1994-06-07</td>\n",
       "            <td>8300.0</td>\n",
       "        </tr>\n",
       "        <tr>\n",
       "            <td>109</td>\n",
       "            <td>Daniel</td>\n",
       "            <td>Faviet</td>\n",
       "            <td>1994-08-16</td>\n",
       "            <td>9000.0</td>\n",
       "        </tr>\n",
       "        <tr>\n",
       "            <td>108</td>\n",
       "            <td>Nancy</td>\n",
       "            <td>Greenberg</td>\n",
       "            <td>1994-08-17</td>\n",
       "            <td>12000.0</td>\n",
       "        </tr>\n",
       "        <tr>\n",
       "            <td>114</td>\n",
       "            <td>Den</td>\n",
       "            <td>Raphaely</td>\n",
       "            <td>1994-12-07</td>\n",
       "            <td>11000.0</td>\n",
       "        </tr>\n",
       "        <tr>\n",
       "            <td>122</td>\n",
       "            <td>Payam</td>\n",
       "            <td>Kaufling</td>\n",
       "            <td>1995-05-01</td>\n",
       "            <td>7900.0</td>\n",
       "        </tr>\n",
       "        <tr>\n",
       "            <td>115</td>\n",
       "            <td>Alexander</td>\n",
       "            <td>Khoo</td>\n",
       "            <td>1995-05-18</td>\n",
       "            <td>3100.0</td>\n",
       "        </tr>\n",
       "        <tr>\n",
       "            <td>192</td>\n",
       "            <td>Sarah</td>\n",
       "            <td>Bell</td>\n",
       "            <td>1996-02-04</td>\n",
       "            <td>4000.0</td>\n",
       "        </tr>\n",
       "        <tr>\n",
       "            <td>201</td>\n",
       "            <td>Michael</td>\n",
       "            <td>Hartstein</td>\n",
       "            <td>1996-02-17</td>\n",
       "            <td>13000.0</td>\n",
       "        </tr>\n",
       "        <tr>\n",
       "            <td>120</td>\n",
       "            <td>Matthew</td>\n",
       "            <td>Weiss</td>\n",
       "            <td>1996-07-18</td>\n",
       "            <td>8000.0</td>\n",
       "        </tr>\n",
       "        <tr>\n",
       "            <td>145</td>\n",
       "            <td>John</td>\n",
       "            <td>Russell</td>\n",
       "            <td>1996-10-01</td>\n",
       "            <td>14000.0</td>\n",
       "        </tr>\n",
       "        <tr>\n",
       "            <td>146</td>\n",
       "            <td>Karen</td>\n",
       "            <td>Partners</td>\n",
       "            <td>1997-01-05</td>\n",
       "            <td>13500.0</td>\n",
       "        </tr>\n",
       "        <tr>\n",
       "            <td>193</td>\n",
       "            <td>Britney</td>\n",
       "            <td>Everett</td>\n",
       "            <td>1997-03-03</td>\n",
       "            <td>3900.0</td>\n",
       "        </tr>\n",
       "        <tr>\n",
       "            <td>121</td>\n",
       "            <td>Adam</td>\n",
       "            <td>Fripp</td>\n",
       "            <td>1997-04-10</td>\n",
       "            <td>8200.0</td>\n",
       "        </tr>\n",
       "        <tr>\n",
       "            <td>105</td>\n",
       "            <td>David</td>\n",
       "            <td>Austin</td>\n",
       "            <td>1997-06-25</td>\n",
       "            <td>4800.0</td>\n",
       "        </tr>\n",
       "        <tr>\n",
       "            <td>117</td>\n",
       "            <td>Sigal</td>\n",
       "            <td>Tobias</td>\n",
       "            <td>1997-07-24</td>\n",
       "            <td>2800.0</td>\n",
       "        </tr>\n",
       "        <tr>\n",
       "            <td>202</td>\n",
       "            <td>Pat</td>\n",
       "            <td>Fay</td>\n",
       "            <td>1997-08-17</td>\n",
       "            <td>6000.0</td>\n",
       "        </tr>\n",
       "        <tr>\n",
       "            <td>110</td>\n",
       "            <td>John</td>\n",
       "            <td>Chen</td>\n",
       "            <td>1997-09-28</td>\n",
       "            <td>8200.0</td>\n",
       "        </tr>\n",
       "        <tr>\n",
       "            <td>111</td>\n",
       "            <td>Ismael</td>\n",
       "            <td>Sciarra</td>\n",
       "            <td>1997-09-30</td>\n",
       "            <td>7700.0</td>\n",
       "        </tr>\n",
       "        <tr>\n",
       "            <td>123</td>\n",
       "            <td>Shanta</td>\n",
       "            <td>Vollman</td>\n",
       "            <td>1997-10-10</td>\n",
       "            <td>6500.0</td>\n",
       "        </tr>\n",
       "        <tr>\n",
       "            <td>116</td>\n",
       "            <td>Shelli</td>\n",
       "            <td>Baida</td>\n",
       "            <td>1997-12-24</td>\n",
       "            <td>2900.0</td>\n",
       "        </tr>\n",
       "        <tr>\n",
       "            <td>106</td>\n",
       "            <td>Valli</td>\n",
       "            <td>Pataballa</td>\n",
       "            <td>1998-02-05</td>\n",
       "            <td>4800.0</td>\n",
       "        </tr>\n",
       "        <tr>\n",
       "            <td>112</td>\n",
       "            <td>Jose Manuel</td>\n",
       "            <td>Urman</td>\n",
       "            <td>1998-03-07</td>\n",
       "            <td>7800.0</td>\n",
       "        </tr>\n",
       "        <tr>\n",
       "            <td>176</td>\n",
       "            <td>Jonathon</td>\n",
       "            <td>Taylor</td>\n",
       "            <td>1998-03-24</td>\n",
       "            <td>8600.0</td>\n",
       "        </tr>\n",
       "        <tr>\n",
       "            <td>177</td>\n",
       "            <td>Jack</td>\n",
       "            <td>Livingston</td>\n",
       "            <td>1998-04-23</td>\n",
       "            <td>8400.0</td>\n",
       "        </tr>\n",
       "        <tr>\n",
       "            <td>126</td>\n",
       "            <td>Irene</td>\n",
       "            <td>Mikkilineni</td>\n",
       "            <td>1998-09-28</td>\n",
       "            <td>2700.0</td>\n",
       "        </tr>\n",
       "        <tr>\n",
       "            <td>118</td>\n",
       "            <td>Guy</td>\n",
       "            <td>Himuro</td>\n",
       "            <td>1998-11-15</td>\n",
       "            <td>2600.0</td>\n",
       "        </tr>\n",
       "        <tr>\n",
       "            <td>107</td>\n",
       "            <td>Diana</td>\n",
       "            <td>Lorentz</td>\n",
       "            <td>1999-02-07</td>\n",
       "            <td>4200.0</td>\n",
       "        </tr>\n",
       "        <tr>\n",
       "            <td>178</td>\n",
       "            <td>Kimberely</td>\n",
       "            <td>Grant</td>\n",
       "            <td>1999-05-24</td>\n",
       "            <td>7000.0</td>\n",
       "        </tr>\n",
       "        <tr>\n",
       "            <td>119</td>\n",
       "            <td>Karen</td>\n",
       "            <td>Colmenares</td>\n",
       "            <td>1999-08-10</td>\n",
       "            <td>2500.0</td>\n",
       "        </tr>\n",
       "        <tr>\n",
       "            <td>113</td>\n",
       "            <td>Luis</td>\n",
       "            <td>Popp</td>\n",
       "            <td>1999-12-07</td>\n",
       "            <td>6900.0</td>\n",
       "        </tr>\n",
       "        <tr>\n",
       "            <td>179</td>\n",
       "            <td>Charles</td>\n",
       "            <td>Johnson</td>\n",
       "            <td>2000-01-04</td>\n",
       "            <td>6200.0</td>\n",
       "        </tr>\n",
       "    </tbody>\n",
       "</table>"
      ],
      "text/plain": [
       "[(100, 'Steven', 'King', '1987-06-17', 24000.0),\n",
       " (200, 'Jennifer', 'Whalen', '1987-09-17', 4400.0),\n",
       " (101, 'Neena', 'Kochhar', '1989-09-21', 17000.0),\n",
       " (103, 'Alexander', 'Hunold', '1990-01-03', 9000.0),\n",
       " (104, 'Bruce', 'Ernst', '1991-05-21', 6000.0),\n",
       " (102, 'Lex', 'De Haan', '1993-01-13', 17000.0),\n",
       " (203, 'Susan', 'Mavris', '1994-06-07', 6500.0),\n",
       " (204, 'Hermann', 'Baer', '1994-06-07', 10000.0),\n",
       " (205, 'Shelley', 'Higgins', '1994-06-07', 12000.0),\n",
       " (206, 'William', 'Gietz', '1994-06-07', 8300.0),\n",
       " (109, 'Daniel', 'Faviet', '1994-08-16', 9000.0),\n",
       " (108, 'Nancy', 'Greenberg', '1994-08-17', 12000.0),\n",
       " (114, 'Den', 'Raphaely', '1994-12-07', 11000.0),\n",
       " (122, 'Payam', 'Kaufling', '1995-05-01', 7900.0),\n",
       " (115, 'Alexander', 'Khoo', '1995-05-18', 3100.0),\n",
       " (192, 'Sarah', 'Bell', '1996-02-04', 4000.0),\n",
       " (201, 'Michael', 'Hartstein', '1996-02-17', 13000.0),\n",
       " (120, 'Matthew', 'Weiss', '1996-07-18', 8000.0),\n",
       " (145, 'John', 'Russell', '1996-10-01', 14000.0),\n",
       " (146, 'Karen', 'Partners', '1997-01-05', 13500.0),\n",
       " (193, 'Britney', 'Everett', '1997-03-03', 3900.0),\n",
       " (121, 'Adam', 'Fripp', '1997-04-10', 8200.0),\n",
       " (105, 'David', 'Austin', '1997-06-25', 4800.0),\n",
       " (117, 'Sigal', 'Tobias', '1997-07-24', 2800.0),\n",
       " (202, 'Pat', 'Fay', '1997-08-17', 6000.0),\n",
       " (110, 'John', 'Chen', '1997-09-28', 8200.0),\n",
       " (111, 'Ismael', 'Sciarra', '1997-09-30', 7700.0),\n",
       " (123, 'Shanta', 'Vollman', '1997-10-10', 6500.0),\n",
       " (116, 'Shelli', 'Baida', '1997-12-24', 2900.0),\n",
       " (106, 'Valli', 'Pataballa', '1998-02-05', 4800.0),\n",
       " (112, 'Jose Manuel', 'Urman', '1998-03-07', 7800.0),\n",
       " (176, 'Jonathon', 'Taylor', '1998-03-24', 8600.0),\n",
       " (177, 'Jack', 'Livingston', '1998-04-23', 8400.0),\n",
       " (126, 'Irene', 'Mikkilineni', '1998-09-28', 2700.0),\n",
       " (118, 'Guy', 'Himuro', '1998-11-15', 2600.0),\n",
       " (107, 'Diana', 'Lorentz', '1999-02-07', 4200.0),\n",
       " (178, 'Kimberely', 'Grant', '1999-05-24', 7000.0),\n",
       " (119, 'Karen', 'Colmenares', '1999-08-10', 2500.0),\n",
       " (113, 'Luis', 'Popp', '1999-12-07', 6900.0),\n",
       " (179, 'Charles', 'Johnson', '2000-01-04', 6200.0)]"
      ]
     },
     "execution_count": 17,
     "metadata": {},
     "output_type": "execute_result"
    }
   ],
   "source": [
    "%%sql\n",
    "SELECT \n",
    "    employee_id, first_name, last_name, hire_date, salary \n",
    "FROM \n",
    "    employees \n",
    "ORDER BY hire_date;"
   ]
  },
  {
   "cell_type": "markdown",
   "metadata": {
    "id": "1tftp-AjGK9Q"
   },
   "source": [
    "## 10.7 Filtering Data <a name='10.7-filtering-data'></a>"
   ]
  },
  {
   "cell_type": "markdown",
   "metadata": {
    "id": "3-vca0nPGqVB"
   },
   "source": [
    "### LIMIT\n",
    "\n",
    "`LIMIT` is used to constrain the number of rows returned by a query, similar to `head()` and `tail()` functions in Pandas.\n"
   ]
  },
  {
   "cell_type": "code",
   "execution_count": 18,
   "metadata": {
    "colab": {
     "base_uri": "https://localhost:8080/",
     "height": 179
    },
    "executionInfo": {
     "elapsed": 41,
     "status": "ok",
     "timestamp": 1668546498513,
     "user": {
      "displayName": "Aleksandar Vakanski",
      "userId": "07675307153279708378"
     },
     "user_tz": 420
    },
    "id": "dsNuYSusK_jX",
    "outputId": "788a2b42-38cf-4b4f-a7a0-bb18a627a5fc"
   },
   "outputs": [
    {
     "name": "stdout",
     "output_type": "stream",
     "text": [
      " * sqlite://\n",
      "Done.\n"
     ]
    },
    {
     "data": {
      "text/html": [
       "<table>\n",
       "    <thead>\n",
       "        <tr>\n",
       "            <th>employee_id</th>\n",
       "            <th>first_name</th>\n",
       "            <th>last_name</th>\n",
       "            <th>hire_date</th>\n",
       "            <th>salary</th>\n",
       "        </tr>\n",
       "    </thead>\n",
       "    <tbody>\n",
       "        <tr>\n",
       "            <td>121</td>\n",
       "            <td>Adam</td>\n",
       "            <td>Fripp</td>\n",
       "            <td>1997-04-10</td>\n",
       "            <td>8200.0</td>\n",
       "        </tr>\n",
       "        <tr>\n",
       "            <td>103</td>\n",
       "            <td>Alexander</td>\n",
       "            <td>Hunold</td>\n",
       "            <td>1990-01-03</td>\n",
       "            <td>9000.0</td>\n",
       "        </tr>\n",
       "        <tr>\n",
       "            <td>115</td>\n",
       "            <td>Alexander</td>\n",
       "            <td>Khoo</td>\n",
       "            <td>1995-05-18</td>\n",
       "            <td>3100.0</td>\n",
       "        </tr>\n",
       "        <tr>\n",
       "            <td>193</td>\n",
       "            <td>Britney</td>\n",
       "            <td>Everett</td>\n",
       "            <td>1997-03-03</td>\n",
       "            <td>3900.0</td>\n",
       "        </tr>\n",
       "        <tr>\n",
       "            <td>104</td>\n",
       "            <td>Bruce</td>\n",
       "            <td>Ernst</td>\n",
       "            <td>1991-05-21</td>\n",
       "            <td>6000.0</td>\n",
       "        </tr>\n",
       "    </tbody>\n",
       "</table>"
      ],
      "text/plain": [
       "[(121, 'Adam', 'Fripp', '1997-04-10', 8200.0),\n",
       " (103, 'Alexander', 'Hunold', '1990-01-03', 9000.0),\n",
       " (115, 'Alexander', 'Khoo', '1995-05-18', 3100.0),\n",
       " (193, 'Britney', 'Everett', '1997-03-03', 3900.0),\n",
       " (104, 'Bruce', 'Ernst', '1991-05-21', 6000.0)]"
      ]
     },
     "execution_count": 18,
     "metadata": {},
     "output_type": "execute_result"
    }
   ],
   "source": [
    "%%sql\n",
    "SELECT \n",
    "    employee_id, first_name, last_name, hire_date, salary \n",
    "FROM \n",
    "    employees \n",
    "ORDER BY first_name \n",
    "LIMIT 5;"
   ]
  },
  {
   "cell_type": "markdown",
   "metadata": {
    "id": "9Y97Q-sPIrQm"
   },
   "source": [
    "It is also possible to include an `OFFSET` clause, which will skip rows before retrieving the data. E.g., in the next cell, the first 3 rows are skipped, and rows 4-8 are returned. "
   ]
  },
  {
   "cell_type": "code",
   "execution_count": 19,
   "metadata": {
    "colab": {
     "base_uri": "https://localhost:8080/",
     "height": 179
    },
    "executionInfo": {
     "elapsed": 37,
     "status": "ok",
     "timestamp": 1668546498513,
     "user": {
      "displayName": "Aleksandar Vakanski",
      "userId": "07675307153279708378"
     },
     "user_tz": 420
    },
    "id": "4Gp6pN85GLEt",
    "outputId": "83ca8090-2c02-4f12-fe64-f17ed36021b8"
   },
   "outputs": [
    {
     "name": "stdout",
     "output_type": "stream",
     "text": [
      " * sqlite://\n",
      "Done.\n"
     ]
    },
    {
     "data": {
      "text/html": [
       "<table>\n",
       "    <thead>\n",
       "        <tr>\n",
       "            <th>employee_id</th>\n",
       "            <th>first_name</th>\n",
       "            <th>last_name</th>\n",
       "            <th>hire_date</th>\n",
       "            <th>salary</th>\n",
       "        </tr>\n",
       "    </thead>\n",
       "    <tbody>\n",
       "        <tr>\n",
       "            <td>193</td>\n",
       "            <td>Britney</td>\n",
       "            <td>Everett</td>\n",
       "            <td>1997-03-03</td>\n",
       "            <td>3900.0</td>\n",
       "        </tr>\n",
       "        <tr>\n",
       "            <td>104</td>\n",
       "            <td>Bruce</td>\n",
       "            <td>Ernst</td>\n",
       "            <td>1991-05-21</td>\n",
       "            <td>6000.0</td>\n",
       "        </tr>\n",
       "        <tr>\n",
       "            <td>179</td>\n",
       "            <td>Charles</td>\n",
       "            <td>Johnson</td>\n",
       "            <td>2000-01-04</td>\n",
       "            <td>6200.0</td>\n",
       "        </tr>\n",
       "        <tr>\n",
       "            <td>109</td>\n",
       "            <td>Daniel</td>\n",
       "            <td>Faviet</td>\n",
       "            <td>1994-08-16</td>\n",
       "            <td>9000.0</td>\n",
       "        </tr>\n",
       "        <tr>\n",
       "            <td>105</td>\n",
       "            <td>David</td>\n",
       "            <td>Austin</td>\n",
       "            <td>1997-06-25</td>\n",
       "            <td>4800.0</td>\n",
       "        </tr>\n",
       "    </tbody>\n",
       "</table>"
      ],
      "text/plain": [
       "[(193, 'Britney', 'Everett', '1997-03-03', 3900.0),\n",
       " (104, 'Bruce', 'Ernst', '1991-05-21', 6000.0),\n",
       " (179, 'Charles', 'Johnson', '2000-01-04', 6200.0),\n",
       " (109, 'Daniel', 'Faviet', '1994-08-16', 9000.0),\n",
       " (105, 'David', 'Austin', '1997-06-25', 4800.0)]"
      ]
     },
     "execution_count": 19,
     "metadata": {},
     "output_type": "execute_result"
    }
   ],
   "source": [
    "%%sql \n",
    "SELECT\n",
    "    employee_id, first_name, last_name, hire_date, salary \n",
    "FROM \n",
    "    employees \n",
    "ORDER BY first_name \n",
    "LIMIT 5 \n",
    "OFFSET 3;"
   ]
  },
  {
   "cell_type": "markdown",
   "metadata": {
    "id": "scbrAeEPJZLx"
   },
   "source": [
    "### DISTINCT \n",
    "\n",
    "The `DISTINCT` clause allows to remove duplicate rows from the result set.\n",
    "\n",
    "E.g., the first cell shows the first 15 rows of the salary columns, where some rows have the same value. In the next cell, `DISTINCT` is used to remove the rows with the same values for salary."
   ]
  },
  {
   "cell_type": "code",
   "execution_count": 20,
   "metadata": {
    "colab": {
     "base_uri": "https://localhost:8080/",
     "height": 389
    },
    "executionInfo": {
     "elapsed": 33,
     "status": "ok",
     "timestamp": 1668546498513,
     "user": {
      "displayName": "Aleksandar Vakanski",
      "userId": "07675307153279708378"
     },
     "user_tz": 420
    },
    "id": "smgAPe0SGLGi",
    "outputId": "8610af08-bdfe-4861-a2c1-709bd47fd794"
   },
   "outputs": [
    {
     "name": "stdout",
     "output_type": "stream",
     "text": [
      " * sqlite://\n",
      "Done.\n"
     ]
    },
    {
     "data": {
      "text/html": [
       "<table>\n",
       "    <thead>\n",
       "        <tr>\n",
       "            <th>salary</th>\n",
       "        </tr>\n",
       "    </thead>\n",
       "    <tbody>\n",
       "        <tr>\n",
       "            <td>24000.0</td>\n",
       "        </tr>\n",
       "        <tr>\n",
       "            <td>17000.0</td>\n",
       "        </tr>\n",
       "        <tr>\n",
       "            <td>17000.0</td>\n",
       "        </tr>\n",
       "        <tr>\n",
       "            <td>14000.0</td>\n",
       "        </tr>\n",
       "        <tr>\n",
       "            <td>13500.0</td>\n",
       "        </tr>\n",
       "        <tr>\n",
       "            <td>13000.0</td>\n",
       "        </tr>\n",
       "        <tr>\n",
       "            <td>12000.0</td>\n",
       "        </tr>\n",
       "        <tr>\n",
       "            <td>12000.0</td>\n",
       "        </tr>\n",
       "        <tr>\n",
       "            <td>11000.0</td>\n",
       "        </tr>\n",
       "        <tr>\n",
       "            <td>10000.0</td>\n",
       "        </tr>\n",
       "        <tr>\n",
       "            <td>9000.0</td>\n",
       "        </tr>\n",
       "        <tr>\n",
       "            <td>9000.0</td>\n",
       "        </tr>\n",
       "        <tr>\n",
       "            <td>8600.0</td>\n",
       "        </tr>\n",
       "        <tr>\n",
       "            <td>8400.0</td>\n",
       "        </tr>\n",
       "        <tr>\n",
       "            <td>8300.0</td>\n",
       "        </tr>\n",
       "    </tbody>\n",
       "</table>"
      ],
      "text/plain": [
       "[(24000.0,),\n",
       " (17000.0,),\n",
       " (17000.0,),\n",
       " (14000.0,),\n",
       " (13500.0,),\n",
       " (13000.0,),\n",
       " (12000.0,),\n",
       " (12000.0,),\n",
       " (11000.0,),\n",
       " (10000.0,),\n",
       " (9000.0,),\n",
       " (9000.0,),\n",
       " (8600.0,),\n",
       " (8400.0,),\n",
       " (8300.0,)]"
      ]
     },
     "execution_count": 20,
     "metadata": {},
     "output_type": "execute_result"
    }
   ],
   "source": [
    "%%sql\n",
    "SELECT \n",
    "    salary \n",
    "FROM \n",
    "    employees \n",
    "ORDER BY salary DESC \n",
    "LIMIT 15;"
   ]
  },
  {
   "cell_type": "code",
   "execution_count": 21,
   "metadata": {
    "colab": {
     "base_uri": "https://localhost:8080/",
     "height": 389
    },
    "executionInfo": {
     "elapsed": 31,
     "status": "ok",
     "timestamp": 1668546498514,
     "user": {
      "displayName": "Aleksandar Vakanski",
      "userId": "07675307153279708378"
     },
     "user_tz": 420
    },
    "id": "Jk867nh7GLIf",
    "outputId": "9f901a8b-1c6d-4353-c7f0-c5a066344b86"
   },
   "outputs": [
    {
     "name": "stdout",
     "output_type": "stream",
     "text": [
      " * sqlite://\n",
      "Done.\n"
     ]
    },
    {
     "data": {
      "text/html": [
       "<table>\n",
       "    <thead>\n",
       "        <tr>\n",
       "            <th>salary</th>\n",
       "        </tr>\n",
       "    </thead>\n",
       "    <tbody>\n",
       "        <tr>\n",
       "            <td>24000.0</td>\n",
       "        </tr>\n",
       "        <tr>\n",
       "            <td>17000.0</td>\n",
       "        </tr>\n",
       "        <tr>\n",
       "            <td>14000.0</td>\n",
       "        </tr>\n",
       "        <tr>\n",
       "            <td>13500.0</td>\n",
       "        </tr>\n",
       "        <tr>\n",
       "            <td>13000.0</td>\n",
       "        </tr>\n",
       "        <tr>\n",
       "            <td>12000.0</td>\n",
       "        </tr>\n",
       "        <tr>\n",
       "            <td>11000.0</td>\n",
       "        </tr>\n",
       "        <tr>\n",
       "            <td>10000.0</td>\n",
       "        </tr>\n",
       "        <tr>\n",
       "            <td>9000.0</td>\n",
       "        </tr>\n",
       "        <tr>\n",
       "            <td>8600.0</td>\n",
       "        </tr>\n",
       "        <tr>\n",
       "            <td>8400.0</td>\n",
       "        </tr>\n",
       "        <tr>\n",
       "            <td>8300.0</td>\n",
       "        </tr>\n",
       "        <tr>\n",
       "            <td>8200.0</td>\n",
       "        </tr>\n",
       "        <tr>\n",
       "            <td>8000.0</td>\n",
       "        </tr>\n",
       "        <tr>\n",
       "            <td>7900.0</td>\n",
       "        </tr>\n",
       "    </tbody>\n",
       "</table>"
      ],
      "text/plain": [
       "[(24000.0,),\n",
       " (17000.0,),\n",
       " (14000.0,),\n",
       " (13500.0,),\n",
       " (13000.0,),\n",
       " (12000.0,),\n",
       " (11000.0,),\n",
       " (10000.0,),\n",
       " (9000.0,),\n",
       " (8600.0,),\n",
       " (8400.0,),\n",
       " (8300.0,),\n",
       " (8200.0,),\n",
       " (8000.0,),\n",
       " (7900.0,)]"
      ]
     },
     "execution_count": 21,
     "metadata": {},
     "output_type": "execute_result"
    }
   ],
   "source": [
    "%%sql \n",
    "SELECT DISTINCT \n",
    "    salary \n",
    "FROM \n",
    "    employees \n",
    "ORDER BY salary DESC\n",
    "LIMIT 15;"
   ]
  },
  {
   "cell_type": "markdown",
   "metadata": {
    "id": "T9JRPTQ9MGJI"
   },
   "source": [
    "### WHERE\n",
    "\n",
    "The `WHERE` clause filters data based on specified conditions. For instance, return only the employees that have a salary greater than a certain value."
   ]
  },
  {
   "cell_type": "code",
   "execution_count": 22,
   "metadata": {
    "colab": {
     "base_uri": "https://localhost:8080/",
     "height": 284
    },
    "executionInfo": {
     "elapsed": 28,
     "status": "ok",
     "timestamp": 1668546498514,
     "user": {
      "displayName": "Aleksandar Vakanski",
      "userId": "07675307153279708378"
     },
     "user_tz": 420
    },
    "id": "F3nnMfBxGLLY",
    "outputId": "00a3e730-cc2c-4fae-d3db-bd6e0e2a5730"
   },
   "outputs": [
    {
     "name": "stdout",
     "output_type": "stream",
     "text": [
      " * sqlite://\n",
      "Done.\n"
     ]
    },
    {
     "data": {
      "text/html": [
       "<table>\n",
       "    <thead>\n",
       "        <tr>\n",
       "            <th>employee_id</th>\n",
       "            <th>first_name</th>\n",
       "            <th>last_name</th>\n",
       "            <th>salary</th>\n",
       "        </tr>\n",
       "    </thead>\n",
       "    <tbody>\n",
       "        <tr>\n",
       "            <td>100</td>\n",
       "            <td>Steven</td>\n",
       "            <td>King</td>\n",
       "            <td>24000.0</td>\n",
       "        </tr>\n",
       "        <tr>\n",
       "            <td>101</td>\n",
       "            <td>Neena</td>\n",
       "            <td>Kochhar</td>\n",
       "            <td>17000.0</td>\n",
       "        </tr>\n",
       "        <tr>\n",
       "            <td>102</td>\n",
       "            <td>Lex</td>\n",
       "            <td>De Haan</td>\n",
       "            <td>17000.0</td>\n",
       "        </tr>\n",
       "        <tr>\n",
       "            <td>145</td>\n",
       "            <td>John</td>\n",
       "            <td>Russell</td>\n",
       "            <td>14000.0</td>\n",
       "        </tr>\n",
       "        <tr>\n",
       "            <td>146</td>\n",
       "            <td>Karen</td>\n",
       "            <td>Partners</td>\n",
       "            <td>13500.0</td>\n",
       "        </tr>\n",
       "        <tr>\n",
       "            <td>201</td>\n",
       "            <td>Michael</td>\n",
       "            <td>Hartstein</td>\n",
       "            <td>13000.0</td>\n",
       "        </tr>\n",
       "        <tr>\n",
       "            <td>108</td>\n",
       "            <td>Nancy</td>\n",
       "            <td>Greenberg</td>\n",
       "            <td>12000.0</td>\n",
       "        </tr>\n",
       "        <tr>\n",
       "            <td>205</td>\n",
       "            <td>Shelley</td>\n",
       "            <td>Higgins</td>\n",
       "            <td>12000.0</td>\n",
       "        </tr>\n",
       "        <tr>\n",
       "            <td>114</td>\n",
       "            <td>Den</td>\n",
       "            <td>Raphaely</td>\n",
       "            <td>11000.0</td>\n",
       "        </tr>\n",
       "        <tr>\n",
       "            <td>204</td>\n",
       "            <td>Hermann</td>\n",
       "            <td>Baer</td>\n",
       "            <td>10000.0</td>\n",
       "        </tr>\n",
       "    </tbody>\n",
       "</table>"
      ],
      "text/plain": [
       "[(100, 'Steven', 'King', 24000.0),\n",
       " (101, 'Neena', 'Kochhar', 17000.0),\n",
       " (102, 'Lex', 'De Haan', 17000.0),\n",
       " (145, 'John', 'Russell', 14000.0),\n",
       " (146, 'Karen', 'Partners', 13500.0),\n",
       " (201, 'Michael', 'Hartstein', 13000.0),\n",
       " (108, 'Nancy', 'Greenberg', 12000.0),\n",
       " (205, 'Shelley', 'Higgins', 12000.0),\n",
       " (114, 'Den', 'Raphaely', 11000.0),\n",
       " (204, 'Hermann', 'Baer', 10000.0)]"
      ]
     },
     "execution_count": 22,
     "metadata": {},
     "output_type": "execute_result"
    }
   ],
   "source": [
    "%%sql \n",
    "SELECT DISTINCT \n",
    "    employee_id, first_name, last_name,salary \n",
    "FROM \n",
    "    employees \n",
    "WHERE salary > 9000 \n",
    "ORDER BY salary DESC;"
   ]
  },
  {
   "cell_type": "markdown",
   "metadata": {
    "id": "ybtWARO0M9AA"
   },
   "source": [
    "Or, return the employees who work in the department 5. "
   ]
  },
  {
   "cell_type": "code",
   "execution_count": 23,
   "metadata": {
    "colab": {
     "base_uri": "https://localhost:8080/",
     "height": 221
    },
    "executionInfo": {
     "elapsed": 26,
     "status": "ok",
     "timestamp": 1668546498515,
     "user": {
      "displayName": "Aleksandar Vakanski",
      "userId": "07675307153279708378"
     },
     "user_tz": 420
    },
    "id": "neKdj-UhM6gr",
    "outputId": "1184d94d-5aa7-4b6c-f0e9-3a16a44a5310"
   },
   "outputs": [
    {
     "name": "stdout",
     "output_type": "stream",
     "text": [
      " * sqlite://\n",
      "Done.\n"
     ]
    },
    {
     "data": {
      "text/html": [
       "<table>\n",
       "    <thead>\n",
       "        <tr>\n",
       "            <th>employee_id</th>\n",
       "            <th>first_name</th>\n",
       "            <th>last_name</th>\n",
       "            <th>salary</th>\n",
       "            <th>department_id</th>\n",
       "        </tr>\n",
       "    </thead>\n",
       "    <tbody>\n",
       "        <tr>\n",
       "            <td>121</td>\n",
       "            <td>Adam</td>\n",
       "            <td>Fripp</td>\n",
       "            <td>8200.0</td>\n",
       "            <td>5</td>\n",
       "        </tr>\n",
       "        <tr>\n",
       "            <td>193</td>\n",
       "            <td>Britney</td>\n",
       "            <td>Everett</td>\n",
       "            <td>3900.0</td>\n",
       "            <td>5</td>\n",
       "        </tr>\n",
       "        <tr>\n",
       "            <td>126</td>\n",
       "            <td>Irene</td>\n",
       "            <td>Mikkilineni</td>\n",
       "            <td>2700.0</td>\n",
       "            <td>5</td>\n",
       "        </tr>\n",
       "        <tr>\n",
       "            <td>120</td>\n",
       "            <td>Matthew</td>\n",
       "            <td>Weiss</td>\n",
       "            <td>8000.0</td>\n",
       "            <td>5</td>\n",
       "        </tr>\n",
       "        <tr>\n",
       "            <td>122</td>\n",
       "            <td>Payam</td>\n",
       "            <td>Kaufling</td>\n",
       "            <td>7900.0</td>\n",
       "            <td>5</td>\n",
       "        </tr>\n",
       "        <tr>\n",
       "            <td>192</td>\n",
       "            <td>Sarah</td>\n",
       "            <td>Bell</td>\n",
       "            <td>4000.0</td>\n",
       "            <td>5</td>\n",
       "        </tr>\n",
       "        <tr>\n",
       "            <td>123</td>\n",
       "            <td>Shanta</td>\n",
       "            <td>Vollman</td>\n",
       "            <td>6500.0</td>\n",
       "            <td>5</td>\n",
       "        </tr>\n",
       "    </tbody>\n",
       "</table>"
      ],
      "text/plain": [
       "[(121, 'Adam', 'Fripp', 8200.0, 5),\n",
       " (193, 'Britney', 'Everett', 3900.0, 5),\n",
       " (126, 'Irene', 'Mikkilineni', 2700.0, 5),\n",
       " (120, 'Matthew', 'Weiss', 8000.0, 5),\n",
       " (122, 'Payam', 'Kaufling', 7900.0, 5),\n",
       " (192, 'Sarah', 'Bell', 4000.0, 5),\n",
       " (123, 'Shanta', 'Vollman', 6500.0, 5)]"
      ]
     },
     "execution_count": 23,
     "metadata": {},
     "output_type": "execute_result"
    }
   ],
   "source": [
    "%%sql \n",
    "SELECT DISTINCT \n",
    "    employee_id, first_name, last_name, salary, department_id \n",
    "FROM \n",
    "    employees \n",
    "WHERE department_id = 5 \n",
    "ORDER BY first_name;"
   ]
  },
  {
   "cell_type": "markdown",
   "metadata": {
    "id": "wNGiqy3_Ob3x"
   },
   "source": [
    "### Comparison Operators"
   ]
  },
  {
   "cell_type": "markdown",
   "metadata": {
    "id": "LbcqYkoUNufB"
   },
   "source": [
    "To specify a condition, we can use the standard comparison operators, such as `>`, `<`, `>=`, `<=`, `=`, and note that `<>` can be used for 'not equal to'."
   ]
  },
  {
   "cell_type": "code",
   "execution_count": 24,
   "metadata": {
    "colab": {
     "base_uri": "https://localhost:8080/",
     "height": 766
    },
    "executionInfo": {
     "elapsed": 22,
     "status": "ok",
     "timestamp": 1668546498515,
     "user": {
      "displayName": "Aleksandar Vakanski",
      "userId": "07675307153279708378"
     },
     "user_tz": 420
    },
    "id": "VJ4J1gf8M6kp",
    "outputId": "12e9a251-9406-4b49-feda-c36af7680673"
   },
   "outputs": [
    {
     "name": "stdout",
     "output_type": "stream",
     "text": [
      " * sqlite://\n",
      "Done.\n"
     ]
    },
    {
     "data": {
      "text/html": [
       "<table>\n",
       "    <thead>\n",
       "        <tr>\n",
       "            <th>employee_id</th>\n",
       "            <th>first_name</th>\n",
       "            <th>last_name</th>\n",
       "            <th>salary</th>\n",
       "            <th>department_id</th>\n",
       "        </tr>\n",
       "    </thead>\n",
       "    <tbody>\n",
       "        <tr>\n",
       "            <td>103</td>\n",
       "            <td>Alexander</td>\n",
       "            <td>Hunold</td>\n",
       "            <td>9000.0</td>\n",
       "            <td>6</td>\n",
       "        </tr>\n",
       "        <tr>\n",
       "            <td>115</td>\n",
       "            <td>Alexander</td>\n",
       "            <td>Khoo</td>\n",
       "            <td>3100.0</td>\n",
       "            <td>3</td>\n",
       "        </tr>\n",
       "        <tr>\n",
       "            <td>104</td>\n",
       "            <td>Bruce</td>\n",
       "            <td>Ernst</td>\n",
       "            <td>6000.0</td>\n",
       "            <td>6</td>\n",
       "        </tr>\n",
       "        <tr>\n",
       "            <td>179</td>\n",
       "            <td>Charles</td>\n",
       "            <td>Johnson</td>\n",
       "            <td>6200.0</td>\n",
       "            <td>8</td>\n",
       "        </tr>\n",
       "        <tr>\n",
       "            <td>109</td>\n",
       "            <td>Daniel</td>\n",
       "            <td>Faviet</td>\n",
       "            <td>9000.0</td>\n",
       "            <td>10</td>\n",
       "        </tr>\n",
       "        <tr>\n",
       "            <td>105</td>\n",
       "            <td>David</td>\n",
       "            <td>Austin</td>\n",
       "            <td>4800.0</td>\n",
       "            <td>6</td>\n",
       "        </tr>\n",
       "        <tr>\n",
       "            <td>114</td>\n",
       "            <td>Den</td>\n",
       "            <td>Raphaely</td>\n",
       "            <td>11000.0</td>\n",
       "            <td>3</td>\n",
       "        </tr>\n",
       "        <tr>\n",
       "            <td>107</td>\n",
       "            <td>Diana</td>\n",
       "            <td>Lorentz</td>\n",
       "            <td>4200.0</td>\n",
       "            <td>6</td>\n",
       "        </tr>\n",
       "        <tr>\n",
       "            <td>118</td>\n",
       "            <td>Guy</td>\n",
       "            <td>Himuro</td>\n",
       "            <td>2600.0</td>\n",
       "            <td>3</td>\n",
       "        </tr>\n",
       "        <tr>\n",
       "            <td>204</td>\n",
       "            <td>Hermann</td>\n",
       "            <td>Baer</td>\n",
       "            <td>10000.0</td>\n",
       "            <td>7</td>\n",
       "        </tr>\n",
       "        <tr>\n",
       "            <td>111</td>\n",
       "            <td>Ismael</td>\n",
       "            <td>Sciarra</td>\n",
       "            <td>7700.0</td>\n",
       "            <td>10</td>\n",
       "        </tr>\n",
       "        <tr>\n",
       "            <td>177</td>\n",
       "            <td>Jack</td>\n",
       "            <td>Livingston</td>\n",
       "            <td>8400.0</td>\n",
       "            <td>8</td>\n",
       "        </tr>\n",
       "        <tr>\n",
       "            <td>200</td>\n",
       "            <td>Jennifer</td>\n",
       "            <td>Whalen</td>\n",
       "            <td>4400.0</td>\n",
       "            <td>1</td>\n",
       "        </tr>\n",
       "        <tr>\n",
       "            <td>110</td>\n",
       "            <td>John</td>\n",
       "            <td>Chen</td>\n",
       "            <td>8200.0</td>\n",
       "            <td>10</td>\n",
       "        </tr>\n",
       "        <tr>\n",
       "            <td>145</td>\n",
       "            <td>John</td>\n",
       "            <td>Russell</td>\n",
       "            <td>14000.0</td>\n",
       "            <td>8</td>\n",
       "        </tr>\n",
       "        <tr>\n",
       "            <td>176</td>\n",
       "            <td>Jonathon</td>\n",
       "            <td>Taylor</td>\n",
       "            <td>8600.0</td>\n",
       "            <td>8</td>\n",
       "        </tr>\n",
       "        <tr>\n",
       "            <td>112</td>\n",
       "            <td>Jose Manuel</td>\n",
       "            <td>Urman</td>\n",
       "            <td>7800.0</td>\n",
       "            <td>10</td>\n",
       "        </tr>\n",
       "        <tr>\n",
       "            <td>119</td>\n",
       "            <td>Karen</td>\n",
       "            <td>Colmenares</td>\n",
       "            <td>2500.0</td>\n",
       "            <td>3</td>\n",
       "        </tr>\n",
       "        <tr>\n",
       "            <td>146</td>\n",
       "            <td>Karen</td>\n",
       "            <td>Partners</td>\n",
       "            <td>13500.0</td>\n",
       "            <td>8</td>\n",
       "        </tr>\n",
       "        <tr>\n",
       "            <td>178</td>\n",
       "            <td>Kimberely</td>\n",
       "            <td>Grant</td>\n",
       "            <td>7000.0</td>\n",
       "            <td>8</td>\n",
       "        </tr>\n",
       "        <tr>\n",
       "            <td>102</td>\n",
       "            <td>Lex</td>\n",
       "            <td>De Haan</td>\n",
       "            <td>17000.0</td>\n",
       "            <td>9</td>\n",
       "        </tr>\n",
       "        <tr>\n",
       "            <td>113</td>\n",
       "            <td>Luis</td>\n",
       "            <td>Popp</td>\n",
       "            <td>6900.0</td>\n",
       "            <td>10</td>\n",
       "        </tr>\n",
       "        <tr>\n",
       "            <td>201</td>\n",
       "            <td>Michael</td>\n",
       "            <td>Hartstein</td>\n",
       "            <td>13000.0</td>\n",
       "            <td>2</td>\n",
       "        </tr>\n",
       "        <tr>\n",
       "            <td>108</td>\n",
       "            <td>Nancy</td>\n",
       "            <td>Greenberg</td>\n",
       "            <td>12000.0</td>\n",
       "            <td>10</td>\n",
       "        </tr>\n",
       "        <tr>\n",
       "            <td>101</td>\n",
       "            <td>Neena</td>\n",
       "            <td>Kochhar</td>\n",
       "            <td>17000.0</td>\n",
       "            <td>9</td>\n",
       "        </tr>\n",
       "        <tr>\n",
       "            <td>202</td>\n",
       "            <td>Pat</td>\n",
       "            <td>Fay</td>\n",
       "            <td>6000.0</td>\n",
       "            <td>2</td>\n",
       "        </tr>\n",
       "        <tr>\n",
       "            <td>205</td>\n",
       "            <td>Shelley</td>\n",
       "            <td>Higgins</td>\n",
       "            <td>12000.0</td>\n",
       "            <td>11</td>\n",
       "        </tr>\n",
       "        <tr>\n",
       "            <td>116</td>\n",
       "            <td>Shelli</td>\n",
       "            <td>Baida</td>\n",
       "            <td>2900.0</td>\n",
       "            <td>3</td>\n",
       "        </tr>\n",
       "        <tr>\n",
       "            <td>117</td>\n",
       "            <td>Sigal</td>\n",
       "            <td>Tobias</td>\n",
       "            <td>2800.0</td>\n",
       "            <td>3</td>\n",
       "        </tr>\n",
       "        <tr>\n",
       "            <td>100</td>\n",
       "            <td>Steven</td>\n",
       "            <td>King</td>\n",
       "            <td>24000.0</td>\n",
       "            <td>9</td>\n",
       "        </tr>\n",
       "        <tr>\n",
       "            <td>203</td>\n",
       "            <td>Susan</td>\n",
       "            <td>Mavris</td>\n",
       "            <td>6500.0</td>\n",
       "            <td>4</td>\n",
       "        </tr>\n",
       "        <tr>\n",
       "            <td>106</td>\n",
       "            <td>Valli</td>\n",
       "            <td>Pataballa</td>\n",
       "            <td>4800.0</td>\n",
       "            <td>6</td>\n",
       "        </tr>\n",
       "        <tr>\n",
       "            <td>206</td>\n",
       "            <td>William</td>\n",
       "            <td>Gietz</td>\n",
       "            <td>8300.0</td>\n",
       "            <td>11</td>\n",
       "        </tr>\n",
       "    </tbody>\n",
       "</table>"
      ],
      "text/plain": [
       "[(103, 'Alexander', 'Hunold', 9000.0, 6),\n",
       " (115, 'Alexander', 'Khoo', 3100.0, 3),\n",
       " (104, 'Bruce', 'Ernst', 6000.0, 6),\n",
       " (179, 'Charles', 'Johnson', 6200.0, 8),\n",
       " (109, 'Daniel', 'Faviet', 9000.0, 10),\n",
       " (105, 'David', 'Austin', 4800.0, 6),\n",
       " (114, 'Den', 'Raphaely', 11000.0, 3),\n",
       " (107, 'Diana', 'Lorentz', 4200.0, 6),\n",
       " (118, 'Guy', 'Himuro', 2600.0, 3),\n",
       " (204, 'Hermann', 'Baer', 10000.0, 7),\n",
       " (111, 'Ismael', 'Sciarra', 7700.0, 10),\n",
       " (177, 'Jack', 'Livingston', 8400.0, 8),\n",
       " (200, 'Jennifer', 'Whalen', 4400.0, 1),\n",
       " (110, 'John', 'Chen', 8200.0, 10),\n",
       " (145, 'John', 'Russell', 14000.0, 8),\n",
       " (176, 'Jonathon', 'Taylor', 8600.0, 8),\n",
       " (112, 'Jose Manuel', 'Urman', 7800.0, 10),\n",
       " (119, 'Karen', 'Colmenares', 2500.0, 3),\n",
       " (146, 'Karen', 'Partners', 13500.0, 8),\n",
       " (178, 'Kimberely', 'Grant', 7000.0, 8),\n",
       " (102, 'Lex', 'De Haan', 17000.0, 9),\n",
       " (113, 'Luis', 'Popp', 6900.0, 10),\n",
       " (201, 'Michael', 'Hartstein', 13000.0, 2),\n",
       " (108, 'Nancy', 'Greenberg', 12000.0, 10),\n",
       " (101, 'Neena', 'Kochhar', 17000.0, 9),\n",
       " (202, 'Pat', 'Fay', 6000.0, 2),\n",
       " (205, 'Shelley', 'Higgins', 12000.0, 11),\n",
       " (116, 'Shelli', 'Baida', 2900.0, 3),\n",
       " (117, 'Sigal', 'Tobias', 2800.0, 3),\n",
       " (100, 'Steven', 'King', 24000.0, 9),\n",
       " (203, 'Susan', 'Mavris', 6500.0, 4),\n",
       " (106, 'Valli', 'Pataballa', 4800.0, 6),\n",
       " (206, 'William', 'Gietz', 8300.0, 11)]"
      ]
     },
     "execution_count": 24,
     "metadata": {},
     "output_type": "execute_result"
    }
   ],
   "source": [
    "%%sql \n",
    "SELECT DISTINCT \n",
    "    employee_id, first_name, last_name, salary, department_id\n",
    "FROM \n",
    "    employees \n",
    "WHERE department_id <> 5 \n",
    "ORDER BY first_name;"
   ]
  },
  {
   "cell_type": "markdown",
   "metadata": {
    "id": "VlSVddSKOe84"
   },
   "source": [
    "### Logical Operators\n",
    "\n",
    "We can also use logical operators to combine multiple conditions in the `WHERE` clause of an SQL statement. The following table contains the SQL logical operators.\n",
    "\n",
    "<img src=\"images/logical_operators.png\" width=\"600\">\n",
    "<em>Figure source: Reference [1].</em>"
   ]
  },
  {
   "cell_type": "code",
   "execution_count": 25,
   "metadata": {
    "colab": {
     "base_uri": "https://localhost:8080/",
     "height": 200
    },
    "executionInfo": {
     "elapsed": 369,
     "status": "ok",
     "timestamp": 1668546498866,
     "user": {
      "displayName": "Aleksandar Vakanski",
      "userId": "07675307153279708378"
     },
     "user_tz": 420
    },
    "id": "nUBYaYsiM6ma",
    "outputId": "373af86f-4cde-4b5e-946d-148e34dbf8e1"
   },
   "outputs": [
    {
     "name": "stdout",
     "output_type": "stream",
     "text": [
      " * sqlite://\n",
      "Done.\n"
     ]
    },
    {
     "data": {
      "text/html": [
       "<table>\n",
       "    <thead>\n",
       "        <tr>\n",
       "            <th>first_name</th>\n",
       "            <th>last_name</th>\n",
       "            <th>salary</th>\n",
       "        </tr>\n",
       "    </thead>\n",
       "    <tbody>\n",
       "        <tr>\n",
       "            <td>Bruce</td>\n",
       "            <td>Ernst</td>\n",
       "            <td>6000.0</td>\n",
       "        </tr>\n",
       "        <tr>\n",
       "            <td>Pat</td>\n",
       "            <td>Fay</td>\n",
       "            <td>6000.0</td>\n",
       "        </tr>\n",
       "        <tr>\n",
       "            <td>Charles</td>\n",
       "            <td>Johnson</td>\n",
       "            <td>6200.0</td>\n",
       "        </tr>\n",
       "        <tr>\n",
       "            <td>Shanta</td>\n",
       "            <td>Vollman</td>\n",
       "            <td>6500.0</td>\n",
       "        </tr>\n",
       "        <tr>\n",
       "            <td>Susan</td>\n",
       "            <td>Mavris</td>\n",
       "            <td>6500.0</td>\n",
       "        </tr>\n",
       "        <tr>\n",
       "            <td>Luis</td>\n",
       "            <td>Popp</td>\n",
       "            <td>6900.0</td>\n",
       "        </tr>\n",
       "    </tbody>\n",
       "</table>"
      ],
      "text/plain": [
       "[('Bruce', 'Ernst', 6000.0),\n",
       " ('Pat', 'Fay', 6000.0),\n",
       " ('Charles', 'Johnson', 6200.0),\n",
       " ('Shanta', 'Vollman', 6500.0),\n",
       " ('Susan', 'Mavris', 6500.0),\n",
       " ('Luis', 'Popp', 6900.0)]"
      ]
     },
     "execution_count": 25,
     "metadata": {},
     "output_type": "execute_result"
    }
   ],
   "source": [
    "%%sql \n",
    "SELECT \n",
    "    first_name, last_name, salary \n",
    "FROM \n",
    "    employees \n",
    "WHERE salary > 5000 AND salary < 7000 \n",
    "ORDER BY salary;"
   ]
  },
  {
   "cell_type": "code",
   "execution_count": 26,
   "metadata": {
    "colab": {
     "base_uri": "https://localhost:8080/",
     "height": 221
    },
    "executionInfo": {
     "elapsed": 59,
     "status": "ok",
     "timestamp": 1668546498866,
     "user": {
      "displayName": "Aleksandar Vakanski",
      "userId": "07675307153279708378"
     },
     "user_tz": 420
    },
    "id": "rWRZdEJNRpZo",
    "outputId": "d3a8007a-2394-4536-9890-623b785c7e42"
   },
   "outputs": [
    {
     "name": "stdout",
     "output_type": "stream",
     "text": [
      " * sqlite://\n",
      "Done.\n"
     ]
    },
    {
     "data": {
      "text/html": [
       "<table>\n",
       "    <thead>\n",
       "        <tr>\n",
       "            <th>first_name</th>\n",
       "            <th>last_name</th>\n",
       "            <th>salary</th>\n",
       "        </tr>\n",
       "    </thead>\n",
       "    <tbody>\n",
       "        <tr>\n",
       "            <td>Bruce</td>\n",
       "            <td>Ernst</td>\n",
       "            <td>6000.0</td>\n",
       "        </tr>\n",
       "        <tr>\n",
       "            <td>Pat</td>\n",
       "            <td>Fay</td>\n",
       "            <td>6000.0</td>\n",
       "        </tr>\n",
       "        <tr>\n",
       "            <td>Charles</td>\n",
       "            <td>Johnson</td>\n",
       "            <td>6200.0</td>\n",
       "        </tr>\n",
       "        <tr>\n",
       "            <td>Shanta</td>\n",
       "            <td>Vollman</td>\n",
       "            <td>6500.0</td>\n",
       "        </tr>\n",
       "        <tr>\n",
       "            <td>Susan</td>\n",
       "            <td>Mavris</td>\n",
       "            <td>6500.0</td>\n",
       "        </tr>\n",
       "        <tr>\n",
       "            <td>Luis</td>\n",
       "            <td>Popp</td>\n",
       "            <td>6900.0</td>\n",
       "        </tr>\n",
       "        <tr>\n",
       "            <td>Kimberely</td>\n",
       "            <td>Grant</td>\n",
       "            <td>7000.0</td>\n",
       "        </tr>\n",
       "    </tbody>\n",
       "</table>"
      ],
      "text/plain": [
       "[('Bruce', 'Ernst', 6000.0),\n",
       " ('Pat', 'Fay', 6000.0),\n",
       " ('Charles', 'Johnson', 6200.0),\n",
       " ('Shanta', 'Vollman', 6500.0),\n",
       " ('Susan', 'Mavris', 6500.0),\n",
       " ('Luis', 'Popp', 6900.0),\n",
       " ('Kimberely', 'Grant', 7000.0)]"
      ]
     },
     "execution_count": 26,
     "metadata": {},
     "output_type": "execute_result"
    }
   ],
   "source": [
    "%%sql\n",
    "SELECT \n",
    "    first_name, last_name, salary \n",
    "FROM \n",
    "    employees \n",
    "WHERE salary BETWEEN 5000 AND 7000 \n",
    "ORDER BY salary;"
   ]
  },
  {
   "cell_type": "code",
   "execution_count": 27,
   "metadata": {
    "colab": {
     "base_uri": "https://localhost:8080/",
     "height": 137
    },
    "executionInfo": {
     "elapsed": 57,
     "status": "ok",
     "timestamp": 1668546498867,
     "user": {
      "displayName": "Aleksandar Vakanski",
      "userId": "07675307153279708378"
     },
     "user_tz": 420
    },
    "id": "2WHcM351M6ox",
    "outputId": "73e68f06-edb1-4e35-f739-41a15659cdf8"
   },
   "outputs": [
    {
     "name": "stdout",
     "output_type": "stream",
     "text": [
      " * sqlite://\n",
      "Done.\n"
     ]
    },
    {
     "data": {
      "text/html": [
       "<table>\n",
       "    <thead>\n",
       "        <tr>\n",
       "            <th>first_name</th>\n",
       "            <th>last_name</th>\n",
       "            <th>salary</th>\n",
       "        </tr>\n",
       "    </thead>\n",
       "    <tbody>\n",
       "        <tr>\n",
       "            <td>Bruce</td>\n",
       "            <td>Ernst</td>\n",
       "            <td>6000.0</td>\n",
       "        </tr>\n",
       "        <tr>\n",
       "            <td>Pat</td>\n",
       "            <td>Fay</td>\n",
       "            <td>6000.0</td>\n",
       "        </tr>\n",
       "        <tr>\n",
       "            <td>Kimberely</td>\n",
       "            <td>Grant</td>\n",
       "            <td>7000.0</td>\n",
       "        </tr>\n",
       "    </tbody>\n",
       "</table>"
      ],
      "text/plain": [
       "[('Bruce', 'Ernst', 6000.0),\n",
       " ('Pat', 'Fay', 6000.0),\n",
       " ('Kimberely', 'Grant', 7000.0)]"
      ]
     },
     "execution_count": 27,
     "metadata": {},
     "output_type": "execute_result"
    }
   ],
   "source": [
    "%%sql \n",
    "SELECT \n",
    "    first_name, last_name, salary \n",
    "FROM \n",
    "    employees \n",
    "WHERE salary = 6000 OR salary = 7000 \n",
    "ORDER BY salary;"
   ]
  },
  {
   "cell_type": "code",
   "execution_count": 28,
   "metadata": {
    "colab": {
     "base_uri": "https://localhost:8080/",
     "height": 158
    },
    "executionInfo": {
     "elapsed": 54,
     "status": "ok",
     "timestamp": 1668546498867,
     "user": {
      "displayName": "Aleksandar Vakanski",
      "userId": "07675307153279708378"
     },
     "user_tz": 420
    },
    "id": "jkR-H_s2GLM_",
    "outputId": "9bbb7833-2ac6-43ca-ae65-5e7c0dee6feb"
   },
   "outputs": [
    {
     "name": "stdout",
     "output_type": "stream",
     "text": [
      " * sqlite://\n",
      "Done.\n"
     ]
    },
    {
     "data": {
      "text/html": [
       "<table>\n",
       "    <thead>\n",
       "        <tr>\n",
       "            <th>employee_id</th>\n",
       "            <th>first_name</th>\n",
       "            <th>last_name</th>\n",
       "        </tr>\n",
       "    </thead>\n",
       "    <tbody>\n",
       "        <tr>\n",
       "            <td>110</td>\n",
       "            <td>John</td>\n",
       "            <td>Chen</td>\n",
       "        </tr>\n",
       "        <tr>\n",
       "            <td>145</td>\n",
       "            <td>John</td>\n",
       "            <td>Russell</td>\n",
       "        </tr>\n",
       "        <tr>\n",
       "            <td>176</td>\n",
       "            <td>Jonathon</td>\n",
       "            <td>Taylor</td>\n",
       "        </tr>\n",
       "        <tr>\n",
       "            <td>112</td>\n",
       "            <td>Jose Manuel</td>\n",
       "            <td>Urman</td>\n",
       "        </tr>\n",
       "    </tbody>\n",
       "</table>"
      ],
      "text/plain": [
       "[(110, 'John', 'Chen'),\n",
       " (145, 'John', 'Russell'),\n",
       " (176, 'Jonathon', 'Taylor'),\n",
       " (112, 'Jose Manuel', 'Urman')]"
      ]
     },
     "execution_count": 28,
     "metadata": {},
     "output_type": "execute_result"
    }
   ],
   "source": [
    "%%sql \n",
    "SELECT \n",
    "    employee_id, first_name, last_name \n",
    "FROM \n",
    "    employees \n",
    "WHERE first_name LIKE 'jo%' \n",
    "ORDER BY first_name;"
   ]
  },
  {
   "cell_type": "markdown",
   "metadata": {
    "id": "GaIG3J4cbJda"
   },
   "source": [
    "## 10.8 Conditional Expressions <a name='10.8-conditional-expressions'></a>"
   ]
  },
  {
   "cell_type": "markdown",
   "metadata": {
    "id": "FLrXfGRublAp"
   },
   "source": [
    "The `CASE` expression is used to add if-then-else logic to SQL statements, which allows to evaluate a list of conditions and returns one of the possible results.\n",
    "\n",
    "In the next cell, the `CASE` expression returns the results `Low`, `Average` or `High` based on the conditions regarding the salary."
   ]
  },
  {
   "cell_type": "code",
   "execution_count": 29,
   "metadata": {
    "colab": {
     "base_uri": "https://localhost:8080/",
     "height": 389
    },
    "executionInfo": {
     "elapsed": 52,
     "status": "ok",
     "timestamp": 1668546498867,
     "user": {
      "displayName": "Aleksandar Vakanski",
      "userId": "07675307153279708378"
     },
     "user_tz": 420
    },
    "id": "nUsDyB9qGLRR",
    "outputId": "3139b973-92c1-486a-b96d-80ccad5b83a5"
   },
   "outputs": [
    {
     "name": "stdout",
     "output_type": "stream",
     "text": [
      " * sqlite://\n",
      "Done.\n"
     ]
    },
    {
     "data": {
      "text/html": [
       "<table>\n",
       "    <thead>\n",
       "        <tr>\n",
       "            <th>first_name</th>\n",
       "            <th>last_name</th>\n",
       "            <th>evaluation</th>\n",
       "        </tr>\n",
       "    </thead>\n",
       "    <tbody>\n",
       "        <tr>\n",
       "            <td>Steven</td>\n",
       "            <td>King</td>\n",
       "            <td>High</td>\n",
       "        </tr>\n",
       "        <tr>\n",
       "            <td>Neena</td>\n",
       "            <td>Kochhar</td>\n",
       "            <td>High</td>\n",
       "        </tr>\n",
       "        <tr>\n",
       "            <td>Lex</td>\n",
       "            <td>De Haan</td>\n",
       "            <td>High</td>\n",
       "        </tr>\n",
       "        <tr>\n",
       "            <td>Alexander</td>\n",
       "            <td>Hunold</td>\n",
       "            <td>High</td>\n",
       "        </tr>\n",
       "        <tr>\n",
       "            <td>Bruce</td>\n",
       "            <td>Ernst</td>\n",
       "            <td>High</td>\n",
       "        </tr>\n",
       "        <tr>\n",
       "            <td>David</td>\n",
       "            <td>Austin</td>\n",
       "            <td>Average</td>\n",
       "        </tr>\n",
       "        <tr>\n",
       "            <td>Valli</td>\n",
       "            <td>Pataballa</td>\n",
       "            <td>Average</td>\n",
       "        </tr>\n",
       "        <tr>\n",
       "            <td>Diana</td>\n",
       "            <td>Lorentz</td>\n",
       "            <td>Average</td>\n",
       "        </tr>\n",
       "        <tr>\n",
       "            <td>Nancy</td>\n",
       "            <td>Greenberg</td>\n",
       "            <td>High</td>\n",
       "        </tr>\n",
       "        <tr>\n",
       "            <td>Daniel</td>\n",
       "            <td>Faviet</td>\n",
       "            <td>High</td>\n",
       "        </tr>\n",
       "        <tr>\n",
       "            <td>John</td>\n",
       "            <td>Chen</td>\n",
       "            <td>High</td>\n",
       "        </tr>\n",
       "        <tr>\n",
       "            <td>Ismael</td>\n",
       "            <td>Sciarra</td>\n",
       "            <td>High</td>\n",
       "        </tr>\n",
       "        <tr>\n",
       "            <td>Jose Manuel</td>\n",
       "            <td>Urman</td>\n",
       "            <td>High</td>\n",
       "        </tr>\n",
       "        <tr>\n",
       "            <td>Luis</td>\n",
       "            <td>Popp</td>\n",
       "            <td>High</td>\n",
       "        </tr>\n",
       "        <tr>\n",
       "            <td>Den</td>\n",
       "            <td>Raphaely</td>\n",
       "            <td>High</td>\n",
       "        </tr>\n",
       "    </tbody>\n",
       "</table>"
      ],
      "text/plain": [
       "[('Steven', 'King', 'High'),\n",
       " ('Neena', 'Kochhar', 'High'),\n",
       " ('Lex', 'De Haan', 'High'),\n",
       " ('Alexander', 'Hunold', 'High'),\n",
       " ('Bruce', 'Ernst', 'High'),\n",
       " ('David', 'Austin', 'Average'),\n",
       " ('Valli', 'Pataballa', 'Average'),\n",
       " ('Diana', 'Lorentz', 'Average'),\n",
       " ('Nancy', 'Greenberg', 'High'),\n",
       " ('Daniel', 'Faviet', 'High'),\n",
       " ('John', 'Chen', 'High'),\n",
       " ('Ismael', 'Sciarra', 'High'),\n",
       " ('Jose Manuel', 'Urman', 'High'),\n",
       " ('Luis', 'Popp', 'High'),\n",
       " ('Den', 'Raphaely', 'High')]"
      ]
     },
     "execution_count": 29,
     "metadata": {},
     "output_type": "execute_result"
    }
   ],
   "source": [
    "%%sql \n",
    "SELECT \n",
    "    first_name, last_name, \n",
    "CASE WHEN salary < 3000 THEN 'Low' \n",
    "     WHEN salary >= 3000 AND salary <= 5000 THEN 'Average' \n",
    "     WHEN salary > 5000 THEN 'High' \n",
    "END evaluation  \n",
    "FROM employees LIMIT 15;"
   ]
  },
  {
   "cell_type": "markdown",
   "metadata": {
    "id": "7eB9fXgqc9gy"
   },
   "source": [
    "## 10.9 Joining Multiple Tables <a name='10.9-joining-multiple-tables'></a>"
   ]
  },
  {
   "cell_type": "markdown",
   "metadata": {
    "id": "YPlF-mKndx3B"
   },
   "source": [
    "SQL provides several ways to join tables, such as `INNER JOIN`, `LEFT JOIN`, `RIGHT JOIN`, `OUTER JOIN`, and others. \n",
    "\n",
    "Let's show how we can use `INNER JOIN`, where for instance, we want to retrieve the list of employees who work in departments 1, 2, and 3, and list the names of the departments. In that case, we can use the `department_id` column in the `employees` table as the foreign key column that links the employees to the `departments` table. "
   ]
  },
  {
   "cell_type": "code",
   "execution_count": 30,
   "metadata": {
    "colab": {
     "base_uri": "https://localhost:8080/",
     "height": 263
    },
    "executionInfo": {
     "elapsed": 50,
     "status": "ok",
     "timestamp": 1668546498868,
     "user": {
      "displayName": "Aleksandar Vakanski",
      "userId": "07675307153279708378"
     },
     "user_tz": 420
    },
    "id": "83UlDh2-yUlQ",
    "outputId": "df1bb096-835c-4ca1-fd57-6ebca6c25ab6"
   },
   "outputs": [
    {
     "name": "stdout",
     "output_type": "stream",
     "text": [
      " * sqlite://\n",
      "Done.\n"
     ]
    },
    {
     "data": {
      "text/html": [
       "<table>\n",
       "    <thead>\n",
       "        <tr>\n",
       "            <th>first_name</th>\n",
       "            <th>last_name</th>\n",
       "            <th>department_id</th>\n",
       "        </tr>\n",
       "    </thead>\n",
       "    <tbody>\n",
       "        <tr>\n",
       "            <td>Jennifer</td>\n",
       "            <td>Whalen</td>\n",
       "            <td>1</td>\n",
       "        </tr>\n",
       "        <tr>\n",
       "            <td>Michael</td>\n",
       "            <td>Hartstein</td>\n",
       "            <td>2</td>\n",
       "        </tr>\n",
       "        <tr>\n",
       "            <td>Pat</td>\n",
       "            <td>Fay</td>\n",
       "            <td>2</td>\n",
       "        </tr>\n",
       "        <tr>\n",
       "            <td>Den</td>\n",
       "            <td>Raphaely</td>\n",
       "            <td>3</td>\n",
       "        </tr>\n",
       "        <tr>\n",
       "            <td>Alexander</td>\n",
       "            <td>Khoo</td>\n",
       "            <td>3</td>\n",
       "        </tr>\n",
       "        <tr>\n",
       "            <td>Shelli</td>\n",
       "            <td>Baida</td>\n",
       "            <td>3</td>\n",
       "        </tr>\n",
       "        <tr>\n",
       "            <td>Sigal</td>\n",
       "            <td>Tobias</td>\n",
       "            <td>3</td>\n",
       "        </tr>\n",
       "        <tr>\n",
       "            <td>Guy</td>\n",
       "            <td>Himuro</td>\n",
       "            <td>3</td>\n",
       "        </tr>\n",
       "        <tr>\n",
       "            <td>Karen</td>\n",
       "            <td>Colmenares</td>\n",
       "            <td>3</td>\n",
       "        </tr>\n",
       "    </tbody>\n",
       "</table>"
      ],
      "text/plain": [
       "[('Jennifer', 'Whalen', 1),\n",
       " ('Michael', 'Hartstein', 2),\n",
       " ('Pat', 'Fay', 2),\n",
       " ('Den', 'Raphaely', 3),\n",
       " ('Alexander', 'Khoo', 3),\n",
       " ('Shelli', 'Baida', 3),\n",
       " ('Sigal', 'Tobias', 3),\n",
       " ('Guy', 'Himuro', 3),\n",
       " ('Karen', 'Colmenares', 3)]"
      ]
     },
     "execution_count": 30,
     "metadata": {},
     "output_type": "execute_result"
    }
   ],
   "source": [
    "%%sql \n",
    "SELECT \n",
    "    first_name, last_name, department_id \n",
    "FROM \n",
    "    employees \n",
    "WHERE department_id IN (1, 2, 3) \n",
    "ORDER BY department_id;"
   ]
  },
  {
   "cell_type": "markdown",
   "metadata": {
    "id": "DOHaywdZzKVI"
   },
   "source": [
    "We can also find the names of departments with `department_id` 1, 2, and 3. "
   ]
  },
  {
   "cell_type": "code",
   "execution_count": 31,
   "metadata": {
    "colab": {
     "base_uri": "https://localhost:8080/",
     "height": 137
    },
    "executionInfo": {
     "elapsed": 47,
     "status": "ok",
     "timestamp": 1668546498868,
     "user": {
      "displayName": "Aleksandar Vakanski",
      "userId": "07675307153279708378"
     },
     "user_tz": 420
    },
    "id": "EVESoBuzzLOQ",
    "outputId": "9eeb7184-33eb-42d1-d6ba-57d5407c15f2"
   },
   "outputs": [
    {
     "name": "stdout",
     "output_type": "stream",
     "text": [
      " * sqlite://\n",
      "Done.\n"
     ]
    },
    {
     "data": {
      "text/html": [
       "<table>\n",
       "    <thead>\n",
       "        <tr>\n",
       "            <th>department_id</th>\n",
       "            <th>department_name</th>\n",
       "        </tr>\n",
       "    </thead>\n",
       "    <tbody>\n",
       "        <tr>\n",
       "            <td>1</td>\n",
       "            <td>Administration</td>\n",
       "        </tr>\n",
       "        <tr>\n",
       "            <td>2</td>\n",
       "            <td>Marketing</td>\n",
       "        </tr>\n",
       "        <tr>\n",
       "            <td>3</td>\n",
       "            <td>Purchasing</td>\n",
       "        </tr>\n",
       "    </tbody>\n",
       "</table>"
      ],
      "text/plain": [
       "[(1, 'Administration'), (2, 'Marketing'), (3, 'Purchasing')]"
      ]
     },
     "execution_count": 31,
     "metadata": {},
     "output_type": "execute_result"
    }
   ],
   "source": [
    "%%sql \n",
    "SELECT \n",
    "    department_id, department_name \n",
    "FROM \n",
    "    departments\n",
    "WHERE department_id IN (1, 2, 3);"
   ]
  },
  {
   "cell_type": "markdown",
   "metadata": {
    "id": "DXtqPD2sznss"
   },
   "source": [
    "Next, we join the `employees` and `departments` tables, by using `INNER JOIN` by matching the `department_id` column in the two tables. For each row, if the condition `employees.department_id = departments.department_id` is satisfied, the combined row includes data from rows in both `employees` and `departments` tables in the result set."
   ]
  },
  {
   "cell_type": "code",
   "execution_count": 32,
   "metadata": {
    "colab": {
     "base_uri": "https://localhost:8080/",
     "height": 263
    },
    "executionInfo": {
     "elapsed": 46,
     "status": "ok",
     "timestamp": 1668546498869,
     "user": {
      "displayName": "Aleksandar Vakanski",
      "userId": "07675307153279708378"
     },
     "user_tz": 420
    },
    "id": "VsodnK_kbIKt",
    "outputId": "39470e2f-0551-48a1-f8de-a56c7c63eae1"
   },
   "outputs": [
    {
     "name": "stdout",
     "output_type": "stream",
     "text": [
      " * sqlite://\n",
      "Done.\n"
     ]
    },
    {
     "data": {
      "text/html": [
       "<table>\n",
       "    <thead>\n",
       "        <tr>\n",
       "            <th>first_name</th>\n",
       "            <th>last_name</th>\n",
       "            <th>department_id</th>\n",
       "            <th>department_id_1</th>\n",
       "            <th>department_name</th>\n",
       "        </tr>\n",
       "    </thead>\n",
       "    <tbody>\n",
       "        <tr>\n",
       "            <td>Jennifer</td>\n",
       "            <td>Whalen</td>\n",
       "            <td>1</td>\n",
       "            <td>1</td>\n",
       "            <td>Administration</td>\n",
       "        </tr>\n",
       "        <tr>\n",
       "            <td>Michael</td>\n",
       "            <td>Hartstein</td>\n",
       "            <td>2</td>\n",
       "            <td>2</td>\n",
       "            <td>Marketing</td>\n",
       "        </tr>\n",
       "        <tr>\n",
       "            <td>Pat</td>\n",
       "            <td>Fay</td>\n",
       "            <td>2</td>\n",
       "            <td>2</td>\n",
       "            <td>Marketing</td>\n",
       "        </tr>\n",
       "        <tr>\n",
       "            <td>Den</td>\n",
       "            <td>Raphaely</td>\n",
       "            <td>3</td>\n",
       "            <td>3</td>\n",
       "            <td>Purchasing</td>\n",
       "        </tr>\n",
       "        <tr>\n",
       "            <td>Alexander</td>\n",
       "            <td>Khoo</td>\n",
       "            <td>3</td>\n",
       "            <td>3</td>\n",
       "            <td>Purchasing</td>\n",
       "        </tr>\n",
       "        <tr>\n",
       "            <td>Shelli</td>\n",
       "            <td>Baida</td>\n",
       "            <td>3</td>\n",
       "            <td>3</td>\n",
       "            <td>Purchasing</td>\n",
       "        </tr>\n",
       "        <tr>\n",
       "            <td>Sigal</td>\n",
       "            <td>Tobias</td>\n",
       "            <td>3</td>\n",
       "            <td>3</td>\n",
       "            <td>Purchasing</td>\n",
       "        </tr>\n",
       "        <tr>\n",
       "            <td>Guy</td>\n",
       "            <td>Himuro</td>\n",
       "            <td>3</td>\n",
       "            <td>3</td>\n",
       "            <td>Purchasing</td>\n",
       "        </tr>\n",
       "        <tr>\n",
       "            <td>Karen</td>\n",
       "            <td>Colmenares</td>\n",
       "            <td>3</td>\n",
       "            <td>3</td>\n",
       "            <td>Purchasing</td>\n",
       "        </tr>\n",
       "    </tbody>\n",
       "</table>"
      ],
      "text/plain": [
       "[('Jennifer', 'Whalen', 1, 1, 'Administration'),\n",
       " ('Michael', 'Hartstein', 2, 2, 'Marketing'),\n",
       " ('Pat', 'Fay', 2, 2, 'Marketing'),\n",
       " ('Den', 'Raphaely', 3, 3, 'Purchasing'),\n",
       " ('Alexander', 'Khoo', 3, 3, 'Purchasing'),\n",
       " ('Shelli', 'Baida', 3, 3, 'Purchasing'),\n",
       " ('Sigal', 'Tobias', 3, 3, 'Purchasing'),\n",
       " ('Guy', 'Himuro', 3, 3, 'Purchasing'),\n",
       " ('Karen', 'Colmenares', 3, 3, 'Purchasing')]"
      ]
     },
     "execution_count": 32,
     "metadata": {},
     "output_type": "execute_result"
    }
   ],
   "source": [
    "%%sql\n",
    "SELECT \n",
    "    first_name, last_name, employees.department_id, departments.department_id, department_name \n",
    "FROM \n",
    "    employees \n",
    "INNER JOIN departments ON departments.department_id = employees.department_id \n",
    "WHERE employees.department_id IN (1, 2, 3);"
   ]
  },
  {
   "cell_type": "markdown",
   "metadata": {
    "id": "O5hYRZFW0wLx"
   },
   "source": [
    "## 10.10 Return Data Statistics <a name='10.10-return-data-statistics'></a>"
   ]
  },
  {
   "cell_type": "markdown",
   "metadata": {
    "id": "kZFwPAMy02ry"
   },
   "source": [
    "*Aggregate functions* in SQL take a list of values and return a single value, such as the average `AVG()`, `MIN()`, `MAX()`, `SUM()`, or `COUNT()`."
   ]
  },
  {
   "cell_type": "code",
   "execution_count": 33,
   "metadata": {
    "colab": {
     "base_uri": "https://localhost:8080/",
     "height": 95
    },
    "executionInfo": {
     "elapsed": 42,
     "status": "ok",
     "timestamp": 1668546498869,
     "user": {
      "displayName": "Aleksandar Vakanski",
      "userId": "07675307153279708378"
     },
     "user_tz": 420
    },
    "id": "rddarNqh2_7f",
    "outputId": "78c221a1-abdf-438b-8318-50633df0f154"
   },
   "outputs": [
    {
     "name": "stdout",
     "output_type": "stream",
     "text": [
      " * sqlite://\n",
      "Done.\n"
     ]
    },
    {
     "data": {
      "text/html": [
       "<table>\n",
       "    <thead>\n",
       "        <tr>\n",
       "            <th>AVG(salary)</th>\n",
       "        </tr>\n",
       "    </thead>\n",
       "    <tbody>\n",
       "        <tr>\n",
       "            <td>8060.0</td>\n",
       "        </tr>\n",
       "    </tbody>\n",
       "</table>"
      ],
      "text/plain": [
       "[(8060.0,)]"
      ]
     },
     "execution_count": 33,
     "metadata": {},
     "output_type": "execute_result"
    }
   ],
   "source": [
    "%%sql \n",
    "SELECT AVG(salary) \n",
    "FROM employees;"
   ]
  },
  {
   "cell_type": "code",
   "execution_count": 34,
   "metadata": {
    "colab": {
     "base_uri": "https://localhost:8080/",
     "height": 95
    },
    "executionInfo": {
     "elapsed": 39,
     "status": "ok",
     "timestamp": 1668546498869,
     "user": {
      "displayName": "Aleksandar Vakanski",
      "userId": "07675307153279708378"
     },
     "user_tz": 420
    },
    "id": "CQc0D-KvlSqH",
    "outputId": "aff04c02-b4c5-4727-d474-40013f61786f"
   },
   "outputs": [
    {
     "name": "stdout",
     "output_type": "stream",
     "text": [
      " * sqlite://\n",
      "Done.\n"
     ]
    },
    {
     "data": {
      "text/html": [
       "<table>\n",
       "    <thead>\n",
       "        <tr>\n",
       "            <th>MAX(salary)</th>\n",
       "        </tr>\n",
       "    </thead>\n",
       "    <tbody>\n",
       "        <tr>\n",
       "            <td>24000.0</td>\n",
       "        </tr>\n",
       "    </tbody>\n",
       "</table>"
      ],
      "text/plain": [
       "[(24000.0,)]"
      ]
     },
     "execution_count": 34,
     "metadata": {},
     "output_type": "execute_result"
    }
   ],
   "source": [
    "%%sql \n",
    "SELECT MAX(salary) \n",
    "FROM employees;"
   ]
  },
  {
   "cell_type": "code",
   "execution_count": 35,
   "metadata": {
    "colab": {
     "base_uri": "https://localhost:8080/",
     "height": 95
    },
    "executionInfo": {
     "elapsed": 38,
     "status": "ok",
     "timestamp": 1668546498870,
     "user": {
      "displayName": "Aleksandar Vakanski",
      "userId": "07675307153279708378"
     },
     "user_tz": 420
    },
    "id": "X25mN5iXlngk",
    "outputId": "67ba6402-7c71-42d2-8fc5-c947c494d461"
   },
   "outputs": [
    {
     "name": "stdout",
     "output_type": "stream",
     "text": [
      " * sqlite://\n",
      "Done.\n"
     ]
    },
    {
     "data": {
      "text/html": [
       "<table>\n",
       "    <thead>\n",
       "        <tr>\n",
       "            <th>SUM(salary)</th>\n",
       "        </tr>\n",
       "    </thead>\n",
       "    <tbody>\n",
       "        <tr>\n",
       "            <td>41200.0</td>\n",
       "        </tr>\n",
       "    </tbody>\n",
       "</table>"
      ],
      "text/plain": [
       "[(41200.0,)]"
      ]
     },
     "execution_count": 35,
     "metadata": {},
     "output_type": "execute_result"
    }
   ],
   "source": [
    "%%sql \n",
    "SELECT SUM(salary) \n",
    "FROM employees \n",
    "WHERE department_id=5;"
   ]
  },
  {
   "cell_type": "markdown",
   "metadata": {
    "id": "BdaOzPbimOv4"
   },
   "source": [
    "`COUNT` returns the number of rows in a table. It can be used by specifying a column, or it can also be used with an asterisk `*` as in the following cell."
   ]
  },
  {
   "cell_type": "code",
   "execution_count": 36,
   "metadata": {
    "colab": {
     "base_uri": "https://localhost:8080/",
     "height": 95
    },
    "executionInfo": {
     "elapsed": 36,
     "status": "ok",
     "timestamp": 1668546498870,
     "user": {
      "displayName": "Aleksandar Vakanski",
      "userId": "07675307153279708378"
     },
     "user_tz": 420
    },
    "id": "toQh7LgKl9dv",
    "outputId": "77943f0a-0f96-4017-83ee-594de81c78f1"
   },
   "outputs": [
    {
     "name": "stdout",
     "output_type": "stream",
     "text": [
      " * sqlite://\n",
      "Done.\n"
     ]
    },
    {
     "data": {
      "text/html": [
       "<table>\n",
       "    <thead>\n",
       "        <tr>\n",
       "            <th>COUNT(employee_id)</th>\n",
       "        </tr>\n",
       "    </thead>\n",
       "    <tbody>\n",
       "        <tr>\n",
       "            <td>40</td>\n",
       "        </tr>\n",
       "    </tbody>\n",
       "</table>"
      ],
      "text/plain": [
       "[(40,)]"
      ]
     },
     "execution_count": 36,
     "metadata": {},
     "output_type": "execute_result"
    }
   ],
   "source": [
    "%%sql \n",
    "SELECT COUNT(employee_id) \n",
    "FROM employees;"
   ]
  },
  {
   "cell_type": "code",
   "execution_count": 37,
   "metadata": {
    "colab": {
     "base_uri": "https://localhost:8080/",
     "height": 95
    },
    "executionInfo": {
     "elapsed": 34,
     "status": "ok",
     "timestamp": 1668546498871,
     "user": {
      "displayName": "Aleksandar Vakanski",
      "userId": "07675307153279708378"
     },
     "user_tz": 420
    },
    "id": "C2CEZSXmmf5p",
    "outputId": "20eb0696-cf9a-42ae-810f-48a72d61a9f1"
   },
   "outputs": [
    {
     "name": "stdout",
     "output_type": "stream",
     "text": [
      " * sqlite://\n",
      "Done.\n"
     ]
    },
    {
     "data": {
      "text/html": [
       "<table>\n",
       "    <thead>\n",
       "        <tr>\n",
       "            <th>COUNT(*)</th>\n",
       "        </tr>\n",
       "    </thead>\n",
       "    <tbody>\n",
       "        <tr>\n",
       "            <td>40</td>\n",
       "        </tr>\n",
       "    </tbody>\n",
       "</table>"
      ],
      "text/plain": [
       "[(40,)]"
      ]
     },
     "execution_count": 37,
     "metadata": {},
     "output_type": "execute_result"
    }
   ],
   "source": [
    "%%sql \n",
    "SELECT COUNT(*) \n",
    "FROM employees;"
   ]
  },
  {
   "cell_type": "markdown",
   "metadata": {
    "id": "o3983LmT1mrQ"
   },
   "source": [
    "## 10.11 Grouping Data <a name='10.11-grouping-data'></a>"
   ]
  },
  {
   "cell_type": "markdown",
   "metadata": {
    "id": "yGzk2k0R1wYl"
   },
   "source": [
    "`GROUP BY` allows to group rows based on values from more than one column. It is typically combined with aggregate functions, like `COUNT`, `SUM`, `AVG`, `MIN`, and `MAX`.\n",
    "\n",
    "For instance, the next cell displays the average salary of employees grouped by department. "
   ]
  },
  {
   "cell_type": "code",
   "execution_count": 38,
   "metadata": {
    "colab": {
     "base_uri": "https://localhost:8080/",
     "height": 305
    },
    "executionInfo": {
     "elapsed": 307,
     "status": "ok",
     "timestamp": 1668546499147,
     "user": {
      "displayName": "Aleksandar Vakanski",
      "userId": "07675307153279708378"
     },
     "user_tz": 420
    },
    "id": "VoHmAANV3X2s",
    "outputId": "2b2f52a3-bf57-4c24-a8c0-5401f1c3569a"
   },
   "outputs": [
    {
     "name": "stdout",
     "output_type": "stream",
     "text": [
      " * sqlite://\n",
      "Done.\n"
     ]
    },
    {
     "data": {
      "text/html": [
       "<table>\n",
       "    <thead>\n",
       "        <tr>\n",
       "            <th>department_id</th>\n",
       "            <th>AVG(salary)</th>\n",
       "        </tr>\n",
       "    </thead>\n",
       "    <tbody>\n",
       "        <tr>\n",
       "            <td>1</td>\n",
       "            <td>4400.0</td>\n",
       "        </tr>\n",
       "        <tr>\n",
       "            <td>2</td>\n",
       "            <td>9500.0</td>\n",
       "        </tr>\n",
       "        <tr>\n",
       "            <td>3</td>\n",
       "            <td>4150.0</td>\n",
       "        </tr>\n",
       "        <tr>\n",
       "            <td>4</td>\n",
       "            <td>6500.0</td>\n",
       "        </tr>\n",
       "        <tr>\n",
       "            <td>5</td>\n",
       "            <td>5885.714285714285</td>\n",
       "        </tr>\n",
       "        <tr>\n",
       "            <td>6</td>\n",
       "            <td>5760.0</td>\n",
       "        </tr>\n",
       "        <tr>\n",
       "            <td>7</td>\n",
       "            <td>10000.0</td>\n",
       "        </tr>\n",
       "        <tr>\n",
       "            <td>8</td>\n",
       "            <td>9616.666666666666</td>\n",
       "        </tr>\n",
       "        <tr>\n",
       "            <td>9</td>\n",
       "            <td>19333.333333333332</td>\n",
       "        </tr>\n",
       "        <tr>\n",
       "            <td>10</td>\n",
       "            <td>8600.0</td>\n",
       "        </tr>\n",
       "        <tr>\n",
       "            <td>11</td>\n",
       "            <td>10150.0</td>\n",
       "        </tr>\n",
       "    </tbody>\n",
       "</table>"
      ],
      "text/plain": [
       "[(1, 4400.0),\n",
       " (2, 9500.0),\n",
       " (3, 4150.0),\n",
       " (4, 6500.0),\n",
       " (5, 5885.714285714285),\n",
       " (6, 5760.0),\n",
       " (7, 10000.0),\n",
       " (8, 9616.666666666666),\n",
       " (9, 19333.333333333332),\n",
       " (10, 8600.0),\n",
       " (11, 10150.0)]"
      ]
     },
     "execution_count": 38,
     "metadata": {},
     "output_type": "execute_result"
    }
   ],
   "source": [
    "%%sql \n",
    "SELECT department_id, AVG(salary) \n",
    "FROM employees \n",
    "GROUP BY department_id;"
   ]
  },
  {
   "cell_type": "markdown",
   "metadata": {
    "id": "06iZQVKIpqp3"
   },
   "source": [
    "Similarly, the following cell displays the minimum, maximum, and average salary for each department. The code used `INNER JOIN` to retrieve the department names from the `departments` table."
   ]
  },
  {
   "cell_type": "code",
   "execution_count": 39,
   "metadata": {
    "colab": {
     "base_uri": "https://localhost:8080/",
     "height": 305
    },
    "executionInfo": {
     "elapsed": 59,
     "status": "ok",
     "timestamp": 1668546499148,
     "user": {
      "displayName": "Aleksandar Vakanski",
      "userId": "07675307153279708378"
     },
     "user_tz": 420
    },
    "id": "Z3dtqQf73icA",
    "outputId": "fb903209-ad01-4b5f-ea62-5a55b7692d1c"
   },
   "outputs": [
    {
     "name": "stdout",
     "output_type": "stream",
     "text": [
      " * sqlite://\n",
      "Done.\n"
     ]
    },
    {
     "data": {
      "text/html": [
       "<table>\n",
       "    <thead>\n",
       "        <tr>\n",
       "            <th>department_name</th>\n",
       "            <th>min_salary</th>\n",
       "            <th>max_salary</th>\n",
       "            <th>average_salary</th>\n",
       "        </tr>\n",
       "    </thead>\n",
       "    <tbody>\n",
       "        <tr>\n",
       "            <td>Accounting</td>\n",
       "            <td>8300.0</td>\n",
       "            <td>12000.0</td>\n",
       "            <td>10150.0</td>\n",
       "        </tr>\n",
       "        <tr>\n",
       "            <td>Administration</td>\n",
       "            <td>4400.0</td>\n",
       "            <td>4400.0</td>\n",
       "            <td>4400.0</td>\n",
       "        </tr>\n",
       "        <tr>\n",
       "            <td>Executive</td>\n",
       "            <td>17000.0</td>\n",
       "            <td>24000.0</td>\n",
       "            <td>19333.0</td>\n",
       "        </tr>\n",
       "        <tr>\n",
       "            <td>Finance</td>\n",
       "            <td>6900.0</td>\n",
       "            <td>12000.0</td>\n",
       "            <td>8600.0</td>\n",
       "        </tr>\n",
       "        <tr>\n",
       "            <td>Human Resources</td>\n",
       "            <td>6500.0</td>\n",
       "            <td>6500.0</td>\n",
       "            <td>6500.0</td>\n",
       "        </tr>\n",
       "        <tr>\n",
       "            <td>IT</td>\n",
       "            <td>4200.0</td>\n",
       "            <td>9000.0</td>\n",
       "            <td>5760.0</td>\n",
       "        </tr>\n",
       "        <tr>\n",
       "            <td>Marketing</td>\n",
       "            <td>6000.0</td>\n",
       "            <td>13000.0</td>\n",
       "            <td>9500.0</td>\n",
       "        </tr>\n",
       "        <tr>\n",
       "            <td>Public Relations</td>\n",
       "            <td>10000.0</td>\n",
       "            <td>10000.0</td>\n",
       "            <td>10000.0</td>\n",
       "        </tr>\n",
       "        <tr>\n",
       "            <td>Purchasing</td>\n",
       "            <td>2500.0</td>\n",
       "            <td>11000.0</td>\n",
       "            <td>4150.0</td>\n",
       "        </tr>\n",
       "        <tr>\n",
       "            <td>Sales</td>\n",
       "            <td>6200.0</td>\n",
       "            <td>14000.0</td>\n",
       "            <td>9617.0</td>\n",
       "        </tr>\n",
       "        <tr>\n",
       "            <td>Shipping</td>\n",
       "            <td>2700.0</td>\n",
       "            <td>8200.0</td>\n",
       "            <td>5886.0</td>\n",
       "        </tr>\n",
       "    </tbody>\n",
       "</table>"
      ],
      "text/plain": [
       "[('Accounting', 8300.0, 12000.0, 10150.0),\n",
       " ('Administration', 4400.0, 4400.0, 4400.0),\n",
       " ('Executive', 17000.0, 24000.0, 19333.0),\n",
       " ('Finance', 6900.0, 12000.0, 8600.0),\n",
       " ('Human Resources', 6500.0, 6500.0, 6500.0),\n",
       " ('IT', 4200.0, 9000.0, 5760.0),\n",
       " ('Marketing', 6000.0, 13000.0, 9500.0),\n",
       " ('Public Relations', 10000.0, 10000.0, 10000.0),\n",
       " ('Purchasing', 2500.0, 11000.0, 4150.0),\n",
       " ('Sales', 6200.0, 14000.0, 9617.0),\n",
       " ('Shipping', 2700.0, 8200.0, 5886.0)]"
      ]
     },
     "execution_count": 39,
     "metadata": {},
     "output_type": "execute_result"
    }
   ],
   "source": [
    "%%sql \n",
    "SELECT \n",
    "    department_name, MIN(salary) min_salary, MAX(salary) max_salary, \n",
    "    ROUND(AVG(salary)) average_salary \n",
    "FROM employees \n",
    "INNER JOIN departments ON departments.department_id = employees.department_id \n",
    "GROUP BY department_name;"
   ]
  },
  {
   "cell_type": "markdown",
   "metadata": {
    "id": "qj3ipXnJ4YXD"
   },
   "source": [
    "## 10.12 Modifying Data <a name='10.12-modifying-data'></a>"
   ]
  },
  {
   "cell_type": "markdown",
   "metadata": {
    "id": "g8cb7h4H4kMA"
   },
   "source": [
    "### INSERT\n",
    "\n",
    "`INSERT` is used to insert one or more rows into a table, and we already used it in section 24.2 when we created new tables. The general syntax is:\n",
    "\n",
    "```\n",
    "INSERT INTO table (column1, column2,...)\n",
    "VALUES (value1, value2, ...);\n",
    "```\n",
    "\n",
    "It is important to make sure that the number of values matches the number of columns, and that the value type corresponds to the data type for that column.\n",
    "\n",
    "It is also possible to insert value without specifying the columns, as in:\n",
    "\n",
    "```\n",
    "INSERT INTO table \n",
    "VALUES (value1, value2, ...);\n",
    "```\n",
    "\n",
    "For instance, to insert a new row into the `dependents` table, we can write:"
   ]
  },
  {
   "cell_type": "code",
   "execution_count": 40,
   "metadata": {
    "colab": {
     "base_uri": "https://localhost:8080/"
    },
    "executionInfo": {
     "elapsed": 56,
     "status": "ok",
     "timestamp": 1668546499148,
     "user": {
      "displayName": "Aleksandar Vakanski",
      "userId": "07675307153279708378"
     },
     "user_tz": 420
    },
    "id": "x9Psimq42__0",
    "outputId": "ef9ceee6-74eb-4571-f2a7-2f0c65765ae8"
   },
   "outputs": [
    {
     "name": "stdout",
     "output_type": "stream",
     "text": [
      " * sqlite://\n",
      "1 rows affected.\n"
     ]
    },
    {
     "data": {
      "text/plain": [
       "[]"
      ]
     },
     "execution_count": 40,
     "metadata": {},
     "output_type": "execute_result"
    }
   ],
   "source": [
    "%%sql \n",
    "INSERT INTO \n",
    "    dependents (first_name, last_name, relationship, employee_id) \n",
    "VALUES ('Dustin', 'Johnson', 'Child', 178);"
   ]
  },
  {
   "cell_type": "code",
   "execution_count": 41,
   "metadata": {
    "colab": {
     "base_uri": "https://localhost:8080/",
     "height": 724
    },
    "executionInfo": {
     "elapsed": 51,
     "status": "ok",
     "timestamp": 1668546499148,
     "user": {
      "displayName": "Aleksandar Vakanski",
      "userId": "07675307153279708378"
     },
     "user_tz": 420
    },
    "id": "Xf3a3Fyi3AEE",
    "outputId": "f7b03e0b-7ab4-44a3-d356-2fea09943d68"
   },
   "outputs": [
    {
     "name": "stdout",
     "output_type": "stream",
     "text": [
      " * sqlite://\n",
      "Done.\n"
     ]
    },
    {
     "data": {
      "text/html": [
       "<table>\n",
       "    <thead>\n",
       "        <tr>\n",
       "            <th>dependent_id</th>\n",
       "            <th>first_name</th>\n",
       "            <th>last_name</th>\n",
       "            <th>relationship</th>\n",
       "            <th>employee_id</th>\n",
       "        </tr>\n",
       "    </thead>\n",
       "    <tbody>\n",
       "        <tr>\n",
       "            <td>1</td>\n",
       "            <td>Penelope</td>\n",
       "            <td>Gietz</td>\n",
       "            <td>Child</td>\n",
       "            <td>206</td>\n",
       "        </tr>\n",
       "        <tr>\n",
       "            <td>2</td>\n",
       "            <td>Nick</td>\n",
       "            <td>Higgins</td>\n",
       "            <td>Child</td>\n",
       "            <td>205</td>\n",
       "        </tr>\n",
       "        <tr>\n",
       "            <td>3</td>\n",
       "            <td>Ed</td>\n",
       "            <td>Whalen</td>\n",
       "            <td>Child</td>\n",
       "            <td>200</td>\n",
       "        </tr>\n",
       "        <tr>\n",
       "            <td>4</td>\n",
       "            <td>Jennifer</td>\n",
       "            <td>King</td>\n",
       "            <td>Child</td>\n",
       "            <td>100</td>\n",
       "        </tr>\n",
       "        <tr>\n",
       "            <td>5</td>\n",
       "            <td>Johnny</td>\n",
       "            <td>Kochhar</td>\n",
       "            <td>Child</td>\n",
       "            <td>101</td>\n",
       "        </tr>\n",
       "        <tr>\n",
       "            <td>6</td>\n",
       "            <td>Bette</td>\n",
       "            <td>De Haan</td>\n",
       "            <td>Child</td>\n",
       "            <td>102</td>\n",
       "        </tr>\n",
       "        <tr>\n",
       "            <td>7</td>\n",
       "            <td>Grace</td>\n",
       "            <td>Faviet</td>\n",
       "            <td>Child</td>\n",
       "            <td>109</td>\n",
       "        </tr>\n",
       "        <tr>\n",
       "            <td>8</td>\n",
       "            <td>Matthew</td>\n",
       "            <td>Chen</td>\n",
       "            <td>Child</td>\n",
       "            <td>110</td>\n",
       "        </tr>\n",
       "        <tr>\n",
       "            <td>9</td>\n",
       "            <td>Joe</td>\n",
       "            <td>Sciarra</td>\n",
       "            <td>Child</td>\n",
       "            <td>111</td>\n",
       "        </tr>\n",
       "        <tr>\n",
       "            <td>10</td>\n",
       "            <td>Christian</td>\n",
       "            <td>Urman</td>\n",
       "            <td>Child</td>\n",
       "            <td>112</td>\n",
       "        </tr>\n",
       "        <tr>\n",
       "            <td>11</td>\n",
       "            <td>Zero</td>\n",
       "            <td>Popp</td>\n",
       "            <td>Child</td>\n",
       "            <td>113</td>\n",
       "        </tr>\n",
       "        <tr>\n",
       "            <td>12</td>\n",
       "            <td>Karl</td>\n",
       "            <td>Greenberg</td>\n",
       "            <td>Child</td>\n",
       "            <td>108</td>\n",
       "        </tr>\n",
       "        <tr>\n",
       "            <td>13</td>\n",
       "            <td>Uma</td>\n",
       "            <td>Mavris</td>\n",
       "            <td>Child</td>\n",
       "            <td>203</td>\n",
       "        </tr>\n",
       "        <tr>\n",
       "            <td>14</td>\n",
       "            <td>Vivien</td>\n",
       "            <td>Hunold</td>\n",
       "            <td>Child</td>\n",
       "            <td>103</td>\n",
       "        </tr>\n",
       "        <tr>\n",
       "            <td>15</td>\n",
       "            <td>Cuba</td>\n",
       "            <td>Ernst</td>\n",
       "            <td>Child</td>\n",
       "            <td>104</td>\n",
       "        </tr>\n",
       "        <tr>\n",
       "            <td>16</td>\n",
       "            <td>Fred</td>\n",
       "            <td>Austin</td>\n",
       "            <td>Child</td>\n",
       "            <td>105</td>\n",
       "        </tr>\n",
       "        <tr>\n",
       "            <td>17</td>\n",
       "            <td>Helen</td>\n",
       "            <td>Pataballa</td>\n",
       "            <td>Child</td>\n",
       "            <td>106</td>\n",
       "        </tr>\n",
       "        <tr>\n",
       "            <td>18</td>\n",
       "            <td>Dan</td>\n",
       "            <td>Lorentz</td>\n",
       "            <td>Child</td>\n",
       "            <td>107</td>\n",
       "        </tr>\n",
       "        <tr>\n",
       "            <td>19</td>\n",
       "            <td>Bob</td>\n",
       "            <td>Hartstein</td>\n",
       "            <td>Child</td>\n",
       "            <td>201</td>\n",
       "        </tr>\n",
       "        <tr>\n",
       "            <td>20</td>\n",
       "            <td>Lucille</td>\n",
       "            <td>Fay</td>\n",
       "            <td>Child</td>\n",
       "            <td>202</td>\n",
       "        </tr>\n",
       "        <tr>\n",
       "            <td>21</td>\n",
       "            <td>Kirsten</td>\n",
       "            <td>Baer</td>\n",
       "            <td>Child</td>\n",
       "            <td>204</td>\n",
       "        </tr>\n",
       "        <tr>\n",
       "            <td>22</td>\n",
       "            <td>Elvis</td>\n",
       "            <td>Khoo</td>\n",
       "            <td>Child</td>\n",
       "            <td>115</td>\n",
       "        </tr>\n",
       "        <tr>\n",
       "            <td>23</td>\n",
       "            <td>Sandra</td>\n",
       "            <td>Baida</td>\n",
       "            <td>Child</td>\n",
       "            <td>116</td>\n",
       "        </tr>\n",
       "        <tr>\n",
       "            <td>24</td>\n",
       "            <td>Cameron</td>\n",
       "            <td>Tobias</td>\n",
       "            <td>Child</td>\n",
       "            <td>117</td>\n",
       "        </tr>\n",
       "        <tr>\n",
       "            <td>25</td>\n",
       "            <td>Kevin</td>\n",
       "            <td>Himuro</td>\n",
       "            <td>Child</td>\n",
       "            <td>118</td>\n",
       "        </tr>\n",
       "        <tr>\n",
       "            <td>26</td>\n",
       "            <td>Rip</td>\n",
       "            <td>Colmenares</td>\n",
       "            <td>Child</td>\n",
       "            <td>119</td>\n",
       "        </tr>\n",
       "        <tr>\n",
       "            <td>27</td>\n",
       "            <td>Julia</td>\n",
       "            <td>Raphaely</td>\n",
       "            <td>Child</td>\n",
       "            <td>114</td>\n",
       "        </tr>\n",
       "        <tr>\n",
       "            <td>28</td>\n",
       "            <td>Woody</td>\n",
       "            <td>Russell</td>\n",
       "            <td>Child</td>\n",
       "            <td>145</td>\n",
       "        </tr>\n",
       "        <tr>\n",
       "            <td>29</td>\n",
       "            <td>Alec</td>\n",
       "            <td>Partners</td>\n",
       "            <td>Child</td>\n",
       "            <td>146</td>\n",
       "        </tr>\n",
       "        <tr>\n",
       "            <td>30</td>\n",
       "            <td>Sandra</td>\n",
       "            <td>Taylor</td>\n",
       "            <td>Child</td>\n",
       "            <td>176</td>\n",
       "        </tr>\n",
       "        <tr>\n",
       "            <td>31</td>\n",
       "            <td>Dustin</td>\n",
       "            <td>Johnson</td>\n",
       "            <td>Child</td>\n",
       "            <td>178</td>\n",
       "        </tr>\n",
       "    </tbody>\n",
       "</table>"
      ],
      "text/plain": [
       "[(1, 'Penelope', 'Gietz', 'Child', 206),\n",
       " (2, 'Nick', 'Higgins', 'Child', 205),\n",
       " (3, 'Ed', 'Whalen', 'Child', 200),\n",
       " (4, 'Jennifer', 'King', 'Child', 100),\n",
       " (5, 'Johnny', 'Kochhar', 'Child', 101),\n",
       " (6, 'Bette', 'De Haan', 'Child', 102),\n",
       " (7, 'Grace', 'Faviet', 'Child', 109),\n",
       " (8, 'Matthew', 'Chen', 'Child', 110),\n",
       " (9, 'Joe', 'Sciarra', 'Child', 111),\n",
       " (10, 'Christian', 'Urman', 'Child', 112),\n",
       " (11, 'Zero', 'Popp', 'Child', 113),\n",
       " (12, 'Karl', 'Greenberg', 'Child', 108),\n",
       " (13, 'Uma', 'Mavris', 'Child', 203),\n",
       " (14, 'Vivien', 'Hunold', 'Child', 103),\n",
       " (15, 'Cuba', 'Ernst', 'Child', 104),\n",
       " (16, 'Fred', 'Austin', 'Child', 105),\n",
       " (17, 'Helen', 'Pataballa', 'Child', 106),\n",
       " (18, 'Dan', 'Lorentz', 'Child', 107),\n",
       " (19, 'Bob', 'Hartstein', 'Child', 201),\n",
       " (20, 'Lucille', 'Fay', 'Child', 202),\n",
       " (21, 'Kirsten', 'Baer', 'Child', 204),\n",
       " (22, 'Elvis', 'Khoo', 'Child', 115),\n",
       " (23, 'Sandra', 'Baida', 'Child', 116),\n",
       " (24, 'Cameron', 'Tobias', 'Child', 117),\n",
       " (25, 'Kevin', 'Himuro', 'Child', 118),\n",
       " (26, 'Rip', 'Colmenares', 'Child', 119),\n",
       " (27, 'Julia', 'Raphaely', 'Child', 114),\n",
       " (28, 'Woody', 'Russell', 'Child', 145),\n",
       " (29, 'Alec', 'Partners', 'Child', 146),\n",
       " (30, 'Sandra', 'Taylor', 'Child', 176),\n",
       " (31, 'Dustin', 'Johnson', 'Child', 178)]"
      ]
     },
     "execution_count": 41,
     "metadata": {},
     "output_type": "execute_result"
    }
   ],
   "source": [
    "# verify the changes\n",
    "%sql SELECT * from dependents"
   ]
  },
  {
   "cell_type": "markdown",
   "metadata": {
    "id": "N9xUi0n6R9bD"
   },
   "source": [
    "### UPDATE\n",
    "\n",
    "`UPDATE` is used to update existing data in a table.\n",
    "\n",
    "For instance, to update the last name of the employee with `id=192`, we can write:"
   ]
  },
  {
   "cell_type": "code",
   "execution_count": 42,
   "metadata": {
    "colab": {
     "base_uri": "https://localhost:8080/"
    },
    "executionInfo": {
     "elapsed": 47,
     "status": "ok",
     "timestamp": 1668546499149,
     "user": {
      "displayName": "Aleksandar Vakanski",
      "userId": "07675307153279708378"
     },
     "user_tz": 420
    },
    "id": "LhFKoRKT3AHq",
    "outputId": "1bf0116b-ebde-4350-c5b8-e541f45f5740"
   },
   "outputs": [
    {
     "name": "stdout",
     "output_type": "stream",
     "text": [
      " * sqlite://\n",
      "1 rows affected.\n"
     ]
    },
    {
     "data": {
      "text/plain": [
       "[]"
      ]
     },
     "execution_count": 42,
     "metadata": {},
     "output_type": "execute_result"
    }
   ],
   "source": [
    "%%sql \n",
    "UPDATE employees \n",
    "SET last_name = 'Lopez' \n",
    "WHERE employee_id = 192;"
   ]
  },
  {
   "cell_type": "code",
   "execution_count": 43,
   "metadata": {
    "colab": {
     "base_uri": "https://localhost:8080/",
     "height": 95
    },
    "executionInfo": {
     "elapsed": 44,
     "status": "ok",
     "timestamp": 1668546499149,
     "user": {
      "displayName": "Aleksandar Vakanski",
      "userId": "07675307153279708378"
     },
     "user_tz": 420
    },
    "id": "XOsGIEm4R8fK",
    "outputId": "b869f4cb-5424-4867-c6ed-2eebeacbadc0"
   },
   "outputs": [
    {
     "name": "stdout",
     "output_type": "stream",
     "text": [
      " * sqlite://\n",
      "Done.\n"
     ]
    },
    {
     "data": {
      "text/html": [
       "<table>\n",
       "    <thead>\n",
       "        <tr>\n",
       "            <th>employee_id</th>\n",
       "            <th>first_name</th>\n",
       "            <th>last_name</th>\n",
       "        </tr>\n",
       "    </thead>\n",
       "    <tbody>\n",
       "        <tr>\n",
       "            <td>192</td>\n",
       "            <td>Sarah</td>\n",
       "            <td>Lopez</td>\n",
       "        </tr>\n",
       "    </tbody>\n",
       "</table>"
      ],
      "text/plain": [
       "[(192, 'Sarah', 'Lopez')]"
      ]
     },
     "execution_count": 43,
     "metadata": {},
     "output_type": "execute_result"
    }
   ],
   "source": [
    "# verify the update\n",
    "%sql SELECT employee_id, first_name, last_name FROM employees WHERE employee_id = 192"
   ]
  },
  {
   "cell_type": "markdown",
   "metadata": {
    "id": "jTGvcEMqVVvH"
   },
   "source": [
    "### DELETE\n",
    "\n",
    "`DELETE` is used to delete one or more rows from a table permanently."
   ]
  },
  {
   "cell_type": "code",
   "execution_count": 44,
   "metadata": {
    "colab": {
     "base_uri": "https://localhost:8080/"
    },
    "executionInfo": {
     "elapsed": 39,
     "status": "ok",
     "timestamp": 1668546499149,
     "user": {
      "displayName": "Aleksandar Vakanski",
      "userId": "07675307153279708378"
     },
     "user_tz": 420
    },
    "id": "qn4BtawLR8hW",
    "outputId": "d69632aa-83e5-4fa7-9a8b-1766b2a65e81"
   },
   "outputs": [
    {
     "name": "stdout",
     "output_type": "stream",
     "text": [
      " * sqlite://\n",
      "1 rows affected.\n"
     ]
    },
    {
     "data": {
      "text/plain": [
       "[]"
      ]
     },
     "execution_count": 44,
     "metadata": {},
     "output_type": "execute_result"
    }
   ],
   "source": [
    "%%sql \n",
    "DELETE FROM dependents \n",
    "WHERE dependent_id = 16;"
   ]
  },
  {
   "cell_type": "code",
   "execution_count": 45,
   "metadata": {
    "colab": {
     "base_uri": "https://localhost:8080/",
     "height": 703
    },
    "executionInfo": {
     "elapsed": 37,
     "status": "ok",
     "timestamp": 1668546499150,
     "user": {
      "displayName": "Aleksandar Vakanski",
      "userId": "07675307153279708378"
     },
     "user_tz": 420
    },
    "id": "Q9-VzVVnR8jF",
    "outputId": "f4d7e8b3-7717-4a28-96da-888c6100092b"
   },
   "outputs": [
    {
     "name": "stdout",
     "output_type": "stream",
     "text": [
      " * sqlite://\n",
      "Done.\n"
     ]
    },
    {
     "data": {
      "text/html": [
       "<table>\n",
       "    <thead>\n",
       "        <tr>\n",
       "            <th>dependent_id</th>\n",
       "            <th>first_name</th>\n",
       "            <th>last_name</th>\n",
       "            <th>relationship</th>\n",
       "            <th>employee_id</th>\n",
       "        </tr>\n",
       "    </thead>\n",
       "    <tbody>\n",
       "        <tr>\n",
       "            <td>1</td>\n",
       "            <td>Penelope</td>\n",
       "            <td>Gietz</td>\n",
       "            <td>Child</td>\n",
       "            <td>206</td>\n",
       "        </tr>\n",
       "        <tr>\n",
       "            <td>2</td>\n",
       "            <td>Nick</td>\n",
       "            <td>Higgins</td>\n",
       "            <td>Child</td>\n",
       "            <td>205</td>\n",
       "        </tr>\n",
       "        <tr>\n",
       "            <td>3</td>\n",
       "            <td>Ed</td>\n",
       "            <td>Whalen</td>\n",
       "            <td>Child</td>\n",
       "            <td>200</td>\n",
       "        </tr>\n",
       "        <tr>\n",
       "            <td>4</td>\n",
       "            <td>Jennifer</td>\n",
       "            <td>King</td>\n",
       "            <td>Child</td>\n",
       "            <td>100</td>\n",
       "        </tr>\n",
       "        <tr>\n",
       "            <td>5</td>\n",
       "            <td>Johnny</td>\n",
       "            <td>Kochhar</td>\n",
       "            <td>Child</td>\n",
       "            <td>101</td>\n",
       "        </tr>\n",
       "        <tr>\n",
       "            <td>6</td>\n",
       "            <td>Bette</td>\n",
       "            <td>De Haan</td>\n",
       "            <td>Child</td>\n",
       "            <td>102</td>\n",
       "        </tr>\n",
       "        <tr>\n",
       "            <td>7</td>\n",
       "            <td>Grace</td>\n",
       "            <td>Faviet</td>\n",
       "            <td>Child</td>\n",
       "            <td>109</td>\n",
       "        </tr>\n",
       "        <tr>\n",
       "            <td>8</td>\n",
       "            <td>Matthew</td>\n",
       "            <td>Chen</td>\n",
       "            <td>Child</td>\n",
       "            <td>110</td>\n",
       "        </tr>\n",
       "        <tr>\n",
       "            <td>9</td>\n",
       "            <td>Joe</td>\n",
       "            <td>Sciarra</td>\n",
       "            <td>Child</td>\n",
       "            <td>111</td>\n",
       "        </tr>\n",
       "        <tr>\n",
       "            <td>10</td>\n",
       "            <td>Christian</td>\n",
       "            <td>Urman</td>\n",
       "            <td>Child</td>\n",
       "            <td>112</td>\n",
       "        </tr>\n",
       "        <tr>\n",
       "            <td>11</td>\n",
       "            <td>Zero</td>\n",
       "            <td>Popp</td>\n",
       "            <td>Child</td>\n",
       "            <td>113</td>\n",
       "        </tr>\n",
       "        <tr>\n",
       "            <td>12</td>\n",
       "            <td>Karl</td>\n",
       "            <td>Greenberg</td>\n",
       "            <td>Child</td>\n",
       "            <td>108</td>\n",
       "        </tr>\n",
       "        <tr>\n",
       "            <td>13</td>\n",
       "            <td>Uma</td>\n",
       "            <td>Mavris</td>\n",
       "            <td>Child</td>\n",
       "            <td>203</td>\n",
       "        </tr>\n",
       "        <tr>\n",
       "            <td>14</td>\n",
       "            <td>Vivien</td>\n",
       "            <td>Hunold</td>\n",
       "            <td>Child</td>\n",
       "            <td>103</td>\n",
       "        </tr>\n",
       "        <tr>\n",
       "            <td>15</td>\n",
       "            <td>Cuba</td>\n",
       "            <td>Ernst</td>\n",
       "            <td>Child</td>\n",
       "            <td>104</td>\n",
       "        </tr>\n",
       "        <tr>\n",
       "            <td>17</td>\n",
       "            <td>Helen</td>\n",
       "            <td>Pataballa</td>\n",
       "            <td>Child</td>\n",
       "            <td>106</td>\n",
       "        </tr>\n",
       "        <tr>\n",
       "            <td>18</td>\n",
       "            <td>Dan</td>\n",
       "            <td>Lorentz</td>\n",
       "            <td>Child</td>\n",
       "            <td>107</td>\n",
       "        </tr>\n",
       "        <tr>\n",
       "            <td>19</td>\n",
       "            <td>Bob</td>\n",
       "            <td>Hartstein</td>\n",
       "            <td>Child</td>\n",
       "            <td>201</td>\n",
       "        </tr>\n",
       "        <tr>\n",
       "            <td>20</td>\n",
       "            <td>Lucille</td>\n",
       "            <td>Fay</td>\n",
       "            <td>Child</td>\n",
       "            <td>202</td>\n",
       "        </tr>\n",
       "        <tr>\n",
       "            <td>21</td>\n",
       "            <td>Kirsten</td>\n",
       "            <td>Baer</td>\n",
       "            <td>Child</td>\n",
       "            <td>204</td>\n",
       "        </tr>\n",
       "        <tr>\n",
       "            <td>22</td>\n",
       "            <td>Elvis</td>\n",
       "            <td>Khoo</td>\n",
       "            <td>Child</td>\n",
       "            <td>115</td>\n",
       "        </tr>\n",
       "        <tr>\n",
       "            <td>23</td>\n",
       "            <td>Sandra</td>\n",
       "            <td>Baida</td>\n",
       "            <td>Child</td>\n",
       "            <td>116</td>\n",
       "        </tr>\n",
       "        <tr>\n",
       "            <td>24</td>\n",
       "            <td>Cameron</td>\n",
       "            <td>Tobias</td>\n",
       "            <td>Child</td>\n",
       "            <td>117</td>\n",
       "        </tr>\n",
       "        <tr>\n",
       "            <td>25</td>\n",
       "            <td>Kevin</td>\n",
       "            <td>Himuro</td>\n",
       "            <td>Child</td>\n",
       "            <td>118</td>\n",
       "        </tr>\n",
       "        <tr>\n",
       "            <td>26</td>\n",
       "            <td>Rip</td>\n",
       "            <td>Colmenares</td>\n",
       "            <td>Child</td>\n",
       "            <td>119</td>\n",
       "        </tr>\n",
       "        <tr>\n",
       "            <td>27</td>\n",
       "            <td>Julia</td>\n",
       "            <td>Raphaely</td>\n",
       "            <td>Child</td>\n",
       "            <td>114</td>\n",
       "        </tr>\n",
       "        <tr>\n",
       "            <td>28</td>\n",
       "            <td>Woody</td>\n",
       "            <td>Russell</td>\n",
       "            <td>Child</td>\n",
       "            <td>145</td>\n",
       "        </tr>\n",
       "        <tr>\n",
       "            <td>29</td>\n",
       "            <td>Alec</td>\n",
       "            <td>Partners</td>\n",
       "            <td>Child</td>\n",
       "            <td>146</td>\n",
       "        </tr>\n",
       "        <tr>\n",
       "            <td>30</td>\n",
       "            <td>Sandra</td>\n",
       "            <td>Taylor</td>\n",
       "            <td>Child</td>\n",
       "            <td>176</td>\n",
       "        </tr>\n",
       "        <tr>\n",
       "            <td>31</td>\n",
       "            <td>Dustin</td>\n",
       "            <td>Johnson</td>\n",
       "            <td>Child</td>\n",
       "            <td>178</td>\n",
       "        </tr>\n",
       "    </tbody>\n",
       "</table>"
      ],
      "text/plain": [
       "[(1, 'Penelope', 'Gietz', 'Child', 206),\n",
       " (2, 'Nick', 'Higgins', 'Child', 205),\n",
       " (3, 'Ed', 'Whalen', 'Child', 200),\n",
       " (4, 'Jennifer', 'King', 'Child', 100),\n",
       " (5, 'Johnny', 'Kochhar', 'Child', 101),\n",
       " (6, 'Bette', 'De Haan', 'Child', 102),\n",
       " (7, 'Grace', 'Faviet', 'Child', 109),\n",
       " (8, 'Matthew', 'Chen', 'Child', 110),\n",
       " (9, 'Joe', 'Sciarra', 'Child', 111),\n",
       " (10, 'Christian', 'Urman', 'Child', 112),\n",
       " (11, 'Zero', 'Popp', 'Child', 113),\n",
       " (12, 'Karl', 'Greenberg', 'Child', 108),\n",
       " (13, 'Uma', 'Mavris', 'Child', 203),\n",
       " (14, 'Vivien', 'Hunold', 'Child', 103),\n",
       " (15, 'Cuba', 'Ernst', 'Child', 104),\n",
       " (17, 'Helen', 'Pataballa', 'Child', 106),\n",
       " (18, 'Dan', 'Lorentz', 'Child', 107),\n",
       " (19, 'Bob', 'Hartstein', 'Child', 201),\n",
       " (20, 'Lucille', 'Fay', 'Child', 202),\n",
       " (21, 'Kirsten', 'Baer', 'Child', 204),\n",
       " (22, 'Elvis', 'Khoo', 'Child', 115),\n",
       " (23, 'Sandra', 'Baida', 'Child', 116),\n",
       " (24, 'Cameron', 'Tobias', 'Child', 117),\n",
       " (25, 'Kevin', 'Himuro', 'Child', 118),\n",
       " (26, 'Rip', 'Colmenares', 'Child', 119),\n",
       " (27, 'Julia', 'Raphaely', 'Child', 114),\n",
       " (28, 'Woody', 'Russell', 'Child', 145),\n",
       " (29, 'Alec', 'Partners', 'Child', 146),\n",
       " (30, 'Sandra', 'Taylor', 'Child', 176),\n",
       " (31, 'Dustin', 'Johnson', 'Child', 178)]"
      ]
     },
     "execution_count": 45,
     "metadata": {},
     "output_type": "execute_result"
    }
   ],
   "source": [
    "# verify the changes\n",
    "\n",
    "%sql SELECT * from dependents"
   ]
  },
  {
   "cell_type": "markdown",
   "metadata": {
    "id": "OODNmYu4WuW5"
   },
   "source": [
    "## 10.13 Working with Tables <a name='10.13-working-with-tables'></a>"
   ]
  },
  {
   "cell_type": "markdown",
   "metadata": {
    "id": "pS0QOM6wWzZv"
   },
   "source": [
    "In section 24.2 we learned how to use the `CREATE TABLE` statement. Several other related SQL statements are described next."
   ]
  },
  {
   "cell_type": "markdown",
   "metadata": {
    "id": "6pfjgZjccVav"
   },
   "source": [
    "### ALTER TABLE\n",
    "\n",
    "`ALTER TABLE` allows to add new columns in an existing table, remove columns in a table, or modify attributes of a column (primary key, default value, etc.)."
   ]
  },
  {
   "cell_type": "code",
   "execution_count": 46,
   "metadata": {
    "colab": {
     "base_uri": "https://localhost:8080/"
    },
    "executionInfo": {
     "elapsed": 33,
     "status": "ok",
     "timestamp": 1668546499150,
     "user": {
      "displayName": "Aleksandar Vakanski",
      "userId": "07675307153279708378"
     },
     "user_tz": 420
    },
    "id": "dffE_UQGR8ld",
    "outputId": "f172bab9-4605-45cb-8ee2-706dc3993eab"
   },
   "outputs": [
    {
     "name": "stdout",
     "output_type": "stream",
     "text": [
      " * sqlite://\n",
      "Done.\n"
     ]
    },
    {
     "data": {
      "text/plain": [
       "[]"
      ]
     },
     "execution_count": 46,
     "metadata": {},
     "output_type": "execute_result"
    }
   ],
   "source": [
    "%%sql \n",
    "ALTER TABLE cars \n",
    "ADD mileage INT;"
   ]
  },
  {
   "cell_type": "code",
   "execution_count": 47,
   "metadata": {
    "colab": {
     "base_uri": "https://localhost:8080/",
     "height": 242
    },
    "executionInfo": {
     "elapsed": 29,
     "status": "ok",
     "timestamp": 1668546499150,
     "user": {
      "displayName": "Aleksandar Vakanski",
      "userId": "07675307153279708378"
     },
     "user_tz": 420
    },
    "id": "2pnoaLoydBHu",
    "outputId": "f252596e-12d9-466c-b633-aaae79d04f92"
   },
   "outputs": [
    {
     "name": "stdout",
     "output_type": "stream",
     "text": [
      " * sqlite://\n",
      "Done.\n"
     ]
    },
    {
     "data": {
      "text/html": [
       "<table>\n",
       "    <thead>\n",
       "        <tr>\n",
       "            <th>id</th>\n",
       "            <th>name</th>\n",
       "            <th>price</th>\n",
       "            <th>mileage</th>\n",
       "        </tr>\n",
       "    </thead>\n",
       "    <tbody>\n",
       "        <tr>\n",
       "            <td>1</td>\n",
       "            <td>Audi</td>\n",
       "            <td>52642</td>\n",
       "            <td>None</td>\n",
       "        </tr>\n",
       "        <tr>\n",
       "            <td>2</td>\n",
       "            <td>Mercedes</td>\n",
       "            <td>57127</td>\n",
       "            <td>None</td>\n",
       "        </tr>\n",
       "        <tr>\n",
       "            <td>3</td>\n",
       "            <td>Skoda</td>\n",
       "            <td>9000</td>\n",
       "            <td>None</td>\n",
       "        </tr>\n",
       "        <tr>\n",
       "            <td>4</td>\n",
       "            <td>Volvo</td>\n",
       "            <td>29000</td>\n",
       "            <td>None</td>\n",
       "        </tr>\n",
       "        <tr>\n",
       "            <td>5</td>\n",
       "            <td>Bentley</td>\n",
       "            <td>350000</td>\n",
       "            <td>None</td>\n",
       "        </tr>\n",
       "        <tr>\n",
       "            <td>6</td>\n",
       "            <td>Citroen</td>\n",
       "            <td>21000</td>\n",
       "            <td>None</td>\n",
       "        </tr>\n",
       "        <tr>\n",
       "            <td>7</td>\n",
       "            <td>Hummer</td>\n",
       "            <td>41400</td>\n",
       "            <td>None</td>\n",
       "        </tr>\n",
       "        <tr>\n",
       "            <td>8</td>\n",
       "            <td>Volkswagen</td>\n",
       "            <td>21600</td>\n",
       "            <td>None</td>\n",
       "        </tr>\n",
       "    </tbody>\n",
       "</table>"
      ],
      "text/plain": [
       "[(1, 'Audi', 52642, None),\n",
       " (2, 'Mercedes', 57127, None),\n",
       " (3, 'Skoda', 9000, None),\n",
       " (4, 'Volvo', 29000, None),\n",
       " (5, 'Bentley', 350000, None),\n",
       " (6, 'Citroen', 21000, None),\n",
       " (7, 'Hummer', 41400, None),\n",
       " (8, 'Volkswagen', 21600, None)]"
      ]
     },
     "execution_count": 47,
     "metadata": {},
     "output_type": "execute_result"
    }
   ],
   "source": [
    "%sql SELECT * FROM cars"
   ]
  },
  {
   "cell_type": "markdown",
   "metadata": {
    "id": "VcUkklqeeVaO"
   },
   "source": [
    "### DROP TABLE\n",
    "\n",
    "`DROP TABLE` removes a table from a database.  "
   ]
  },
  {
   "cell_type": "code",
   "execution_count": 48,
   "metadata": {
    "colab": {
     "base_uri": "https://localhost:8080/"
    },
    "executionInfo": {
     "elapsed": 25,
     "status": "ok",
     "timestamp": 1668546499151,
     "user": {
      "displayName": "Aleksandar Vakanski",
      "userId": "07675307153279708378"
     },
     "user_tz": 420
    },
    "id": "9LB_u2XyR8o2",
    "outputId": "d840cf0f-2965-410d-85b2-7dbb4ea6a5ac"
   },
   "outputs": [
    {
     "name": "stdout",
     "output_type": "stream",
     "text": [
      " * sqlite://\n",
      "Done.\n"
     ]
    },
    {
     "data": {
      "text/plain": [
       "[]"
      ]
     },
     "execution_count": 48,
     "metadata": {},
     "output_type": "execute_result"
    }
   ],
   "source": [
    "%sql DROP TABLE cars;"
   ]
  },
  {
   "cell_type": "code",
   "execution_count": 49,
   "metadata": {
    "colab": {
     "base_uri": "https://localhost:8080/",
     "height": 263
    },
    "executionInfo": {
     "elapsed": 256,
     "status": "ok",
     "timestamp": 1668546499386,
     "user": {
      "displayName": "Aleksandar Vakanski",
      "userId": "07675307153279708378"
     },
     "user_tz": 420
    },
    "id": "y3n8EHhwbIXI",
    "outputId": "1e7d29f0-01eb-4661-e7e9-a634be774cc9"
   },
   "outputs": [
    {
     "name": "stdout",
     "output_type": "stream",
     "text": [
      " * sqlite://\n",
      "Done.\n"
     ]
    },
    {
     "data": {
      "text/html": [
       "<table>\n",
       "    <thead>\n",
       "        <tr>\n",
       "            <th>name</th>\n",
       "        </tr>\n",
       "    </thead>\n",
       "    <tbody>\n",
       "        <tr>\n",
       "            <td>writer</td>\n",
       "        </tr>\n",
       "        <tr>\n",
       "            <td>regions</td>\n",
       "        </tr>\n",
       "        <tr>\n",
       "            <td>sqlite_sequence</td>\n",
       "        </tr>\n",
       "        <tr>\n",
       "            <td>countries</td>\n",
       "        </tr>\n",
       "        <tr>\n",
       "            <td>locations</td>\n",
       "        </tr>\n",
       "        <tr>\n",
       "            <td>departments</td>\n",
       "        </tr>\n",
       "        <tr>\n",
       "            <td>jobs</td>\n",
       "        </tr>\n",
       "        <tr>\n",
       "            <td>employees</td>\n",
       "        </tr>\n",
       "        <tr>\n",
       "            <td>dependents</td>\n",
       "        </tr>\n",
       "    </tbody>\n",
       "</table>"
      ],
      "text/plain": [
       "[('writer',),\n",
       " ('regions',),\n",
       " ('sqlite_sequence',),\n",
       " ('countries',),\n",
       " ('locations',),\n",
       " ('departments',),\n",
       " ('jobs',),\n",
       " ('employees',),\n",
       " ('dependents',)]"
      ]
     },
     "execution_count": 49,
     "metadata": {},
     "output_type": "execute_result"
    }
   ],
   "source": [
    "# verfiy the change\n",
    "%sql SELECT name FROM sqlite_master WHERE type='table'"
   ]
  },
  {
   "cell_type": "markdown",
   "metadata": {
    "id": "GiYZE-B7j3Ap"
   },
   "source": [
    "## 10.14 Constraints <a name='10.14-constraints'></a>\n",
    "\n",
    "Constraints enforce restrictions on the data that a column can contain or impose other related restrictions. So far, we described some of the constraints used in SQL databases, such as:\n",
    "\n",
    "- `PRIMARY KEY`, defines a primary key for a table.\n",
    "- `NOT NULL`, ensures that values are inserted in a column.\n",
    "- `UNIQUE`, ensures that each row in a column has unique values. \n",
    "\n",
    "### FOREIGN KEY\n",
    "\n",
    "Beside the primary key, some tables also define a **foreign key**. This is a column or a group of columns that enforces a link between the data in two tables. In a foreign key reference, the primary key column of the first table is referenced by the column of the second table, and the column of the second table becomes the foreign key. \n",
    "\n",
    "For instance, the `countries` table has `country_id` column as a primary key, and `region_id` column as a foreign key. This column points to the `region_id` column in the `regions` table"
   ]
  },
  {
   "cell_type": "code",
   "execution_count": 50,
   "metadata": {
    "colab": {
     "base_uri": "https://localhost:8080/",
     "height": 598
    },
    "executionInfo": {
     "elapsed": 19,
     "status": "ok",
     "timestamp": 1668546499386,
     "user": {
      "displayName": "Aleksandar Vakanski",
      "userId": "07675307153279708378"
     },
     "user_tz": 420
    },
    "id": "7CTqIambeqrU",
    "outputId": "ee6a2359-ed15-4107-b04a-ef7371fbba15"
   },
   "outputs": [
    {
     "name": "stdout",
     "output_type": "stream",
     "text": [
      " * sqlite://\n",
      "Done.\n"
     ]
    },
    {
     "data": {
      "text/html": [
       "<table>\n",
       "    <thead>\n",
       "        <tr>\n",
       "            <th>country_id</th>\n",
       "            <th>country_name</th>\n",
       "            <th>region_id</th>\n",
       "        </tr>\n",
       "    </thead>\n",
       "    <tbody>\n",
       "        <tr>\n",
       "            <td>AR</td>\n",
       "            <td>Argentina</td>\n",
       "            <td>2</td>\n",
       "        </tr>\n",
       "        <tr>\n",
       "            <td>AU</td>\n",
       "            <td>Australia</td>\n",
       "            <td>3</td>\n",
       "        </tr>\n",
       "        <tr>\n",
       "            <td>BE</td>\n",
       "            <td>Belgium</td>\n",
       "            <td>1</td>\n",
       "        </tr>\n",
       "        <tr>\n",
       "            <td>BR</td>\n",
       "            <td>Brazil</td>\n",
       "            <td>2</td>\n",
       "        </tr>\n",
       "        <tr>\n",
       "            <td>CA</td>\n",
       "            <td>Canada</td>\n",
       "            <td>2</td>\n",
       "        </tr>\n",
       "        <tr>\n",
       "            <td>CH</td>\n",
       "            <td>Switzerland</td>\n",
       "            <td>1</td>\n",
       "        </tr>\n",
       "        <tr>\n",
       "            <td>CN</td>\n",
       "            <td>China</td>\n",
       "            <td>3</td>\n",
       "        </tr>\n",
       "        <tr>\n",
       "            <td>DE</td>\n",
       "            <td>Germany</td>\n",
       "            <td>1</td>\n",
       "        </tr>\n",
       "        <tr>\n",
       "            <td>DK</td>\n",
       "            <td>Denmark</td>\n",
       "            <td>1</td>\n",
       "        </tr>\n",
       "        <tr>\n",
       "            <td>EG</td>\n",
       "            <td>Egypt</td>\n",
       "            <td>4</td>\n",
       "        </tr>\n",
       "        <tr>\n",
       "            <td>FR</td>\n",
       "            <td>France</td>\n",
       "            <td>1</td>\n",
       "        </tr>\n",
       "        <tr>\n",
       "            <td>HK</td>\n",
       "            <td>HongKong</td>\n",
       "            <td>3</td>\n",
       "        </tr>\n",
       "        <tr>\n",
       "            <td>IL</td>\n",
       "            <td>Israel</td>\n",
       "            <td>4</td>\n",
       "        </tr>\n",
       "        <tr>\n",
       "            <td>IN</td>\n",
       "            <td>India</td>\n",
       "            <td>3</td>\n",
       "        </tr>\n",
       "        <tr>\n",
       "            <td>IT</td>\n",
       "            <td>Italy</td>\n",
       "            <td>1</td>\n",
       "        </tr>\n",
       "        <tr>\n",
       "            <td>JP</td>\n",
       "            <td>Japan</td>\n",
       "            <td>3</td>\n",
       "        </tr>\n",
       "        <tr>\n",
       "            <td>KW</td>\n",
       "            <td>Kuwait</td>\n",
       "            <td>4</td>\n",
       "        </tr>\n",
       "        <tr>\n",
       "            <td>MX</td>\n",
       "            <td>Mexico</td>\n",
       "            <td>2</td>\n",
       "        </tr>\n",
       "        <tr>\n",
       "            <td>NG</td>\n",
       "            <td>Nigeria</td>\n",
       "            <td>4</td>\n",
       "        </tr>\n",
       "        <tr>\n",
       "            <td>NL</td>\n",
       "            <td>Netherlands</td>\n",
       "            <td>1</td>\n",
       "        </tr>\n",
       "        <tr>\n",
       "            <td>SG</td>\n",
       "            <td>Singapore</td>\n",
       "            <td>3</td>\n",
       "        </tr>\n",
       "        <tr>\n",
       "            <td>UK</td>\n",
       "            <td>United Kingdom</td>\n",
       "            <td>1</td>\n",
       "        </tr>\n",
       "        <tr>\n",
       "            <td>US</td>\n",
       "            <td>United States of America</td>\n",
       "            <td>2</td>\n",
       "        </tr>\n",
       "        <tr>\n",
       "            <td>ZM</td>\n",
       "            <td>Zambia</td>\n",
       "            <td>4</td>\n",
       "        </tr>\n",
       "        <tr>\n",
       "            <td>ZW</td>\n",
       "            <td>Zimbabwe</td>\n",
       "            <td>4</td>\n",
       "        </tr>\n",
       "    </tbody>\n",
       "</table>"
      ],
      "text/plain": [
       "[('AR', 'Argentina', 2),\n",
       " ('AU', 'Australia', 3),\n",
       " ('BE', 'Belgium', 1),\n",
       " ('BR', 'Brazil', 2),\n",
       " ('CA', 'Canada', 2),\n",
       " ('CH', 'Switzerland', 1),\n",
       " ('CN', 'China', 3),\n",
       " ('DE', 'Germany', 1),\n",
       " ('DK', 'Denmark', 1),\n",
       " ('EG', 'Egypt', 4),\n",
       " ('FR', 'France', 1),\n",
       " ('HK', 'HongKong', 3),\n",
       " ('IL', 'Israel', 4),\n",
       " ('IN', 'India', 3),\n",
       " ('IT', 'Italy', 1),\n",
       " ('JP', 'Japan', 3),\n",
       " ('KW', 'Kuwait', 4),\n",
       " ('MX', 'Mexico', 2),\n",
       " ('NG', 'Nigeria', 4),\n",
       " ('NL', 'Netherlands', 1),\n",
       " ('SG', 'Singapore', 3),\n",
       " ('UK', 'United Kingdom', 1),\n",
       " ('US', 'United States of America', 2),\n",
       " ('ZM', 'Zambia', 4),\n",
       " ('ZW', 'Zimbabwe', 4)]"
      ]
     },
     "execution_count": 50,
     "metadata": {},
     "output_type": "execute_result"
    }
   ],
   "source": [
    "%sql SELECT * from countries"
   ]
  },
  {
   "cell_type": "code",
   "execution_count": 51,
   "metadata": {
    "colab": {
     "base_uri": "https://localhost:8080/",
     "height": 158
    },
    "executionInfo": {
     "elapsed": 18,
     "status": "ok",
     "timestamp": 1668546499387,
     "user": {
      "displayName": "Aleksandar Vakanski",
      "userId": "07675307153279708378"
     },
     "user_tz": 420
    },
    "id": "-2HzN3dGeqvp",
    "outputId": "3de03f86-3b30-474b-b426-104504091b87"
   },
   "outputs": [
    {
     "name": "stdout",
     "output_type": "stream",
     "text": [
      " * sqlite://\n",
      "Done.\n"
     ]
    },
    {
     "data": {
      "text/html": [
       "<table>\n",
       "    <thead>\n",
       "        <tr>\n",
       "            <th>region_id</th>\n",
       "            <th>region_name</th>\n",
       "        </tr>\n",
       "    </thead>\n",
       "    <tbody>\n",
       "        <tr>\n",
       "            <td>1</td>\n",
       "            <td>Europe</td>\n",
       "        </tr>\n",
       "        <tr>\n",
       "            <td>2</td>\n",
       "            <td>Americas</td>\n",
       "        </tr>\n",
       "        <tr>\n",
       "            <td>3</td>\n",
       "            <td>Asia</td>\n",
       "        </tr>\n",
       "        <tr>\n",
       "            <td>4</td>\n",
       "            <td>Middle East and Africa</td>\n",
       "        </tr>\n",
       "    </tbody>\n",
       "</table>"
      ],
      "text/plain": [
       "[(1, 'Europe'), (2, 'Americas'), (3, 'Asia'), (4, 'Middle East and Africa')]"
      ]
     },
     "execution_count": 51,
     "metadata": {},
     "output_type": "execute_result"
    }
   ],
   "source": [
    "%sql SELECT * from regions"
   ]
  },
  {
   "cell_type": "markdown",
   "metadata": {
    "id": "1fMWL_AqqZeV"
   },
   "source": [
    "## 10.15 Subqueries <a name='10.15-subqueries'></a>\n",
    "\n",
    "A *subquery* is a query that is nested inside another query, such as `SELECT`. \n",
    "\n",
    "For instance, the following cell retrieves employees in the departments that have a `location_id=1700`. The query placed inside the parentheses is a subquery. "
   ]
  },
  {
   "cell_type": "code",
   "execution_count": 52,
   "metadata": {
    "colab": {
     "base_uri": "https://localhost:8080/",
     "height": 451
    },
    "executionInfo": {
     "elapsed": 16,
     "status": "ok",
     "timestamp": 1668546499388,
     "user": {
      "displayName": "Aleksandar Vakanski",
      "userId": "07675307153279708378"
     },
     "user_tz": 420
    },
    "id": "e3I_hOSPeqxU",
    "outputId": "8f810ab5-fbdf-465d-bf5d-118b80ef6034"
   },
   "outputs": [
    {
     "name": "stdout",
     "output_type": "stream",
     "text": [
      " * sqlite://\n",
      "Done.\n"
     ]
    },
    {
     "data": {
      "text/html": [
       "<table>\n",
       "    <thead>\n",
       "        <tr>\n",
       "            <th>employee_id</th>\n",
       "            <th>first_name</th>\n",
       "            <th>last_name</th>\n",
       "        </tr>\n",
       "    </thead>\n",
       "    <tbody>\n",
       "        <tr>\n",
       "            <td>115</td>\n",
       "            <td>Alexander</td>\n",
       "            <td>Khoo</td>\n",
       "        </tr>\n",
       "        <tr>\n",
       "            <td>109</td>\n",
       "            <td>Daniel</td>\n",
       "            <td>Faviet</td>\n",
       "        </tr>\n",
       "        <tr>\n",
       "            <td>114</td>\n",
       "            <td>Den</td>\n",
       "            <td>Raphaely</td>\n",
       "        </tr>\n",
       "        <tr>\n",
       "            <td>118</td>\n",
       "            <td>Guy</td>\n",
       "            <td>Himuro</td>\n",
       "        </tr>\n",
       "        <tr>\n",
       "            <td>111</td>\n",
       "            <td>Ismael</td>\n",
       "            <td>Sciarra</td>\n",
       "        </tr>\n",
       "        <tr>\n",
       "            <td>200</td>\n",
       "            <td>Jennifer</td>\n",
       "            <td>Whalen</td>\n",
       "        </tr>\n",
       "        <tr>\n",
       "            <td>110</td>\n",
       "            <td>John</td>\n",
       "            <td>Chen</td>\n",
       "        </tr>\n",
       "        <tr>\n",
       "            <td>112</td>\n",
       "            <td>Jose Manuel</td>\n",
       "            <td>Urman</td>\n",
       "        </tr>\n",
       "        <tr>\n",
       "            <td>119</td>\n",
       "            <td>Karen</td>\n",
       "            <td>Colmenares</td>\n",
       "        </tr>\n",
       "        <tr>\n",
       "            <td>102</td>\n",
       "            <td>Lex</td>\n",
       "            <td>De Haan</td>\n",
       "        </tr>\n",
       "        <tr>\n",
       "            <td>113</td>\n",
       "            <td>Luis</td>\n",
       "            <td>Popp</td>\n",
       "        </tr>\n",
       "        <tr>\n",
       "            <td>108</td>\n",
       "            <td>Nancy</td>\n",
       "            <td>Greenberg</td>\n",
       "        </tr>\n",
       "        <tr>\n",
       "            <td>101</td>\n",
       "            <td>Neena</td>\n",
       "            <td>Kochhar</td>\n",
       "        </tr>\n",
       "        <tr>\n",
       "            <td>205</td>\n",
       "            <td>Shelley</td>\n",
       "            <td>Higgins</td>\n",
       "        </tr>\n",
       "        <tr>\n",
       "            <td>116</td>\n",
       "            <td>Shelli</td>\n",
       "            <td>Baida</td>\n",
       "        </tr>\n",
       "        <tr>\n",
       "            <td>117</td>\n",
       "            <td>Sigal</td>\n",
       "            <td>Tobias</td>\n",
       "        </tr>\n",
       "        <tr>\n",
       "            <td>100</td>\n",
       "            <td>Steven</td>\n",
       "            <td>King</td>\n",
       "        </tr>\n",
       "        <tr>\n",
       "            <td>206</td>\n",
       "            <td>William</td>\n",
       "            <td>Gietz</td>\n",
       "        </tr>\n",
       "    </tbody>\n",
       "</table>"
      ],
      "text/plain": [
       "[(115, 'Alexander', 'Khoo'),\n",
       " (109, 'Daniel', 'Faviet'),\n",
       " (114, 'Den', 'Raphaely'),\n",
       " (118, 'Guy', 'Himuro'),\n",
       " (111, 'Ismael', 'Sciarra'),\n",
       " (200, 'Jennifer', 'Whalen'),\n",
       " (110, 'John', 'Chen'),\n",
       " (112, 'Jose Manuel', 'Urman'),\n",
       " (119, 'Karen', 'Colmenares'),\n",
       " (102, 'Lex', 'De Haan'),\n",
       " (113, 'Luis', 'Popp'),\n",
       " (108, 'Nancy', 'Greenberg'),\n",
       " (101, 'Neena', 'Kochhar'),\n",
       " (205, 'Shelley', 'Higgins'),\n",
       " (116, 'Shelli', 'Baida'),\n",
       " (117, 'Sigal', 'Tobias'),\n",
       " (100, 'Steven', 'King'),\n",
       " (206, 'William', 'Gietz')]"
      ]
     },
     "execution_count": 52,
     "metadata": {},
     "output_type": "execute_result"
    }
   ],
   "source": [
    "%%sql\n",
    "SELECT \n",
    "    employee_id, first_name, last_name \n",
    "FROM \n",
    "    employees \n",
    "WHERE department_id IN \n",
    "    (SELECT department_id FROM departments \n",
    "        WHERE location_id = 1700) \n",
    "ORDER BY first_name , last_name;"
   ]
  },
  {
   "cell_type": "markdown",
   "metadata": {
    "id": "74DCdk9oeZWU"
   },
   "source": [
    "## 10.16 Connect to an Existing Database <a name='10.16-connect-to-an-existing-database'></a>"
   ]
  },
  {
   "cell_type": "markdown",
   "metadata": {
    "id": "90R-3ze3ecuY"
   },
   "source": [
    "To connect to an existing database that is stored in the memory of our computer we can use the syntax `sqlite:///database_name`, as in the following example.\n",
    "\n",
    "If the database does not exist, SQLite will create a new database with the provided name in the home directory, or otherwise, it will initialize the connection to the existing database. "
   ]
  },
  {
   "cell_type": "code",
   "execution_count": 53,
   "metadata": {
    "colab": {
     "base_uri": "https://localhost:8080/",
     "height": 36
    },
    "executionInfo": {
     "elapsed": 459,
     "status": "ok",
     "timestamp": 1668546516311,
     "user": {
      "displayName": "Aleksandar Vakanski",
      "userId": "07675307153279708378"
     },
     "user_tz": 420
    },
    "id": "PjvC53LzKAA7",
    "outputId": "99fd3213-304a-4abf-db31-a2ac31ed130c"
   },
   "outputs": [],
   "source": [
    "%sql sqlite:///data/essentialsql/EssentialSQL.db"
   ]
  },
  {
   "cell_type": "markdown",
   "metadata": {
    "id": "By0Hflsnig19"
   },
   "source": [
    "Note in the above cell that there are three slashes after `sqlite:`. When a relative path to the local directory is provided where the database is stored, it is expected to use three slashes. If an absolute path is provided, there should be four slashes after  `sqlite:`."
   ]
  },
  {
   "cell_type": "markdown",
   "metadata": {
    "id": "zeCNSm3L5tWs"
   },
   "source": [
    "We can inspect the tables that were created by connecting to the database in the following cell."
   ]
  },
  {
   "cell_type": "code",
   "execution_count": 54,
   "metadata": {
    "colab": {
     "base_uri": "https://localhost:8080/",
     "height": 657
    },
    "executionInfo": {
     "elapsed": 639,
     "status": "ok",
     "timestamp": 1668546516947,
     "user": {
      "displayName": "Aleksandar Vakanski",
      "userId": "07675307153279708378"
     },
     "user_tz": 420
    },
    "id": "i13EiAJ95mhL",
    "outputId": "e0981d5f-79cd-4e7a-e02e-07e49c9c4be2"
   },
   "outputs": [
    {
     "name": "stdout",
     "output_type": "stream",
     "text": [
      "   sqlite://\n",
      " * sqlite:///data/essentialsql/EssentialSQL.db\n",
      "Done.\n"
     ]
    },
    {
     "data": {
      "text/html": [
       "<table>\n",
       "    <thead>\n",
       "        <tr>\n",
       "            <th>name</th>\n",
       "        </tr>\n",
       "    </thead>\n",
       "    <tbody>\n",
       "        <tr>\n",
       "            <td>Customers</td>\n",
       "        </tr>\n",
       "        <tr>\n",
       "            <td>Shippers</td>\n",
       "        </tr>\n",
       "        <tr>\n",
       "            <td>Employees</td>\n",
       "        </tr>\n",
       "        <tr>\n",
       "            <td>Orders</td>\n",
       "        </tr>\n",
       "        <tr>\n",
       "            <td>OrderDetails</td>\n",
       "        </tr>\n",
       "    </tbody>\n",
       "</table>"
      ],
      "text/plain": [
       "[('Customers',), ('Shippers',), ('Employees',), ('Orders',), ('OrderDetails',)]"
      ]
     },
     "execution_count": 54,
     "metadata": {},
     "output_type": "execute_result"
    }
   ],
   "source": [
    "%sql SELECT name FROM sqlite_master WHERE type='table'"
   ]
  },
  {
   "cell_type": "code",
   "execution_count": 55,
   "metadata": {},
   "outputs": [
    {
     "name": "stdout",
     "output_type": "stream",
     "text": [
      "   sqlite://\n",
      " * sqlite:///data/essentialsql/EssentialSQL.db\n",
      "Done.\n"
     ]
    },
    {
     "data": {
      "text/html": [
       "<table>\n",
       "    <thead>\n",
       "        <tr>\n",
       "            <th>CustomerID</th>\n",
       "            <th>CompanyName</th>\n",
       "            <th>ContactName</th>\n",
       "            <th>ContactTitle</th>\n",
       "            <th>Address</th>\n",
       "            <th>City</th>\n",
       "            <th>State</th>\n",
       "        </tr>\n",
       "    </thead>\n",
       "    <tbody>\n",
       "        <tr>\n",
       "            <td>1</td>\n",
       "            <td>Deerfield Tile</td>\n",
       "            <td>Dick Terrcotta</td>\n",
       "            <td>Owner</td>\n",
       "            <td>450 Village Street</td>\n",
       "            <td>Deerfield</td>\n",
       "            <td>IL</td>\n",
       "        </tr>\n",
       "        <tr>\n",
       "            <td>2</td>\n",
       "            <td>Sagebrush Carpet</td>\n",
       "            <td>Barbara Berber</td>\n",
       "            <td>Director of Installations</td>\n",
       "            <td>10 Industrial Drive</td>\n",
       "            <td>El Paso</td>\n",
       "            <td>TX</td>\n",
       "        </tr>\n",
       "        <tr>\n",
       "            <td>3</td>\n",
       "            <td>Floor Co.</td>\n",
       "            <td>Jim Wood</td>\n",
       "            <td>Installer</td>\n",
       "            <td>34218 Private Lane</td>\n",
       "            <td>Monclair</td>\n",
       "            <td>NJ</td>\n",
       "        </tr>\n",
       "        <tr>\n",
       "            <td>4</td>\n",
       "            <td>Main Tile and Bath</td>\n",
       "            <td>Toni Faucet</td>\n",
       "            <td>Owner</td>\n",
       "            <td>Suite 23, Henry Building</td>\n",
       "            <td>Orlando</td>\n",
       "            <td>FL</td>\n",
       "        </tr>\n",
       "        <tr>\n",
       "            <td>5</td>\n",
       "            <td>Slots Carpet</td>\n",
       "            <td>Jack Diamond III</td>\n",
       "            <td>Purchaser</td>\n",
       "            <td>3024 Jackpot Drive</td>\n",
       "            <td>Las Vegas</td>\n",
       "            <td>NV</td>\n",
       "        </tr>\n",
       "    </tbody>\n",
       "</table>"
      ],
      "text/plain": [
       "[(1, 'Deerfield Tile', 'Dick Terrcotta', 'Owner', '450 Village Street', 'Deerfield', 'IL'),\n",
       " (2, 'Sagebrush Carpet', 'Barbara Berber', 'Director of Installations', '10 Industrial Drive', 'El Paso', 'TX'),\n",
       " (3, 'Floor Co.', 'Jim Wood', 'Installer', '34218 Private Lane', 'Monclair', 'NJ'),\n",
       " (4, 'Main Tile and Bath', 'Toni Faucet', 'Owner', 'Suite 23, Henry Building', 'Orlando', 'FL'),\n",
       " (5, 'Slots Carpet', 'Jack Diamond III', 'Purchaser', '3024 Jackpot Drive', 'Las Vegas', 'NV')]"
      ]
     },
     "execution_count": 55,
     "metadata": {},
     "output_type": "execute_result"
    }
   ],
   "source": [
    "%sql SELECT * from Customers"
   ]
  },
  {
   "cell_type": "markdown",
   "metadata": {
    "id": "vweobvFVe4RB"
   },
   "source": [
    "<a name='references'></a>\n",
    "\n",
    "## References\n",
    "\n",
    "1. SQL Tutorial, available at [https://www.sqltutorial.org/](https://www.sqltutorial.org/).\n",
    "2. Practice SQL with SQLite and Jupyter Notebook, by Chonghua Yin, available at [https://github.com/royalosyin/Practice-SQL-with-SQLite-and-Jupyter-Notebook](https://github.com/royalosyin/Practice-SQL-with-SQLite-and-Jupyter-Notebook).\n"
   ]
  },
  {
   "cell_type": "markdown",
   "metadata": {
    "id": "bDbzcXmWe4RB"
   },
   "source": [
    "[BACK TO TOP](#top)"
   ]
  }
 ],
 "metadata": {
  "colab": {
   "collapsed_sections": [
    "GiYZE-B7j3Ap"
   ],
   "provenance": [
    {
     "file_id": "1_wSiz1ALZ1l9vda7yvvdLgEHHE8M0F66",
     "timestamp": 1666471615676
    }
   ]
  },
  "gpuClass": "premium",
  "kernelspec": {
   "display_name": "Python 3 (ipykernel)",
   "language": "python",
   "name": "python3"
  },
  "language_info": {
   "codemirror_mode": {
    "name": "ipython",
    "version": 3
   },
   "file_extension": ".py",
   "mimetype": "text/x-python",
   "name": "python",
   "nbconvert_exporter": "python",
   "pygments_lexer": "ipython3",
   "version": "3.11.4"
  }
 },
 "nbformat": 4,
 "nbformat_minor": 4
}
